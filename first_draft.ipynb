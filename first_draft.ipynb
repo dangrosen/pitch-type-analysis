{
 "cells": [
  {
   "cell_type": "markdown",
   "metadata": {},
   "source": [
    "# MLB Pitch Type Analysis"
   ]
  },
  {
   "cell_type": "markdown",
   "metadata": {},
   "source": []
  },
  {
   "cell_type": "markdown",
   "metadata": {},
   "source": [
    "## Overview"
   ]
  },
  {
   "cell_type": "markdown",
   "metadata": {},
   "source": []
  },
  {
   "cell_type": "markdown",
   "metadata": {},
   "source": [
    "## Business Problem"
   ]
  },
  {
   "cell_type": "markdown",
   "metadata": {},
   "source": []
  },
  {
   "cell_type": "code",
   "execution_count": 26,
   "metadata": {},
   "outputs": [],
   "source": [
    "# import packages\n",
    "\n",
    "import numpy as np\n",
    "import pandas as pd\n",
    "from collections import defaultdict\n",
    "\n",
    "from sklearn.model_selection import train_test_split, cross_val_score, GridSearchCV\n",
    "from sklearn.pipeline import Pipeline\n",
    "from sklearn.feature_extraction.text import CountVectorizer, TfidfVectorizer\n",
    "from sklearn.ensemble import RandomForestClassifier\n",
    "from sklearn.naive_bayes import MultinomialNB\n",
    "from sklearn.metrics import accuracy_score, precision_score, classification_report, confusion_matrix, ConfusionMatrixDisplay\n",
    "\n",
    "import nltk\n",
    "from nltk.probability import FreqDist\n",
    "from nltk.corpus import stopwords, wordnet\n",
    "from nltk.tokenize import regexp_tokenize, word_tokenize, RegexpTokenizer\n",
    "from nltk.stem import WordNetLemmatizer\n",
    "from nltk import pos_tag\n",
    "\n",
    "import matplotlib.pyplot as plt\n",
    "import seaborn as sns\n",
    "import string\n",
    "import re\n",
    "\n",
    "import os\n",
    "import sys\n",
    "module_path = os.path.abspath(os.path.join(os.pardir, os.pardir))\n",
    "if module_path not in sys.path:\n",
    "    sys.path.append(module_path)"
   ]
  },
  {
   "cell_type": "markdown",
   "metadata": {},
   "source": [
    "## Data Overview"
   ]
  },
  {
   "cell_type": "markdown",
   "metadata": {},
   "source": []
  },
  {
   "cell_type": "code",
   "execution_count": 44,
   "metadata": {},
   "outputs": [],
   "source": [
    "# read in datasets\n",
    "\n",
    "atbats = pd.read_csv('Data/atbats.csv')\n",
    "pitches = pd.read_csv('Data/pitches.csv')\n",
    "atbats19 = pd.read_csv('Data/2019_atbats.csv')\n",
    "pitches19 = pd.read_csv('Data/2019_pitches.csv')"
   ]
  },
  {
   "cell_type": "code",
   "execution_count": 45,
   "metadata": {},
   "outputs": [
    {
     "name": "stdout",
     "output_type": "stream",
     "text": [
      "<class 'pandas.core.frame.DataFrame'>\n",
      "RangeIndex: 740389 entries, 0 to 740388\n",
      "Data columns (total 11 columns):\n",
      " #   Column      Non-Null Count   Dtype \n",
      "---  ------      --------------   ----- \n",
      " 0   ab_id       740389 non-null  int64 \n",
      " 1   batter_id   740389 non-null  int64 \n",
      " 2   event       740389 non-null  object\n",
      " 3   g_id        740389 non-null  int64 \n",
      " 4   inning      740389 non-null  int64 \n",
      " 5   o           740389 non-null  int64 \n",
      " 6   p_score     740389 non-null  int64 \n",
      " 7   p_throws    740389 non-null  object\n",
      " 8   pitcher_id  740389 non-null  int64 \n",
      " 9   stand       740389 non-null  object\n",
      " 10  top         740389 non-null  bool  \n",
      "dtypes: bool(1), int64(7), object(3)\n",
      "memory usage: 57.2+ MB\n"
     ]
    }
   ],
   "source": [
    "atbats.info()"
   ]
  },
  {
   "cell_type": "code",
   "execution_count": 46,
   "metadata": {},
   "outputs": [
    {
     "name": "stdout",
     "output_type": "stream",
     "text": [
      "<class 'pandas.core.frame.DataFrame'>\n",
      "RangeIndex: 185245 entries, 0 to 185244\n",
      "Data columns (total 11 columns):\n",
      " #   Column      Non-Null Count   Dtype \n",
      "---  ------      --------------   ----- \n",
      " 0   inning      185245 non-null  int64 \n",
      " 1   top         185245 non-null  int64 \n",
      " 2   ab_id       185245 non-null  int64 \n",
      " 3   g_id        185245 non-null  int64 \n",
      " 4   p_score     185245 non-null  int64 \n",
      " 5   batter_id   185245 non-null  int64 \n",
      " 6   pitcher_id  185245 non-null  int64 \n",
      " 7   stand       185245 non-null  object\n",
      " 8   p_throws    185245 non-null  object\n",
      " 9   event       185245 non-null  object\n",
      " 10  o           185245 non-null  int64 \n",
      "dtypes: int64(8), object(3)\n",
      "memory usage: 15.5+ MB\n"
     ]
    }
   ],
   "source": [
    "atbats19.info()"
   ]
  },
  {
   "cell_type": "code",
   "execution_count": 47,
   "metadata": {},
   "outputs": [
    {
     "name": "stdout",
     "output_type": "stream",
     "text": [
      "<class 'pandas.core.frame.DataFrame'>\n",
      "RangeIndex: 740389 entries, 0 to 740388\n",
      "Data columns (total 11 columns):\n",
      " #   Column      Non-Null Count   Dtype \n",
      "---  ------      --------------   ----- \n",
      " 0   inning      740389 non-null  int64 \n",
      " 1   top         740389 non-null  bool  \n",
      " 2   ab_id       740389 non-null  int64 \n",
      " 3   g_id        740389 non-null  int64 \n",
      " 4   p_score     740389 non-null  int64 \n",
      " 5   batter_id   740389 non-null  int64 \n",
      " 6   pitcher_id  740389 non-null  int64 \n",
      " 7   stand       740389 non-null  object\n",
      " 8   p_throws    740389 non-null  object\n",
      " 9   event       740389 non-null  object\n",
      " 10  o           740389 non-null  int64 \n",
      "dtypes: bool(1), int64(7), object(3)\n",
      "memory usage: 57.2+ MB\n"
     ]
    }
   ],
   "source": [
    "# rearrange columns in atbats to match column order of atbats19\n",
    "\n",
    "atbats = atbats[['inning', 'top', 'ab_id', 'g_id', 'p_score', 'batter_id', 'pitcher_id', 'stand', 'p_throws', 'event', 'o']]\n",
    "atbats.info()"
   ]
  },
  {
   "cell_type": "code",
   "execution_count": 51,
   "metadata": {},
   "outputs": [
    {
     "name": "stdout",
     "output_type": "stream",
     "text": [
      "<class 'pandas.core.frame.DataFrame'>\n",
      "RangeIndex: 925634 entries, 0 to 925633\n",
      "Data columns (total 11 columns):\n",
      " #   Column      Non-Null Count   Dtype \n",
      "---  ------      --------------   ----- \n",
      " 0   inning      925634 non-null  int64 \n",
      " 1   top         925634 non-null  int64 \n",
      " 2   ab_id       925634 non-null  int64 \n",
      " 3   g_id        925634 non-null  int64 \n",
      " 4   p_score     925634 non-null  int64 \n",
      " 5   batter_id   925634 non-null  int64 \n",
      " 6   pitcher_id  925634 non-null  int64 \n",
      " 7   stand       925634 non-null  object\n",
      " 8   p_throws    925634 non-null  object\n",
      " 9   event       925634 non-null  object\n",
      " 10  o           925634 non-null  int64 \n",
      "dtypes: int64(8), object(3)\n",
      "memory usage: 77.7+ MB\n"
     ]
    }
   ],
   "source": [
    "# concatenate the two atbats Dataframes\n",
    "\n",
    "atbats_all = pd.concat([atbats, atbats19], ignore_index=True, sort=False)\n",
    "atbats_all.info()"
   ]
  },
  {
   "cell_type": "code",
   "execution_count": 39,
   "metadata": {},
   "outputs": [
    {
     "name": "stdout",
     "output_type": "stream",
     "text": [
      "<class 'pandas.core.frame.DataFrame'>\n",
      "RangeIndex: 740389 entries, 0 to 740388\n",
      "Data columns (total 11 columns):\n",
      " #   Column      Non-Null Count   Dtype \n",
      "---  ------      --------------   ----- \n",
      " 0   inning      740389 non-null  int64 \n",
      " 1   top         740389 non-null  bool  \n",
      " 2   ab_id       740389 non-null  int64 \n",
      " 3   g_id        740389 non-null  int64 \n",
      " 4   p_score     740389 non-null  int64 \n",
      " 5   batter_id   740389 non-null  int64 \n",
      " 6   pitcher_id  740389 non-null  int64 \n",
      " 7   stand       740389 non-null  object\n",
      " 8   p_throws    740389 non-null  object\n",
      " 9   event       740389 non-null  object\n",
      " 10  o           740389 non-null  int64 \n",
      "dtypes: bool(1), int64(7), object(3)\n",
      "memory usage: 57.2+ MB\n"
     ]
    }
   ],
   "source": [
    "atbats_all = pd.merge(atbats19, atbats, how='outer', on='ab_id')\n",
    "atbats_all.info()"
   ]
  },
  {
   "cell_type": "code",
   "execution_count": 54,
   "metadata": {},
   "outputs": [],
   "source": [
    "pitches.rename(columns = {'px': 'horiz_loc', 'pz': 'vert_loc', 'pfx_x': 'horiz_move', 'pfx_z': 'vert_move'}, inplace=True)"
   ]
  },
  {
   "cell_type": "code",
   "execution_count": 55,
   "metadata": {},
   "outputs": [
    {
     "name": "stdout",
     "output_type": "stream",
     "text": [
      "<class 'pandas.core.frame.DataFrame'>\n",
      "RangeIndex: 2867154 entries, 0 to 2867153\n",
      "Data columns (total 40 columns):\n",
      " #   Column           Dtype  \n",
      "---  ------           -----  \n",
      " 0   horiz_loc        float64\n",
      " 1   vert_loc         float64\n",
      " 2   start_speed      float64\n",
      " 3   end_speed        float64\n",
      " 4   spin_rate        float64\n",
      " 5   spin_dir         float64\n",
      " 6   break_angle      float64\n",
      " 7   break_length     float64\n",
      " 8   break_y          float64\n",
      " 9   ax               float64\n",
      " 10  ay               float64\n",
      " 11  az               float64\n",
      " 12  sz_bot           float64\n",
      " 13  sz_top           float64\n",
      " 14  type_confidence  float64\n",
      " 15  vx0              float64\n",
      " 16  vy0              float64\n",
      " 17  vz0              float64\n",
      " 18  x                float64\n",
      " 19  x0               float64\n",
      " 20  y                float64\n",
      " 21  y0               float64\n",
      " 22  z0               float64\n",
      " 23  horiz_move       float64\n",
      " 24  vert_move        float64\n",
      " 25  nasty            float64\n",
      " 26  zone             float64\n",
      " 27  code             object \n",
      " 28  type             object \n",
      " 29  pitch_type       object \n",
      " 30  event_num        int64  \n",
      " 31  b_score          float64\n",
      " 32  ab_id            float64\n",
      " 33  b_count          float64\n",
      " 34  s_count          float64\n",
      " 35  outs             float64\n",
      " 36  pitch_num        float64\n",
      " 37  on_1b            float64\n",
      " 38  on_2b            float64\n",
      " 39  on_3b            float64\n",
      "dtypes: float64(36), int64(1), object(3)\n",
      "memory usage: 875.0+ MB\n"
     ]
    }
   ],
   "source": [
    "pitches.info()"
   ]
  },
  {
   "cell_type": "code",
   "execution_count": 56,
   "metadata": {},
   "outputs": [
    {
     "name": "stdout",
     "output_type": "stream",
     "text": [
      "<class 'pandas.core.frame.DataFrame'>\n",
      "RangeIndex: 728790 entries, 0 to 728789\n",
      "Data columns (total 40 columns):\n",
      " #   Column           Non-Null Count   Dtype  \n",
      "---  ------           --------------   -----  \n",
      " 0   horiz_loc        722161 non-null  float64\n",
      " 1   vert_loc         722161 non-null  float64\n",
      " 2   start_speed      722161 non-null  float64\n",
      " 3   end_speed        722161 non-null  float64\n",
      " 4   spin_rate        722161 non-null  object \n",
      " 5   spin_dir         722161 non-null  object \n",
      " 6   break_angle      722161 non-null  float64\n",
      " 7   break_length     722161 non-null  float64\n",
      " 8   break_y          722161 non-null  float64\n",
      " 9   ax               722161 non-null  float64\n",
      " 10  ay               722161 non-null  float64\n",
      " 11  az               722161 non-null  float64\n",
      " 12  sz_bot           728790 non-null  float64\n",
      " 13  sz_top           728790 non-null  float64\n",
      " 14  type_confidence  722161 non-null  object \n",
      " 15  vx0              722161 non-null  float64\n",
      " 16  vy0              722161 non-null  float64\n",
      " 17  vz0              722161 non-null  float64\n",
      " 18  x                728790 non-null  object \n",
      " 19  x0               722161 non-null  float64\n",
      " 20  y                728790 non-null  object \n",
      " 21  y0               722161 non-null  float64\n",
      " 22  z0               722161 non-null  float64\n",
      " 23  horiz_move       722161 non-null  float64\n",
      " 24  vert_move        722161 non-null  float64\n",
      " 25  nasty            0 non-null       float64\n",
      " 26  zone             722161 non-null  object \n",
      " 27  code             728790 non-null  object \n",
      " 28  type             728790 non-null  object \n",
      " 29  pitch_type       722161 non-null  object \n",
      " 30  event_num        728790 non-null  int64  \n",
      " 31  b_score          728790 non-null  int64  \n",
      " 32  ab_id            728790 non-null  int64  \n",
      " 33  b_count          728790 non-null  int64  \n",
      " 34  s_count          728790 non-null  int64  \n",
      " 35  outs             728790 non-null  int64  \n",
      " 36  pitch_num        728790 non-null  int64  \n",
      " 37  on_1b            728790 non-null  int64  \n",
      " 38  on_2b            728790 non-null  int64  \n",
      " 39  on_3b            728790 non-null  int64  \n",
      "dtypes: float64(21), int64(10), object(9)\n",
      "memory usage: 222.4+ MB\n"
     ]
    }
   ],
   "source": [
    "pitches19.info()"
   ]
  },
  {
   "cell_type": "code",
   "execution_count": 57,
   "metadata": {},
   "outputs": [
    {
     "name": "stdout",
     "output_type": "stream",
     "text": [
      "<class 'pandas.core.frame.DataFrame'>\n",
      "RangeIndex: 3595944 entries, 0 to 3595943\n",
      "Data columns (total 40 columns):\n",
      " #   Column           Dtype  \n",
      "---  ------           -----  \n",
      " 0   horiz_loc        float64\n",
      " 1   vert_loc         float64\n",
      " 2   start_speed      float64\n",
      " 3   end_speed        float64\n",
      " 4   spin_rate        object \n",
      " 5   spin_dir         object \n",
      " 6   break_angle      float64\n",
      " 7   break_length     float64\n",
      " 8   break_y          float64\n",
      " 9   ax               float64\n",
      " 10  ay               float64\n",
      " 11  az               float64\n",
      " 12  sz_bot           float64\n",
      " 13  sz_top           float64\n",
      " 14  type_confidence  object \n",
      " 15  vx0              float64\n",
      " 16  vy0              float64\n",
      " 17  vz0              float64\n",
      " 18  x                object \n",
      " 19  x0               float64\n",
      " 20  y                object \n",
      " 21  y0               float64\n",
      " 22  z0               float64\n",
      " 23  horiz_move       float64\n",
      " 24  vert_move        float64\n",
      " 25  nasty            float64\n",
      " 26  zone             object \n",
      " 27  code             object \n",
      " 28  type             object \n",
      " 29  pitch_type       object \n",
      " 30  event_num        int64  \n",
      " 31  b_score          float64\n",
      " 32  ab_id            float64\n",
      " 33  b_count          float64\n",
      " 34  s_count          float64\n",
      " 35  outs             float64\n",
      " 36  pitch_num        float64\n",
      " 37  on_1b            float64\n",
      " 38  on_2b            float64\n",
      " 39  on_3b            float64\n",
      "dtypes: float64(30), int64(1), object(9)\n",
      "memory usage: 1.1+ GB\n"
     ]
    }
   ],
   "source": [
    "# concatenate the two pitches Dataframes\n",
    "\n",
    "pitches_all = pd.concat([pitches, pitches19], ignore_index=True, sort=False)\n",
    "pitches_all.info()"
   ]
  },
  {
   "cell_type": "code",
   "execution_count": 34,
   "metadata": {},
   "outputs": [],
   "source": [
    "# drop columns in pitches DataFrame that have no data\n",
    "\n",
    "#pitches19 = pitches19.drop(['spin_rate', 'spin_dir', 'type_confidence', 'zone', 'nasty'], axis=1)"
   ]
  },
  {
   "cell_type": "code",
   "execution_count": 67,
   "metadata": {},
   "outputs": [
    {
     "data": {
      "text/plain": [
       "S     1384615\n",
       "B     1289027\n",
       "X      592725\n",
       "F      128929\n",
       "C      119334\n",
       "D       28164\n",
       "*B      17505\n",
       "E       16946\n",
       "T        6447\n",
       "W        5552\n",
       "V        2611\n",
       "H        1963\n",
       "L        1684\n",
       "M         353\n",
       "P          60\n",
       "O          29\n",
       "Name: type, dtype: int64"
      ]
     },
     "execution_count": 67,
     "metadata": {},
     "output_type": "execute_result"
    }
   ],
   "source": [
    "pitches_all['type'].value_counts()"
   ]
  },
  {
   "cell_type": "markdown",
   "metadata": {},
   "source": [
    "in pitches_all, need to delete rows with duplicate ab_id -- only keep the ab_id with highest pitch_num"
   ]
  },
  {
   "cell_type": "code",
   "execution_count": null,
   "metadata": {},
   "outputs": [],
   "source": []
  }
 ],
 "metadata": {
  "kernelspec": {
   "display_name": "Python (learn-env)",
   "language": "python",
   "name": "learn-env"
  },
  "language_info": {
   "codemirror_mode": {
    "name": "ipython",
    "version": 3
   },
   "file_extension": ".py",
   "mimetype": "text/x-python",
   "name": "python",
   "nbconvert_exporter": "python",
   "pygments_lexer": "ipython3",
   "version": "3.8.5"
  }
 },
 "nbformat": 4,
 "nbformat_minor": 2
}
