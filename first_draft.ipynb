{
 "cells": [
  {
   "cell_type": "markdown",
   "metadata": {},
   "source": [
    "# MLB Pitch Type Analysis"
   ]
  },
  {
   "cell_type": "markdown",
   "metadata": {},
   "source": []
  },
  {
   "cell_type": "markdown",
   "metadata": {},
   "source": [
    "## Overview"
   ]
  },
  {
   "cell_type": "markdown",
   "metadata": {},
   "source": []
  },
  {
   "cell_type": "markdown",
   "metadata": {},
   "source": [
    "## Business Problem"
   ]
  },
  {
   "cell_type": "markdown",
   "metadata": {},
   "source": []
  },
  {
   "cell_type": "code",
   "execution_count": 2,
   "metadata": {},
   "outputs": [],
   "source": [
    "# import packages\n",
    "\n",
    "import numpy as np\n",
    "import pandas as pd\n",
    "from collections import defaultdict\n",
    "\n",
    "from sklearn.model_selection import train_test_split, cross_val_score, GridSearchCV\n",
    "from sklearn.pipeline import Pipeline\n",
    "from sklearn.feature_extraction.text import CountVectorizer, TfidfVectorizer\n",
    "from sklearn.ensemble import RandomForestClassifier\n",
    "from sklearn.naive_bayes import MultinomialNB\n",
    "from sklearn.metrics import accuracy_score, precision_score, classification_report, confusion_matrix, ConfusionMatrixDisplay\n",
    "\n",
    "import nltk\n",
    "from nltk.probability import FreqDist\n",
    "from nltk.corpus import stopwords, wordnet\n",
    "from nltk.tokenize import regexp_tokenize, word_tokenize, RegexpTokenizer\n",
    "from nltk.stem import WordNetLemmatizer\n",
    "from nltk import pos_tag\n",
    "\n",
    "import matplotlib.pyplot as plt\n",
    "import seaborn as sns\n",
    "import string\n",
    "import re\n",
    "\n",
    "import os\n",
    "import sys\n",
    "module_path = os.path.abspath(os.path.join(os.pardir, os.pardir))\n",
    "if module_path not in sys.path:\n",
    "    sys.path.append(module_path)"
   ]
  },
  {
   "cell_type": "markdown",
   "metadata": {},
   "source": [
    "## Data Overview"
   ]
  },
  {
   "cell_type": "markdown",
   "metadata": {},
   "source": []
  },
  {
   "cell_type": "code",
   "execution_count": 4,
   "metadata": {},
   "outputs": [],
   "source": [
    "# read in datasets\n",
    "\n",
    "atbats = pd.read_csv('Data/atbats.csv')\n",
    "pitches = pd.read_csv('Data/pitches.csv')\n",
    "atbats19 = pd.read_csv('Data/2019_atbats.csv')\n",
    "pitches19 = pd.read_csv('Data/2019_pitches.csv')"
   ]
  },
  {
   "cell_type": "code",
   "execution_count": null,
   "metadata": {},
   "outputs": [
    {
     "name": "stdout",
     "output_type": "stream",
     "text": [
      "<class 'pandas.core.frame.DataFrame'>\n",
      "RangeIndex: 740389 entries, 0 to 740388\n",
      "Data columns (total 11 columns):\n",
      " #   Column      Non-Null Count   Dtype \n",
      "---  ------      --------------   ----- \n",
      " 0   ab_id       740389 non-null  int64 \n",
      " 1   batter_id   740389 non-null  int64 \n",
      " 2   event       740389 non-null  object\n",
      " 3   g_id        740389 non-null  int64 \n",
      " 4   inning      740389 non-null  int64 \n",
      " 5   o           740389 non-null  int64 \n",
      " 6   p_score     740389 non-null  int64 \n",
      " 7   p_throws    740389 non-null  object\n",
      " 8   pitcher_id  740389 non-null  int64 \n",
      " 9   stand       740389 non-null  object\n",
      " 10  top         740389 non-null  bool  \n",
      "dtypes: bool(1), int64(7), object(3)\n",
      "memory usage: 57.2+ MB\n"
     ]
    }
   ],
   "source": [
    "atbats.info()"
   ]
  },
  {
   "cell_type": "code",
   "execution_count": null,
   "metadata": {},
   "outputs": [
    {
     "name": "stdout",
     "output_type": "stream",
     "text": [
      "<class 'pandas.core.frame.DataFrame'>\n",
      "RangeIndex: 185245 entries, 0 to 185244\n",
      "Data columns (total 11 columns):\n",
      " #   Column      Non-Null Count   Dtype \n",
      "---  ------      --------------   ----- \n",
      " 0   inning      185245 non-null  int64 \n",
      " 1   top         185245 non-null  int64 \n",
      " 2   ab_id       185245 non-null  int64 \n",
      " 3   g_id        185245 non-null  int64 \n",
      " 4   p_score     185245 non-null  int64 \n",
      " 5   batter_id   185245 non-null  int64 \n",
      " 6   pitcher_id  185245 non-null  int64 \n",
      " 7   stand       185245 non-null  object\n",
      " 8   p_throws    185245 non-null  object\n",
      " 9   event       185245 non-null  object\n",
      " 10  o           185245 non-null  int64 \n",
      "dtypes: int64(8), object(3)\n",
      "memory usage: 15.5+ MB\n"
     ]
    }
   ],
   "source": [
    "atbats19.info()"
   ]
  },
  {
   "cell_type": "code",
   "execution_count": 5,
   "metadata": {},
   "outputs": [
    {
     "name": "stdout",
     "output_type": "stream",
     "text": [
      "<class 'pandas.core.frame.DataFrame'>\n",
      "RangeIndex: 740389 entries, 0 to 740388\n",
      "Data columns (total 11 columns):\n",
      " #   Column      Non-Null Count   Dtype \n",
      "---  ------      --------------   ----- \n",
      " 0   inning      740389 non-null  int64 \n",
      " 1   top         740389 non-null  bool  \n",
      " 2   ab_id       740389 non-null  int64 \n",
      " 3   g_id        740389 non-null  int64 \n",
      " 4   p_score     740389 non-null  int64 \n",
      " 5   batter_id   740389 non-null  int64 \n",
      " 6   pitcher_id  740389 non-null  int64 \n",
      " 7   stand       740389 non-null  object\n",
      " 8   p_throws    740389 non-null  object\n",
      " 9   event       740389 non-null  object\n",
      " 10  o           740389 non-null  int64 \n",
      "dtypes: bool(1), int64(7), object(3)\n",
      "memory usage: 57.2+ MB\n"
     ]
    }
   ],
   "source": [
    "# rearrange columns in atbats to match column order of atbats19\n",
    "\n",
    "atbats = atbats[['inning', 'top', 'ab_id', 'g_id', 'p_score', 'batter_id', 'pitcher_id', 'stand', 'p_throws', 'event', 'o']]\n",
    "atbats.info()"
   ]
  },
  {
   "cell_type": "code",
   "execution_count": 6,
   "metadata": {},
   "outputs": [
    {
     "name": "stdout",
     "output_type": "stream",
     "text": [
      "<class 'pandas.core.frame.DataFrame'>\n",
      "RangeIndex: 925634 entries, 0 to 925633\n",
      "Data columns (total 11 columns):\n",
      " #   Column      Non-Null Count   Dtype \n",
      "---  ------      --------------   ----- \n",
      " 0   inning      925634 non-null  int64 \n",
      " 1   top         925634 non-null  int64 \n",
      " 2   ab_id       925634 non-null  int64 \n",
      " 3   g_id        925634 non-null  int64 \n",
      " 4   p_score     925634 non-null  int64 \n",
      " 5   batter_id   925634 non-null  int64 \n",
      " 6   pitcher_id  925634 non-null  int64 \n",
      " 7   stand       925634 non-null  object\n",
      " 8   p_throws    925634 non-null  object\n",
      " 9   event       925634 non-null  object\n",
      " 10  o           925634 non-null  int64 \n",
      "dtypes: int64(8), object(3)\n",
      "memory usage: 77.7+ MB\n"
     ]
    }
   ],
   "source": [
    "# concatenate the two atbats Dataframes\n",
    "\n",
    "atbats_all = pd.concat([atbats, atbats19], ignore_index=True, sort=False)\n",
    "atbats_all.info()"
   ]
  },
  {
   "cell_type": "code",
   "execution_count": 7,
   "metadata": {},
   "outputs": [],
   "source": [
    "# rename some columns in pitches to match those that I renamed in the pitches19 csz before importing\n",
    "\n",
    "pitches.rename(columns = {'px': 'horiz_loc', 'pz': 'vert_loc', 'pfx_x': 'horiz_move', 'pfx_z': 'vert_move'}, inplace=True)"
   ]
  },
  {
   "cell_type": "code",
   "execution_count": 8,
   "metadata": {},
   "outputs": [
    {
     "name": "stdout",
     "output_type": "stream",
     "text": [
      "<class 'pandas.core.frame.DataFrame'>\n",
      "RangeIndex: 3595944 entries, 0 to 3595943\n",
      "Data columns (total 40 columns):\n",
      " #   Column           Dtype  \n",
      "---  ------           -----  \n",
      " 0   horiz_loc        float64\n",
      " 1   vert_loc         float64\n",
      " 2   start_speed      float64\n",
      " 3   end_speed        float64\n",
      " 4   spin_rate        object \n",
      " 5   spin_dir         object \n",
      " 6   break_angle      float64\n",
      " 7   break_length     float64\n",
      " 8   break_y          float64\n",
      " 9   ax               float64\n",
      " 10  ay               float64\n",
      " 11  az               float64\n",
      " 12  sz_bot           float64\n",
      " 13  sz_top           float64\n",
      " 14  type_confidence  object \n",
      " 15  vx0              float64\n",
      " 16  vy0              float64\n",
      " 17  vz0              float64\n",
      " 18  x                object \n",
      " 19  x0               float64\n",
      " 20  y                object \n",
      " 21  y0               float64\n",
      " 22  z0               float64\n",
      " 23  horiz_move       float64\n",
      " 24  vert_move        float64\n",
      " 25  nasty            float64\n",
      " 26  zone             object \n",
      " 27  code             object \n",
      " 28  type             object \n",
      " 29  pitch_type       object \n",
      " 30  event_num        int64  \n",
      " 31  b_score          float64\n",
      " 32  ab_id            float64\n",
      " 33  b_count          float64\n",
      " 34  s_count          float64\n",
      " 35  outs             float64\n",
      " 36  pitch_num        float64\n",
      " 37  on_1b            float64\n",
      " 38  on_2b            float64\n",
      " 39  on_3b            float64\n",
      "dtypes: float64(30), int64(1), object(9)\n",
      "memory usage: 1.1+ GB\n"
     ]
    }
   ],
   "source": [
    "# concatenate the two pitches Dataframes\n",
    "\n",
    "pitches_all = pd.concat([pitches, pitches19], ignore_index=True, sort=False)\n",
    "pitches_all.info()"
   ]
  },
  {
   "cell_type": "markdown",
   "metadata": {},
   "source": [
    "The DataFrames with the data on pitches contained every pitch in every at bat, but I only need the final pitch that resulted in a play.  Therefore, I'll drop the pitches in each at bat that didn't end the at bat."
   ]
  },
  {
   "cell_type": "code",
   "execution_count": 15,
   "metadata": {},
   "outputs": [
    {
     "name": "stdout",
     "output_type": "stream",
     "text": [
      "<class 'pandas.core.frame.DataFrame'>\n",
      "Int64Index: 925461 entries, 5 to 3595943\n",
      "Data columns (total 40 columns):\n",
      " #   Column           Non-Null Count   Dtype  \n",
      "---  ------           --------------   -----  \n",
      " 0   horiz_loc        919761 non-null  float64\n",
      " 1   vert_loc         919761 non-null  float64\n",
      " 2   start_speed      919786 non-null  float64\n",
      " 3   end_speed        919786 non-null  float64\n",
      " 4   spin_rate        919761 non-null  object \n",
      " 5   spin_dir         919761 non-null  object \n",
      " 6   break_angle      919761 non-null  float64\n",
      " 7   break_length     919761 non-null  float64\n",
      " 8   break_y          919761 non-null  float64\n",
      " 9   ax               919761 non-null  float64\n",
      " 10  ay               919761 non-null  float64\n",
      " 11  az               919761 non-null  float64\n",
      " 12  sz_bot           924929 non-null  float64\n",
      " 13  sz_top           924929 non-null  float64\n",
      " 14  type_confidence  919761 non-null  object \n",
      " 15  vx0              919761 non-null  float64\n",
      " 16  vy0              919761 non-null  float64\n",
      " 17  vz0              919761 non-null  float64\n",
      " 18  x                925461 non-null  object \n",
      " 19  x0               919761 non-null  float64\n",
      " 20  y                925461 non-null  object \n",
      " 21  y0               919761 non-null  float64\n",
      " 22  z0               919761 non-null  float64\n",
      " 23  horiz_move       919778 non-null  float64\n",
      " 24  vert_move        919778 non-null  float64\n",
      " 25  nasty            736325 non-null  float64\n",
      " 26  zone             919761 non-null  object \n",
      " 27  code             924018 non-null  object \n",
      " 28  type             925461 non-null  object \n",
      " 29  pitch_type       919761 non-null  object \n",
      " 30  event_num        925461 non-null  int64  \n",
      " 31  b_score          925461 non-null  float64\n",
      " 32  ab_id            925461 non-null  object \n",
      " 33  b_count          925461 non-null  float64\n",
      " 34  s_count          925461 non-null  float64\n",
      " 35  outs             925461 non-null  float64\n",
      " 36  pitch_num        925461 non-null  float64\n",
      " 37  on_1b            925461 non-null  float64\n",
      " 38  on_2b            925461 non-null  float64\n",
      " 39  on_3b            925461 non-null  float64\n",
      "dtypes: float64(29), int64(1), object(10)\n",
      "memory usage: 289.5+ MB\n"
     ]
    }
   ],
   "source": [
    "# drop duplicates of ab_id, keeping only the last entry for each\n",
    "\n",
    "pitches_all = pitches_all.drop_duplicates('ab_id', keep='last')\n",
    "pitches_all.info()"
   ]
  },
  {
   "cell_type": "markdown",
   "metadata": {},
   "source": [
    "Next, I need to merge the two DataFrames (atbats_all and pitches_all) on the ab_id column."
   ]
  },
  {
   "cell_type": "code",
   "execution_count": null,
   "metadata": {},
   "outputs": [
    {
     "name": "stdout",
     "output_type": "stream",
     "text": [
      "<class 'pandas.core.frame.DataFrame'>\n",
      "RangeIndex: 925634 entries, 0 to 925633\n",
      "Data columns (total 11 columns):\n",
      " #   Column      Non-Null Count   Dtype \n",
      "---  ------      --------------   ----- \n",
      " 0   inning      925634 non-null  int64 \n",
      " 1   top         925634 non-null  int64 \n",
      " 2   ab_id       925634 non-null  object\n",
      " 3   g_id        925634 non-null  int64 \n",
      " 4   p_score     925634 non-null  int64 \n",
      " 5   batter_id   925634 non-null  int64 \n",
      " 6   pitcher_id  925634 non-null  int64 \n",
      " 7   stand       925634 non-null  object\n",
      " 8   p_throws    925634 non-null  object\n",
      " 9   event       925634 non-null  object\n",
      " 10  o           925634 non-null  int64 \n",
      "dtypes: int64(7), object(4)\n",
      "memory usage: 77.7+ MB\n"
     ]
    }
   ],
   "source": [
    "# change ab_id in atbats_all from integers to strings\n",
    "\n",
    "atbats_all['ab_id'] = atbats_all['ab_id'].astype(str)\n",
    "atbats_all.info()"
   ]
  },
  {
   "cell_type": "code",
   "execution_count": null,
   "metadata": {},
   "outputs": [],
   "source": [
    "# change ab_id in pitches_all from floats to strings\n",
    "\n",
    "pitches_all['ab_id'] = pitches_all['ab_id'].astype(str)"
   ]
  },
  {
   "cell_type": "code",
   "execution_count": null,
   "metadata": {},
   "outputs": [],
   "source": [
    "# remove the decimal in ab_id of pitches_all to match the ab_id of atbats_all\n",
    "\n",
    "pitches_all['ab_id'] = pitches_all['ab_id'].str[:-2]"
   ]
  },
  {
   "cell_type": "code",
   "execution_count": 39,
   "metadata": {},
   "outputs": [
    {
     "name": "stdout",
     "output_type": "stream",
     "text": [
      "<class 'pandas.core.frame.DataFrame'>\n",
      "Int64Index: 925461 entries, 0 to 925460\n",
      "Data columns (total 50 columns):\n",
      " #   Column           Non-Null Count   Dtype  \n",
      "---  ------           --------------   -----  \n",
      " 0   inning           925461 non-null  int64  \n",
      " 1   top              925461 non-null  int64  \n",
      " 2   ab_id            925461 non-null  object \n",
      " 3   g_id             925461 non-null  int64  \n",
      " 4   p_score          925461 non-null  int64  \n",
      " 5   batter_id        925461 non-null  int64  \n",
      " 6   pitcher_id       925461 non-null  int64  \n",
      " 7   stand            925461 non-null  object \n",
      " 8   p_throws         925461 non-null  object \n",
      " 9   event            925461 non-null  object \n",
      " 10  o                925461 non-null  int64  \n",
      " 11  horiz_loc        919761 non-null  float64\n",
      " 12  vert_loc         919761 non-null  float64\n",
      " 13  start_speed      919786 non-null  float64\n",
      " 14  end_speed        919786 non-null  float64\n",
      " 15  spin_rate        919761 non-null  object \n",
      " 16  spin_dir         919761 non-null  object \n",
      " 17  break_angle      919761 non-null  float64\n",
      " 18  break_length     919761 non-null  float64\n",
      " 19  break_y          919761 non-null  float64\n",
      " 20  ax               919761 non-null  float64\n",
      " 21  ay               919761 non-null  float64\n",
      " 22  az               919761 non-null  float64\n",
      " 23  sz_bot           924929 non-null  float64\n",
      " 24  sz_top           924929 non-null  float64\n",
      " 25  type_confidence  919761 non-null  object \n",
      " 26  vx0              919761 non-null  float64\n",
      " 27  vy0              919761 non-null  float64\n",
      " 28  vz0              919761 non-null  float64\n",
      " 29  x                925461 non-null  object \n",
      " 30  x0               919761 non-null  float64\n",
      " 31  y                925461 non-null  object \n",
      " 32  y0               919761 non-null  float64\n",
      " 33  z0               919761 non-null  float64\n",
      " 34  horiz_move       919778 non-null  float64\n",
      " 35  vert_move        919778 non-null  float64\n",
      " 36  nasty            736325 non-null  float64\n",
      " 37  zone             919761 non-null  object \n",
      " 38  code             924018 non-null  object \n",
      " 39  type             925461 non-null  object \n",
      " 40  pitch_type       919761 non-null  object \n",
      " 41  event_num        925461 non-null  int64  \n",
      " 42  b_score          925461 non-null  float64\n",
      " 43  b_count          925461 non-null  float64\n",
      " 44  s_count          925461 non-null  float64\n",
      " 45  outs             925461 non-null  float64\n",
      " 46  pitch_num        925461 non-null  float64\n",
      " 47  on_1b            925461 non-null  float64\n",
      " 48  on_2b            925461 non-null  float64\n",
      " 49  on_3b            925461 non-null  float64\n",
      "dtypes: float64(29), int64(8), object(13)\n",
      "memory usage: 360.1+ MB\n"
     ]
    }
   ],
   "source": [
    "df = atbats_all.merge(pitches_all, on='ab_id')\n",
    "df.info()"
   ]
  },
  {
   "cell_type": "code",
   "execution_count": 40,
   "metadata": {},
   "outputs": [
    {
     "data": {
      "text/html": [
       "<div>\n",
       "<style scoped>\n",
       "    .dataframe tbody tr th:only-of-type {\n",
       "        vertical-align: middle;\n",
       "    }\n",
       "\n",
       "    .dataframe tbody tr th {\n",
       "        vertical-align: top;\n",
       "    }\n",
       "\n",
       "    .dataframe thead th {\n",
       "        text-align: right;\n",
       "    }\n",
       "</style>\n",
       "<table border=\"1\" class=\"dataframe\">\n",
       "  <thead>\n",
       "    <tr style=\"text-align: right;\">\n",
       "      <th></th>\n",
       "      <th>inning</th>\n",
       "      <th>top</th>\n",
       "      <th>ab_id</th>\n",
       "      <th>g_id</th>\n",
       "      <th>p_score</th>\n",
       "      <th>batter_id</th>\n",
       "      <th>pitcher_id</th>\n",
       "      <th>stand</th>\n",
       "      <th>p_throws</th>\n",
       "      <th>event</th>\n",
       "      <th>...</th>\n",
       "      <th>pitch_type</th>\n",
       "      <th>event_num</th>\n",
       "      <th>b_score</th>\n",
       "      <th>b_count</th>\n",
       "      <th>s_count</th>\n",
       "      <th>outs</th>\n",
       "      <th>pitch_num</th>\n",
       "      <th>on_1b</th>\n",
       "      <th>on_2b</th>\n",
       "      <th>on_3b</th>\n",
       "    </tr>\n",
       "  </thead>\n",
       "  <tbody>\n",
       "    <tr>\n",
       "      <th>0</th>\n",
       "      <td>1</td>\n",
       "      <td>1</td>\n",
       "      <td>2015000001</td>\n",
       "      <td>201500001</td>\n",
       "      <td>0</td>\n",
       "      <td>572761</td>\n",
       "      <td>452657</td>\n",
       "      <td>L</td>\n",
       "      <td>L</td>\n",
       "      <td>Groundout</td>\n",
       "      <td>...</td>\n",
       "      <td>FF</td>\n",
       "      <td>8</td>\n",
       "      <td>0.0</td>\n",
       "      <td>2.0</td>\n",
       "      <td>2.0</td>\n",
       "      <td>0.0</td>\n",
       "      <td>6.0</td>\n",
       "      <td>0.0</td>\n",
       "      <td>0.0</td>\n",
       "      <td>0.0</td>\n",
       "    </tr>\n",
       "    <tr>\n",
       "      <th>1</th>\n",
       "      <td>1</td>\n",
       "      <td>1</td>\n",
       "      <td>2015000002</td>\n",
       "      <td>201500001</td>\n",
       "      <td>0</td>\n",
       "      <td>518792</td>\n",
       "      <td>452657</td>\n",
       "      <td>L</td>\n",
       "      <td>L</td>\n",
       "      <td>Double</td>\n",
       "      <td>...</td>\n",
       "      <td>FC</td>\n",
       "      <td>13</td>\n",
       "      <td>0.0</td>\n",
       "      <td>1.0</td>\n",
       "      <td>0.0</td>\n",
       "      <td>1.0</td>\n",
       "      <td>2.0</td>\n",
       "      <td>0.0</td>\n",
       "      <td>0.0</td>\n",
       "      <td>0.0</td>\n",
       "    </tr>\n",
       "    <tr>\n",
       "      <th>2</th>\n",
       "      <td>1</td>\n",
       "      <td>1</td>\n",
       "      <td>2015000003</td>\n",
       "      <td>201500001</td>\n",
       "      <td>0</td>\n",
       "      <td>407812</td>\n",
       "      <td>452657</td>\n",
       "      <td>R</td>\n",
       "      <td>L</td>\n",
       "      <td>Single</td>\n",
       "      <td>...</td>\n",
       "      <td>FF</td>\n",
       "      <td>19</td>\n",
       "      <td>0.0</td>\n",
       "      <td>2.0</td>\n",
       "      <td>0.0</td>\n",
       "      <td>1.0</td>\n",
       "      <td>3.0</td>\n",
       "      <td>0.0</td>\n",
       "      <td>1.0</td>\n",
       "      <td>0.0</td>\n",
       "    </tr>\n",
       "    <tr>\n",
       "      <th>3</th>\n",
       "      <td>1</td>\n",
       "      <td>1</td>\n",
       "      <td>2015000004</td>\n",
       "      <td>201500001</td>\n",
       "      <td>0</td>\n",
       "      <td>425509</td>\n",
       "      <td>452657</td>\n",
       "      <td>R</td>\n",
       "      <td>L</td>\n",
       "      <td>Strikeout</td>\n",
       "      <td>...</td>\n",
       "      <td>CU</td>\n",
       "      <td>27</td>\n",
       "      <td>1.0</td>\n",
       "      <td>0.0</td>\n",
       "      <td>2.0</td>\n",
       "      <td>1.0</td>\n",
       "      <td>3.0</td>\n",
       "      <td>1.0</td>\n",
       "      <td>0.0</td>\n",
       "      <td>0.0</td>\n",
       "    </tr>\n",
       "    <tr>\n",
       "      <th>4</th>\n",
       "      <td>1</td>\n",
       "      <td>1</td>\n",
       "      <td>2015000005</td>\n",
       "      <td>201500001</td>\n",
       "      <td>0</td>\n",
       "      <td>571431</td>\n",
       "      <td>452657</td>\n",
       "      <td>L</td>\n",
       "      <td>L</td>\n",
       "      <td>Strikeout</td>\n",
       "      <td>...</td>\n",
       "      <td>FC</td>\n",
       "      <td>35</td>\n",
       "      <td>1.0</td>\n",
       "      <td>1.0</td>\n",
       "      <td>2.0</td>\n",
       "      <td>2.0</td>\n",
       "      <td>5.0</td>\n",
       "      <td>1.0</td>\n",
       "      <td>0.0</td>\n",
       "      <td>0.0</td>\n",
       "    </tr>\n",
       "  </tbody>\n",
       "</table>\n",
       "<p>5 rows × 50 columns</p>\n",
       "</div>"
      ],
      "text/plain": [
       "   inning  top       ab_id       g_id  p_score  batter_id  pitcher_id stand  \\\n",
       "0       1    1  2015000001  201500001        0     572761      452657     L   \n",
       "1       1    1  2015000002  201500001        0     518792      452657     L   \n",
       "2       1    1  2015000003  201500001        0     407812      452657     R   \n",
       "3       1    1  2015000004  201500001        0     425509      452657     R   \n",
       "4       1    1  2015000005  201500001        0     571431      452657     L   \n",
       "\n",
       "  p_throws      event  ...  pitch_type  event_num  b_score  b_count  s_count  \\\n",
       "0        L  Groundout  ...          FF          8      0.0      2.0      2.0   \n",
       "1        L     Double  ...          FC         13      0.0      1.0      0.0   \n",
       "2        L     Single  ...          FF         19      0.0      2.0      0.0   \n",
       "3        L  Strikeout  ...          CU         27      1.0      0.0      2.0   \n",
       "4        L  Strikeout  ...          FC         35      1.0      1.0      2.0   \n",
       "\n",
       "  outs pitch_num  on_1b  on_2b  on_3b  \n",
       "0  0.0       6.0    0.0    0.0    0.0  \n",
       "1  1.0       2.0    0.0    0.0    0.0  \n",
       "2  1.0       3.0    0.0    1.0    0.0  \n",
       "3  1.0       3.0    1.0    0.0    0.0  \n",
       "4  2.0       5.0    1.0    0.0    0.0  \n",
       "\n",
       "[5 rows x 50 columns]"
      ]
     },
     "execution_count": 40,
     "metadata": {},
     "output_type": "execute_result"
    }
   ],
   "source": [
    "# sanity check\n",
    "\n",
    "df.head()"
   ]
  },
  {
   "cell_type": "code",
   "execution_count": 46,
   "metadata": {},
   "outputs": [
    {
     "data": {
      "text/plain": [
       "5700"
      ]
     },
     "execution_count": 46,
     "metadata": {},
     "output_type": "execute_result"
    }
   ],
   "source": [
    "df['pitch_type'].isna().sum()"
   ]
  },
  {
   "cell_type": "code",
   "execution_count": 47,
   "metadata": {},
   "outputs": [],
   "source": [
    "df = df[df['pitch_type'].notna()]"
   ]
  },
  {
   "cell_type": "code",
   "execution_count": 48,
   "metadata": {},
   "outputs": [
    {
     "name": "stdout",
     "output_type": "stream",
     "text": [
      "<class 'pandas.core.frame.DataFrame'>\n",
      "Int64Index: 919761 entries, 0 to 925460\n",
      "Data columns (total 50 columns):\n",
      " #   Column           Non-Null Count   Dtype  \n",
      "---  ------           --------------   -----  \n",
      " 0   inning           919761 non-null  int64  \n",
      " 1   top              919761 non-null  int64  \n",
      " 2   ab_id            919761 non-null  object \n",
      " 3   g_id             919761 non-null  int64  \n",
      " 4   p_score          919761 non-null  int64  \n",
      " 5   batter_id        919761 non-null  int64  \n",
      " 6   pitcher_id       919761 non-null  int64  \n",
      " 7   stand            919761 non-null  object \n",
      " 8   p_throws         919761 non-null  object \n",
      " 9   event            919761 non-null  object \n",
      " 10  o                919761 non-null  int64  \n",
      " 11  horiz_loc        919761 non-null  float64\n",
      " 12  vert_loc         919761 non-null  float64\n",
      " 13  start_speed      919761 non-null  float64\n",
      " 14  end_speed        919761 non-null  float64\n",
      " 15  spin_rate        919761 non-null  object \n",
      " 16  spin_dir         919761 non-null  object \n",
      " 17  break_angle      919761 non-null  float64\n",
      " 18  break_length     919761 non-null  float64\n",
      " 19  break_y          919761 non-null  float64\n",
      " 20  ax               919761 non-null  float64\n",
      " 21  ay               919761 non-null  float64\n",
      " 22  az               919761 non-null  float64\n",
      " 23  sz_bot           919761 non-null  float64\n",
      " 24  sz_top           919761 non-null  float64\n",
      " 25  type_confidence  919761 non-null  object \n",
      " 26  vx0              919761 non-null  float64\n",
      " 27  vy0              919761 non-null  float64\n",
      " 28  vz0              919761 non-null  float64\n",
      " 29  x                919761 non-null  object \n",
      " 30  x0               919761 non-null  float64\n",
      " 31  y                919761 non-null  object \n",
      " 32  y0               919761 non-null  float64\n",
      " 33  z0               919761 non-null  float64\n",
      " 34  horiz_move       919761 non-null  float64\n",
      " 35  vert_move        919761 non-null  float64\n",
      " 36  nasty            736325 non-null  float64\n",
      " 37  zone             919761 non-null  object \n",
      " 38  code             918319 non-null  object \n",
      " 39  type             919761 non-null  object \n",
      " 40  pitch_type       919761 non-null  object \n",
      " 41  event_num        919761 non-null  int64  \n",
      " 42  b_score          919761 non-null  float64\n",
      " 43  b_count          919761 non-null  float64\n",
      " 44  s_count          919761 non-null  float64\n",
      " 45  outs             919761 non-null  float64\n",
      " 46  pitch_num        919761 non-null  float64\n",
      " 47  on_1b            919761 non-null  float64\n",
      " 48  on_2b            919761 non-null  float64\n",
      " 49  on_3b            919761 non-null  float64\n",
      "dtypes: float64(29), int64(8), object(13)\n",
      "memory usage: 357.9+ MB\n"
     ]
    }
   ],
   "source": [
    "df.info()"
   ]
  },
  {
   "cell_type": "code",
   "execution_count": 59,
   "metadata": {},
   "outputs": [
    {
     "data": {
      "text/plain": [
       "FF    0.339439\n",
       "SL    0.165928\n",
       "FT    0.119097\n",
       "CH    0.111533\n",
       "SI    0.087041\n",
       "CU    0.076297\n",
       "FC    0.056403\n",
       "KC    0.021557\n",
       "FS    0.016869\n",
       "KN    0.003280\n",
       "IN    0.001911\n",
       "EP    0.000292\n",
       "FO    0.000273\n",
       "SC    0.000035\n",
       "PO    0.000034\n",
       "UN    0.000008\n",
       "FA    0.000002\n",
       "AB    0.000001\n",
       "Name: pitch_type, dtype: float64"
      ]
     },
     "execution_count": 59,
     "metadata": {},
     "output_type": "execute_result"
    }
   ],
   "source": [
    "df['pitch_type'].value_counts(normalize=True)"
   ]
  },
  {
   "cell_type": "code",
   "execution_count": 58,
   "metadata": {},
   "outputs": [
    {
     "data": {
      "image/png": "[encoded data removed]",
      "text/plain": [
       "<Figure size 432x288 with 1 Axes>"
      ]
     },
     "metadata": {
      "needs_background": "light"
     },
     "output_type": "display_data"
    }
   ],
   "source": [
    "df['pitch_type'].value_counts().plot(kind='bar')\n",
    "plt.show()"
   ]
  },
  {
   "cell_type": "markdown",
   "metadata": {},
   "source": [
    "I'm not interested in any pitches accounting for less than 1% of the total...except for knuckleballs because I'm curious about them.  I'll only look at the top 10 most frequent pitch types."
   ]
  },
  {
   "cell_type": "code",
   "execution_count": 60,
   "metadata": {},
   "outputs": [],
   "source": [
    "# create a list of the top 10 most used pitches\n",
    "\n",
    "pitch_type_keep = ['FF', 'SL', 'FT', 'CH', 'SI', 'CU', 'FC', 'KC', 'FS', 'KN']"
   ]
  },
  {
   "cell_type": "code",
   "execution_count": 63,
   "metadata": {},
   "outputs": [],
   "source": [
    "df = df[df['pitch_type'].isin(pitch_type_keep)]"
   ]
  },
  {
   "cell_type": "code",
   "execution_count": 65,
   "metadata": {},
   "outputs": [
    {
     "data": {
      "text/plain": [
       "FF    0.340309\n",
       "SL    0.166353\n",
       "FT    0.119402\n",
       "CH    0.111819\n",
       "SI    0.087264\n",
       "CU    0.076493\n",
       "FC    0.056547\n",
       "KC    0.021612\n",
       "FS    0.016912\n",
       "KN    0.003289\n",
       "Name: pitch_type, dtype: float64"
      ]
     },
     "execution_count": 65,
     "metadata": {},
     "output_type": "execute_result"
    }
   ],
   "source": [
    "df['pitch_type'].value_counts(normalize=True)"
   ]
  },
  {
   "cell_type": "markdown",
   "metadata": {},
   "source": [
    "The dependent variable is the outcome of the at bat, which is provided in the event column."
   ]
  },
  {
   "cell_type": "code",
   "execution_count": 69,
   "metadata": {},
   "outputs": [
    {
     "data": {
      "text/plain": [
       "Strikeout                       198566\n",
       "Groundout                       166152\n",
       "Single                          134005\n",
       "Flyout                          100115\n",
       "Walk                             71648\n",
       "Lineout                          55759\n",
       "Pop Out                          42949\n",
       "Double                           41433\n",
       "Home Run                         28817\n",
       "Forceout                         18590\n",
       "Grounded Into DP                 18076\n",
       "Hit By Pitch                      8861\n",
       "Field Error                       7705\n",
       "Sac Fly                           5880\n",
       "Sac Bunt                          4702\n",
       "Triple                            4220\n",
       "Double Play                       2201\n",
       "Runner Out                        1598\n",
       "Fielders Choice Out               1530\n",
       "Bunt Groundout                    1473\n",
       "Fielders Choice                    800\n",
       "Bunt Pop Out                       679\n",
       "Strikeout - DP                     576\n",
       "Batter Interference                209\n",
       "Catcher Interference               208\n",
       "Caught Stealing 2B                 176\n",
       "Strikeout Double Play              146\n",
       "Sac Fly DP                          76\n",
       "Bunt Lineout                        61\n",
       "Pickoff Caught Stealing 2B          36\n",
       "Fan Interference                    35\n",
       "Pickoff 1B                          32\n",
       "Triple Play                         23\n",
       "Caught Stealing Home                15\n",
       "Sac Fly Double Play                 11\n",
       "Caught Stealing 3B                  11\n",
       "Pickoff 2B                           8\n",
       "Sacrifice Bunt DP                    4\n",
       "Wild Pitch                           4\n",
       "Pickoff Caught Stealing Home         4\n",
       "Pickoff 3B                           3\n",
       "Runner Double Play                   3\n",
       "Sac Bunt Double Play                 3\n",
       "Game Advisory                        2\n",
       "Intent Walk                          1\n",
       "Pickoff Caught Stealing 3B           1\n",
       "Passed Ball                          1\n",
       "Stolen Base 2B                       1\n",
       "Pickoff Error 1B                     1\n",
       "Name: event, dtype: int64"
      ]
     },
     "execution_count": 69,
     "metadata": {},
     "output_type": "execute_result"
    }
   ],
   "source": [
    "df['event'].value_counts()"
   ]
  },
  {
   "cell_type": "markdown",
   "metadata": {},
   "source": [
    "I want to focus on outcomes that are related directly to an at bat's final pitch, but there are some events given that can be considered unrelated to the specific pitch.  Those rows, therefore, can be removed.  Looking at the list, I'm also going to remove the events that were documented fewer than 10 times.  Some of these are not very clear, and they don't add enough weight to the problem anyway."
   ]
  },
  {
   "cell_type": "code",
   "execution_count": 70,
   "metadata": {},
   "outputs": [],
   "source": [
    "# create a list of events that aren't affected by the pitch\n",
    "\n",
    "drop_events = ['Batter Interference', 'Catcher Interference', 'Caught Stealing 2B',\n",
    "               'Pickoff Caught Stealing 2B', 'Fan Interference', 'Pickoff 1B',\n",
    "               'Caught Stealing Home', 'Caught Stealing 3B', 'Pickoff 2B',\n",
    "               'Sacrifice Bunt DP', 'Wild Pitch', 'Pickoff Caught Stealing Home',\n",
    "               'Pickoff 3B', 'Runner Double Play', 'Sac Bunt Double Play',\n",
    "               'Game Advisory', 'Intent Walk', 'Pickoff Caught Stealing 3B',\n",
    "               'Passed Ball', 'Stolen Base 2B', 'Pickoff Error 1B']"
   ]
  },
  {
   "cell_type": "code",
   "execution_count": 73,
   "metadata": {},
   "outputs": [],
   "source": [
    "# drop rows with events in drop_events\n",
    "\n",
    "df = df.drop(df[df['event'].isin(drop_events)].index)"
   ]
  },
  {
   "cell_type": "code",
   "execution_count": 74,
   "metadata": {},
   "outputs": [
    {
     "data": {
      "text/plain": [
       "Strikeout                198566\n",
       "Groundout                166152\n",
       "Single                   134005\n",
       "Flyout                   100115\n",
       "Walk                      71648\n",
       "Lineout                   55759\n",
       "Pop Out                   42949\n",
       "Double                    41433\n",
       "Home Run                  28817\n",
       "Forceout                  18590\n",
       "Grounded Into DP          18076\n",
       "Hit By Pitch               8861\n",
       "Field Error                7705\n",
       "Sac Fly                    5880\n",
       "Sac Bunt                   4702\n",
       "Triple                     4220\n",
       "Double Play                2201\n",
       "Runner Out                 1598\n",
       "Fielders Choice Out        1530\n",
       "Bunt Groundout             1473\n",
       "Fielders Choice             800\n",
       "Bunt Pop Out                679\n",
       "Strikeout - DP              576\n",
       "Strikeout Double Play       146\n",
       "Sac Fly DP                   76\n",
       "Bunt Lineout                 61\n",
       "Triple Play                  23\n",
       "Sac Fly Double Play          11\n",
       "Name: event, dtype: int64"
      ]
     },
     "execution_count": 74,
     "metadata": {},
     "output_type": "execute_result"
    }
   ],
   "source": [
    "df['event'].value_counts()"
   ]
  },
  {
   "cell_type": "markdown",
   "metadata": {},
   "source": [
    "The pitcher's goal is to get outs, so I'll break down the event variable into those that result in outs and those that don't.  One exception is the 'Field Error' event, which I will identify as an out result since the only reason an out wasn't recorded (according to the official scorer) in such an event was the defense of the pitcher's team and no the pitch itself.  The result of the pitch should have been an out."
   ]
  },
  {
   "cell_type": "code",
   "execution_count": 77,
   "metadata": {},
   "outputs": [],
   "source": [
    "# create a list of events that do not result in an out\n",
    "\n",
    "no_out = ['Single', 'Walk', 'Double', 'Home Run', 'Hit By Pitch', 'Triple']"
   ]
  },
  {
   "cell_type": "code",
   "execution_count": 78,
   "metadata": {},
   "outputs": [],
   "source": [
    "# create numerical categories for out or no out\n",
    "\n",
    "def out_made(event):\n",
    "    if event in no_out:\n",
    "        return 0\n",
    "    else:\n",
    "        return 1"
   ]
  },
  {
   "cell_type": "code",
   "execution_count": 82,
   "metadata": {},
   "outputs": [
    {
     "data": {
      "text/plain": [
       "1    0.68474\n",
       "0    0.31526\n",
       "Name: out_made, dtype: float64"
      ]
     },
     "execution_count": 82,
     "metadata": {},
     "output_type": "execute_result"
    }
   ],
   "source": [
    "# add new column\n",
    "\n",
    "df['out_made'] = df['event'].apply(out_made)\n",
    "\n",
    "df['out_made'].value_counts(normalize=True)"
   ]
  },
  {
   "cell_type": "code",
   "execution_count": null,
   "metadata": {},
   "outputs": [],
   "source": [
    "# drop columns in DataFrame that aren't useful\n",
    "\n",
    "#df = df.drop(['type_confidence', 'zone', 'nasty'], axis=1)"
   ]
  }
 ],
 "metadata": {
  "kernelspec": {
   "display_name": "Python (learn-env)",
   "language": "python",
   "name": "learn-env"
  },
  "language_info": {
   "codemirror_mode": {
    "name": "ipython",
    "version": 3
   },
   "file_extension": ".py",
   "mimetype": "text/x-python",
   "name": "python",
   "nbconvert_exporter": "python",
   "pygments_lexer": "ipython3",
   "version": "3.8.5"
  }
 },
 "nbformat": 4,
 "nbformat_minor": 2
}
