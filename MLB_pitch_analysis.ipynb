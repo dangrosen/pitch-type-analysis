{
 "cells": [
  {
   "cell_type": "markdown",
   "metadata": {},
   "source": [
    "# MLB Pitch Type Analysis"
   ]
  },
  {
   "cell_type": "markdown",
   "metadata": {},
   "source": [
    "## Overview"
   ]
  },
  {
   "cell_type": "markdown",
   "metadata": {},
   "source": [
    "I analyzed pitches thrown in Major League Baseball in order to figure out which features of pitching contributed to getting outs.  Although the ability of a pitcher to throw certain types of pitches effectively is crucial, this analysis seeks to find the best attributes for a player to strive for to be successful.  If a team understands which variables or combinations of variables maximize outs, it can find ways to teach young prospects to achieve such results, as well as continue to coach toward those objectives as players move up though the system. "
   ]
  },
  {
   "cell_type": "markdown",
   "metadata": {},
   "source": [
    "## Business Problem"
   ]
  },
  {
   "cell_type": "markdown",
   "metadata": {},
   "source": [
    "Use factors from the data to determine which ones are most significant in recording outs and make good predictions based on these factors?"
   ]
  },
  {
   "cell_type": "code",
   "execution_count": 39,
   "metadata": {},
   "outputs": [],
   "source": [
    "# import packages\n",
    "\n",
    "import numpy as np\n",
    "import pandas as pd\n",
    "from collections import defaultdict\n",
    "\n",
    "from sklearn.linear_model import LogisticRegression\n",
    "from sklearn.model_selection import train_test_split, cross_validate, cross_val_score, GridSearchCV, KFold\n",
    "from sklearn.pipeline import Pipeline\n",
    "from sklearn.preprocessing import MinMaxScaler, StandardScaler, OneHotEncoder\n",
    "from sklearn.dummy import DummyClassifier\n",
    "from sklearn.tree import DecisionTreeRegressor, DecisionTreeClassifier, plot_tree\n",
    "from sklearn.ensemble import RandomForestClassifier\n",
    "from sklearn.neighbors import KNeighborsClassifier\n",
    "from sklearn.metrics import log_loss, accuracy_score\n",
    "from sklearn.metrics import classification_report, confusion_matrix, ConfusionMatrixDisplay\n",
    "from sklearn.metrics import roc_curve, roc_auc_score, RocCurveDisplay\n",
    "\n",
    "from lightgbm import LGBMClassifier\n",
    "\n",
    "import matplotlib.pyplot as plt\n",
    "%matplotlib inline\n",
    "import seaborn as sns\n",
    "import string\n",
    "import re"
   ]
  },
  {
   "cell_type": "markdown",
   "metadata": {},
   "source": [
    "## Data Overview"
   ]
  },
  {
   "cell_type": "markdown",
   "metadata": {},
   "source": []
  },
  {
   "cell_type": "code",
   "execution_count": 40,
   "metadata": {},
   "outputs": [],
   "source": [
    "# read in datasets\n",
    "\n",
    "atbats = pd.read_csv('Data/atbats.csv')\n",
    "pitches = pd.read_csv('Data/pitches.csv')\n",
    "atbats19 = pd.read_csv('Data/2019_atbats.csv')\n",
    "pitches19 = pd.read_csv('Data/2019_pitches.csv')"
   ]
  },
  {
   "cell_type": "code",
   "execution_count": 41,
   "metadata": {},
   "outputs": [
    {
     "name": "stdout",
     "output_type": "stream",
     "text": [
      "<class 'pandas.core.frame.DataFrame'>\n",
      "RangeIndex: 740389 entries, 0 to 740388\n",
      "Data columns (total 11 columns):\n",
      " #   Column      Non-Null Count   Dtype \n",
      "---  ------      --------------   ----- \n",
      " 0   ab_id       740389 non-null  int64 \n",
      " 1   batter_id   740389 non-null  int64 \n",
      " 2   event       740389 non-null  object\n",
      " 3   g_id        740389 non-null  int64 \n",
      " 4   inning      740389 non-null  int64 \n",
      " 5   o           740389 non-null  int64 \n",
      " 6   p_score     740389 non-null  int64 \n",
      " 7   p_throws    740389 non-null  object\n",
      " 8   pitcher_id  740389 non-null  int64 \n",
      " 9   stand       740389 non-null  object\n",
      " 10  top         740389 non-null  bool  \n",
      "dtypes: bool(1), int64(7), object(3)\n",
      "memory usage: 57.2+ MB\n"
     ]
    }
   ],
   "source": [
    "atbats.info()"
   ]
  },
  {
   "cell_type": "code",
   "execution_count": 42,
   "metadata": {},
   "outputs": [
    {
     "name": "stdout",
     "output_type": "stream",
     "text": [
      "<class 'pandas.core.frame.DataFrame'>\n",
      "RangeIndex: 185245 entries, 0 to 185244\n",
      "Data columns (total 11 columns):\n",
      " #   Column      Non-Null Count   Dtype \n",
      "---  ------      --------------   ----- \n",
      " 0   inning      185245 non-null  int64 \n",
      " 1   top         185245 non-null  int64 \n",
      " 2   ab_id       185245 non-null  int64 \n",
      " 3   g_id        185245 non-null  int64 \n",
      " 4   p_score     185245 non-null  int64 \n",
      " 5   batter_id   185245 non-null  int64 \n",
      " 6   pitcher_id  185245 non-null  int64 \n",
      " 7   stand       185245 non-null  object\n",
      " 8   p_throws    185245 non-null  object\n",
      " 9   event       185245 non-null  object\n",
      " 10  o           185245 non-null  int64 \n",
      "dtypes: int64(8), object(3)\n",
      "memory usage: 15.5+ MB\n"
     ]
    }
   ],
   "source": [
    "atbats19.info()"
   ]
  },
  {
   "cell_type": "code",
   "execution_count": 43,
   "metadata": {},
   "outputs": [
    {
     "name": "stdout",
     "output_type": "stream",
     "text": [
      "<class 'pandas.core.frame.DataFrame'>\n",
      "RangeIndex: 740389 entries, 0 to 740388\n",
      "Data columns (total 11 columns):\n",
      " #   Column      Non-Null Count   Dtype \n",
      "---  ------      --------------   ----- \n",
      " 0   inning      740389 non-null  int64 \n",
      " 1   top         740389 non-null  bool  \n",
      " 2   ab_id       740389 non-null  int64 \n",
      " 3   g_id        740389 non-null  int64 \n",
      " 4   p_score     740389 non-null  int64 \n",
      " 5   batter_id   740389 non-null  int64 \n",
      " 6   pitcher_id  740389 non-null  int64 \n",
      " 7   stand       740389 non-null  object\n",
      " 8   p_throws    740389 non-null  object\n",
      " 9   event       740389 non-null  object\n",
      " 10  o           740389 non-null  int64 \n",
      "dtypes: bool(1), int64(7), object(3)\n",
      "memory usage: 57.2+ MB\n"
     ]
    }
   ],
   "source": [
    "# rearrange columns in atbats to match column order of atbats19\n",
    "\n",
    "atbats = atbats[['inning', 'top', 'ab_id', 'g_id', 'p_score', 'batter_id', 'pitcher_id', 'stand', 'p_throws', 'event', 'o']]\n",
    "atbats.info()"
   ]
  },
  {
   "cell_type": "code",
   "execution_count": 44,
   "metadata": {},
   "outputs": [
    {
     "name": "stdout",
     "output_type": "stream",
     "text": [
      "<class 'pandas.core.frame.DataFrame'>\n",
      "RangeIndex: 925634 entries, 0 to 925633\n",
      "Data columns (total 11 columns):\n",
      " #   Column      Non-Null Count   Dtype \n",
      "---  ------      --------------   ----- \n",
      " 0   inning      925634 non-null  int64 \n",
      " 1   top         925634 non-null  int64 \n",
      " 2   ab_id       925634 non-null  int64 \n",
      " 3   g_id        925634 non-null  int64 \n",
      " 4   p_score     925634 non-null  int64 \n",
      " 5   batter_id   925634 non-null  int64 \n",
      " 6   pitcher_id  925634 non-null  int64 \n",
      " 7   stand       925634 non-null  object\n",
      " 8   p_throws    925634 non-null  object\n",
      " 9   event       925634 non-null  object\n",
      " 10  o           925634 non-null  int64 \n",
      "dtypes: int64(8), object(3)\n",
      "memory usage: 77.7+ MB\n"
     ]
    }
   ],
   "source": [
    "# concatenate the two atbats Dataframes\n",
    "\n",
    "atbats_all = pd.concat([atbats, atbats19], ignore_index=True, sort=False)\n",
    "atbats_all.info()"
   ]
  },
  {
   "cell_type": "code",
   "execution_count": 45,
   "metadata": {},
   "outputs": [],
   "source": [
    "# drop columns in atbats_all DataFrame that aren't useful\n",
    "\n",
    "atbats_all = atbats_all.drop(['top', 'p_score', 'o'], axis=1)"
   ]
  },
  {
   "cell_type": "code",
   "execution_count": 46,
   "metadata": {},
   "outputs": [],
   "source": [
    "# rename some columns in pitches to match those that I renamed in the pitches19 csz before importing\n",
    "\n",
    "pitches.rename(columns = {'px': 'horiz_loc', 'pz': 'vert_loc', 'pfx_x': 'horiz_move', 'pfx_z': 'vert_move'}, inplace=True)"
   ]
  },
  {
   "cell_type": "code",
   "execution_count": 47,
   "metadata": {},
   "outputs": [
    {
     "name": "stdout",
     "output_type": "stream",
     "text": [
      "<class 'pandas.core.frame.DataFrame'>\n",
      "RangeIndex: 3595944 entries, 0 to 3595943\n",
      "Data columns (total 40 columns):\n",
      " #   Column           Dtype  \n",
      "---  ------           -----  \n",
      " 0   horiz_loc        float64\n",
      " 1   vert_loc         float64\n",
      " 2   start_speed      float64\n",
      " 3   end_speed        float64\n",
      " 4   spin_rate        object \n",
      " 5   spin_dir         object \n",
      " 6   break_angle      float64\n",
      " 7   break_length     float64\n",
      " 8   break_y          float64\n",
      " 9   ax               float64\n",
      " 10  ay               float64\n",
      " 11  az               float64\n",
      " 12  sz_bot           float64\n",
      " 13  sz_top           float64\n",
      " 14  type_confidence  object \n",
      " 15  vx0              float64\n",
      " 16  vy0              float64\n",
      " 17  vz0              float64\n",
      " 18  x                object \n",
      " 19  x0               float64\n",
      " 20  y                object \n",
      " 21  y0               float64\n",
      " 22  z0               float64\n",
      " 23  horiz_move       float64\n",
      " 24  vert_move        float64\n",
      " 25  nasty            float64\n",
      " 26  zone             object \n",
      " 27  code             object \n",
      " 28  type             object \n",
      " 29  pitch_type       object \n",
      " 30  event_num        int64  \n",
      " 31  b_score          float64\n",
      " 32  ab_id            float64\n",
      " 33  b_count          float64\n",
      " 34  s_count          float64\n",
      " 35  outs             float64\n",
      " 36  pitch_num        float64\n",
      " 37  on_1b            float64\n",
      " 38  on_2b            float64\n",
      " 39  on_3b            float64\n",
      "dtypes: float64(30), int64(1), object(9)\n",
      "memory usage: 1.1+ GB\n"
     ]
    }
   ],
   "source": [
    "# concatenate the two pitches Dataframes\n",
    "\n",
    "pitches_all = pd.concat([pitches, pitches19], ignore_index=True, sort=False)\n",
    "pitches_all.info()"
   ]
  },
  {
   "cell_type": "code",
   "execution_count": 48,
   "metadata": {},
   "outputs": [],
   "source": [
    "# drop columns in pitches_all DataFrame that aren't useful\n",
    "\n",
    "pitches_all = pitches_all.drop(['ax', 'ay', 'az', 'sz_bot', 'sz_top', 'type_confidence', 'vx0', 'vy0', 'vz0', \n",
    "              'x', 'x0', 'y', 'y0', 'z0', 'horiz_move', 'vert_move', 'nasty', 'zone',\n",
    "              'code', 'type', 'event_num', 'b_score'], axis=1)"
   ]
  },
  {
   "cell_type": "markdown",
   "metadata": {},
   "source": [
    "The DataFrames with the data on pitches contained every pitch in every at bat, but I only need the final pitch that resulted in a play.  Therefore, I'll drop the pitches in each at bat that didn't end the at bat."
   ]
  },
  {
   "cell_type": "code",
   "execution_count": 49,
   "metadata": {},
   "outputs": [
    {
     "name": "stdout",
     "output_type": "stream",
     "text": [
      "<class 'pandas.core.frame.DataFrame'>\n",
      "RangeIndex: 925461 entries, 0 to 925460\n",
      "Data columns (total 18 columns):\n",
      " #   Column        Non-Null Count   Dtype  \n",
      "---  ------        --------------   -----  \n",
      " 0   horiz_loc     919761 non-null  float64\n",
      " 1   vert_loc      919761 non-null  float64\n",
      " 2   start_speed   919786 non-null  float64\n",
      " 3   end_speed     919786 non-null  float64\n",
      " 4   spin_rate     919761 non-null  object \n",
      " 5   spin_dir      919761 non-null  object \n",
      " 6   break_angle   919761 non-null  float64\n",
      " 7   break_length  919761 non-null  float64\n",
      " 8   break_y       919761 non-null  float64\n",
      " 9   pitch_type    919761 non-null  object \n",
      " 10  ab_id         925461 non-null  float64\n",
      " 11  b_count       925461 non-null  float64\n",
      " 12  s_count       925461 non-null  float64\n",
      " 13  outs          925461 non-null  float64\n",
      " 14  pitch_num     925461 non-null  float64\n",
      " 15  on_1b         925461 non-null  float64\n",
      " 16  on_2b         925461 non-null  float64\n",
      " 17  on_3b         925461 non-null  float64\n",
      "dtypes: float64(15), object(3)\n",
      "memory usage: 127.1+ MB\n"
     ]
    }
   ],
   "source": [
    "# drop duplicates of ab_id in pitches_all, keeping only the last entry for each\n",
    "\n",
    "pitches_all = pitches_all.drop_duplicates('ab_id', keep='last')\n",
    "pitches_all = pitches_all.reset_index(drop=True)\n",
    "pitches_all.info()"
   ]
  },
  {
   "cell_type": "markdown",
   "metadata": {},
   "source": [
    "Next, I need to merge the two DataFrames (atbats_all and pitches_all) on the ab_id column."
   ]
  },
  {
   "cell_type": "code",
   "execution_count": 50,
   "metadata": {},
   "outputs": [
    {
     "name": "stdout",
     "output_type": "stream",
     "text": [
      "<class 'pandas.core.frame.DataFrame'>\n",
      "RangeIndex: 925634 entries, 0 to 925633\n",
      "Data columns (total 8 columns):\n",
      " #   Column      Non-Null Count   Dtype \n",
      "---  ------      --------------   ----- \n",
      " 0   inning      925634 non-null  int64 \n",
      " 1   ab_id       925634 non-null  object\n",
      " 2   g_id        925634 non-null  int64 \n",
      " 3   batter_id   925634 non-null  int64 \n",
      " 4   pitcher_id  925634 non-null  int64 \n",
      " 5   stand       925634 non-null  object\n",
      " 6   p_throws    925634 non-null  object\n",
      " 7   event       925634 non-null  object\n",
      "dtypes: int64(4), object(4)\n",
      "memory usage: 56.5+ MB\n"
     ]
    }
   ],
   "source": [
    "# change ab_id in atbats_all from integers to strings\n",
    "\n",
    "atbats_all['ab_id'] = atbats_all['ab_id'].astype(str)\n",
    "atbats_all.info()"
   ]
  },
  {
   "cell_type": "code",
   "execution_count": 51,
   "metadata": {},
   "outputs": [],
   "source": [
    "# change ab_id in pitches_all from floats to strings\n",
    "\n",
    "pitches_all['ab_id'] = pitches_all['ab_id'].astype(str)"
   ]
  },
  {
   "cell_type": "code",
   "execution_count": 52,
   "metadata": {},
   "outputs": [],
   "source": [
    "# remove the decimal in ab_id of pitches_all to match the ab_id of atbats_all\n",
    "\n",
    "pitches_all['ab_id'] = pitches_all['ab_id'].str[:-2]"
   ]
  },
  {
   "cell_type": "code",
   "execution_count": 53,
   "metadata": {},
   "outputs": [
    {
     "name": "stdout",
     "output_type": "stream",
     "text": [
      "<class 'pandas.core.frame.DataFrame'>\n",
      "Int64Index: 925461 entries, 0 to 925460\n",
      "Data columns (total 25 columns):\n",
      " #   Column        Non-Null Count   Dtype  \n",
      "---  ------        --------------   -----  \n",
      " 0   inning        925461 non-null  int64  \n",
      " 1   ab_id         925461 non-null  object \n",
      " 2   g_id          925461 non-null  int64  \n",
      " 3   batter_id     925461 non-null  int64  \n",
      " 4   pitcher_id    925461 non-null  int64  \n",
      " 5   stand         925461 non-null  object \n",
      " 6   p_throws      925461 non-null  object \n",
      " 7   event         925461 non-null  object \n",
      " 8   horiz_loc     919761 non-null  float64\n",
      " 9   vert_loc      919761 non-null  float64\n",
      " 10  start_speed   919786 non-null  float64\n",
      " 11  end_speed     919786 non-null  float64\n",
      " 12  spin_rate     919761 non-null  object \n",
      " 13  spin_dir      919761 non-null  object \n",
      " 14  break_angle   919761 non-null  float64\n",
      " 15  break_length  919761 non-null  float64\n",
      " 16  break_y       919761 non-null  float64\n",
      " 17  pitch_type    919761 non-null  object \n",
      " 18  b_count       925461 non-null  float64\n",
      " 19  s_count       925461 non-null  float64\n",
      " 20  outs          925461 non-null  float64\n",
      " 21  pitch_num     925461 non-null  float64\n",
      " 22  on_1b         925461 non-null  float64\n",
      " 23  on_2b         925461 non-null  float64\n",
      " 24  on_3b         925461 non-null  float64\n",
      "dtypes: float64(14), int64(4), object(7)\n",
      "memory usage: 183.6+ MB\n"
     ]
    }
   ],
   "source": [
    "# merge the DataFrames\n",
    "\n",
    "df = atbats_all.merge(pitches_all, on='ab_id')\n",
    "df.info()"
   ]
  },
  {
   "cell_type": "code",
   "execution_count": 54,
   "metadata": {},
   "outputs": [
    {
     "data": {
      "text/html": [
       "<div>\n",
       "<style scoped>\n",
       "    .dataframe tbody tr th:only-of-type {\n",
       "        vertical-align: middle;\n",
       "    }\n",
       "\n",
       "    .dataframe tbody tr th {\n",
       "        vertical-align: top;\n",
       "    }\n",
       "\n",
       "    .dataframe thead th {\n",
       "        text-align: right;\n",
       "    }\n",
       "</style>\n",
       "<table border=\"1\" class=\"dataframe\">\n",
       "  <thead>\n",
       "    <tr style=\"text-align: right;\">\n",
       "      <th></th>\n",
       "      <th>inning</th>\n",
       "      <th>ab_id</th>\n",
       "      <th>g_id</th>\n",
       "      <th>batter_id</th>\n",
       "      <th>pitcher_id</th>\n",
       "      <th>stand</th>\n",
       "      <th>p_throws</th>\n",
       "      <th>event</th>\n",
       "      <th>horiz_loc</th>\n",
       "      <th>vert_loc</th>\n",
       "      <th>...</th>\n",
       "      <th>break_length</th>\n",
       "      <th>break_y</th>\n",
       "      <th>pitch_type</th>\n",
       "      <th>b_count</th>\n",
       "      <th>s_count</th>\n",
       "      <th>outs</th>\n",
       "      <th>pitch_num</th>\n",
       "      <th>on_1b</th>\n",
       "      <th>on_2b</th>\n",
       "      <th>on_3b</th>\n",
       "    </tr>\n",
       "  </thead>\n",
       "  <tbody>\n",
       "    <tr>\n",
       "      <th>0</th>\n",
       "      <td>1</td>\n",
       "      <td>2015000001</td>\n",
       "      <td>201500001</td>\n",
       "      <td>572761</td>\n",
       "      <td>452657</td>\n",
       "      <td>L</td>\n",
       "      <td>L</td>\n",
       "      <td>Groundout</td>\n",
       "      <td>0.627</td>\n",
       "      <td>2.397</td>\n",
       "      <td>...</td>\n",
       "      <td>3.7</td>\n",
       "      <td>23.7</td>\n",
       "      <td>FF</td>\n",
       "      <td>2.0</td>\n",
       "      <td>2.0</td>\n",
       "      <td>0.0</td>\n",
       "      <td>6.0</td>\n",
       "      <td>0.0</td>\n",
       "      <td>0.0</td>\n",
       "      <td>0.0</td>\n",
       "    </tr>\n",
       "    <tr>\n",
       "      <th>1</th>\n",
       "      <td>1</td>\n",
       "      <td>2015000002</td>\n",
       "      <td>201500001</td>\n",
       "      <td>518792</td>\n",
       "      <td>452657</td>\n",
       "      <td>L</td>\n",
       "      <td>L</td>\n",
       "      <td>Double</td>\n",
       "      <td>-0.257</td>\n",
       "      <td>2.047</td>\n",
       "      <td>...</td>\n",
       "      <td>4.8</td>\n",
       "      <td>23.8</td>\n",
       "      <td>FC</td>\n",
       "      <td>1.0</td>\n",
       "      <td>0.0</td>\n",
       "      <td>1.0</td>\n",
       "      <td>2.0</td>\n",
       "      <td>0.0</td>\n",
       "      <td>0.0</td>\n",
       "      <td>0.0</td>\n",
       "    </tr>\n",
       "    <tr>\n",
       "      <th>2</th>\n",
       "      <td>1</td>\n",
       "      <td>2015000003</td>\n",
       "      <td>201500001</td>\n",
       "      <td>407812</td>\n",
       "      <td>452657</td>\n",
       "      <td>R</td>\n",
       "      <td>L</td>\n",
       "      <td>Single</td>\n",
       "      <td>-0.286</td>\n",
       "      <td>1.830</td>\n",
       "      <td>...</td>\n",
       "      <td>4.8</td>\n",
       "      <td>23.7</td>\n",
       "      <td>FF</td>\n",
       "      <td>2.0</td>\n",
       "      <td>0.0</td>\n",
       "      <td>1.0</td>\n",
       "      <td>3.0</td>\n",
       "      <td>0.0</td>\n",
       "      <td>1.0</td>\n",
       "      <td>0.0</td>\n",
       "    </tr>\n",
       "    <tr>\n",
       "      <th>3</th>\n",
       "      <td>1</td>\n",
       "      <td>2015000004</td>\n",
       "      <td>201500001</td>\n",
       "      <td>425509</td>\n",
       "      <td>452657</td>\n",
       "      <td>R</td>\n",
       "      <td>L</td>\n",
       "      <td>Strikeout</td>\n",
       "      <td>-0.711</td>\n",
       "      <td>1.971</td>\n",
       "      <td>...</td>\n",
       "      <td>11.0</td>\n",
       "      <td>23.9</td>\n",
       "      <td>CU</td>\n",
       "      <td>0.0</td>\n",
       "      <td>2.0</td>\n",
       "      <td>1.0</td>\n",
       "      <td>3.0</td>\n",
       "      <td>1.0</td>\n",
       "      <td>0.0</td>\n",
       "      <td>0.0</td>\n",
       "    </tr>\n",
       "    <tr>\n",
       "      <th>4</th>\n",
       "      <td>1</td>\n",
       "      <td>2015000005</td>\n",
       "      <td>201500001</td>\n",
       "      <td>571431</td>\n",
       "      <td>452657</td>\n",
       "      <td>L</td>\n",
       "      <td>L</td>\n",
       "      <td>Strikeout</td>\n",
       "      <td>-1.681</td>\n",
       "      <td>0.875</td>\n",
       "      <td>...</td>\n",
       "      <td>5.8</td>\n",
       "      <td>23.8</td>\n",
       "      <td>FC</td>\n",
       "      <td>1.0</td>\n",
       "      <td>2.0</td>\n",
       "      <td>2.0</td>\n",
       "      <td>5.0</td>\n",
       "      <td>1.0</td>\n",
       "      <td>0.0</td>\n",
       "      <td>0.0</td>\n",
       "    </tr>\n",
       "  </tbody>\n",
       "</table>\n",
       "<p>5 rows × 25 columns</p>\n",
       "</div>"
      ],
      "text/plain": [
       "   inning       ab_id       g_id  batter_id  pitcher_id stand p_throws  \\\n",
       "0       1  2015000001  201500001     572761      452657     L        L   \n",
       "1       1  2015000002  201500001     518792      452657     L        L   \n",
       "2       1  2015000003  201500001     407812      452657     R        L   \n",
       "3       1  2015000004  201500001     425509      452657     R        L   \n",
       "4       1  2015000005  201500001     571431      452657     L        L   \n",
       "\n",
       "       event  horiz_loc  vert_loc  ...  break_length  break_y pitch_type  \\\n",
       "0  Groundout      0.627     2.397  ...           3.7     23.7         FF   \n",
       "1     Double     -0.257     2.047  ...           4.8     23.8         FC   \n",
       "2     Single     -0.286     1.830  ...           4.8     23.7         FF   \n",
       "3  Strikeout     -0.711     1.971  ...          11.0     23.9         CU   \n",
       "4  Strikeout     -1.681     0.875  ...           5.8     23.8         FC   \n",
       "\n",
       "  b_count  s_count  outs  pitch_num on_1b  on_2b  on_3b  \n",
       "0     2.0      2.0   0.0        6.0   0.0    0.0    0.0  \n",
       "1     1.0      0.0   1.0        2.0   0.0    0.0    0.0  \n",
       "2     2.0      0.0   1.0        3.0   0.0    1.0    0.0  \n",
       "3     0.0      2.0   1.0        3.0   1.0    0.0    0.0  \n",
       "4     1.0      2.0   2.0        5.0   1.0    0.0    0.0  \n",
       "\n",
       "[5 rows x 25 columns]"
      ]
     },
     "execution_count": 54,
     "metadata": {},
     "output_type": "execute_result"
    }
   ],
   "source": [
    "# sanity check\n",
    "\n",
    "df.head()"
   ]
  },
  {
   "cell_type": "code",
   "execution_count": 55,
   "metadata": {},
   "outputs": [
    {
     "data": {
      "text/plain": [
       "5700"
      ]
     },
     "execution_count": 55,
     "metadata": {},
     "output_type": "execute_result"
    }
   ],
   "source": [
    "df['pitch_type'].isna().sum()"
   ]
  },
  {
   "cell_type": "code",
   "execution_count": 56,
   "metadata": {},
   "outputs": [],
   "source": [
    "df = df[df['pitch_type'].notna()]\n",
    "df = df.reset_index(drop=True)"
   ]
  },
  {
   "cell_type": "markdown",
   "metadata": {},
   "source": [
    "The spin rate and spin direction columns contain object type values because there are almost 183,000 of them that are marked \"placeholder\" rather than a valid number.  I don't think imputing an average or anything else for these makes sense because different pitches have different ranges of values.  Instead, I'm removing those entries and converting the others to float types."
   ]
  },
  {
   "cell_type": "code",
   "execution_count": 57,
   "metadata": {},
   "outputs": [],
   "source": [
    "# remove 'placeholder' entries for spin_rate (spin_dir has 'placeholder' for the same rows)\n",
    "\n",
    "df = df[df['spin_rate'] != 'placeholder']"
   ]
  },
  {
   "cell_type": "code",
   "execution_count": 58,
   "metadata": {},
   "outputs": [],
   "source": [
    "# change spin_rate and spin_dir to floats\n",
    "\n",
    "df['spin_rate'] = df['spin_rate'].astype(float)\n",
    "df['spin_dir'] = df['spin_dir'].astype(float)"
   ]
  },
  {
   "cell_type": "code",
   "execution_count": 59,
   "metadata": {},
   "outputs": [
    {
     "name": "stdout",
     "output_type": "stream",
     "text": [
      "<class 'pandas.core.frame.DataFrame'>\n",
      "Int64Index: 736325 entries, 0 to 736324\n",
      "Data columns (total 25 columns):\n",
      " #   Column        Non-Null Count   Dtype  \n",
      "---  ------        --------------   -----  \n",
      " 0   inning        736325 non-null  int64  \n",
      " 1   ab_id         736325 non-null  object \n",
      " 2   g_id          736325 non-null  int64  \n",
      " 3   batter_id     736325 non-null  int64  \n",
      " 4   pitcher_id    736325 non-null  int64  \n",
      " 5   stand         736325 non-null  object \n",
      " 6   p_throws      736325 non-null  object \n",
      " 7   event         736325 non-null  object \n",
      " 8   horiz_loc     736325 non-null  float64\n",
      " 9   vert_loc      736325 non-null  float64\n",
      " 10  start_speed   736325 non-null  float64\n",
      " 11  end_speed     736325 non-null  float64\n",
      " 12  spin_rate     736325 non-null  float64\n",
      " 13  spin_dir      736325 non-null  float64\n",
      " 14  break_angle   736325 non-null  float64\n",
      " 15  break_length  736325 non-null  float64\n",
      " 16  break_y       736325 non-null  float64\n",
      " 17  pitch_type    736325 non-null  object \n",
      " 18  b_count       736325 non-null  float64\n",
      " 19  s_count       736325 non-null  float64\n",
      " 20  outs          736325 non-null  float64\n",
      " 21  pitch_num     736325 non-null  float64\n",
      " 22  on_1b         736325 non-null  float64\n",
      " 23  on_2b         736325 non-null  float64\n",
      " 24  on_3b         736325 non-null  float64\n",
      "dtypes: float64(16), int64(4), object(5)\n",
      "memory usage: 146.1+ MB\n"
     ]
    }
   ],
   "source": [
    "df.info()"
   ]
  },
  {
   "cell_type": "markdown",
   "metadata": {},
   "source": [
    "Now that all of the data is combined into one DataFrame, I'll take a look at the pitch types."
   ]
  },
  {
   "cell_type": "code",
   "execution_count": 60,
   "metadata": {},
   "outputs": [
    {
     "data": {
      "image/png": "[encoded data removed]",
      "text/plain": [
       "<Figure size 432x288 with 1 Axes>"
      ]
     },
     "metadata": {
      "needs_background": "light"
     },
     "output_type": "display_data"
    }
   ],
   "source": [
    "df['pitch_type'].value_counts().plot(kind='bar')\n",
    "plt.show()"
   ]
  },
  {
   "cell_type": "markdown",
   "metadata": {},
   "source": [
    "I'm not interested in any pitches accounting for less than 1% of the total...except for knuckleballs because I'm curious about them.  I'll only look at the top 10 most frequent pitch types."
   ]
  },
  {
   "cell_type": "code",
   "execution_count": 61,
   "metadata": {},
   "outputs": [],
   "source": [
    "# create a list of the top 10 most used pitches\n",
    "\n",
    "pitch_type_keep = ['FF', 'SL', 'FT', 'CH', 'SI', 'CU', 'FC', 'KC', 'FS', 'KN']"
   ]
  },
  {
   "cell_type": "code",
   "execution_count": 62,
   "metadata": {},
   "outputs": [],
   "source": [
    "# remove pitches not in the top 10\n",
    "\n",
    "df = df[df['pitch_type'].isin(pitch_type_keep)]\n",
    "df = df.reset_index(drop=True)"
   ]
  },
  {
   "cell_type": "code",
   "execution_count": 63,
   "metadata": {},
   "outputs": [],
   "source": [
    "# change pitch type abbreviations to the full names of pitches\n",
    "\n",
    "df.loc[df['pitch_type'] == 'FF', 'pitch_type'] = 'Four-seam Fastball'\n",
    "df.loc[df['pitch_type'] == 'FC', 'pitch_type'] = 'Cutter'\n",
    "df.loc[df['pitch_type'] == 'CU', 'pitch_type'] = 'Curveball'\n",
    "df.loc[df['pitch_type'] == 'FT', 'pitch_type'] = 'Two-seam Fastball'\n",
    "df.loc[df['pitch_type'] == 'CH', 'pitch_type'] = 'Changeup'\n",
    "df.loc[df['pitch_type'] == 'SL', 'pitch_type'] = 'Slider'\n",
    "df.loc[df['pitch_type'] == 'SI', 'pitch_type'] = 'Sinker'\n",
    "df.loc[df['pitch_type'] == 'KC', 'pitch_type'] = 'Knuckle Curve'\n",
    "df.loc[df['pitch_type'] == 'FS', 'pitch_type'] = 'Splitter'\n",
    "df.loc[df['pitch_type'] == 'KN', 'pitch_type'] = 'Knuckleball'"
   ]
  },
  {
   "cell_type": "code",
   "execution_count": 64,
   "metadata": {},
   "outputs": [
    {
     "data": {
      "text/plain": [
       "Four-seam Fastball    0.339737\n",
       "Slider                0.162686\n",
       "Two-seam Fastball     0.126488\n",
       "Changeup              0.109540\n",
       "Sinker                0.088556\n",
       "Curveball             0.075603\n",
       "Cutter                0.054238\n",
       "Knuckle Curve         0.021896\n",
       "Splitter              0.017214\n",
       "Knuckleball           0.004042\n",
       "Name: pitch_type, dtype: float64"
      ]
     },
     "execution_count": 64,
     "metadata": {},
     "output_type": "execute_result"
    }
   ],
   "source": [
    "# sanity check\n",
    "\n",
    "df['pitch_type'].value_counts(normalize=True)"
   ]
  },
  {
   "cell_type": "markdown",
   "metadata": {},
   "source": [
    "The dependent variable is the outcome of the at bat, which is provided in the event column."
   ]
  },
  {
   "cell_type": "code",
   "execution_count": 65,
   "metadata": {},
   "outputs": [
    {
     "data": {
      "text/plain": [
       "Strikeout               156539\n",
       "Groundout               134485\n",
       "Single                  108422\n",
       "Flyout                   80482\n",
       "Walk                     56720\n",
       "Lineout                  44795\n",
       "Pop Out                  34341\n",
       "Double                   33060\n",
       "Home Run                 22149\n",
       "Forceout                 15064\n",
       "Grounded Into DP         14671\n",
       "Hit By Pitch              6913\n",
       "Field Error               6374\n",
       "Sac Fly                   4760\n",
       "Sac Bunt                  3936\n",
       "Triple                    3443\n",
       "Double Play               1801\n",
       "Runner Out                1562\n",
       "Bunt Groundout            1247\n",
       "Fielders Choice Out       1247\n",
       "Strikeout - DP             576\n",
       "Bunt Pop Out               567\n",
       "Fielders Choice            395\n",
       "Batter Interference        156\n",
       "Catcher Interference       150\n",
       "Sac Fly DP                  76\n",
       "Bunt Lineout                52\n",
       "Triple Play                 20\n",
       "Sacrifice Bunt DP            4\n",
       "Name: event, dtype: int64"
      ]
     },
     "execution_count": 65,
     "metadata": {},
     "output_type": "execute_result"
    }
   ],
   "source": [
    "df['event'].value_counts()"
   ]
  },
  {
   "cell_type": "markdown",
   "metadata": {},
   "source": [
    "I want to focus on outcomes that are related directly to an at bat's final pitch, but there are some events given that can be considered unrelated to the specific pitch.  Those rows, therefore, can be removed.  Looking at the list, I'm also going to remove the events that were documented fewer than 10 times.  Some of these are not very clear, and they don't add enough weight to the problem anyway."
   ]
  },
  {
   "cell_type": "code",
   "execution_count": 66,
   "metadata": {},
   "outputs": [],
   "source": [
    "# create a list of events that aren't affected by the pitch\n",
    "\n",
    "drop_events = ['Batter Interference', 'Catcher Interference', 'Caught Stealing 2B',\n",
    "               'Pickoff Caught Stealing 2B', 'Fan Interference', 'Pickoff 1B',\n",
    "               'Caught Stealing Home', 'Caught Stealing 3B', 'Pickoff 2B',\n",
    "               'Sacrifice Bunt DP', 'Wild Pitch', 'Pickoff Caught Stealing Home',\n",
    "               'Pickoff 3B', 'Runner Double Play', 'Sac Bunt Double Play',\n",
    "               'Game Advisory', 'Intent Walk', 'Pickoff Caught Stealing 3B',\n",
    "               'Passed Ball', 'Stolen Base 2B', 'Pickoff Error 1B']"
   ]
  },
  {
   "cell_type": "code",
   "execution_count": 67,
   "metadata": {},
   "outputs": [],
   "source": [
    "# drop rows with events in drop_events\n",
    "\n",
    "df = df.drop(df[df['event'].isin(drop_events)].index)\n",
    "df = df.reset_index(drop=True)"
   ]
  },
  {
   "cell_type": "code",
   "execution_count": 68,
   "metadata": {},
   "outputs": [
    {
     "data": {
      "text/plain": [
       "Strikeout              156539\n",
       "Groundout              134485\n",
       "Single                 108422\n",
       "Flyout                  80482\n",
       "Walk                    56720\n",
       "Lineout                 44795\n",
       "Pop Out                 34341\n",
       "Double                  33060\n",
       "Home Run                22149\n",
       "Forceout                15064\n",
       "Grounded Into DP        14671\n",
       "Hit By Pitch             6913\n",
       "Field Error              6374\n",
       "Sac Fly                  4760\n",
       "Sac Bunt                 3936\n",
       "Triple                   3443\n",
       "Double Play              1801\n",
       "Runner Out               1562\n",
       "Bunt Groundout           1247\n",
       "Fielders Choice Out      1247\n",
       "Strikeout - DP            576\n",
       "Bunt Pop Out              567\n",
       "Fielders Choice           395\n",
       "Sac Fly DP                 76\n",
       "Bunt Lineout               52\n",
       "Triple Play                20\n",
       "Name: event, dtype: int64"
      ]
     },
     "execution_count": 68,
     "metadata": {},
     "output_type": "execute_result"
    }
   ],
   "source": [
    "df['event'].value_counts()"
   ]
  },
  {
   "cell_type": "markdown",
   "metadata": {},
   "source": [
    "The pitcher's goal is to get outs, so I'll break down the event variable into those that result in outs and those that don't.  One exception is the 'Field Error' event, which I will identify as an out result since the only reason an out wasn't recorded (according to the official scorer) in such an event was the defense of the pitcher's team and not the pitch itself.  The result of the pitch should have been an out."
   ]
  },
  {
   "cell_type": "code",
   "execution_count": 69,
   "metadata": {},
   "outputs": [],
   "source": [
    "# create a list of events that do not result in an out\n",
    "\n",
    "no_out = ['Single', 'Walk', 'Double', 'Home Run', 'Hit By Pitch', 'Triple']"
   ]
  },
  {
   "cell_type": "code",
   "execution_count": 70,
   "metadata": {},
   "outputs": [],
   "source": [
    "# create numerical categories for out or no out\n",
    "\n",
    "def out_made(event):\n",
    "    if event in no_out:\n",
    "        return 0\n",
    "    else:\n",
    "        return 1"
   ]
  },
  {
   "cell_type": "code",
   "execution_count": 71,
   "metadata": {},
   "outputs": [
    {
     "data": {
      "text/plain": [
       "1    0.685555\n",
       "0    0.314445\n",
       "Name: out_made, dtype: float64"
      ]
     },
     "execution_count": 71,
     "metadata": {},
     "output_type": "execute_result"
    }
   ],
   "source": [
    "# add new column\n",
    "\n",
    "df['out_made'] = df['event'].apply(out_made)\n",
    "\n",
    "df['out_made'].value_counts(normalize=True)"
   ]
  },
  {
   "cell_type": "markdown",
   "metadata": {},
   "source": [
    "I want to look at how the speed of the pitch may influence the likelihood of making an out."
   ]
  },
  {
   "cell_type": "code",
   "execution_count": 72,
   "metadata": {},
   "outputs": [],
   "source": [
    "# split the DataFrame into outs and no outs\n",
    "\n",
    "df_out = df[df['out_made'] == 1]\n",
    "df_out = df_out.reset_index(drop=True)\n",
    "\n",
    "df_no_out = df[df['out_made'] == 0]\n",
    "df_no_out = df_no_out.reset_index(drop=True)"
   ]
  },
  {
   "cell_type": "code",
   "execution_count": 73,
   "metadata": {},
   "outputs": [
    {
     "data": {
      "text/plain": [
       "(88.30201216723991, 5.902443454117017)"
      ]
     },
     "execution_count": 73,
     "metadata": {},
     "output_type": "execute_result"
    }
   ],
   "source": [
    "df_out['start_speed'].mean(), df_out['start_speed'].std()"
   ]
  },
  {
   "cell_type": "code",
   "execution_count": 74,
   "metadata": {},
   "outputs": [
    {
     "data": {
      "text/plain": [
       "(89.04677101258308, 5.640379974238034)"
      ]
     },
     "execution_count": 74,
     "metadata": {},
     "output_type": "execute_result"
    }
   ],
   "source": [
    "df_no_out['start_speed'].mean(), df_no_out['start_speed'].std()"
   ]
  },
  {
   "cell_type": "code",
   "execution_count": 75,
   "metadata": {},
   "outputs": [
    {
     "data": {
      "image/png": "[encoded data removed]",
      "text/plain": [
       "<Figure size 1008x504 with 2 Axes>"
      ]
     },
     "metadata": {},
     "output_type": "display_data"
    }
   ],
   "source": [
    "# plot the histograms\n",
    "\n",
    "sns.set_theme()\n",
    "\n",
    "x_out = df_out['start_speed']\n",
    "x_no_out = df_no_out['start_speed']\n",
    "\n",
    "fig, ax = plt.subplots(1, 2, sharey=True, figsize=(14,7))\n",
    "ax[0].hist(x_out, bins=50)\n",
    "ax[1].hist(x_no_out, bins=50)\n",
    "ax[0].set_title('Outs', fontsize=20)\n",
    "ax[1].set_title('No Outs', fontsize=20)\n",
    "ax[0].set_ylabel('Count', fontsize=14)\n",
    "ax[0].set_xlabel('Pitch Speed (mph)', fontsize=14)\n",
    "ax[1].set_xlabel('Pitch Speed (mph)', fontsize=14)\n",
    "ax[0].set_xlim(55, 100)\n",
    "ax[1].set_xlim(55, 100)\n",
    "ax[0].set_xticks(ticks=np.arange(55, 110, 5))\n",
    "ax[1].set_xticks(ticks=np.arange(55, 110, 5));"
   ]
  },
  {
   "cell_type": "markdown",
   "metadata": {},
   "source": [
    "There is no real difference in getting outs when it comes to pitch speed alone.  \n",
    "\n",
    "Let's see how spin rate looks."
   ]
  },
  {
   "cell_type": "code",
   "execution_count": 76,
   "metadata": {},
   "outputs": [
    {
     "data": {
      "text/plain": [
       "(1688.0951689377523, 689.2428735507207)"
      ]
     },
     "execution_count": 76,
     "metadata": {},
     "output_type": "execute_result"
    }
   ],
   "source": [
    "df_out['spin_rate'].mean(), df_out['spin_rate'].std()"
   ]
  },
  {
   "cell_type": "code",
   "execution_count": 77,
   "metadata": {},
   "outputs": [
    {
     "data": {
      "text/plain": [
       "(1772.3742176223527, 658.0080875913823)"
      ]
     },
     "execution_count": 77,
     "metadata": {},
     "output_type": "execute_result"
    }
   ],
   "source": [
    "df_no_out['spin_rate'].mean(), df_no_out['spin_rate'].std()"
   ]
  },
  {
   "cell_type": "code",
   "execution_count": 78,
   "metadata": {},
   "outputs": [
    {
     "data": {
      "image/png": "[encoded data removed]",
      "text/plain": [
       "<Figure size 1008x504 with 2 Axes>"
      ]
     },
     "metadata": {},
     "output_type": "display_data"
    }
   ],
   "source": [
    "# plot the histograms\n",
    "\n",
    "x_out = df_out['spin_rate']\n",
    "x_no_out = df_no_out['spin_rate']\n",
    "\n",
    "fig, ax = plt.subplots(1, 2, sharey=True, figsize=(14,7))\n",
    "ax[0].hist(x_out, bins=50)\n",
    "ax[1].hist(x_no_out, bins=50)\n",
    "ax[0].set_title('Outs', fontsize=20)\n",
    "ax[1].set_title('No Outs', fontsize=20)\n",
    "ax[0].set_ylabel('Count', fontsize=14)\n",
    "ax[0].set_xlabel('Spin Rate (rpm)', fontsize=14)\n",
    "ax[1].set_xlabel('Spin Rate (rpm)', fontsize=14)\n",
    "ax[0].set_xlim(0, 4000)\n",
    "ax[1].set_xlim(0, 4000);"
   ]
  },
  {
   "cell_type": "markdown",
   "metadata": {},
   "source": [
    "Like the speed of the pitch, the spin rate on its own doesn't meaningfully help in predicitng an out."
   ]
  },
  {
   "cell_type": "markdown",
   "metadata": {},
   "source": [
    "For the top ten most frequent pitch types, how do they rank in terms of getting outs?  If out_made = 1  is an out and out_made = 0 is an event without an out, the higher the mean of those values, the more often the pitch leads to an out."
   ]
  },
  {
   "cell_type": "code",
   "execution_count": 79,
   "metadata": {},
   "outputs": [],
   "source": [
    "pitch_success = df.groupby(\"pitch_type\")[\"out_made\"].mean().sort_values(ascending = False)"
   ]
  },
  {
   "cell_type": "code",
   "execution_count": 80,
   "metadata": {},
   "outputs": [
    {
     "data": {
      "text/plain": [
       "pitch_type\n",
       "Curveball             0.749964\n",
       "Knuckle Curve         0.744539\n",
       "Slider                0.742258\n",
       "Splitter              0.738600\n",
       "Changeup              0.715898\n",
       "Knuckleball           0.696326\n",
       "Cutter                0.694577\n",
       "Four-seam Fastball    0.654082\n",
       "Sinker                0.644836\n",
       "Two-seam Fastball     0.639259\n",
       "Name: out_made, dtype: float64"
      ]
     },
     "execution_count": 80,
     "metadata": {},
     "output_type": "execute_result"
    }
   ],
   "source": [
    "pitch_success"
   ]
  },
  {
   "cell_type": "code",
   "execution_count": 81,
   "metadata": {},
   "outputs": [
    {
     "data": {
      "image/png": "[encoded data removed]",
      "text/plain": [
       "<Figure size 432x288 with 1 Axes>"
      ]
     },
     "metadata": {},
     "output_type": "display_data"
    }
   ],
   "source": [
    "# plot the pitch types in order of their ratios of events with outs vs no outs\n",
    "\n",
    "pitch_success.plot(kind = \"barh\")\n",
    "plt.gca().invert_yaxis()\n",
    "plt.xlabel(\"Outs\")\n",
    "plt.ylabel(\"Pitch Type\")\n",
    "plt.title(\"Out Ratio by Pitch Type\")\n",
    "plt.xticks(np.arange(0, 1, 0.1))\n",
    "plt.grid(axis = 'x')\n",
    "plt.show()"
   ]
  },
  {
   "cell_type": "code",
   "execution_count": 82,
   "metadata": {},
   "outputs": [
    {
     "data": {
      "text/plain": [
       "pitch_type          out_made\n",
       "Changeup            1           0.715898\n",
       "                    0           0.284102\n",
       "Curveball           1           0.749964\n",
       "                    0           0.250036\n",
       "Cutter              1           0.694577\n",
       "                    0           0.305423\n",
       "Four-seam Fastball  1           0.654082\n",
       "                    0           0.345918\n",
       "Knuckle Curve       1           0.744539\n",
       "                    0           0.255461\n",
       "Knuckleball         1           0.696326\n",
       "                    0           0.303674\n",
       "Sinker              1           0.644836\n",
       "                    0           0.355164\n",
       "Slider              1           0.742258\n",
       "                    0           0.257742\n",
       "Splitter            1           0.738600\n",
       "                    0           0.261400\n",
       "Two-seam Fastball   1           0.639259\n",
       "                    0           0.360741\n",
       "Name: out_made, dtype: float64"
      ]
     },
     "execution_count": 82,
     "metadata": {},
     "output_type": "execute_result"
    }
   ],
   "source": [
    "df.groupby('pitch_type').out_made.value_counts(normalize=True)"
   ]
  },
  {
   "cell_type": "code",
   "execution_count": 83,
   "metadata": {},
   "outputs": [
    {
     "data": {
      "image/png": "[encoded data removed]",
      "text/plain": [
       "<Figure size 1440x432 with 1 Axes>"
      ]
     },
     "metadata": {},
     "output_type": "display_data"
    }
   ],
   "source": [
    "sns.set(rc={'figure.figsize':(20,6)})\n",
    "sns.histplot(x=df['pitch_type'], y=df['out_made']);"
   ]
  },
  {
   "cell_type": "code",
   "execution_count": 84,
   "metadata": {},
   "outputs": [
    {
     "data": {
      "image/png": "[encoded data removed]",
      "text/plain": [
       "<Figure size 1296x504 with 1 Axes>"
      ]
     },
     "metadata": {},
     "output_type": "display_data"
    }
   ],
   "source": [
    "#sns.set(color_codes=True)\n",
    "fig, ax = plt.subplots(figsize=(18, 7))\n",
    "\n",
    "x = 'pitch_type'\n",
    "y = 'out_made'\n",
    "\n",
    "(df\n",
    ".groupby(x)[y]\n",
    ".value_counts(normalize=True).sort_values()\n",
    ".mul(100)\n",
    ".rename('percent')\n",
    ".reset_index()\n",
    ".pipe((sns.barplot,'data'), ax=ax,x=x,y='percent',hue=y));"
   ]
  },
  {
   "cell_type": "markdown",
   "metadata": {},
   "source": [
    "From the 10 most frequently used pitches, I want to use the 5 of them with the highest ratio of getting outs for the model."
   ]
  },
  {
   "cell_type": "code",
   "execution_count": 85,
   "metadata": {},
   "outputs": [
    {
     "name": "stdout",
     "output_type": "stream",
     "text": [
      "<class 'pandas.core.frame.DataFrame'>\n",
      "RangeIndex: 283887 entries, 0 to 283886\n",
      "Data columns (total 26 columns):\n",
      " #   Column        Non-Null Count   Dtype  \n",
      "---  ------        --------------   -----  \n",
      " 0   inning        283887 non-null  int64  \n",
      " 1   ab_id         283887 non-null  object \n",
      " 2   g_id          283887 non-null  int64  \n",
      " 3   batter_id     283887 non-null  int64  \n",
      " 4   pitcher_id    283887 non-null  int64  \n",
      " 5   stand         283887 non-null  object \n",
      " 6   p_throws      283887 non-null  object \n",
      " 7   event         283887 non-null  object \n",
      " 8   horiz_loc     283887 non-null  float64\n",
      " 9   vert_loc      283887 non-null  float64\n",
      " 10  start_speed   283887 non-null  float64\n",
      " 11  end_speed     283887 non-null  float64\n",
      " 12  spin_rate     283887 non-null  float64\n",
      " 13  spin_dir      283887 non-null  float64\n",
      " 14  break_angle   283887 non-null  float64\n",
      " 15  break_length  283887 non-null  float64\n",
      " 16  break_y       283887 non-null  float64\n",
      " 17  pitch_type    283887 non-null  object \n",
      " 18  b_count       283887 non-null  float64\n",
      " 19  s_count       283887 non-null  float64\n",
      " 20  outs          283887 non-null  float64\n",
      " 21  pitch_num     283887 non-null  float64\n",
      " 22  on_1b         283887 non-null  float64\n",
      " 23  on_2b         283887 non-null  float64\n",
      " 24  on_3b         283887 non-null  float64\n",
      " 25  out_made      283887 non-null  int64  \n",
      "dtypes: float64(16), int64(5), object(5)\n",
      "memory usage: 56.3+ MB\n"
     ]
    }
   ],
   "source": [
    "# keep the observations with the pitch types getting the highest percentage of outs\n",
    "\n",
    "pitch_best_5 = ['Curveball', 'Knuckle Curve', 'Splitter', 'Slider', 'Changeup']\n",
    "\n",
    "df = df[df['pitch_type'].isin(pitch_best_5)]\n",
    "df = df.reset_index(drop=True)\n",
    "\n",
    "df.info()"
   ]
  },
  {
   "cell_type": "code",
   "execution_count": 86,
   "metadata": {},
   "outputs": [
    {
     "data": {
      "text/plain": [
       "1    0.736268\n",
       "0    0.263732\n",
       "Name: out_made, dtype: float64"
      ]
     },
     "execution_count": 86,
     "metadata": {},
     "output_type": "execute_result"
    }
   ],
   "source": [
    "# check new results of outs made or not with these 5 pitch types\n",
    "\n",
    "df['out_made'].value_counts(normalize=True)"
   ]
  },
  {
   "cell_type": "code",
   "execution_count": 87,
   "metadata": {},
   "outputs": [
    {
     "data": {
      "image/png": "[encoded data removed]",
      "text/plain": [
       "<Figure size 864x432 with 1 Axes>"
      ]
     },
     "metadata": {},
     "output_type": "display_data"
    }
   ],
   "source": [
    "sns.set(rc={'figure.figsize':(12,6)})\n",
    "sns.histplot(x=df['pitch_type'], y=df['out_made'])\n",
    "sns.set(rc={'figure.figsize':(5,5)});"
   ]
  },
  {
   "cell_type": "markdown",
   "metadata": {},
   "source": [
    "## Modeling"
   ]
  },
  {
   "cell_type": "markdown",
   "metadata": {},
   "source": [
    "### Baseline Model"
   ]
  },
  {
   "cell_type": "markdown",
   "metadata": {},
   "source": [
    "The baseline model is a dummy classifier using all other variables to predict out_made."
   ]
  },
  {
   "cell_type": "code",
   "execution_count": 88,
   "metadata": {},
   "outputs": [],
   "source": [
    "# define X and y and perform train test split with 20% in test set\n",
    "\n",
    "X = df.drop(['out_made'], axis=1)\n",
    "y = df['out_made']\n",
    "\n",
    "X_train, X_test, y_train, y_test = train_test_split(X, y, test_size=0.2, random_state=1)"
   ]
  },
  {
   "cell_type": "code",
   "execution_count": 89,
   "metadata": {},
   "outputs": [
    {
     "data": {
      "text/html": [
       "<style>#sk-container-id-1 {color: black;}#sk-container-id-1 pre{padding: 0;}#sk-container-id-1 div.sk-toggleable {background-color: white;}#sk-container-id-1 label.sk-toggleable__label {cursor: pointer;display: block;width: 100%;margin-bottom: 0;padding: 0.3em;box-sizing: border-box;text-align: center;}#sk-container-id-1 label.sk-toggleable__label-arrow:before {content: \"▸\";float: left;margin-right: 0.25em;color: #696969;}#sk-container-id-1 label.sk-toggleable__label-arrow:hover:before {color: black;}#sk-container-id-1 div.sk-estimator:hover label.sk-toggleable__label-arrow:before {color: black;}#sk-container-id-1 div.sk-toggleable__content {max-height: 0;max-width: 0;overflow: hidden;text-align: left;background-color: #f0f8ff;}#sk-container-id-1 div.sk-toggleable__content pre {margin: 0.2em;color: black;border-radius: 0.25em;background-color: #f0f8ff;}#sk-container-id-1 input.sk-toggleable__control:checked~div.sk-toggleable__content {max-height: 200px;max-width: 100%;overflow: auto;}#sk-container-id-1 input.sk-toggleable__control:checked~label.sk-toggleable__label-arrow:before {content: \"▾\";}#sk-container-id-1 div.sk-estimator input.sk-toggleable__control:checked~label.sk-toggleable__label {background-color: #d4ebff;}#sk-container-id-1 div.sk-label input.sk-toggleable__control:checked~label.sk-toggleable__label {background-color: #d4ebff;}#sk-container-id-1 input.sk-hidden--visually {border: 0;clip: rect(1px 1px 1px 1px);clip: rect(1px, 1px, 1px, 1px);height: 1px;margin: -1px;overflow: hidden;padding: 0;position: absolute;width: 1px;}#sk-container-id-1 div.sk-estimator {font-family: monospace;background-color: #f0f8ff;border: 1px dotted black;border-radius: 0.25em;box-sizing: border-box;margin-bottom: 0.5em;}#sk-container-id-1 div.sk-estimator:hover {background-color: #d4ebff;}#sk-container-id-1 div.sk-parallel-item::after {content: \"\";width: 100%;border-bottom: 1px solid gray;flex-grow: 1;}#sk-container-id-1 div.sk-label:hover label.sk-toggleable__label {background-color: #d4ebff;}#sk-container-id-1 div.sk-serial::before {content: \"\";position: absolute;border-left: 1px solid gray;box-sizing: border-box;top: 0;bottom: 0;left: 50%;z-index: 0;}#sk-container-id-1 div.sk-serial {display: flex;flex-direction: column;align-items: center;background-color: white;padding-right: 0.2em;padding-left: 0.2em;position: relative;}#sk-container-id-1 div.sk-item {position: relative;z-index: 1;}#sk-container-id-1 div.sk-parallel {display: flex;align-items: stretch;justify-content: center;background-color: white;position: relative;}#sk-container-id-1 div.sk-item::before, #sk-container-id-1 div.sk-parallel-item::before {content: \"\";position: absolute;border-left: 1px solid gray;box-sizing: border-box;top: 0;bottom: 0;left: 50%;z-index: -1;}#sk-container-id-1 div.sk-parallel-item {display: flex;flex-direction: column;z-index: 1;position: relative;background-color: white;}#sk-container-id-1 div.sk-parallel-item:first-child::after {align-self: flex-end;width: 50%;}#sk-container-id-1 div.sk-parallel-item:last-child::after {align-self: flex-start;width: 50%;}#sk-container-id-1 div.sk-parallel-item:only-child::after {width: 0;}#sk-container-id-1 div.sk-dashed-wrapped {border: 1px dashed gray;margin: 0 0.4em 0.5em 0.4em;box-sizing: border-box;padding-bottom: 0.4em;background-color: white;}#sk-container-id-1 div.sk-label label {font-family: monospace;font-weight: bold;display: inline-block;line-height: 1.2em;}#sk-container-id-1 div.sk-label-container {text-align: center;}#sk-container-id-1 div.sk-container {/* jupyter's `normalize.less` sets `[hidden] { display: none; }` but bootstrap.min.css set `[hidden] { display: none !important; }` so we also need the `!important` here to be able to override the default hidden behavior on the sphinx rendered scikit-learn.org. See: https://github.com/scikit-learn/scikit-learn/issues/21755 */display: inline-block !important;position: relative;}#sk-container-id-1 div.sk-text-repr-fallback {display: none;}</style><div id=\"sk-container-id-1\" class=\"sk-top-container\"><div class=\"sk-text-repr-fallback\"><pre>DummyClassifier(strategy=&#x27;most_frequent&#x27;)</pre><b>In a Jupyter environment, please rerun this cell to show the HTML representation or trust the notebook. <br />On GitHub, the HTML representation is unable to render, please try loading this page with nbviewer.org.</b></div><div class=\"sk-container\" hidden><div class=\"sk-item\"><div class=\"sk-estimator sk-toggleable\"><input class=\"sk-toggleable__control sk-hidden--visually\" id=\"sk-estimator-id-1\" type=\"checkbox\" checked><label for=\"sk-estimator-id-1\" class=\"sk-toggleable__label sk-toggleable__label-arrow\">DummyClassifier</label><div class=\"sk-toggleable__content\"><pre>DummyClassifier(strategy=&#x27;most_frequent&#x27;)</pre></div></div></div></div></div>"
      ],
      "text/plain": [
       "DummyClassifier(strategy='most_frequent')"
      ]
     },
     "execution_count": 89,
     "metadata": {},
     "output_type": "execute_result"
    }
   ],
   "source": [
    "# instantiate and fit the model on train set\n",
    "\n",
    "base_model = DummyClassifier(strategy='most_frequent')\n",
    "base_model.fit(X_train, y_train)"
   ]
  },
  {
   "cell_type": "code",
   "execution_count": 90,
   "metadata": {},
   "outputs": [
    {
     "name": "stdout",
     "output_type": "stream",
     "text": [
      "Accuracy: 73.50029941174398\n"
     ]
    }
   ],
   "source": [
    "# predict y and find accuracy on test data\n",
    "\n",
    "y_pred = base_model.predict(X_test)\n",
    "\n",
    "acc_base = accuracy_score(y_test, y_pred) * 100\n",
    "print(\"Accuracy: {0}\".format(acc_base))"
   ]
  },
  {
   "cell_type": "code",
   "execution_count": 91,
   "metadata": {},
   "outputs": [
    {
     "data": {
      "image/png": "[encoded data removed]",
      "text/plain": [
       "<Figure size 360x360 with 2 Axes>"
      ]
     },
     "metadata": {},
     "output_type": "display_data"
    }
   ],
   "source": [
    "# plot confusion matrix\n",
    "\n",
    "cm = confusion_matrix(y_test, y_pred, labels=base_model.classes_)\n",
    "cm_disp = ConfusionMatrixDisplay(confusion_matrix=cm, display_labels=base_model.classes_)\n",
    "fig, ax = plt.subplots(figsize=(5, 5))\n",
    "ax.grid(False)\n",
    "cm_disp.plot(ax=ax);"
   ]
  },
  {
   "cell_type": "code",
   "execution_count": 92,
   "metadata": {},
   "outputs": [
    {
     "name": "stdout",
     "output_type": "stream",
     "text": [
      "Accuracy: 50.0\n"
     ]
    }
   ],
   "source": [
    "# check ROC-AUC score\n",
    "\n",
    "roc_auc = roc_auc_score(y_test, y_pred) * 100\n",
    "print(\"Accuracy: {0}\".format(roc_auc))"
   ]
  },
  {
   "cell_type": "code",
   "execution_count": 93,
   "metadata": {},
   "outputs": [
    {
     "data": {
      "image/png": "[encoded data removed]",
      "text/plain": [
       "<Figure size 360x360 with 1 Axes>"
      ]
     },
     "metadata": {},
     "output_type": "display_data"
    }
   ],
   "source": [
    "RocCurveDisplay.from_predictions(y_test, y_pred)\n",
    "plt.show()"
   ]
  },
  {
   "cell_type": "markdown",
   "metadata": {},
   "source": [
    "### Decision Tree"
   ]
  },
  {
   "cell_type": "markdown",
   "metadata": {},
   "source": [
    "The first model is a decision tree to try to see which independent variables are most important in predicting outs.  In addition to the pitch type, I want to consider the following variables: horiz_loc, vert_loc, start_speed, spin_rate, and spin_dir."
   ]
  },
  {
   "cell_type": "code",
   "execution_count": 94,
   "metadata": {},
   "outputs": [],
   "source": [
    "# create DataFrame of only the columns to use in model\n",
    "\n",
    "df_model = df[['pitch_type', 'horiz_loc', 'vert_loc', 'start_speed', 'spin_rate', 'spin_dir', 'out_made']]"
   ]
  },
  {
   "cell_type": "code",
   "execution_count": 95,
   "metadata": {},
   "outputs": [
    {
     "name": "stdout",
     "output_type": "stream",
     "text": [
      "<class 'pandas.core.frame.DataFrame'>\n",
      "RangeIndex: 283887 entries, 0 to 283886\n",
      "Data columns (total 7 columns):\n",
      " #   Column       Non-Null Count   Dtype  \n",
      "---  ------       --------------   -----  \n",
      " 0   pitch_type   283887 non-null  object \n",
      " 1   horiz_loc    283887 non-null  float64\n",
      " 2   vert_loc     283887 non-null  float64\n",
      " 3   start_speed  283887 non-null  float64\n",
      " 4   spin_rate    283887 non-null  float64\n",
      " 5   spin_dir     283887 non-null  float64\n",
      " 6   out_made     283887 non-null  int64  \n",
      "dtypes: float64(5), int64(1), object(1)\n",
      "memory usage: 15.2+ MB\n"
     ]
    }
   ],
   "source": [
    "df_model.info()"
   ]
  },
  {
   "cell_type": "code",
   "execution_count": 96,
   "metadata": {},
   "outputs": [
    {
     "data": {
      "text/plain": [
       "<283887x5 sparse matrix of type '<class 'numpy.float64'>'\n",
       "\twith 283887 stored elements in Compressed Sparse Row format>"
      ]
     },
     "execution_count": 96,
     "metadata": {},
     "output_type": "execute_result"
    }
   ],
   "source": [
    "# one hot encoder for the pitch_type variable\n",
    "\n",
    "#train_encoded = X_train_dt[['pitch_type']]\n",
    "#test_encoded = X_test_dt[['pitch_type']]\n",
    "ohe = OneHotEncoder(handle_unknown='ignore')\n",
    "df_encoded = ohe.fit_transform(df_model[['pitch_type']])\n",
    "#X_test_dt_encoded = ohe.transform(test_encoded)\n",
    "\n",
    "df_encoded\n"
   ]
  },
  {
   "cell_type": "code",
   "execution_count": 97,
   "metadata": {},
   "outputs": [],
   "source": [
    "ohe_df = pd.DataFrame(df_encoded.todense(), columns=ohe.get_feature_names_out(), index=df_model.index)\n",
    "#ohe_df"
   ]
  },
  {
   "cell_type": "code",
   "execution_count": 98,
   "metadata": {},
   "outputs": [],
   "source": [
    "# replace the pitch type column with the encoded columns for pitch types\n",
    "\n",
    "df_model_ohe = df_model.drop('pitch_type', axis=1)\n",
    "df_model_ohe = pd.concat([df_model_ohe, ohe_df], axis=1)\n",
    "#df_model_ohe"
   ]
  },
  {
   "cell_type": "code",
   "execution_count": 99,
   "metadata": {},
   "outputs": [],
   "source": [
    "# define X and y and perform train test split with 20% in test set\n",
    "\n",
    "X_dt = df_model_ohe.drop('out_made', axis=1)\n",
    "y_dt = df_model_ohe['out_made']\n",
    "\n",
    "X_train_dt, X_test_dt, y_train_dt, y_test_dt = train_test_split(X_dt, y_dt, test_size=0.2, random_state=2)"
   ]
  },
  {
   "cell_type": "code",
   "execution_count": 100,
   "metadata": {},
   "outputs": [
    {
     "data": {
      "text/html": [
       "<style>#sk-container-id-2 {color: black;}#sk-container-id-2 pre{padding: 0;}#sk-container-id-2 div.sk-toggleable {background-color: white;}#sk-container-id-2 label.sk-toggleable__label {cursor: pointer;display: block;width: 100%;margin-bottom: 0;padding: 0.3em;box-sizing: border-box;text-align: center;}#sk-container-id-2 label.sk-toggleable__label-arrow:before {content: \"▸\";float: left;margin-right: 0.25em;color: #696969;}#sk-container-id-2 label.sk-toggleable__label-arrow:hover:before {color: black;}#sk-container-id-2 div.sk-estimator:hover label.sk-toggleable__label-arrow:before {color: black;}#sk-container-id-2 div.sk-toggleable__content {max-height: 0;max-width: 0;overflow: hidden;text-align: left;background-color: #f0f8ff;}#sk-container-id-2 div.sk-toggleable__content pre {margin: 0.2em;color: black;border-radius: 0.25em;background-color: #f0f8ff;}#sk-container-id-2 input.sk-toggleable__control:checked~div.sk-toggleable__content {max-height: 200px;max-width: 100%;overflow: auto;}#sk-container-id-2 input.sk-toggleable__control:checked~label.sk-toggleable__label-arrow:before {content: \"▾\";}#sk-container-id-2 div.sk-estimator input.sk-toggleable__control:checked~label.sk-toggleable__label {background-color: #d4ebff;}#sk-container-id-2 div.sk-label input.sk-toggleable__control:checked~label.sk-toggleable__label {background-color: #d4ebff;}#sk-container-id-2 input.sk-hidden--visually {border: 0;clip: rect(1px 1px 1px 1px);clip: rect(1px, 1px, 1px, 1px);height: 1px;margin: -1px;overflow: hidden;padding: 0;position: absolute;width: 1px;}#sk-container-id-2 div.sk-estimator {font-family: monospace;background-color: #f0f8ff;border: 1px dotted black;border-radius: 0.25em;box-sizing: border-box;margin-bottom: 0.5em;}#sk-container-id-2 div.sk-estimator:hover {background-color: #d4ebff;}#sk-container-id-2 div.sk-parallel-item::after {content: \"\";width: 100%;border-bottom: 1px solid gray;flex-grow: 1;}#sk-container-id-2 div.sk-label:hover label.sk-toggleable__label {background-color: #d4ebff;}#sk-container-id-2 div.sk-serial::before {content: \"\";position: absolute;border-left: 1px solid gray;box-sizing: border-box;top: 0;bottom: 0;left: 50%;z-index: 0;}#sk-container-id-2 div.sk-serial {display: flex;flex-direction: column;align-items: center;background-color: white;padding-right: 0.2em;padding-left: 0.2em;position: relative;}#sk-container-id-2 div.sk-item {position: relative;z-index: 1;}#sk-container-id-2 div.sk-parallel {display: flex;align-items: stretch;justify-content: center;background-color: white;position: relative;}#sk-container-id-2 div.sk-item::before, #sk-container-id-2 div.sk-parallel-item::before {content: \"\";position: absolute;border-left: 1px solid gray;box-sizing: border-box;top: 0;bottom: 0;left: 50%;z-index: -1;}#sk-container-id-2 div.sk-parallel-item {display: flex;flex-direction: column;z-index: 1;position: relative;background-color: white;}#sk-container-id-2 div.sk-parallel-item:first-child::after {align-self: flex-end;width: 50%;}#sk-container-id-2 div.sk-parallel-item:last-child::after {align-self: flex-start;width: 50%;}#sk-container-id-2 div.sk-parallel-item:only-child::after {width: 0;}#sk-container-id-2 div.sk-dashed-wrapped {border: 1px dashed gray;margin: 0 0.4em 0.5em 0.4em;box-sizing: border-box;padding-bottom: 0.4em;background-color: white;}#sk-container-id-2 div.sk-label label {font-family: monospace;font-weight: bold;display: inline-block;line-height: 1.2em;}#sk-container-id-2 div.sk-label-container {text-align: center;}#sk-container-id-2 div.sk-container {/* jupyter's `normalize.less` sets `[hidden] { display: none; }` but bootstrap.min.css set `[hidden] { display: none !important; }` so we also need the `!important` here to be able to override the default hidden behavior on the sphinx rendered scikit-learn.org. See: https://github.com/scikit-learn/scikit-learn/issues/21755 */display: inline-block !important;position: relative;}#sk-container-id-2 div.sk-text-repr-fallback {display: none;}</style><div id=\"sk-container-id-2\" class=\"sk-top-container\"><div class=\"sk-text-repr-fallback\"><pre>DecisionTreeClassifier(max_depth=2, random_state=2)</pre><b>In a Jupyter environment, please rerun this cell to show the HTML representation or trust the notebook. <br />On GitHub, the HTML representation is unable to render, please try loading this page with nbviewer.org.</b></div><div class=\"sk-container\" hidden><div class=\"sk-item\"><div class=\"sk-estimator sk-toggleable\"><input class=\"sk-toggleable__control sk-hidden--visually\" id=\"sk-estimator-id-2\" type=\"checkbox\" checked><label for=\"sk-estimator-id-2\" class=\"sk-toggleable__label sk-toggleable__label-arrow\">DecisionTreeClassifier</label><div class=\"sk-toggleable__content\"><pre>DecisionTreeClassifier(max_depth=2, random_state=2)</pre></div></div></div></div></div>"
      ],
      "text/plain": [
       "DecisionTreeClassifier(max_depth=2, random_state=2)"
      ]
     },
     "execution_count": 100,
     "metadata": {},
     "output_type": "execute_result"
    }
   ],
   "source": [
    "# instantiate and fit model on the train set\n",
    "\n",
    "dt = DecisionTreeClassifier(max_depth=2, random_state=2)\n",
    "dt.fit(X_train_dt, y_train_dt)"
   ]
  },
  {
   "cell_type": "code",
   "execution_count": 101,
   "metadata": {},
   "outputs": [
    {
     "data": {
      "text/plain": [
       "0.7439071106825357"
      ]
     },
     "execution_count": 101,
     "metadata": {},
     "output_type": "execute_result"
    }
   ],
   "source": [
    "# check accuracy on the training data\n",
    "\n",
    "dt.score(X_train_dt, y_train_dt)"
   ]
  },
  {
   "cell_type": "code",
   "execution_count": 102,
   "metadata": {},
   "outputs": [
    {
     "name": "stdout",
     "output_type": "stream",
     "text": [
      "Accuracy: 74.06742047976329\n"
     ]
    }
   ],
   "source": [
    "# predict y and find accuracy on test data\n",
    "\n",
    "y_pred_dt = dt.predict(X_test_dt)\n",
    "\n",
    "acc_dt = accuracy_score(y_test_dt, y_pred_dt) * 100\n",
    "print(\"Accuracy: {0}\".format(acc_dt))"
   ]
  },
  {
   "cell_type": "markdown",
   "metadata": {},
   "source": [
    "The accuracy for the initial decision tree model didn't improve much over the dummy classifier."
   ]
  },
  {
   "cell_type": "code",
   "execution_count": 103,
   "metadata": {},
   "outputs": [
    {
     "name": "stdout",
     "output_type": "stream",
     "text": [
      "ROC-AUC score: 51.94345237487005\n"
     ]
    }
   ],
   "source": [
    "# check ROC-AUC score\n",
    "\n",
    "roc_auc = roc_auc_score(y_test_dt, y_pred_dt) * 100\n",
    "print(\"ROC-AUC score: {0}\".format(roc_auc))"
   ]
  },
  {
   "cell_type": "code",
   "execution_count": 104,
   "metadata": {},
   "outputs": [
    {
     "data": {
      "image/png": "[encoded data removed]",
      "text/plain": [
       "<Figure size 360x360 with 2 Axes>"
      ]
     },
     "metadata": {},
     "output_type": "display_data"
    }
   ],
   "source": [
    "# plot confusion matrix\n",
    "\n",
    "cm = confusion_matrix(y_test_dt, y_pred_dt, labels=dt.classes_)\n",
    "cm_disp = ConfusionMatrixDisplay(confusion_matrix=cm, display_labels=dt.classes_)\n",
    "fig, ax = plt.subplots(figsize=(5, 5))\n",
    "ax.grid(False)\n",
    "cm_disp.plot(ax=ax);"
   ]
  },
  {
   "cell_type": "markdown",
   "metadata": {},
   "source": [
    "Based on this matrix, the base decision tree model predicts almost all events to record an out, leading to a whole lot of false positives."
   ]
  },
  {
   "cell_type": "code",
   "execution_count": 105,
   "metadata": {},
   "outputs": [
    {
     "data": {
      "image/png": "[encoded data removed]",
      "text/plain": [
       "<Figure size 648x648 with 1 Axes>"
      ]
     },
     "metadata": {},
     "output_type": "display_data"
    }
   ],
   "source": [
    "# look at decision tree\n",
    "\n",
    "f, ax = plt.subplots(figsize=(9, 9))\n",
    "plot_tree(dt, ax=ax);"
   ]
  },
  {
   "cell_type": "markdown",
   "metadata": {},
   "source": [
    "I'll use GridSearch CV to adjust some hyperparameters to look for a better decision tree model."
   ]
  },
  {
   "cell_type": "code",
   "execution_count": 106,
   "metadata": {},
   "outputs": [],
   "source": [
    "# define X and y and perform train test split with 20% in test set\n",
    "\n",
    "X_dt = df_model_ohe.drop('out_made', axis=1)\n",
    "y_dt = df_model_ohe['out_made']\n",
    "\n",
    "X_train_dt_grid, X_test_dt_grid, y_train_dt_grid, y_test_dt_grid = train_test_split(X_dt, y_dt, test_size=0.2, random_state=3)"
   ]
  },
  {
   "cell_type": "code",
   "execution_count": 107,
   "metadata": {},
   "outputs": [],
   "source": [
    "# instantiate model\n",
    "\n",
    "dt_grid = DecisionTreeClassifier(random_state=3)"
   ]
  },
  {
   "cell_type": "code",
   "execution_count": 108,
   "metadata": {},
   "outputs": [],
   "source": [
    "# select parameters and instantiate GridSearchCV\n",
    "\n",
    "params = {'max_depth': [2, 5, 7],\n",
    "          'min_samples_split': [0.1, 0.3, 0.5],\n",
    "          'criterion': ['entropy', 'log_loss']}\n",
    "\n",
    "gs = GridSearchCV(estimator=dt_grid,\n",
    "                  param_grid = params,\n",
    "                  cv=5)"
   ]
  },
  {
   "cell_type": "code",
   "execution_count": 109,
   "metadata": {},
   "outputs": [
    {
     "data": {
      "text/plain": [
       "{'criterion': 'entropy', 'max_depth': 5, 'min_samples_split': 0.1}"
      ]
     },
     "execution_count": 109,
     "metadata": {},
     "output_type": "execute_result"
    }
   ],
   "source": [
    "# fit grid search on the train set and call the best parameters\n",
    "\n",
    "gs.fit(X_train_dt_grid, y_train_dt_grid)\n",
    "gs.best_params_"
   ]
  },
  {
   "cell_type": "code",
   "execution_count": 110,
   "metadata": {},
   "outputs": [
    {
     "data": {
      "text/plain": [
       "0.744188916911412"
      ]
     },
     "execution_count": 110,
     "metadata": {},
     "output_type": "execute_result"
    }
   ],
   "source": [
    "gs.cv_results_['mean_test_score'].max()"
   ]
  },
  {
   "cell_type": "code",
   "execution_count": 111,
   "metadata": {},
   "outputs": [
    {
     "data": {
      "text/plain": [
       "0.7448934212206474"
      ]
     },
     "execution_count": 111,
     "metadata": {},
     "output_type": "execute_result"
    }
   ],
   "source": [
    "# check accuracy on the training data\n",
    "\n",
    "gs.score(X_train_dt_grid, y_train_dt_grid)"
   ]
  },
  {
   "cell_type": "code",
   "execution_count": 112,
   "metadata": {},
   "outputs": [
    {
     "name": "stdout",
     "output_type": "stream",
     "text": [
      "Accuracy: 74.653915248864\n"
     ]
    }
   ],
   "source": [
    "# predict y and find accuracy on test data\n",
    "\n",
    "y_pred_dt_grid = gs.predict(X_test_dt_grid)\n",
    "\n",
    "acc_dt_grid = accuracy_score(y_test_dt_grid, y_pred_dt_grid) * 100\n",
    "print(\"Accuracy: {0}\".format(acc_dt_grid))"
   ]
  },
  {
   "cell_type": "markdown",
   "metadata": {},
   "source": [
    "Tuning the hyperparameters didn't increase the accuracy in a significant way."
   ]
  },
  {
   "cell_type": "code",
   "execution_count": 113,
   "metadata": {},
   "outputs": [
    {
     "name": "stdout",
     "output_type": "stream",
     "text": [
      "ROC-AUC score: 52.48635601743341\n"
     ]
    }
   ],
   "source": [
    "# check ROC-AUC score\n",
    "\n",
    "roc_auc = roc_auc_score(y_test_dt_grid, y_pred_dt_grid) * 100\n",
    "print(\"ROC-AUC score: {0}\".format(roc_auc))"
   ]
  },
  {
   "cell_type": "code",
   "execution_count": 114,
   "metadata": {},
   "outputs": [
    {
     "data": {
      "image/png": "[encoded data removed]",
      "text/plain": [
       "<Figure size 360x360 with 2 Axes>"
      ]
     },
     "metadata": {},
     "output_type": "display_data"
    }
   ],
   "source": [
    "# plot confusion matrix\n",
    "\n",
    "cm = confusion_matrix(y_test_dt_grid, y_pred_dt_grid, labels=gs.classes_)\n",
    "cm_disp = ConfusionMatrixDisplay(confusion_matrix=cm, display_labels=gs.classes_)\n",
    "fig, ax = plt.subplots(figsize=(5, 5))\n",
    "ax.grid(False)\n",
    "cm_disp.plot(ax=ax);"
   ]
  },
  {
   "cell_type": "markdown",
   "metadata": {},
   "source": [
    "It appears that a single decision tree doesn't increase the accuracy much at all.  Tuning the model doesn't significantly change its propensity to select a positive outcome."
   ]
  },
  {
   "cell_type": "markdown",
   "metadata": {},
   "source": [
    "### LightGBM Model"
   ]
  },
  {
   "cell_type": "code",
   "execution_count": 115,
   "metadata": {},
   "outputs": [],
   "source": [
    "# define X and y and perform train test split with 20% in test set\n",
    "\n",
    "X_lgbm = df_model_ohe.drop('out_made', axis=1)\n",
    "y_lgbm = df_model_ohe['out_made']\n",
    "\n",
    "X_train_lgbm, X_test_lgbm, y_train_lgbm, y_test_lgbm = train_test_split(X_lgbm, y_lgbm, test_size=0.2, random_state=4)"
   ]
  },
  {
   "cell_type": "code",
   "execution_count": 116,
   "metadata": {},
   "outputs": [],
   "source": [
    "# instantiate Light GBM model and set up GridSearchCV\n",
    "\n",
    "lgbm = LGBMClassifier(verbosity= -1, objective='binary', random_state=4)\n",
    "\n",
    "params_lgbm = [{'boosting': ['gbdt', 'goss'],\n",
    "                'learning_rate': [0.1, 0.05, 0.01],\n",
    "                'num_leaves': [31, 63, 127],\n",
    "                'min_data_in_leaf': [100, 800, 1500]}]\n",
    "\n",
    "gs = GridSearchCV(estimator=lgbm,\n",
    "                  param_grid = params_lgbm,\n",
    "                  cv=5)"
   ]
  },
  {
   "cell_type": "code",
   "execution_count": 117,
   "metadata": {},
   "outputs": [
    {
     "data": {
      "text/plain": [
       "{'boosting': 'gbdt',\n",
       " 'learning_rate': 0.05,\n",
       " 'min_data_in_leaf': 100,\n",
       " 'num_leaves': 63}"
      ]
     },
     "execution_count": 117,
     "metadata": {},
     "output_type": "execute_result"
    }
   ],
   "source": [
    "# fit grid search on the train set and call the best parameters\n",
    "\n",
    "gs.fit(X_train_lgbm, y_train_lgbm)\n",
    "gs.best_params_"
   ]
  },
  {
   "cell_type": "code",
   "execution_count": 118,
   "metadata": {},
   "outputs": [
    {
     "data": {
      "text/plain": [
       "0.7503137238755409"
      ]
     },
     "execution_count": 118,
     "metadata": {},
     "output_type": "execute_result"
    }
   ],
   "source": [
    "gs.cv_results_['mean_test_score'].max()"
   ]
  },
  {
   "cell_type": "code",
   "execution_count": 119,
   "metadata": {},
   "outputs": [
    {
     "data": {
      "text/plain": [
       "0.7519120774606026"
      ]
     },
     "execution_count": 119,
     "metadata": {},
     "output_type": "execute_result"
    }
   ],
   "source": [
    "# check accuracy on the training data\n",
    "\n",
    "gs.score(X_train_lgbm, y_train_lgbm)"
   ]
  },
  {
   "cell_type": "code",
   "execution_count": 120,
   "metadata": {},
   "outputs": [
    {
     "name": "stdout",
     "output_type": "stream",
     "text": [
      "Accuracy: 74.68561766881538\n"
     ]
    }
   ],
   "source": [
    "# predict y and find accuracy on test data\n",
    "\n",
    "y_pred_lgbm = gs.predict(X_test_lgbm)\n",
    "\n",
    "acc_lgbm = accuracy_score(y_test_lgbm, y_pred_lgbm) * 100\n",
    "print(\"Accuracy: {0}\".format(acc_lgbm))"
   ]
  },
  {
   "cell_type": "code",
   "execution_count": 121,
   "metadata": {},
   "outputs": [
    {
     "name": "stdout",
     "output_type": "stream",
     "text": [
      "ROC-AUC score: 53.27302696079831\n"
     ]
    }
   ],
   "source": [
    "# check ROC-AUC score\n",
    "\n",
    "roc_auc = roc_auc_score(y_test_lgbm, y_pred_lgbm) * 100\n",
    "print(\"ROC-AUC score: {0}\".format(roc_auc))"
   ]
  },
  {
   "cell_type": "code",
   "execution_count": 122,
   "metadata": {},
   "outputs": [
    {
     "data": {
      "image/png": "[encoded data removed]",
      "text/plain": [
       "<Figure size 360x360 with 2 Axes>"
      ]
     },
     "metadata": {},
     "output_type": "display_data"
    }
   ],
   "source": [
    "# plot confusion matrix\n",
    "\n",
    "cm = confusion_matrix(y_test_lgbm, y_pred_lgbm, labels=gs.classes_)\n",
    "cm_disp = ConfusionMatrixDisplay(confusion_matrix=cm, display_labels=gs.classes_)\n",
    "fig, ax = plt.subplots(figsize=(5, 5))\n",
    "ax.grid(False)\n",
    "cm_disp.plot(ax=ax);"
   ]
  },
  {
   "cell_type": "markdown",
   "metadata": {},
   "source": [
    "Using a tree based classification model isn't moving the accuracy of the predictions much at all."
   ]
  },
  {
   "cell_type": "markdown",
   "metadata": {},
   "source": [
    "### Logistic Regression"
   ]
  },
  {
   "cell_type": "markdown",
   "metadata": {},
   "source": [
    "Next, I'll look at logistic regression to try to figure out which independent variables can best predict outs."
   ]
  },
  {
   "cell_type": "code",
   "execution_count": 123,
   "metadata": {},
   "outputs": [],
   "source": [
    "# define X and y and perform train test split with 20% in test set\n",
    "\n",
    "X_log = df_model_ohe.drop('out_made', axis=1)\n",
    "y_log = df_model_ohe['out_made']\n",
    "\n",
    "X_train_log, X_test_log, y_train_log, y_test_log = train_test_split(X_log, y_log, test_size=0.2, random_state=5)"
   ]
  },
  {
   "cell_type": "code",
   "execution_count": 124,
   "metadata": {},
   "outputs": [],
   "source": [
    "# get numeric features for scaling\n",
    "\n",
    "X_train_log_num = X_train_log[['horiz_loc', 'vert_loc', 'start_speed', 'spin_rate', 'spin_dir']].copy()\n",
    "#X_train_log_num"
   ]
  },
  {
   "cell_type": "code",
   "execution_count": 125,
   "metadata": {},
   "outputs": [],
   "source": [
    "# scale using MinMaxScaler with maximum value of 1 and minimum value of 0\n",
    "\n",
    "scaler = MinMaxScaler()\n",
    "\n",
    "scaler.fit(X_train_log_num)\n",
    "X_train_log_scaled = pd.DataFrame(\n",
    "    scaler.transform(X_train_log_num),\n",
    "    index=X_train_log_num.index,\n",
    "    columns=X_train_log_num.columns)\n",
    "\n",
    "#X_train_log_scaled"
   ]
  },
  {
   "cell_type": "code",
   "execution_count": 126,
   "metadata": {},
   "outputs": [
    {
     "data": {
      "text/html": [
       "<div>\n",
       "<style scoped>\n",
       "    .dataframe tbody tr th:only-of-type {\n",
       "        vertical-align: middle;\n",
       "    }\n",
       "\n",
       "    .dataframe tbody tr th {\n",
       "        vertical-align: top;\n",
       "    }\n",
       "\n",
       "    .dataframe thead th {\n",
       "        text-align: right;\n",
       "    }\n",
       "</style>\n",
       "<table border=\"1\" class=\"dataframe\">\n",
       "  <thead>\n",
       "    <tr style=\"text-align: right;\">\n",
       "      <th></th>\n",
       "      <th>horiz_loc</th>\n",
       "      <th>vert_loc</th>\n",
       "      <th>start_speed</th>\n",
       "      <th>spin_rate</th>\n",
       "      <th>spin_dir</th>\n",
       "      <th>pitch_type_Changeup</th>\n",
       "      <th>pitch_type_Curveball</th>\n",
       "      <th>pitch_type_Knuckle Curve</th>\n",
       "      <th>pitch_type_Slider</th>\n",
       "      <th>pitch_type_Splitter</th>\n",
       "    </tr>\n",
       "  </thead>\n",
       "  <tbody>\n",
       "    <tr>\n",
       "      <th>38692</th>\n",
       "      <td>0.552324</td>\n",
       "      <td>0.582140</td>\n",
       "      <td>0.633010</td>\n",
       "      <td>0.303615</td>\n",
       "      <td>0.137603</td>\n",
       "      <td>0.0</td>\n",
       "      <td>1.0</td>\n",
       "      <td>0.0</td>\n",
       "      <td>0.0</td>\n",
       "      <td>0.0</td>\n",
       "    </tr>\n",
       "    <tr>\n",
       "      <th>268771</th>\n",
       "      <td>0.488698</td>\n",
       "      <td>0.540949</td>\n",
       "      <td>0.834951</td>\n",
       "      <td>0.259039</td>\n",
       "      <td>0.538768</td>\n",
       "      <td>0.0</td>\n",
       "      <td>0.0</td>\n",
       "      <td>0.0</td>\n",
       "      <td>1.0</td>\n",
       "      <td>0.0</td>\n",
       "    </tr>\n",
       "    <tr>\n",
       "      <th>116798</th>\n",
       "      <td>0.547374</td>\n",
       "      <td>0.602241</td>\n",
       "      <td>0.776699</td>\n",
       "      <td>0.394761</td>\n",
       "      <td>0.302111</td>\n",
       "      <td>1.0</td>\n",
       "      <td>0.0</td>\n",
       "      <td>0.0</td>\n",
       "      <td>0.0</td>\n",
       "      <td>0.0</td>\n",
       "    </tr>\n",
       "    <tr>\n",
       "      <th>18061</th>\n",
       "      <td>0.539175</td>\n",
       "      <td>0.664175</td>\n",
       "      <td>0.774757</td>\n",
       "      <td>0.200150</td>\n",
       "      <td>0.283363</td>\n",
       "      <td>0.0</td>\n",
       "      <td>1.0</td>\n",
       "      <td>0.0</td>\n",
       "      <td>0.0</td>\n",
       "      <td>0.0</td>\n",
       "    </tr>\n",
       "    <tr>\n",
       "      <th>62180</th>\n",
       "      <td>0.464839</td>\n",
       "      <td>0.605822</td>\n",
       "      <td>0.772816</td>\n",
       "      <td>0.361793</td>\n",
       "      <td>0.635471</td>\n",
       "      <td>1.0</td>\n",
       "      <td>0.0</td>\n",
       "      <td>0.0</td>\n",
       "      <td>0.0</td>\n",
       "      <td>0.0</td>\n",
       "    </tr>\n",
       "    <tr>\n",
       "      <th>...</th>\n",
       "      <td>...</td>\n",
       "      <td>...</td>\n",
       "      <td>...</td>\n",
       "      <td>...</td>\n",
       "      <td>...</td>\n",
       "      <td>...</td>\n",
       "      <td>...</td>\n",
       "      <td>...</td>\n",
       "      <td>...</td>\n",
       "      <td>...</td>\n",
       "    </tr>\n",
       "    <tr>\n",
       "      <th>136592</th>\n",
       "      <td>0.523163</td>\n",
       "      <td>0.568711</td>\n",
       "      <td>0.660194</td>\n",
       "      <td>0.245801</td>\n",
       "      <td>0.090909</td>\n",
       "      <td>0.0</td>\n",
       "      <td>0.0</td>\n",
       "      <td>1.0</td>\n",
       "      <td>0.0</td>\n",
       "      <td>0.0</td>\n",
       "    </tr>\n",
       "    <tr>\n",
       "      <th>232422</th>\n",
       "      <td>0.534257</td>\n",
       "      <td>0.523365</td>\n",
       "      <td>0.788350</td>\n",
       "      <td>0.245866</td>\n",
       "      <td>0.737369</td>\n",
       "      <td>1.0</td>\n",
       "      <td>0.0</td>\n",
       "      <td>0.0</td>\n",
       "      <td>0.0</td>\n",
       "      <td>0.0</td>\n",
       "    </tr>\n",
       "    <tr>\n",
       "      <th>124605</th>\n",
       "      <td>0.655203</td>\n",
       "      <td>0.447286</td>\n",
       "      <td>0.634951</td>\n",
       "      <td>0.115843</td>\n",
       "      <td>0.885498</td>\n",
       "      <td>0.0</td>\n",
       "      <td>1.0</td>\n",
       "      <td>0.0</td>\n",
       "      <td>0.0</td>\n",
       "      <td>0.0</td>\n",
       "    </tr>\n",
       "    <tr>\n",
       "      <th>20463</th>\n",
       "      <td>0.539175</td>\n",
       "      <td>0.573025</td>\n",
       "      <td>0.739806</td>\n",
       "      <td>0.141969</td>\n",
       "      <td>0.687563</td>\n",
       "      <td>1.0</td>\n",
       "      <td>0.0</td>\n",
       "      <td>0.0</td>\n",
       "      <td>0.0</td>\n",
       "      <td>0.0</td>\n",
       "    </tr>\n",
       "    <tr>\n",
       "      <th>18638</th>\n",
       "      <td>0.580558</td>\n",
       "      <td>0.478538</td>\n",
       "      <td>0.726214</td>\n",
       "      <td>0.175117</td>\n",
       "      <td>0.301705</td>\n",
       "      <td>0.0</td>\n",
       "      <td>0.0</td>\n",
       "      <td>0.0</td>\n",
       "      <td>1.0</td>\n",
       "      <td>0.0</td>\n",
       "    </tr>\n",
       "  </tbody>\n",
       "</table>\n",
       "<p>227109 rows × 10 columns</p>\n",
       "</div>"
      ],
      "text/plain": [
       "        horiz_loc  vert_loc  start_speed  spin_rate  spin_dir  \\\n",
       "38692    0.552324  0.582140     0.633010   0.303615  0.137603   \n",
       "268771   0.488698  0.540949     0.834951   0.259039  0.538768   \n",
       "116798   0.547374  0.602241     0.776699   0.394761  0.302111   \n",
       "18061    0.539175  0.664175     0.774757   0.200150  0.283363   \n",
       "62180    0.464839  0.605822     0.772816   0.361793  0.635471   \n",
       "...           ...       ...          ...        ...       ...   \n",
       "136592   0.523163  0.568711     0.660194   0.245801  0.090909   \n",
       "232422   0.534257  0.523365     0.788350   0.245866  0.737369   \n",
       "124605   0.655203  0.447286     0.634951   0.115843  0.885498   \n",
       "20463    0.539175  0.573025     0.739806   0.141969  0.687563   \n",
       "18638    0.580558  0.478538     0.726214   0.175117  0.301705   \n",
       "\n",
       "        pitch_type_Changeup  pitch_type_Curveball  pitch_type_Knuckle Curve  \\\n",
       "38692                   0.0                   1.0                       0.0   \n",
       "268771                  0.0                   0.0                       0.0   \n",
       "116798                  1.0                   0.0                       0.0   \n",
       "18061                   0.0                   1.0                       0.0   \n",
       "62180                   1.0                   0.0                       0.0   \n",
       "...                     ...                   ...                       ...   \n",
       "136592                  0.0                   0.0                       1.0   \n",
       "232422                  1.0                   0.0                       0.0   \n",
       "124605                  0.0                   1.0                       0.0   \n",
       "20463                   1.0                   0.0                       0.0   \n",
       "18638                   0.0                   0.0                       0.0   \n",
       "\n",
       "        pitch_type_Slider  pitch_type_Splitter  \n",
       "38692                 0.0                  0.0  \n",
       "268771                1.0                  0.0  \n",
       "116798                0.0                  0.0  \n",
       "18061                 0.0                  0.0  \n",
       "62180                 0.0                  0.0  \n",
       "...                   ...                  ...  \n",
       "136592                0.0                  0.0  \n",
       "232422                0.0                  0.0  \n",
       "124605                0.0                  0.0  \n",
       "20463                 0.0                  0.0  \n",
       "18638                 1.0                  0.0  \n",
       "\n",
       "[227109 rows x 10 columns]"
      ]
     },
     "execution_count": 126,
     "metadata": {},
     "output_type": "execute_result"
    }
   ],
   "source": [
    "# replace the pitch type column with the encoded columns for pitch types\n",
    "\n",
    "X_train_log_final = X_train_log.drop(['horiz_loc', 'vert_loc', 'start_speed', 'spin_rate', 'spin_dir'], axis=1)\n",
    "X_train_log_final = pd.concat([X_train_log_scaled, X_train_log_final], axis=1)\n",
    "X_train_log_final"
   ]
  },
  {
   "cell_type": "code",
   "execution_count": 127,
   "metadata": {},
   "outputs": [],
   "source": [
    "# instantiate model\n",
    "\n",
    "logreg = LogisticRegression(penalty='l2', random_state=5)"
   ]
  },
  {
   "cell_type": "code",
   "execution_count": 128,
   "metadata": {},
   "outputs": [],
   "source": [
    "# select parameters and instantiate GridSearchCV\n",
    "\n",
    "params = {'max_iter': [500, 1000],\n",
    "          'C': [100, 1e5, 1e10],\n",
    "          'solver': ['lbfgs', 'saga']}\n",
    "\n",
    "gs = GridSearchCV(estimator=logreg,\n",
    "                  param_grid = params,\n",
    "                  cv=10)"
   ]
  },
  {
   "cell_type": "code",
   "execution_count": 129,
   "metadata": {},
   "outputs": [],
   "source": [
    "# fit grid search on the train set and call the best parameters\n",
    "\n",
    "#gs.fit(X_train_log_final, y_train_log)\n",
    "#gs.best_params_"
   ]
  },
  {
   "cell_type": "code",
   "execution_count": 130,
   "metadata": {},
   "outputs": [],
   "source": [
    "# intantiate best logistic regression model per the grid search\n",
    "\n",
    "logreg_best = LogisticRegression(C=100, max_iter=500, solver='lbfgs', penalty='l2', random_state=5)"
   ]
  },
  {
   "cell_type": "code",
   "execution_count": 131,
   "metadata": {},
   "outputs": [
    {
     "data": {
      "text/html": [
       "<style>#sk-container-id-3 {color: black;}#sk-container-id-3 pre{padding: 0;}#sk-container-id-3 div.sk-toggleable {background-color: white;}#sk-container-id-3 label.sk-toggleable__label {cursor: pointer;display: block;width: 100%;margin-bottom: 0;padding: 0.3em;box-sizing: border-box;text-align: center;}#sk-container-id-3 label.sk-toggleable__label-arrow:before {content: \"▸\";float: left;margin-right: 0.25em;color: #696969;}#sk-container-id-3 label.sk-toggleable__label-arrow:hover:before {color: black;}#sk-container-id-3 div.sk-estimator:hover label.sk-toggleable__label-arrow:before {color: black;}#sk-container-id-3 div.sk-toggleable__content {max-height: 0;max-width: 0;overflow: hidden;text-align: left;background-color: #f0f8ff;}#sk-container-id-3 div.sk-toggleable__content pre {margin: 0.2em;color: black;border-radius: 0.25em;background-color: #f0f8ff;}#sk-container-id-3 input.sk-toggleable__control:checked~div.sk-toggleable__content {max-height: 200px;max-width: 100%;overflow: auto;}#sk-container-id-3 input.sk-toggleable__control:checked~label.sk-toggleable__label-arrow:before {content: \"▾\";}#sk-container-id-3 div.sk-estimator input.sk-toggleable__control:checked~label.sk-toggleable__label {background-color: #d4ebff;}#sk-container-id-3 div.sk-label input.sk-toggleable__control:checked~label.sk-toggleable__label {background-color: #d4ebff;}#sk-container-id-3 input.sk-hidden--visually {border: 0;clip: rect(1px 1px 1px 1px);clip: rect(1px, 1px, 1px, 1px);height: 1px;margin: -1px;overflow: hidden;padding: 0;position: absolute;width: 1px;}#sk-container-id-3 div.sk-estimator {font-family: monospace;background-color: #f0f8ff;border: 1px dotted black;border-radius: 0.25em;box-sizing: border-box;margin-bottom: 0.5em;}#sk-container-id-3 div.sk-estimator:hover {background-color: #d4ebff;}#sk-container-id-3 div.sk-parallel-item::after {content: \"\";width: 100%;border-bottom: 1px solid gray;flex-grow: 1;}#sk-container-id-3 div.sk-label:hover label.sk-toggleable__label {background-color: #d4ebff;}#sk-container-id-3 div.sk-serial::before {content: \"\";position: absolute;border-left: 1px solid gray;box-sizing: border-box;top: 0;bottom: 0;left: 50%;z-index: 0;}#sk-container-id-3 div.sk-serial {display: flex;flex-direction: column;align-items: center;background-color: white;padding-right: 0.2em;padding-left: 0.2em;position: relative;}#sk-container-id-3 div.sk-item {position: relative;z-index: 1;}#sk-container-id-3 div.sk-parallel {display: flex;align-items: stretch;justify-content: center;background-color: white;position: relative;}#sk-container-id-3 div.sk-item::before, #sk-container-id-3 div.sk-parallel-item::before {content: \"\";position: absolute;border-left: 1px solid gray;box-sizing: border-box;top: 0;bottom: 0;left: 50%;z-index: -1;}#sk-container-id-3 div.sk-parallel-item {display: flex;flex-direction: column;z-index: 1;position: relative;background-color: white;}#sk-container-id-3 div.sk-parallel-item:first-child::after {align-self: flex-end;width: 50%;}#sk-container-id-3 div.sk-parallel-item:last-child::after {align-self: flex-start;width: 50%;}#sk-container-id-3 div.sk-parallel-item:only-child::after {width: 0;}#sk-container-id-3 div.sk-dashed-wrapped {border: 1px dashed gray;margin: 0 0.4em 0.5em 0.4em;box-sizing: border-box;padding-bottom: 0.4em;background-color: white;}#sk-container-id-3 div.sk-label label {font-family: monospace;font-weight: bold;display: inline-block;line-height: 1.2em;}#sk-container-id-3 div.sk-label-container {text-align: center;}#sk-container-id-3 div.sk-container {/* jupyter's `normalize.less` sets `[hidden] { display: none; }` but bootstrap.min.css set `[hidden] { display: none !important; }` so we also need the `!important` here to be able to override the default hidden behavior on the sphinx rendered scikit-learn.org. See: https://github.com/scikit-learn/scikit-learn/issues/21755 */display: inline-block !important;position: relative;}#sk-container-id-3 div.sk-text-repr-fallback {display: none;}</style><div id=\"sk-container-id-3\" class=\"sk-top-container\"><div class=\"sk-text-repr-fallback\"><pre>LogisticRegression(C=100, max_iter=500, random_state=5)</pre><b>In a Jupyter environment, please rerun this cell to show the HTML representation or trust the notebook. <br />On GitHub, the HTML representation is unable to render, please try loading this page with nbviewer.org.</b></div><div class=\"sk-container\" hidden><div class=\"sk-item\"><div class=\"sk-estimator sk-toggleable\"><input class=\"sk-toggleable__control sk-hidden--visually\" id=\"sk-estimator-id-3\" type=\"checkbox\" checked><label for=\"sk-estimator-id-3\" class=\"sk-toggleable__label sk-toggleable__label-arrow\">LogisticRegression</label><div class=\"sk-toggleable__content\"><pre>LogisticRegression(C=100, max_iter=500, random_state=5)</pre></div></div></div></div></div>"
      ],
      "text/plain": [
       "LogisticRegression(C=100, max_iter=500, random_state=5)"
      ]
     },
     "execution_count": 131,
     "metadata": {},
     "output_type": "execute_result"
    }
   ],
   "source": [
    "logreg_best.fit(X_train_log_final, y_train_log)"
   ]
  },
  {
   "cell_type": "code",
   "execution_count": 132,
   "metadata": {},
   "outputs": [],
   "source": [
    "# cross validation\n",
    "\n",
    "cv_results = cross_validate(\n",
    "                    estimator=logreg_best,\n",
    "                    X=X_train_log_final,\n",
    "                    y=y_train_log,\n",
    "                    cv=5,\n",
    "                    return_train_score=True\n",
    ")"
   ]
  },
  {
   "cell_type": "code",
   "execution_count": 133,
   "metadata": {},
   "outputs": [
    {
     "data": {
      "text/plain": [
       "array([0.73647537, 0.73649188, 0.73650289, 0.73650839, 0.73646581])"
      ]
     },
     "execution_count": 133,
     "metadata": {},
     "output_type": "execute_result"
    }
   ],
   "source": [
    "cv_results['train_score']"
   ]
  },
  {
   "cell_type": "code",
   "execution_count": 134,
   "metadata": {},
   "outputs": [
    {
     "data": {
      "text/plain": [
       "array([0.73642728, 0.73633922, 0.73647131, 0.73655938, 0.73659761])"
      ]
     },
     "execution_count": 134,
     "metadata": {},
     "output_type": "execute_result"
    }
   ],
   "source": [
    "cv_results['test_score']"
   ]
  },
  {
   "cell_type": "markdown",
   "metadata": {},
   "source": [
    "Run preprocessing steps on the test data set"
   ]
  },
  {
   "cell_type": "code",
   "execution_count": 135,
   "metadata": {},
   "outputs": [],
   "source": [
    "# get numeric features for scaling\n",
    "\n",
    "X_test_log_num = X_test_log[['horiz_loc', 'vert_loc', 'start_speed', 'spin_rate', 'spin_dir']].copy()\n",
    "#X_test_log_num"
   ]
  },
  {
   "cell_type": "code",
   "execution_count": 136,
   "metadata": {},
   "outputs": [],
   "source": [
    "# scale using MinMaxScaler with maximum value of 1 and minimum value of 0\n",
    "\n",
    "scaler = MinMaxScaler()\n",
    "\n",
    "scaler.fit(X_test_log_num)\n",
    "X_test_log_scaled = pd.DataFrame(\n",
    "    scaler.transform(X_test_log_num),\n",
    "    index=X_test_log_num.index,\n",
    "    columns=X_test_log_num.columns)\n",
    "\n",
    "#X_test_log_scaled"
   ]
  },
  {
   "cell_type": "code",
   "execution_count": 137,
   "metadata": {},
   "outputs": [
    {
     "data": {
      "text/html": [
       "<div>\n",
       "<style scoped>\n",
       "    .dataframe tbody tr th:only-of-type {\n",
       "        vertical-align: middle;\n",
       "    }\n",
       "\n",
       "    .dataframe tbody tr th {\n",
       "        vertical-align: top;\n",
       "    }\n",
       "\n",
       "    .dataframe thead th {\n",
       "        text-align: right;\n",
       "    }\n",
       "</style>\n",
       "<table border=\"1\" class=\"dataframe\">\n",
       "  <thead>\n",
       "    <tr style=\"text-align: right;\">\n",
       "      <th></th>\n",
       "      <th>horiz_loc</th>\n",
       "      <th>vert_loc</th>\n",
       "      <th>start_speed</th>\n",
       "      <th>spin_rate</th>\n",
       "      <th>spin_dir</th>\n",
       "      <th>pitch_type_Changeup</th>\n",
       "      <th>pitch_type_Curveball</th>\n",
       "      <th>pitch_type_Knuckle Curve</th>\n",
       "      <th>pitch_type_Slider</th>\n",
       "      <th>pitch_type_Splitter</th>\n",
       "    </tr>\n",
       "  </thead>\n",
       "  <tbody>\n",
       "    <tr>\n",
       "      <th>13130</th>\n",
       "      <td>0.479121</td>\n",
       "      <td>0.721168</td>\n",
       "      <td>0.476543</td>\n",
       "      <td>0.524695</td>\n",
       "      <td>0.089198</td>\n",
       "      <td>0.0</td>\n",
       "      <td>0.0</td>\n",
       "      <td>1.0</td>\n",
       "      <td>0.0</td>\n",
       "      <td>0.0</td>\n",
       "    </tr>\n",
       "    <tr>\n",
       "      <th>268664</th>\n",
       "      <td>0.511322</td>\n",
       "      <td>0.616891</td>\n",
       "      <td>0.641975</td>\n",
       "      <td>0.421533</td>\n",
       "      <td>0.072459</td>\n",
       "      <td>0.0</td>\n",
       "      <td>1.0</td>\n",
       "      <td>0.0</td>\n",
       "      <td>0.0</td>\n",
       "      <td>0.0</td>\n",
       "    </tr>\n",
       "    <tr>\n",
       "      <th>42274</th>\n",
       "      <td>0.484068</td>\n",
       "      <td>0.559439</td>\n",
       "      <td>0.518519</td>\n",
       "      <td>0.044886</td>\n",
       "      <td>0.336463</td>\n",
       "      <td>0.0</td>\n",
       "      <td>1.0</td>\n",
       "      <td>0.0</td>\n",
       "      <td>0.0</td>\n",
       "      <td>0.0</td>\n",
       "    </tr>\n",
       "    <tr>\n",
       "      <th>42305</th>\n",
       "      <td>0.510939</td>\n",
       "      <td>0.550415</td>\n",
       "      <td>0.725926</td>\n",
       "      <td>0.053842</td>\n",
       "      <td>0.666918</td>\n",
       "      <td>0.0</td>\n",
       "      <td>0.0</td>\n",
       "      <td>0.0</td>\n",
       "      <td>1.0</td>\n",
       "      <td>0.0</td>\n",
       "    </tr>\n",
       "    <tr>\n",
       "      <th>184127</th>\n",
       "      <td>0.776139</td>\n",
       "      <td>0.443270</td>\n",
       "      <td>0.723457</td>\n",
       "      <td>0.192127</td>\n",
       "      <td>0.534127</td>\n",
       "      <td>0.0</td>\n",
       "      <td>0.0</td>\n",
       "      <td>0.0</td>\n",
       "      <td>1.0</td>\n",
       "      <td>0.0</td>\n",
       "    </tr>\n",
       "    <tr>\n",
       "      <th>...</th>\n",
       "      <td>...</td>\n",
       "      <td>...</td>\n",
       "      <td>...</td>\n",
       "      <td>...</td>\n",
       "      <td>...</td>\n",
       "      <td>...</td>\n",
       "      <td>...</td>\n",
       "      <td>...</td>\n",
       "      <td>...</td>\n",
       "      <td>...</td>\n",
       "    </tr>\n",
       "    <tr>\n",
       "      <th>43267</th>\n",
       "      <td>0.568842</td>\n",
       "      <td>0.355794</td>\n",
       "      <td>0.629630</td>\n",
       "      <td>0.279931</td>\n",
       "      <td>0.150233</td>\n",
       "      <td>0.0</td>\n",
       "      <td>1.0</td>\n",
       "      <td>0.0</td>\n",
       "      <td>0.0</td>\n",
       "      <td>0.0</td>\n",
       "    </tr>\n",
       "    <tr>\n",
       "      <th>224949</th>\n",
       "      <td>0.636588</td>\n",
       "      <td>0.545540</td>\n",
       "      <td>0.725926</td>\n",
       "      <td>0.189834</td>\n",
       "      <td>0.227723</td>\n",
       "      <td>0.0</td>\n",
       "      <td>0.0</td>\n",
       "      <td>0.0</td>\n",
       "      <td>1.0</td>\n",
       "      <td>0.0</td>\n",
       "    </tr>\n",
       "    <tr>\n",
       "      <th>113853</th>\n",
       "      <td>0.628207</td>\n",
       "      <td>0.594350</td>\n",
       "      <td>0.725926</td>\n",
       "      <td>0.307665</td>\n",
       "      <td>0.186900</td>\n",
       "      <td>0.0</td>\n",
       "      <td>0.0</td>\n",
       "      <td>0.0</td>\n",
       "      <td>1.0</td>\n",
       "      <td>0.0</td>\n",
       "    </tr>\n",
       "    <tr>\n",
       "      <th>282697</th>\n",
       "      <td>0.601257</td>\n",
       "      <td>0.591825</td>\n",
       "      <td>0.753086</td>\n",
       "      <td>0.571980</td>\n",
       "      <td>0.663601</td>\n",
       "      <td>0.0</td>\n",
       "      <td>0.0</td>\n",
       "      <td>0.0</td>\n",
       "      <td>0.0</td>\n",
       "      <td>1.0</td>\n",
       "    </tr>\n",
       "    <tr>\n",
       "      <th>185850</th>\n",
       "      <td>0.548215</td>\n",
       "      <td>0.480519</td>\n",
       "      <td>0.740741</td>\n",
       "      <td>0.415966</td>\n",
       "      <td>0.645556</td>\n",
       "      <td>1.0</td>\n",
       "      <td>0.0</td>\n",
       "      <td>0.0</td>\n",
       "      <td>0.0</td>\n",
       "      <td>0.0</td>\n",
       "    </tr>\n",
       "  </tbody>\n",
       "</table>\n",
       "<p>56778 rows × 10 columns</p>\n",
       "</div>"
      ],
      "text/plain": [
       "        horiz_loc  vert_loc  start_speed  spin_rate  spin_dir  \\\n",
       "13130    0.479121  0.721168     0.476543   0.524695  0.089198   \n",
       "268664   0.511322  0.616891     0.641975   0.421533  0.072459   \n",
       "42274    0.484068  0.559439     0.518519   0.044886  0.336463   \n",
       "42305    0.510939  0.550415     0.725926   0.053842  0.666918   \n",
       "184127   0.776139  0.443270     0.723457   0.192127  0.534127   \n",
       "...           ...       ...          ...        ...       ...   \n",
       "43267    0.568842  0.355794     0.629630   0.279931  0.150233   \n",
       "224949   0.636588  0.545540     0.725926   0.189834  0.227723   \n",
       "113853   0.628207  0.594350     0.725926   0.307665  0.186900   \n",
       "282697   0.601257  0.591825     0.753086   0.571980  0.663601   \n",
       "185850   0.548215  0.480519     0.740741   0.415966  0.645556   \n",
       "\n",
       "        pitch_type_Changeup  pitch_type_Curveball  pitch_type_Knuckle Curve  \\\n",
       "13130                   0.0                   0.0                       1.0   \n",
       "268664                  0.0                   1.0                       0.0   \n",
       "42274                   0.0                   1.0                       0.0   \n",
       "42305                   0.0                   0.0                       0.0   \n",
       "184127                  0.0                   0.0                       0.0   \n",
       "...                     ...                   ...                       ...   \n",
       "43267                   0.0                   1.0                       0.0   \n",
       "224949                  0.0                   0.0                       0.0   \n",
       "113853                  0.0                   0.0                       0.0   \n",
       "282697                  0.0                   0.0                       0.0   \n",
       "185850                  1.0                   0.0                       0.0   \n",
       "\n",
       "        pitch_type_Slider  pitch_type_Splitter  \n",
       "13130                 0.0                  0.0  \n",
       "268664                0.0                  0.0  \n",
       "42274                 0.0                  0.0  \n",
       "42305                 1.0                  0.0  \n",
       "184127                1.0                  0.0  \n",
       "...                   ...                  ...  \n",
       "43267                 0.0                  0.0  \n",
       "224949                1.0                  0.0  \n",
       "113853                1.0                  0.0  \n",
       "282697                0.0                  1.0  \n",
       "185850                0.0                  0.0  \n",
       "\n",
       "[56778 rows x 10 columns]"
      ]
     },
     "execution_count": 137,
     "metadata": {},
     "output_type": "execute_result"
    }
   ],
   "source": [
    "# replace the pitch type column with the encoded columns for pitch types\n",
    "\n",
    "X_test_log_final = X_test_log.drop(['horiz_loc', 'vert_loc', 'start_speed', 'spin_rate', 'spin_dir'], axis=1)\n",
    "X_test_log_final = pd.concat([X_test_log_scaled, X_test_log_final], axis=1)\n",
    "X_test_log_final"
   ]
  },
  {
   "cell_type": "code",
   "execution_count": 138,
   "metadata": {},
   "outputs": [
    {
     "name": "stdout",
     "output_type": "stream",
     "text": [
      "Accuracy: 73.97935820212054\n"
     ]
    }
   ],
   "source": [
    "# predict y and find accuracy\n",
    "\n",
    "y_pred_log = logreg_best.predict(X_test_log_final)\n",
    "\n",
    "acc_log = accuracy_score(y_test_log, y_pred_log) * 100\n",
    "print(\"Accuracy: {0}\".format(acc_log))"
   ]
  },
  {
   "cell_type": "code",
   "execution_count": 139,
   "metadata": {},
   "outputs": [
    {
     "name": "stdout",
     "output_type": "stream",
     "text": [
      "ROC-AUC score: 50.776252013971\n"
     ]
    }
   ],
   "source": [
    "# check ROC-AUC score\n",
    "\n",
    "roc_auc = roc_auc_score(y_test_log, y_pred_log) * 100\n",
    "print(\"ROC-AUC score: {0}\".format(roc_auc))"
   ]
  },
  {
   "cell_type": "code",
   "execution_count": 140,
   "metadata": {},
   "outputs": [
    {
     "data": {
      "image/png": "[encoded data removed]",
      "text/plain": [
       "<Figure size 360x360 with 2 Axes>"
      ]
     },
     "metadata": {},
     "output_type": "display_data"
    }
   ],
   "source": [
    "# plot confusion matrix\n",
    "\n",
    "cm = confusion_matrix(y_test_log, y_pred_log, labels=logreg_best.classes_)\n",
    "cm_disp = ConfusionMatrixDisplay(confusion_matrix=cm, display_labels=logreg_best.classes_)\n",
    "fig, ax = plt.subplots(figsize=(5, 5))\n",
    "ax.grid(False)\n",
    "cm_disp.plot(ax=ax);"
   ]
  },
  {
   "cell_type": "markdown",
   "metadata": {},
   "source": [
    "The logistic regression model doesn't improve the accuracy in making predictions either, so I'll try another type of model, k-Nearest Neighbors."
   ]
  },
  {
   "cell_type": "markdown",
   "metadata": {},
   "source": [
    "### k-Nearest Neighbors"
   ]
  },
  {
   "cell_type": "code",
   "execution_count": 141,
   "metadata": {},
   "outputs": [],
   "source": [
    "# define X and y and perform train test split with 20% in test set\n",
    "\n",
    "X_knn = df_model_ohe.drop('out_made', axis=1)\n",
    "y_knn = df_model_ohe['out_made']\n",
    "\n",
    "X_train_knn, X_test_knn, y_train_knn, y_test_knn = train_test_split(X_knn, y_knn, test_size=0.2, random_state=6)"
   ]
  },
  {
   "cell_type": "code",
   "execution_count": 142,
   "metadata": {},
   "outputs": [],
   "source": [
    "# split training data into train and validation sets\n",
    "\n",
    "X_t_knn, X_val_knn, y_t_knn, y_val_knn = train_test_split(X_train_knn, y_train_knn,\n",
    "                                          random_state=6,\n",
    "                                          test_size=0.2)"
   ]
  },
  {
   "cell_type": "code",
   "execution_count": 143,
   "metadata": {},
   "outputs": [],
   "source": [
    "# instantiate the k-Nearest Neighbors model\n",
    "\n",
    "knn = KNeighborsClassifier(n_neighbors=15)"
   ]
  },
  {
   "cell_type": "code",
   "execution_count": 144,
   "metadata": {},
   "outputs": [
    {
     "name": "stdout",
     "output_type": "stream",
     "text": [
      "training accuracy: 0.7544293207549246\n",
      "Val accuracy: 0.737814275020915\n"
     ]
    }
   ],
   "source": [
    "# use standard scaler to scale X variables\n",
    "\n",
    "ss = StandardScaler()\n",
    "X_ind = X_t_knn.index\n",
    "X_col = X_t_knn.columns\n",
    "\n",
    "X_t_knn_s = pd.DataFrame(ss.fit_transform(X_t_knn))\n",
    "X_t_knn_s.index = X_ind\n",
    "X_t_knn_s.columns = X_col\n",
    "\n",
    "X_val_ind = X_val_knn.index\n",
    "X_val_knn_s = pd.DataFrame(ss.transform(X_val_knn))\n",
    "X_val_knn_s.index = X_val_ind\n",
    "X_val_knn_s.columns = X_col\n",
    "\n",
    "knn.fit(X_t_knn_s, y_t_knn)\n",
    "print(f\"training accuracy: {knn.score(X_t_knn_s, y_t_knn)}\")\n",
    "print(f\"Val accuracy: {knn.score(X_val_knn_s, y_val_knn)}\")\n"
   ]
  },
  {
   "cell_type": "code",
   "execution_count": 145,
   "metadata": {},
   "outputs": [],
   "source": [
    "# try different k values to see what happens to the accuracy scores\n",
    "\n",
    "k_scores_train = {}\n",
    "k_scores_val = {}\n",
    "\n",
    "for k in range(1, 16):\n",
    "    knn = KNeighborsClassifier(n_neighbors=k)\n",
    "    accuracy_score_t = []\n",
    "    accuracy_score_v = []\n",
    "      \n",
    "    knn.fit(X_t_knn_s, y_t_knn)\n",
    "        \n",
    "    y_pred_t_knn = knn.predict(X_t_knn_s)\n",
    "    y_pred_val_knn = knn.predict(X_val_knn_s)\n",
    "        \n",
    "    accuracy_score_t.append(accuracy_score(y_t_knn, y_pred_t_knn))\n",
    "    accuracy_score_v.append(accuracy_score(y_val_knn, y_pred_val_knn))\n",
    "               \n",
    "    k_scores_train[k] = np.mean(accuracy_score_t)\n",
    "    k_scores_val[k] = np.mean(accuracy_score_v)"
   ]
  },
  {
   "cell_type": "code",
   "execution_count": 146,
   "metadata": {},
   "outputs": [
    {
     "data": {
      "text/plain": [
       "{1: 1.0,\n",
       " 2: 0.8201192160143543,\n",
       " 3: 0.8186826795532977,\n",
       " 4: 0.7846296102638053,\n",
       " 5: 0.7850038802996362,\n",
       " 6: 0.7719704766989383,\n",
       " 7: 0.7699835431263656,\n",
       " 8: 0.7640337503508782,\n",
       " 9: 0.7634998651527076,\n",
       " 10: 0.7605057048660608,\n",
       " 11: 0.7588159857337069,\n",
       " 12: 0.7580234138931239,\n",
       " 13: 0.7564823019808792,\n",
       " 14: 0.7554640673245747,\n",
       " 15: 0.7544293207549246}"
      ]
     },
     "execution_count": 146,
     "metadata": {},
     "output_type": "execute_result"
    }
   ],
   "source": [
    "k_scores_train"
   ]
  },
  {
   "cell_type": "code",
   "execution_count": 147,
   "metadata": {},
   "outputs": [
    {
     "data": {
      "text/plain": [
       "{1: 0.6354629915019153,\n",
       " 2: 0.5540486988683898,\n",
       " 3: 0.6786579190700541,\n",
       " 4: 0.6352868653956233,\n",
       " 5: 0.7006516665932808,\n",
       " 6: 0.6729338206155607,\n",
       " 7: 0.7143454713574919,\n",
       " 8: 0.6977676016027475,\n",
       " 9: 0.7241424860199903,\n",
       " 10: 0.7108229492316499,\n",
       " 11: 0.7295143322618995,\n",
       " 12: 0.7198053806525472,\n",
       " 13: 0.733609264233191,\n",
       " 14: 0.726233983532209,\n",
       " 15: 0.737814275020915}"
      ]
     },
     "execution_count": 147,
     "metadata": {},
     "output_type": "execute_result"
    }
   ],
   "source": [
    "k_scores_val"
   ]
  },
  {
   "cell_type": "code",
   "execution_count": 148,
   "metadata": {},
   "outputs": [
    {
     "data": {
      "image/png": "[encoded data removed]",
      "text/plain": [
       "<Figure size 864x576 with 1 Axes>"
      ]
     },
     "metadata": {},
     "output_type": "display_data"
    }
   ],
   "source": [
    "fig, ax = plt.subplots(figsize=(12, 8))\n",
    "\n",
    "ax.plot(list(k_scores_train.keys()), list(k_scores_train.values()),\n",
    "        color='red', linestyle='dashed', marker='o',  \n",
    "         markerfacecolor='blue', markersize=10, label='Train')\n",
    "ax.plot(list(k_scores_val.keys()), list(k_scores_val.values()),\n",
    "        color='black', linestyle='dashed', marker='o',  \n",
    "         markerfacecolor='blue', markersize=10, label='Val')\n",
    "ax.set_xlabel('k')\n",
    "ax.set_ylabel('Accuracy')\n",
    "plt.legend();"
   ]
  },
  {
   "cell_type": "code",
   "execution_count": 149,
   "metadata": {},
   "outputs": [],
   "source": [
    "# use standard scaler to scale X_test variables\n",
    "\n",
    "X_ind = X_test_knn.index\n",
    "X_col = X_test_knn.columns\n",
    "\n",
    "X_test_knn_s = pd.DataFrame(ss.transform(X_test_knn))\n",
    "X_test_knn_s.index = X_ind\n",
    "X_test_knn_s.columns = X_col\n"
   ]
  },
  {
   "cell_type": "code",
   "execution_count": 150,
   "metadata": {},
   "outputs": [
    {
     "name": "stdout",
     "output_type": "stream",
     "text": [
      "Accuracy: 73.63591531931381\n"
     ]
    }
   ],
   "source": [
    "# predict y and find accuracy\n",
    "\n",
    "y_pred_knn = knn.predict(X_test_knn_s)\n",
    "\n",
    "acc_knn = accuracy_score(y_test_knn, y_pred_knn) * 100\n",
    "print(\"Accuracy: {0}\".format(acc_knn))"
   ]
  },
  {
   "cell_type": "markdown",
   "metadata": {},
   "source": [
    "Comparing the accuracy provided from all of the models attempted, there is no model that signicantly affects the ability to predict outs."
   ]
  },
  {
   "cell_type": "code",
   "execution_count": 151,
   "metadata": {},
   "outputs": [
    {
     "name": "stdout",
     "output_type": "stream",
     "text": [
      "Baseline Accuracy:                 73.5 %\n",
      "Initial Decision Tree Accuracy:    74.1 %\n",
      "DT Grid Search Accuracy:           74.7 %\n",
      "Light GBM Accuracy:                74.7 %\n",
      "Logistic Regression Accuracy:      74.0 %\n",
      "k-Nearest Neighbor Accuracy:       73.6 %\n"
     ]
    }
   ],
   "source": [
    "print(\"Baseline Accuracy:                \", round((acc_base), ndigits=1), \"%\")\n",
    "print(\"Initial Decision Tree Accuracy:   \", round((acc_dt), ndigits=1), \"%\")\n",
    "print(\"DT Grid Search Accuracy:          \", round((acc_dt_grid), ndigits=1), \"%\")\n",
    "print(\"Light GBM Accuracy:               \", round((acc_lgbm), ndigits=1), \"%\")\n",
    "print(\"Logistic Regression Accuracy:     \", round((acc_log), ndigits=1), \"%\")\n",
    "print(\"k-Nearest Neighbor Accuracy:      \", round((acc_knn), ndigits=1), \"%\")"
   ]
  },
  {
   "cell_type": "markdown",
   "metadata": {},
   "source": [
    "### Balanced Number of Dependent Variable"
   ]
  },
  {
   "cell_type": "markdown",
   "metadata": {},
   "source": [
    "Let's balance the data with the same number of plays where there are outs and no outs and see if that helps predictions."
   ]
  },
  {
   "cell_type": "code",
   "execution_count": 152,
   "metadata": {},
   "outputs": [],
   "source": [
    "# balance the data\n",
    "\n",
    "out = df_model_ohe[df_model_ohe[\"out_made\"]==1]\n",
    "no_out = df_model_ohe[df_model_ohe[\"out_made\"]==0]\n",
    "out_reduced = out.sample(n=len(no_out), random_state=7)\n",
    "df_balanced = pd.concat([no_out, out_reduced], axis=0)"
   ]
  },
  {
   "cell_type": "code",
   "execution_count": 153,
   "metadata": {},
   "outputs": [
    {
     "data": {
      "text/plain": [
       "1    74870\n",
       "0    74870\n",
       "Name: out_made, dtype: int64"
      ]
     },
     "execution_count": 153,
     "metadata": {},
     "output_type": "execute_result"
    }
   ],
   "source": [
    "df_balanced['out_made'].value_counts()"
   ]
  },
  {
   "cell_type": "markdown",
   "metadata": {},
   "source": [
    "### Decision Tree"
   ]
  },
  {
   "cell_type": "code",
   "execution_count": 154,
   "metadata": {},
   "outputs": [],
   "source": [
    "# define X and y and perform train test split with 20% in test set\n",
    "\n",
    "X_dt = df_balanced.drop('out_made', axis=1)\n",
    "y_dt = df_balanced['out_made']\n",
    "\n",
    "X_train_dt_grid, X_test_dt_grid, y_train_dt_grid, y_test_dt_grid = train_test_split(X_dt, y_dt, test_size=0.2, random_state=8)"
   ]
  },
  {
   "cell_type": "code",
   "execution_count": 155,
   "metadata": {},
   "outputs": [],
   "source": [
    "# instantiate model\n",
    "\n",
    "dt_grid = DecisionTreeClassifier(random_state=8)"
   ]
  },
  {
   "cell_type": "code",
   "execution_count": 156,
   "metadata": {},
   "outputs": [],
   "source": [
    "# select parameters and instantiate GridSearchCV\n",
    "\n",
    "params = {'max_depth': [2, 5, 7],\n",
    "          'min_samples_split': [0.1, 0.3, 0.5],\n",
    "          'criterion': ['entropy', 'log_loss']}\n",
    "\n",
    "gs = GridSearchCV(estimator=dt_grid,\n",
    "                  param_grid = params,\n",
    "                  cv=5)"
   ]
  },
  {
   "cell_type": "code",
   "execution_count": 157,
   "metadata": {},
   "outputs": [
    {
     "data": {
      "text/plain": [
       "{'criterion': 'entropy', 'max_depth': 7, 'min_samples_split': 0.1}"
      ]
     },
     "execution_count": 157,
     "metadata": {},
     "output_type": "execute_result"
    }
   ],
   "source": [
    "# fit grid search on the train set and call the best parameters\n",
    "\n",
    "gs.fit(X_train_dt_grid, y_train_dt_grid)\n",
    "gs.best_params_"
   ]
  },
  {
   "cell_type": "code",
   "execution_count": 158,
   "metadata": {},
   "outputs": [
    {
     "data": {
      "text/plain": [
       "0.5624749338304762"
      ]
     },
     "execution_count": 158,
     "metadata": {},
     "output_type": "execute_result"
    }
   ],
   "source": [
    "gs.cv_results_['mean_test_score'].max()"
   ]
  },
  {
   "cell_type": "code",
   "execution_count": 159,
   "metadata": {},
   "outputs": [
    {
     "data": {
      "text/plain": [
       "0.5653883397889675"
      ]
     },
     "execution_count": 159,
     "metadata": {},
     "output_type": "execute_result"
    }
   ],
   "source": [
    "# check accuracy on the training data\n",
    "\n",
    "gs.score(X_train_dt_grid, y_train_dt_grid)"
   ]
  },
  {
   "cell_type": "code",
   "execution_count": 160,
   "metadata": {},
   "outputs": [
    {
     "name": "stdout",
     "output_type": "stream",
     "text": [
      "Accuracy: 55.9803659676773\n"
     ]
    }
   ],
   "source": [
    "# predict y and find accuracy on test data\n",
    "\n",
    "y_pred_dt_grid = gs.predict(X_test_dt_grid)\n",
    "\n",
    "acc_dt_grid_bal = accuracy_score(y_test_dt_grid, y_pred_dt_grid) * 100\n",
    "print(\"Accuracy: {0}\".format(acc_dt_grid_bal))"
   ]
  },
  {
   "cell_type": "markdown",
   "metadata": {},
   "source": [
    "The improvement of the accuracy versus the 50% of the balanced data is greater than I was getting when modeling the unbalanced data. "
   ]
  },
  {
   "cell_type": "code",
   "execution_count": 161,
   "metadata": {},
   "outputs": [
    {
     "name": "stdout",
     "output_type": "stream",
     "text": [
      "ROC-AUC score: 55.96865484221105\n"
     ]
    }
   ],
   "source": [
    "# check ROC-AUC score\n",
    "\n",
    "roc_auc = roc_auc_score(y_test_dt_grid, y_pred_dt_grid) * 100\n",
    "print(\"ROC-AUC score: {0}\".format(roc_auc))"
   ]
  },
  {
   "cell_type": "code",
   "execution_count": 162,
   "metadata": {},
   "outputs": [
    {
     "data": {
      "image/png": "[encoded data removed]",
      "text/plain": [
       "<Figure size 360x360 with 2 Axes>"
      ]
     },
     "metadata": {},
     "output_type": "display_data"
    }
   ],
   "source": [
    "# plot confusion matrix\n",
    "\n",
    "cm = confusion_matrix(y_test_dt_grid, y_pred_dt_grid, labels=gs.classes_)\n",
    "cm_disp = ConfusionMatrixDisplay(confusion_matrix=cm, display_labels=gs.classes_)\n",
    "fig, ax = plt.subplots(figsize=(5, 5))\n",
    "ax.grid(False)\n",
    "cm_disp.plot(ax=ax);"
   ]
  },
  {
   "cell_type": "markdown",
   "metadata": {},
   "source": [
    "### LightGBM"
   ]
  },
  {
   "cell_type": "code",
   "execution_count": 163,
   "metadata": {},
   "outputs": [],
   "source": [
    "# define X and y and perform train test split with 20% in test set\n",
    "\n",
    "X_lgbm = df_balanced.drop('out_made', axis=1)\n",
    "y_lgbm = df_balanced['out_made']\n",
    "\n",
    "X_train_lgbm, X_test_lgbm, y_train_lgbm, y_test_lgbm = train_test_split(X_lgbm, y_lgbm, test_size=0.2, random_state=9)"
   ]
  },
  {
   "cell_type": "code",
   "execution_count": 164,
   "metadata": {},
   "outputs": [],
   "source": [
    "# instantiate Light GBM model and set up GridSearchCV\n",
    "\n",
    "lgbm = LGBMClassifier(verbosity= -1, objective='binary', random_state=9)\n",
    "\n",
    "params_lgbm = [{'boosting': ['gbdt', 'goss'],\n",
    "                'learning_rate': [0.1, 0.05, 0.01],\n",
    "                'num_leaves': [31, 63, 127],\n",
    "                'min_data_in_leaf': [100, 800, 1500]}]\n",
    "\n",
    "gs = GridSearchCV(estimator=lgbm,\n",
    "                  param_grid = params_lgbm,\n",
    "                  cv=5)"
   ]
  },
  {
   "cell_type": "code",
   "execution_count": 165,
   "metadata": {},
   "outputs": [
    {
     "data": {
      "text/plain": [
       "{'boosting': 'gbdt',\n",
       " 'learning_rate': 0.1,\n",
       " 'min_data_in_leaf': 100,\n",
       " 'num_leaves': 31}"
      ]
     },
     "execution_count": 165,
     "metadata": {},
     "output_type": "execute_result"
    }
   ],
   "source": [
    "# fit grid search on the train set and call the best parameters\n",
    "\n",
    "gs.fit(X_train_lgbm, y_train_lgbm)\n",
    "gs.best_params_"
   ]
  },
  {
   "cell_type": "code",
   "execution_count": 166,
   "metadata": {},
   "outputs": [
    {
     "data": {
      "text/plain": [
       "0.5801889191695607"
      ]
     },
     "execution_count": 166,
     "metadata": {},
     "output_type": "execute_result"
    }
   ],
   "source": [
    "gs.cv_results_['mean_test_score'].max()"
   ]
  },
  {
   "cell_type": "code",
   "execution_count": 167,
   "metadata": {},
   "outputs": [
    {
     "data": {
      "text/plain": [
       "0.6037965807399492"
      ]
     },
     "execution_count": 167,
     "metadata": {},
     "output_type": "execute_result"
    }
   ],
   "source": [
    "# check accuracy on the training data\n",
    "\n",
    "gs.score(X_train_lgbm, y_train_lgbm)"
   ]
  },
  {
   "cell_type": "code",
   "execution_count": 168,
   "metadata": {},
   "outputs": [
    {
     "name": "stdout",
     "output_type": "stream",
     "text": [
      "Accuracy: 58.24762922398825\n"
     ]
    }
   ],
   "source": [
    "# predict y and find accuracy on test data\n",
    "\n",
    "y_pred_lgbm = gs.predict(X_test_lgbm)\n",
    "\n",
    "acc_lgbm_bal = accuracy_score(y_test_lgbm, y_pred_lgbm) * 100\n",
    "print(\"Accuracy: {0}\".format(acc_lgbm_bal))"
   ]
  },
  {
   "cell_type": "code",
   "execution_count": 169,
   "metadata": {},
   "outputs": [
    {
     "name": "stdout",
     "output_type": "stream",
     "text": [
      "ROC-AUC score: 58.24609089206718\n"
     ]
    }
   ],
   "source": [
    "# check ROC-AUC score\n",
    "\n",
    "roc_auc = roc_auc_score(y_test_lgbm, y_pred_lgbm) * 100\n",
    "print(\"ROC-AUC score: {0}\".format(roc_auc))"
   ]
  },
  {
   "cell_type": "code",
   "execution_count": 170,
   "metadata": {},
   "outputs": [
    {
     "data": {
      "image/png": "[encoded data removed]",
      "text/plain": [
       "<Figure size 360x360 with 2 Axes>"
      ]
     },
     "metadata": {},
     "output_type": "display_data"
    }
   ],
   "source": [
    "# plot confusion matrix\n",
    "\n",
    "cm = confusion_matrix(y_test_lgbm, y_pred_lgbm, labels=gs.classes_)\n",
    "cm_disp = ConfusionMatrixDisplay(confusion_matrix=cm, display_labels=gs.classes_)\n",
    "fig, ax = plt.subplots(figsize=(5, 5))\n",
    "ax.grid(False)\n",
    "cm_disp.plot(ax=ax);"
   ]
  },
  {
   "cell_type": "markdown",
   "metadata": {},
   "source": [
    "### Logistic Regression"
   ]
  },
  {
   "cell_type": "markdown",
   "metadata": {},
   "source": [
    "Next, I'll look at logistic regression to try to figure out which independent variables can best predict outs."
   ]
  },
  {
   "cell_type": "code",
   "execution_count": 171,
   "metadata": {},
   "outputs": [],
   "source": [
    "# define X and y and perform train test split with 20% in test set\n",
    "\n",
    "X_log = df_balanced.drop('out_made', axis=1)\n",
    "y_log = df_balanced['out_made']\n",
    "\n",
    "X_train_log, X_test_log, y_train_log, y_test_log = train_test_split(X_log, y_log, test_size=0.2, random_state=10)"
   ]
  },
  {
   "cell_type": "code",
   "execution_count": 172,
   "metadata": {},
   "outputs": [],
   "source": [
    "# get numeric features for scaling\n",
    "\n",
    "X_train_log_num = X_train_log[['horiz_loc', 'vert_loc', 'start_speed', 'spin_rate', 'spin_dir']].copy()\n",
    "#X_train_log_num"
   ]
  },
  {
   "cell_type": "code",
   "execution_count": 173,
   "metadata": {},
   "outputs": [],
   "source": [
    "# scale using MinMaxScaler with maximum value of 1 and minimum value of 0\n",
    "\n",
    "scaler = MinMaxScaler()\n",
    "\n",
    "scaler.fit(X_train_log_num)\n",
    "X_train_log_scaled = pd.DataFrame(\n",
    "    scaler.transform(X_train_log_num),\n",
    "    index=X_train_log_num.index,\n",
    "    columns=X_train_log_num.columns)\n",
    "\n",
    "#X_train_log_scaled"
   ]
  },
  {
   "cell_type": "code",
   "execution_count": 174,
   "metadata": {},
   "outputs": [
    {
     "data": {
      "text/html": [
       "<div>\n",
       "<style scoped>\n",
       "    .dataframe tbody tr th:only-of-type {\n",
       "        vertical-align: middle;\n",
       "    }\n",
       "\n",
       "    .dataframe tbody tr th {\n",
       "        vertical-align: top;\n",
       "    }\n",
       "\n",
       "    .dataframe thead th {\n",
       "        text-align: right;\n",
       "    }\n",
       "</style>\n",
       "<table border=\"1\" class=\"dataframe\">\n",
       "  <thead>\n",
       "    <tr style=\"text-align: right;\">\n",
       "      <th></th>\n",
       "      <th>horiz_loc</th>\n",
       "      <th>vert_loc</th>\n",
       "      <th>start_speed</th>\n",
       "      <th>spin_rate</th>\n",
       "      <th>spin_dir</th>\n",
       "      <th>pitch_type_Changeup</th>\n",
       "      <th>pitch_type_Curveball</th>\n",
       "      <th>pitch_type_Knuckle Curve</th>\n",
       "      <th>pitch_type_Slider</th>\n",
       "      <th>pitch_type_Splitter</th>\n",
       "    </tr>\n",
       "  </thead>\n",
       "  <tbody>\n",
       "    <tr>\n",
       "      <th>35895</th>\n",
       "      <td>0.606287</td>\n",
       "      <td>0.634795</td>\n",
       "      <td>0.737864</td>\n",
       "      <td>0.127424</td>\n",
       "      <td>0.184764</td>\n",
       "      <td>0.0</td>\n",
       "      <td>1.0</td>\n",
       "      <td>0.0</td>\n",
       "      <td>0.0</td>\n",
       "      <td>0.0</td>\n",
       "    </tr>\n",
       "    <tr>\n",
       "      <th>72586</th>\n",
       "      <td>0.707748</td>\n",
       "      <td>0.569281</td>\n",
       "      <td>0.735922</td>\n",
       "      <td>0.221911</td>\n",
       "      <td>0.324068</td>\n",
       "      <td>1.0</td>\n",
       "      <td>0.0</td>\n",
       "      <td>0.0</td>\n",
       "      <td>0.0</td>\n",
       "      <td>0.0</td>\n",
       "    </tr>\n",
       "    <tr>\n",
       "      <th>258289</th>\n",
       "      <td>0.675132</td>\n",
       "      <td>0.520741</td>\n",
       "      <td>0.910680</td>\n",
       "      <td>0.210829</td>\n",
       "      <td>0.455908</td>\n",
       "      <td>0.0</td>\n",
       "      <td>0.0</td>\n",
       "      <td>0.0</td>\n",
       "      <td>1.0</td>\n",
       "      <td>0.0</td>\n",
       "    </tr>\n",
       "    <tr>\n",
       "      <th>150773</th>\n",
       "      <td>0.739587</td>\n",
       "      <td>0.517878</td>\n",
       "      <td>0.656311</td>\n",
       "      <td>0.315573</td>\n",
       "      <td>0.621480</td>\n",
       "      <td>1.0</td>\n",
       "      <td>0.0</td>\n",
       "      <td>0.0</td>\n",
       "      <td>0.0</td>\n",
       "      <td>0.0</td>\n",
       "    </tr>\n",
       "    <tr>\n",
       "      <th>275070</th>\n",
       "      <td>0.686236</td>\n",
       "      <td>0.627393</td>\n",
       "      <td>0.796117</td>\n",
       "      <td>0.080039</td>\n",
       "      <td>0.617041</td>\n",
       "      <td>0.0</td>\n",
       "      <td>0.0</td>\n",
       "      <td>0.0</td>\n",
       "      <td>1.0</td>\n",
       "      <td>0.0</td>\n",
       "    </tr>\n",
       "    <tr>\n",
       "      <th>...</th>\n",
       "      <td>...</td>\n",
       "      <td>...</td>\n",
       "      <td>...</td>\n",
       "      <td>...</td>\n",
       "      <td>...</td>\n",
       "      <td>...</td>\n",
       "      <td>...</td>\n",
       "      <td>...</td>\n",
       "      <td>...</td>\n",
       "      <td>...</td>\n",
       "    </tr>\n",
       "    <tr>\n",
       "      <th>36246</th>\n",
       "      <td>0.596671</td>\n",
       "      <td>0.612496</td>\n",
       "      <td>0.844660</td>\n",
       "      <td>0.246642</td>\n",
       "      <td>0.494307</td>\n",
       "      <td>0.0</td>\n",
       "      <td>0.0</td>\n",
       "      <td>0.0</td>\n",
       "      <td>1.0</td>\n",
       "      <td>0.0</td>\n",
       "    </tr>\n",
       "    <tr>\n",
       "      <th>195059</th>\n",
       "      <td>0.562465</td>\n",
       "      <td>0.585888</td>\n",
       "      <td>0.640777</td>\n",
       "      <td>0.248585</td>\n",
       "      <td>0.058857</td>\n",
       "      <td>0.0</td>\n",
       "      <td>0.0</td>\n",
       "      <td>1.0</td>\n",
       "      <td>0.0</td>\n",
       "      <td>0.0</td>\n",
       "    </tr>\n",
       "    <tr>\n",
       "      <th>196655</th>\n",
       "      <td>0.578420</td>\n",
       "      <td>0.487611</td>\n",
       "      <td>0.712621</td>\n",
       "      <td>0.098421</td>\n",
       "      <td>0.083080</td>\n",
       "      <td>0.0</td>\n",
       "      <td>1.0</td>\n",
       "      <td>0.0</td>\n",
       "      <td>0.0</td>\n",
       "      <td>0.0</td>\n",
       "    </tr>\n",
       "    <tr>\n",
       "      <th>9646</th>\n",
       "      <td>0.584179</td>\n",
       "      <td>0.669871</td>\n",
       "      <td>0.739806</td>\n",
       "      <td>0.278282</td>\n",
       "      <td>0.305048</td>\n",
       "      <td>0.0</td>\n",
       "      <td>0.0</td>\n",
       "      <td>0.0</td>\n",
       "      <td>1.0</td>\n",
       "      <td>0.0</td>\n",
       "    </tr>\n",
       "    <tr>\n",
       "      <th>200066</th>\n",
       "      <td>0.676297</td>\n",
       "      <td>0.519768</td>\n",
       "      <td>0.768932</td>\n",
       "      <td>0.258757</td>\n",
       "      <td>0.290992</td>\n",
       "      <td>1.0</td>\n",
       "      <td>0.0</td>\n",
       "      <td>0.0</td>\n",
       "      <td>0.0</td>\n",
       "      <td>0.0</td>\n",
       "    </tr>\n",
       "  </tbody>\n",
       "</table>\n",
       "<p>119792 rows × 10 columns</p>\n",
       "</div>"
      ],
      "text/plain": [
       "        horiz_loc  vert_loc  start_speed  spin_rate  spin_dir  \\\n",
       "35895    0.606287  0.634795     0.737864   0.127424  0.184764   \n",
       "72586    0.707748  0.569281     0.735922   0.221911  0.324068   \n",
       "258289   0.675132  0.520741     0.910680   0.210829  0.455908   \n",
       "150773   0.739587  0.517878     0.656311   0.315573  0.621480   \n",
       "275070   0.686236  0.627393     0.796117   0.080039  0.617041   \n",
       "...           ...       ...          ...        ...       ...   \n",
       "36246    0.596671  0.612496     0.844660   0.246642  0.494307   \n",
       "195059   0.562465  0.585888     0.640777   0.248585  0.058857   \n",
       "196655   0.578420  0.487611     0.712621   0.098421  0.083080   \n",
       "9646     0.584179  0.669871     0.739806   0.278282  0.305048   \n",
       "200066   0.676297  0.519768     0.768932   0.258757  0.290992   \n",
       "\n",
       "        pitch_type_Changeup  pitch_type_Curveball  pitch_type_Knuckle Curve  \\\n",
       "35895                   0.0                   1.0                       0.0   \n",
       "72586                   1.0                   0.0                       0.0   \n",
       "258289                  0.0                   0.0                       0.0   \n",
       "150773                  1.0                   0.0                       0.0   \n",
       "275070                  0.0                   0.0                       0.0   \n",
       "...                     ...                   ...                       ...   \n",
       "36246                   0.0                   0.0                       0.0   \n",
       "195059                  0.0                   0.0                       1.0   \n",
       "196655                  0.0                   1.0                       0.0   \n",
       "9646                    0.0                   0.0                       0.0   \n",
       "200066                  1.0                   0.0                       0.0   \n",
       "\n",
       "        pitch_type_Slider  pitch_type_Splitter  \n",
       "35895                 0.0                  0.0  \n",
       "72586                 0.0                  0.0  \n",
       "258289                1.0                  0.0  \n",
       "150773                0.0                  0.0  \n",
       "275070                1.0                  0.0  \n",
       "...                   ...                  ...  \n",
       "36246                 1.0                  0.0  \n",
       "195059                0.0                  0.0  \n",
       "196655                0.0                  0.0  \n",
       "9646                  1.0                  0.0  \n",
       "200066                0.0                  0.0  \n",
       "\n",
       "[119792 rows x 10 columns]"
      ]
     },
     "execution_count": 174,
     "metadata": {},
     "output_type": "execute_result"
    }
   ],
   "source": [
    "# replace the pitch type column with the encoded columns for pitch types\n",
    "\n",
    "X_train_log_final = X_train_log.drop(['horiz_loc', 'vert_loc', 'start_speed', 'spin_rate', 'spin_dir'], axis=1)\n",
    "X_train_log_final = pd.concat([X_train_log_scaled, X_train_log_final], axis=1)\n",
    "X_train_log_final"
   ]
  },
  {
   "cell_type": "code",
   "execution_count": 175,
   "metadata": {},
   "outputs": [],
   "source": [
    "# instantiate model\n",
    "\n",
    "logreg = LogisticRegression(penalty='l2', random_state=10)"
   ]
  },
  {
   "cell_type": "code",
   "execution_count": 176,
   "metadata": {},
   "outputs": [],
   "source": [
    "# select parameters and instantiate GridSearchCV\n",
    "\n",
    "params = {'max_iter': [500, 1000],\n",
    "          'C': [100, 1e5, 1e10],\n",
    "          'solver': ['lbfgs', 'saga']}\n",
    "\n",
    "gs = GridSearchCV(estimator=logreg,\n",
    "                  param_grid = params,\n",
    "                  cv=10)"
   ]
  },
  {
   "cell_type": "code",
   "execution_count": 177,
   "metadata": {},
   "outputs": [
    {
     "data": {
      "text/plain": [
       "{'C': 100000.0, 'max_iter': 500, 'solver': 'saga'}"
      ]
     },
     "execution_count": 177,
     "metadata": {},
     "output_type": "execute_result"
    }
   ],
   "source": [
    "# fit grid search on the train set and call the best parameters\n",
    "\n",
    "gs.fit(X_train_log_final, y_train_log)\n",
    "gs.best_params_"
   ]
  },
  {
   "cell_type": "code",
   "execution_count": 178,
   "metadata": {},
   "outputs": [],
   "source": [
    "# intantiate best logistic regression model per the grid search\n",
    "\n",
    "logreg_best = LogisticRegression(C=1e10, max_iter=500, solver='saga', penalty='l2', random_state=5)"
   ]
  },
  {
   "cell_type": "code",
   "execution_count": 179,
   "metadata": {},
   "outputs": [
    {
     "data": {
      "text/html": [
       "<style>#sk-container-id-4 {color: black;}#sk-container-id-4 pre{padding: 0;}#sk-container-id-4 div.sk-toggleable {background-color: white;}#sk-container-id-4 label.sk-toggleable__label {cursor: pointer;display: block;width: 100%;margin-bottom: 0;padding: 0.3em;box-sizing: border-box;text-align: center;}#sk-container-id-4 label.sk-toggleable__label-arrow:before {content: \"▸\";float: left;margin-right: 0.25em;color: #696969;}#sk-container-id-4 label.sk-toggleable__label-arrow:hover:before {color: black;}#sk-container-id-4 div.sk-estimator:hover label.sk-toggleable__label-arrow:before {color: black;}#sk-container-id-4 div.sk-toggleable__content {max-height: 0;max-width: 0;overflow: hidden;text-align: left;background-color: #f0f8ff;}#sk-container-id-4 div.sk-toggleable__content pre {margin: 0.2em;color: black;border-radius: 0.25em;background-color: #f0f8ff;}#sk-container-id-4 input.sk-toggleable__control:checked~div.sk-toggleable__content {max-height: 200px;max-width: 100%;overflow: auto;}#sk-container-id-4 input.sk-toggleable__control:checked~label.sk-toggleable__label-arrow:before {content: \"▾\";}#sk-container-id-4 div.sk-estimator input.sk-toggleable__control:checked~label.sk-toggleable__label {background-color: #d4ebff;}#sk-container-id-4 div.sk-label input.sk-toggleable__control:checked~label.sk-toggleable__label {background-color: #d4ebff;}#sk-container-id-4 input.sk-hidden--visually {border: 0;clip: rect(1px 1px 1px 1px);clip: rect(1px, 1px, 1px, 1px);height: 1px;margin: -1px;overflow: hidden;padding: 0;position: absolute;width: 1px;}#sk-container-id-4 div.sk-estimator {font-family: monospace;background-color: #f0f8ff;border: 1px dotted black;border-radius: 0.25em;box-sizing: border-box;margin-bottom: 0.5em;}#sk-container-id-4 div.sk-estimator:hover {background-color: #d4ebff;}#sk-container-id-4 div.sk-parallel-item::after {content: \"\";width: 100%;border-bottom: 1px solid gray;flex-grow: 1;}#sk-container-id-4 div.sk-label:hover label.sk-toggleable__label {background-color: #d4ebff;}#sk-container-id-4 div.sk-serial::before {content: \"\";position: absolute;border-left: 1px solid gray;box-sizing: border-box;top: 0;bottom: 0;left: 50%;z-index: 0;}#sk-container-id-4 div.sk-serial {display: flex;flex-direction: column;align-items: center;background-color: white;padding-right: 0.2em;padding-left: 0.2em;position: relative;}#sk-container-id-4 div.sk-item {position: relative;z-index: 1;}#sk-container-id-4 div.sk-parallel {display: flex;align-items: stretch;justify-content: center;background-color: white;position: relative;}#sk-container-id-4 div.sk-item::before, #sk-container-id-4 div.sk-parallel-item::before {content: \"\";position: absolute;border-left: 1px solid gray;box-sizing: border-box;top: 0;bottom: 0;left: 50%;z-index: -1;}#sk-container-id-4 div.sk-parallel-item {display: flex;flex-direction: column;z-index: 1;position: relative;background-color: white;}#sk-container-id-4 div.sk-parallel-item:first-child::after {align-self: flex-end;width: 50%;}#sk-container-id-4 div.sk-parallel-item:last-child::after {align-self: flex-start;width: 50%;}#sk-container-id-4 div.sk-parallel-item:only-child::after {width: 0;}#sk-container-id-4 div.sk-dashed-wrapped {border: 1px dashed gray;margin: 0 0.4em 0.5em 0.4em;box-sizing: border-box;padding-bottom: 0.4em;background-color: white;}#sk-container-id-4 div.sk-label label {font-family: monospace;font-weight: bold;display: inline-block;line-height: 1.2em;}#sk-container-id-4 div.sk-label-container {text-align: center;}#sk-container-id-4 div.sk-container {/* jupyter's `normalize.less` sets `[hidden] { display: none; }` but bootstrap.min.css set `[hidden] { display: none !important; }` so we also need the `!important` here to be able to override the default hidden behavior on the sphinx rendered scikit-learn.org. See: https://github.com/scikit-learn/scikit-learn/issues/21755 */display: inline-block !important;position: relative;}#sk-container-id-4 div.sk-text-repr-fallback {display: none;}</style><div id=\"sk-container-id-4\" class=\"sk-top-container\"><div class=\"sk-text-repr-fallback\"><pre>LogisticRegression(C=10000000000.0, max_iter=500, random_state=5, solver=&#x27;saga&#x27;)</pre><b>In a Jupyter environment, please rerun this cell to show the HTML representation or trust the notebook. <br />On GitHub, the HTML representation is unable to render, please try loading this page with nbviewer.org.</b></div><div class=\"sk-container\" hidden><div class=\"sk-item\"><div class=\"sk-estimator sk-toggleable\"><input class=\"sk-toggleable__control sk-hidden--visually\" id=\"sk-estimator-id-4\" type=\"checkbox\" checked><label for=\"sk-estimator-id-4\" class=\"sk-toggleable__label sk-toggleable__label-arrow\">LogisticRegression</label><div class=\"sk-toggleable__content\"><pre>LogisticRegression(C=10000000000.0, max_iter=500, random_state=5, solver=&#x27;saga&#x27;)</pre></div></div></div></div></div>"
      ],
      "text/plain": [
       "LogisticRegression(C=10000000000.0, max_iter=500, random_state=5, solver='saga')"
      ]
     },
     "execution_count": 179,
     "metadata": {},
     "output_type": "execute_result"
    }
   ],
   "source": [
    "logreg_best.fit(X_train_log_final, y_train_log)"
   ]
  },
  {
   "cell_type": "code",
   "execution_count": 180,
   "metadata": {},
   "outputs": [],
   "source": [
    "# cross validation\n",
    "\n",
    "cv_results = cross_validate(\n",
    "                    estimator=logreg_best,\n",
    "                    X=X_train_log_final,\n",
    "                    y=y_train_log,\n",
    "                    cv=5,\n",
    "                    return_train_score=True\n",
    ")"
   ]
  },
  {
   "cell_type": "code",
   "execution_count": 181,
   "metadata": {},
   "outputs": [
    {
     "data": {
      "text/plain": [
       "array([0.54357059, 0.54377928, 0.54229188, 0.54290753, 0.5444623 ])"
      ]
     },
     "execution_count": 181,
     "metadata": {},
     "output_type": "execute_result"
    }
   ],
   "source": [
    "cv_results['train_score']"
   ]
  },
  {
   "cell_type": "code",
   "execution_count": 182,
   "metadata": {},
   "outputs": [
    {
     "data": {
      "text/plain": [
       "array([0.542051  , 0.54221796, 0.54749979, 0.54161449, 0.53969447])"
      ]
     },
     "execution_count": 182,
     "metadata": {},
     "output_type": "execute_result"
    }
   ],
   "source": [
    "cv_results['test_score']"
   ]
  },
  {
   "cell_type": "markdown",
   "metadata": {},
   "source": [
    "Run preprocessing steps on the test data set"
   ]
  },
  {
   "cell_type": "code",
   "execution_count": 183,
   "metadata": {},
   "outputs": [],
   "source": [
    "# get numeric features for scaling\n",
    "\n",
    "X_test_log_num = X_test_log[['horiz_loc', 'vert_loc', 'start_speed', 'spin_rate', 'spin_dir']].copy()\n",
    "#X_test_log_num"
   ]
  },
  {
   "cell_type": "code",
   "execution_count": 184,
   "metadata": {},
   "outputs": [],
   "source": [
    "# scale using MinMaxScaler with maximum value of 1 and minimum value of 0\n",
    "\n",
    "scaler = MinMaxScaler()\n",
    "\n",
    "scaler.fit(X_test_log_num)\n",
    "X_test_log_scaled = pd.DataFrame(\n",
    "    scaler.transform(X_test_log_num),\n",
    "    index=X_test_log_num.index,\n",
    "    columns=X_test_log_num.columns)\n",
    "\n",
    "#X_test_log_scaled"
   ]
  },
  {
   "cell_type": "code",
   "execution_count": 185,
   "metadata": {},
   "outputs": [
    {
     "data": {
      "text/html": [
       "<div>\n",
       "<style scoped>\n",
       "    .dataframe tbody tr th:only-of-type {\n",
       "        vertical-align: middle;\n",
       "    }\n",
       "\n",
       "    .dataframe tbody tr th {\n",
       "        vertical-align: top;\n",
       "    }\n",
       "\n",
       "    .dataframe thead th {\n",
       "        text-align: right;\n",
       "    }\n",
       "</style>\n",
       "<table border=\"1\" class=\"dataframe\">\n",
       "  <thead>\n",
       "    <tr style=\"text-align: right;\">\n",
       "      <th></th>\n",
       "      <th>horiz_loc</th>\n",
       "      <th>vert_loc</th>\n",
       "      <th>start_speed</th>\n",
       "      <th>spin_rate</th>\n",
       "      <th>spin_dir</th>\n",
       "      <th>pitch_type_Changeup</th>\n",
       "      <th>pitch_type_Curveball</th>\n",
       "      <th>pitch_type_Knuckle Curve</th>\n",
       "      <th>pitch_type_Slider</th>\n",
       "      <th>pitch_type_Splitter</th>\n",
       "    </tr>\n",
       "  </thead>\n",
       "  <tbody>\n",
       "    <tr>\n",
       "      <th>94085</th>\n",
       "      <td>0.501231</td>\n",
       "      <td>0.483407</td>\n",
       "      <td>0.716381</td>\n",
       "      <td>0.454289</td>\n",
       "      <td>0.691305</td>\n",
       "      <td>0.0</td>\n",
       "      <td>0.0</td>\n",
       "      <td>0.0</td>\n",
       "      <td>0.0</td>\n",
       "      <td>1.0</td>\n",
       "    </tr>\n",
       "    <tr>\n",
       "      <th>112489</th>\n",
       "      <td>0.492298</td>\n",
       "      <td>0.458475</td>\n",
       "      <td>0.572127</td>\n",
       "      <td>0.273165</td>\n",
       "      <td>0.630859</td>\n",
       "      <td>0.0</td>\n",
       "      <td>0.0</td>\n",
       "      <td>0.0</td>\n",
       "      <td>0.0</td>\n",
       "      <td>1.0</td>\n",
       "    </tr>\n",
       "    <tr>\n",
       "      <th>142562</th>\n",
       "      <td>0.429186</td>\n",
       "      <td>0.459543</td>\n",
       "      <td>0.801956</td>\n",
       "      <td>0.211545</td>\n",
       "      <td>0.619201</td>\n",
       "      <td>1.0</td>\n",
       "      <td>0.0</td>\n",
       "      <td>0.0</td>\n",
       "      <td>0.0</td>\n",
       "      <td>0.0</td>\n",
       "    </tr>\n",
       "    <tr>\n",
       "      <th>72897</th>\n",
       "      <td>0.494035</td>\n",
       "      <td>0.619092</td>\n",
       "      <td>0.833741</td>\n",
       "      <td>0.440634</td>\n",
       "      <td>0.718407</td>\n",
       "      <td>1.0</td>\n",
       "      <td>0.0</td>\n",
       "      <td>0.0</td>\n",
       "      <td>0.0</td>\n",
       "      <td>0.0</td>\n",
       "    </tr>\n",
       "    <tr>\n",
       "      <th>112285</th>\n",
       "      <td>0.493290</td>\n",
       "      <td>0.497790</td>\n",
       "      <td>0.652812</td>\n",
       "      <td>0.496008</td>\n",
       "      <td>0.302980</td>\n",
       "      <td>1.0</td>\n",
       "      <td>0.0</td>\n",
       "      <td>0.0</td>\n",
       "      <td>0.0</td>\n",
       "      <td>0.0</td>\n",
       "    </tr>\n",
       "    <tr>\n",
       "      <th>...</th>\n",
       "      <td>...</td>\n",
       "      <td>...</td>\n",
       "      <td>...</td>\n",
       "      <td>...</td>\n",
       "      <td>...</td>\n",
       "      <td>...</td>\n",
       "      <td>...</td>\n",
       "      <td>...</td>\n",
       "      <td>...</td>\n",
       "      <td>...</td>\n",
       "    </tr>\n",
       "    <tr>\n",
       "      <th>48878</th>\n",
       "      <td>0.541304</td>\n",
       "      <td>0.579177</td>\n",
       "      <td>0.723716</td>\n",
       "      <td>0.231076</td>\n",
       "      <td>0.398863</td>\n",
       "      <td>0.0</td>\n",
       "      <td>0.0</td>\n",
       "      <td>0.0</td>\n",
       "      <td>1.0</td>\n",
       "      <td>0.0</td>\n",
       "    </tr>\n",
       "    <tr>\n",
       "      <th>221325</th>\n",
       "      <td>0.568778</td>\n",
       "      <td>0.463721</td>\n",
       "      <td>0.559902</td>\n",
       "      <td>0.427003</td>\n",
       "      <td>0.157756</td>\n",
       "      <td>0.0</td>\n",
       "      <td>1.0</td>\n",
       "      <td>0.0</td>\n",
       "      <td>0.0</td>\n",
       "      <td>0.0</td>\n",
       "    </tr>\n",
       "    <tr>\n",
       "      <th>64988</th>\n",
       "      <td>0.461157</td>\n",
       "      <td>0.454640</td>\n",
       "      <td>0.704156</td>\n",
       "      <td>0.349632</td>\n",
       "      <td>0.668651</td>\n",
       "      <td>1.0</td>\n",
       "      <td>0.0</td>\n",
       "      <td>0.0</td>\n",
       "      <td>0.0</td>\n",
       "      <td>0.0</td>\n",
       "    </tr>\n",
       "    <tr>\n",
       "      <th>241915</th>\n",
       "      <td>0.479800</td>\n",
       "      <td>0.553637</td>\n",
       "      <td>0.611247</td>\n",
       "      <td>0.480144</td>\n",
       "      <td>0.087923</td>\n",
       "      <td>0.0</td>\n",
       "      <td>0.0</td>\n",
       "      <td>1.0</td>\n",
       "      <td>0.0</td>\n",
       "      <td>0.0</td>\n",
       "    </tr>\n",
       "    <tr>\n",
       "      <th>226061</th>\n",
       "      <td>0.544886</td>\n",
       "      <td>0.511406</td>\n",
       "      <td>0.694377</td>\n",
       "      <td>0.217044</td>\n",
       "      <td>0.247574</td>\n",
       "      <td>0.0</td>\n",
       "      <td>0.0</td>\n",
       "      <td>0.0</td>\n",
       "      <td>1.0</td>\n",
       "      <td>0.0</td>\n",
       "    </tr>\n",
       "  </tbody>\n",
       "</table>\n",
       "<p>29948 rows × 10 columns</p>\n",
       "</div>"
      ],
      "text/plain": [
       "        horiz_loc  vert_loc  start_speed  spin_rate  spin_dir  \\\n",
       "94085    0.501231  0.483407     0.716381   0.454289  0.691305   \n",
       "112489   0.492298  0.458475     0.572127   0.273165  0.630859   \n",
       "142562   0.429186  0.459543     0.801956   0.211545  0.619201   \n",
       "72897    0.494035  0.619092     0.833741   0.440634  0.718407   \n",
       "112285   0.493290  0.497790     0.652812   0.496008  0.302980   \n",
       "...           ...       ...          ...        ...       ...   \n",
       "48878    0.541304  0.579177     0.723716   0.231076  0.398863   \n",
       "221325   0.568778  0.463721     0.559902   0.427003  0.157756   \n",
       "64988    0.461157  0.454640     0.704156   0.349632  0.668651   \n",
       "241915   0.479800  0.553637     0.611247   0.480144  0.087923   \n",
       "226061   0.544886  0.511406     0.694377   0.217044  0.247574   \n",
       "\n",
       "        pitch_type_Changeup  pitch_type_Curveball  pitch_type_Knuckle Curve  \\\n",
       "94085                   0.0                   0.0                       0.0   \n",
       "112489                  0.0                   0.0                       0.0   \n",
       "142562                  1.0                   0.0                       0.0   \n",
       "72897                   1.0                   0.0                       0.0   \n",
       "112285                  1.0                   0.0                       0.0   \n",
       "...                     ...                   ...                       ...   \n",
       "48878                   0.0                   0.0                       0.0   \n",
       "221325                  0.0                   1.0                       0.0   \n",
       "64988                   1.0                   0.0                       0.0   \n",
       "241915                  0.0                   0.0                       1.0   \n",
       "226061                  0.0                   0.0                       0.0   \n",
       "\n",
       "        pitch_type_Slider  pitch_type_Splitter  \n",
       "94085                 0.0                  1.0  \n",
       "112489                0.0                  1.0  \n",
       "142562                0.0                  0.0  \n",
       "72897                 0.0                  0.0  \n",
       "112285                0.0                  0.0  \n",
       "...                   ...                  ...  \n",
       "48878                 1.0                  0.0  \n",
       "221325                0.0                  0.0  \n",
       "64988                 0.0                  0.0  \n",
       "241915                0.0                  0.0  \n",
       "226061                1.0                  0.0  \n",
       "\n",
       "[29948 rows x 10 columns]"
      ]
     },
     "execution_count": 185,
     "metadata": {},
     "output_type": "execute_result"
    }
   ],
   "source": [
    "# replace the pitch type column with the encoded columns for pitch types\n",
    "\n",
    "X_test_log_final = X_test_log.drop(['horiz_loc', 'vert_loc', 'start_speed', 'spin_rate', 'spin_dir'], axis=1)\n",
    "X_test_log_final = pd.concat([X_test_log_scaled, X_test_log_final], axis=1)\n",
    "X_test_log_final"
   ]
  },
  {
   "cell_type": "code",
   "execution_count": 186,
   "metadata": {},
   "outputs": [
    {
     "name": "stdout",
     "output_type": "stream",
     "text": [
      "Accuracy: 54.67476960064111\n"
     ]
    }
   ],
   "source": [
    "# predict y and find accuracy\n",
    "\n",
    "y_pred_log = logreg_best.predict(X_test_log_final)\n",
    "\n",
    "acc_log_bal = accuracy_score(y_test_log, y_pred_log) * 100\n",
    "print(\"Accuracy: {0}\".format(acc_log_bal))"
   ]
  },
  {
   "cell_type": "code",
   "execution_count": 187,
   "metadata": {},
   "outputs": [
    {
     "name": "stdout",
     "output_type": "stream",
     "text": [
      "ROC-AUC score: 54.69184333120416\n"
     ]
    }
   ],
   "source": [
    "# check ROC-AUC score\n",
    "\n",
    "roc_auc = roc_auc_score(y_test_log, y_pred_log) * 100\n",
    "print(\"ROC-AUC score: {0}\".format(roc_auc))"
   ]
  },
  {
   "cell_type": "code",
   "execution_count": 188,
   "metadata": {},
   "outputs": [
    {
     "data": {
      "image/png": "[encoded data removed]",
      "text/plain": [
       "<Figure size 360x360 with 2 Axes>"
      ]
     },
     "metadata": {},
     "output_type": "display_data"
    }
   ],
   "source": [
    "# plot confusion matrix\n",
    "\n",
    "cm = confusion_matrix(y_test_log, y_pred_log, labels=logreg_best.classes_)\n",
    "cm_disp = ConfusionMatrixDisplay(confusion_matrix=cm, display_labels=logreg_best.classes_)\n",
    "fig, ax = plt.subplots(figsize=(5, 5))\n",
    "ax.grid(False)\n",
    "cm_disp.plot(ax=ax);"
   ]
  },
  {
   "cell_type": "markdown",
   "metadata": {},
   "source": [
    "The logistic regression wasn't as accurate on the balanced data, specifically predicting more events without an out, including more false negatives."
   ]
  },
  {
   "cell_type": "markdown",
   "metadata": {},
   "source": [
    "### k-Nearest Neighbors"
   ]
  },
  {
   "cell_type": "code",
   "execution_count": 189,
   "metadata": {},
   "outputs": [],
   "source": [
    "# define X and y and perform train test split with 20% in test set\n",
    "\n",
    "X_knn = df_balanced.drop('out_made', axis=1)\n",
    "y_knn = df_balanced['out_made']\n",
    "\n",
    "X_train_knn, X_test_knn, y_train_knn, y_test_knn = train_test_split(X_knn, y_knn, test_size=0.2, random_state=11)"
   ]
  },
  {
   "cell_type": "code",
   "execution_count": 190,
   "metadata": {},
   "outputs": [],
   "source": [
    "# split training data into train and validation sets\n",
    "\n",
    "X_t_knn, X_val_knn, y_t_knn, y_val_knn = train_test_split(X_train_knn, y_train_knn,\n",
    "                                          random_state=11,\n",
    "                                          test_size=0.2)"
   ]
  },
  {
   "cell_type": "code",
   "execution_count": 191,
   "metadata": {},
   "outputs": [],
   "source": [
    "# instantiate the k-Nearest Neighbors model\n",
    "\n",
    "knn = KNeighborsClassifier(n_neighbors=15)"
   ]
  },
  {
   "cell_type": "code",
   "execution_count": 192,
   "metadata": {},
   "outputs": [
    {
     "name": "stdout",
     "output_type": "stream",
     "text": [
      "training accuracy: 0.6422631035238383\n",
      "Val accuracy: 0.5527776618389749\n"
     ]
    }
   ],
   "source": [
    "# use standard scaler to scale X variables\n",
    "\n",
    "ss = StandardScaler()\n",
    "X_ind = X_t_knn.index\n",
    "X_col = X_t_knn.columns\n",
    "\n",
    "X_t_knn_s = pd.DataFrame(ss.fit_transform(X_t_knn))\n",
    "X_t_knn_s.index = X_ind\n",
    "X_t_knn_s.columns = X_col\n",
    "\n",
    "X_val_ind = X_val_knn.index\n",
    "X_val_knn_s = pd.DataFrame(ss.transform(X_val_knn))\n",
    "X_val_knn_s.index = X_val_ind\n",
    "X_val_knn_s.columns = X_col\n",
    "\n",
    "knn.fit(X_t_knn_s, y_t_knn)\n",
    "print(f\"training accuracy: {knn.score(X_t_knn_s, y_t_knn)}\")\n",
    "print(f\"Val accuracy: {knn.score(X_val_knn_s, y_val_knn)}\")\n"
   ]
  },
  {
   "cell_type": "code",
   "execution_count": 193,
   "metadata": {},
   "outputs": [],
   "source": [
    "# try different k values to see what happens to the accuracy scores\n",
    "\n",
    "k_scores_train = {}\n",
    "k_scores_val = {}\n",
    "\n",
    "for k in range(1, 16):\n",
    "    knn = KNeighborsClassifier(n_neighbors=k)\n",
    "    accuracy_score_t = []\n",
    "    accuracy_score_v = []\n",
    "      \n",
    "    knn.fit(X_t_knn_s, y_t_knn)\n",
    "        \n",
    "    y_pred_t_knn = knn.predict(X_t_knn_s)\n",
    "    y_pred_val_knn = knn.predict(X_val_knn_s)\n",
    "        \n",
    "    accuracy_score_t.append(accuracy_score(y_t_knn, y_pred_t_knn))\n",
    "    accuracy_score_v.append(accuracy_score(y_val_knn, y_pred_val_knn))\n",
    "               \n",
    "    k_scores_train[k] = np.mean(accuracy_score_t)\n",
    "    k_scores_val[k] = np.mean(accuracy_score_v)"
   ]
  },
  {
   "cell_type": "code",
   "execution_count": 194,
   "metadata": {},
   "outputs": [
    {
     "data": {
      "text/plain": [
       "{1: 1.0,\n",
       " 2: 0.7671157117068234,\n",
       " 3: 0.7681800632350025,\n",
       " 4: 0.7123224776434005,\n",
       " 5: 0.7130111756910459,\n",
       " 6: 0.6859536902737053,\n",
       " 7: 0.6861415170139722,\n",
       " 8: 0.6698527647052686,\n",
       " 9: 0.6690805881063934,\n",
       " 10: 0.6564544572328948,\n",
       " 11: 0.6571327204616364,\n",
       " 12: 0.6481796458422464,\n",
       " 13: 0.6478457316373274,\n",
       " 14: 0.6417309277597487,\n",
       " 15: 0.6422631035238383}"
      ]
     },
     "execution_count": 194,
     "metadata": {},
     "output_type": "execute_result"
    }
   ],
   "source": [
    "k_scores_train"
   ]
  },
  {
   "cell_type": "code",
   "execution_count": 195,
   "metadata": {},
   "outputs": [
    {
     "data": {
      "text/plain": [
       "{1: 0.5271505488542928,\n",
       " 2: 0.5274427146375057,\n",
       " 3: 0.5385032764305688,\n",
       " 4: 0.5348720731249217,\n",
       " 5: 0.5412162444175467,\n",
       " 6: 0.5406736508201511,\n",
       " 7: 0.5477691055553237,\n",
       " 8: 0.5459743728870153,\n",
       " 9: 0.548186485245628,\n",
       " 10: 0.5463917525773195,\n",
       " 11: 0.5491047205642974,\n",
       " 12: 0.5519846404273968,\n",
       " 13: 0.552694185900914,\n",
       " 14: 0.5518594265203055,\n",
       " 15: 0.5527776618389749}"
      ]
     },
     "execution_count": 195,
     "metadata": {},
     "output_type": "execute_result"
    }
   ],
   "source": [
    "k_scores_val"
   ]
  },
  {
   "cell_type": "code",
   "execution_count": 196,
   "metadata": {},
   "outputs": [
    {
     "data": {
      "image/png": "[encoded data removed]",
      "text/plain": [
       "<Figure size 864x576 with 1 Axes>"
      ]
     },
     "metadata": {},
     "output_type": "display_data"
    }
   ],
   "source": [
    "fig, ax = plt.subplots(figsize=(12, 8))\n",
    "\n",
    "ax.plot(list(k_scores_train.keys()), list(k_scores_train.values()),\n",
    "        color='red', linestyle='dashed', marker='o',  \n",
    "         markerfacecolor='blue', markersize=10, label='Train')\n",
    "ax.plot(list(k_scores_val.keys()), list(k_scores_val.values()),\n",
    "        color='black', linestyle='dashed', marker='o',  \n",
    "         markerfacecolor='blue', markersize=10, label='Val')\n",
    "ax.set_xlabel('k')\n",
    "ax.set_ylabel('Accuracy')\n",
    "plt.legend();"
   ]
  },
  {
   "cell_type": "code",
   "execution_count": 197,
   "metadata": {},
   "outputs": [],
   "source": [
    "# use standard scaler to scale X_test variables\n",
    "\n",
    "X_ind = X_test_knn.index\n",
    "X_col = X_test_knn.columns\n",
    "\n",
    "X_test_knn_s = pd.DataFrame(ss.transform(X_test_knn))\n",
    "X_test_knn_s.index = X_ind\n",
    "X_test_knn_s.columns = X_col\n"
   ]
  },
  {
   "cell_type": "code",
   "execution_count": 198,
   "metadata": {},
   "outputs": [
    {
     "name": "stdout",
     "output_type": "stream",
     "text": [
      "Accuracy: 55.80005342593829\n"
     ]
    }
   ],
   "source": [
    "# predict y and find accuracy\n",
    "\n",
    "y_pred_knn = knn.predict(X_test_knn_s)\n",
    "\n",
    "acc_knn_bal = accuracy_score(y_test_knn, y_pred_knn) * 100\n",
    "print(\"Accuracy: {0}\".format(acc_knn_bal))"
   ]
  },
  {
   "cell_type": "markdown",
   "metadata": {},
   "source": [
    "Comparison of accuracy scores from the models using the balanced data:"
   ]
  },
  {
   "cell_type": "code",
   "execution_count": 199,
   "metadata": {},
   "outputs": [
    {
     "name": "stdout",
     "output_type": "stream",
     "text": [
      "Decision Tree Accuracy:            56.0 %\n",
      "Light GBM Accuracy:                58.2 %\n",
      "Logistic Regression Accuracy:      54.7 %\n",
      "k-Nearest Neighbor Accuracy:       55.8 %\n"
     ]
    }
   ],
   "source": [
    "print(\"Decision Tree Accuracy:           \", round((acc_dt_grid_bal), ndigits=1), \"%\")\n",
    "print(\"Light GBM Accuracy:               \", round((acc_lgbm_bal), ndigits=1), \"%\")\n",
    "print(\"Logistic Regression Accuracy:     \", round((acc_log_bal), ndigits=1), \"%\")\n",
    "print(\"k-Nearest Neighbor Accuracy:      \", round((acc_knn_bal), ndigits=1), \"%\")"
   ]
  },
  {
   "cell_type": "markdown",
   "metadata": {},
   "source": [
    "### Assessment"
   ]
  },
  {
   "cell_type": "markdown",
   "metadata": {},
   "source": [
    "Balancing the data allows all of the models to perform better in predicting the outcome of an at bat compared to the 50% chance of being correct.  The Decision Tree model has a bit higher accuracy than the Light GBM, but both of those perform the best."
   ]
  }
 ],
 "metadata": {
  "kernelspec": {
   "display_name": "learn-env",
   "language": "python",
   "name": "python3"
  },
  "language_info": {
   "codemirror_mode": {
    "name": "ipython",
    "version": 3
   },
   "file_extension": ".py",
   "mimetype": "text/x-python",
   "name": "python",
   "nbconvert_exporter": "python",
   "pygments_lexer": "ipython3",
   "version": "3.8.5"
  }
 },
 "nbformat": 4,
 "nbformat_minor": 2
}
