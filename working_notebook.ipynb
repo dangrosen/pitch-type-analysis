{
 "cells": [
  {
   "cell_type": "markdown",
   "metadata": {},
   "source": [
    "# MLB Pitch Type Analysis"
   ]
  },
  {
   "cell_type": "markdown",
   "metadata": {},
   "source": []
  },
  {
   "cell_type": "markdown",
   "metadata": {},
   "source": [
    "## Overview"
   ]
  },
  {
   "cell_type": "markdown",
   "metadata": {},
   "source": []
  },
  {
   "cell_type": "markdown",
   "metadata": {},
   "source": [
    "## Business Problem"
   ]
  },
  {
   "cell_type": "markdown",
   "metadata": {},
   "source": []
  },
  {
   "cell_type": "code",
   "execution_count": 2,
   "metadata": {},
   "outputs": [],
   "source": [
    "# import packages\n",
    "\n",
    "import numpy as np\n",
    "import pandas as pd\n",
    "from collections import defaultdict\n",
    "\n",
    "from sklearn.model_selection import train_test_split, cross_val_score, GridSearchCV\n",
    "from sklearn.pipeline import Pipeline\n",
    "from sklearn.preprocessing import StandardScaler, OneHotEncoder\n",
    "from sklearn.feature_extraction.text import CountVectorizer, TfidfVectorizer\n",
    "from sklearn.dummy import DummyClassifier\n",
    "from sklearn.tree import DecisionTreeRegressor, DecisionTreeClassifier, plot_tree\n",
    "from sklearn.ensemble import RandomForestClassifier\n",
    "from sklearn.naive_bayes import MultinomialNB\n",
    "from sklearn.metrics import log_loss, accuracy_score\n",
    "from sklearn.metrics import classification_report, confusion_matrix, ConfusionMatrixDisplay\n",
    "from sklearn.metrics import roc_curve, roc_auc_score, RocCurveDisplay\n",
    "\n",
    "import nltk\n",
    "from nltk.probability import FreqDist\n",
    "from nltk.corpus import stopwords, wordnet\n",
    "from nltk.tokenize import regexp_tokenize, word_tokenize, RegexpTokenizer\n",
    "from nltk.stem import WordNetLemmatizer\n",
    "from nltk import pos_tag\n",
    "\n",
    "import matplotlib.pyplot as plt\n",
    "import seaborn as sns\n",
    "import string\n",
    "import re\n",
    "\n",
    "import os\n",
    "import sys\n",
    "module_path = os.path.abspath(os.path.join(os.pardir, os.pardir))\n",
    "if module_path not in sys.path:\n",
    "    sys.path.append(module_path)"
   ]
  },
  {
   "cell_type": "markdown",
   "metadata": {},
   "source": [
    "## Data Overview"
   ]
  },
  {
   "cell_type": "markdown",
   "metadata": {},
   "source": []
  },
  {
   "cell_type": "code",
   "execution_count": 3,
   "metadata": {},
   "outputs": [],
   "source": [
    "# read in datasets\n",
    "\n",
    "atbats = pd.read_csv('Data/atbats.csv')\n",
    "pitches = pd.read_csv('Data/pitches.csv')\n",
    "atbats19 = pd.read_csv('Data/2019_atbats.csv')\n",
    "pitches19 = pd.read_csv('Data/2019_pitches.csv')"
   ]
  },
  {
   "cell_type": "code",
   "execution_count": 4,
   "metadata": {},
   "outputs": [
    {
     "name": "stdout",
     "output_type": "stream",
     "text": [
      "<class 'pandas.core.frame.DataFrame'>\n",
      "RangeIndex: 740389 entries, 0 to 740388\n",
      "Data columns (total 11 columns):\n",
      " #   Column      Non-Null Count   Dtype \n",
      "---  ------      --------------   ----- \n",
      " 0   ab_id       740389 non-null  int64 \n",
      " 1   batter_id   740389 non-null  int64 \n",
      " 2   event       740389 non-null  object\n",
      " 3   g_id        740389 non-null  int64 \n",
      " 4   inning      740389 non-null  int64 \n",
      " 5   o           740389 non-null  int64 \n",
      " 6   p_score     740389 non-null  int64 \n",
      " 7   p_throws    740389 non-null  object\n",
      " 8   pitcher_id  740389 non-null  int64 \n",
      " 9   stand       740389 non-null  object\n",
      " 10  top         740389 non-null  bool  \n",
      "dtypes: bool(1), int64(7), object(3)\n",
      "memory usage: 57.2+ MB\n"
     ]
    }
   ],
   "source": [
    "atbats.info()"
   ]
  },
  {
   "cell_type": "code",
   "execution_count": 5,
   "metadata": {},
   "outputs": [
    {
     "name": "stdout",
     "output_type": "stream",
     "text": [
      "<class 'pandas.core.frame.DataFrame'>\n",
      "RangeIndex: 185245 entries, 0 to 185244\n",
      "Data columns (total 11 columns):\n",
      " #   Column      Non-Null Count   Dtype \n",
      "---  ------      --------------   ----- \n",
      " 0   inning      185245 non-null  int64 \n",
      " 1   top         185245 non-null  int64 \n",
      " 2   ab_id       185245 non-null  int64 \n",
      " 3   g_id        185245 non-null  int64 \n",
      " 4   p_score     185245 non-null  int64 \n",
      " 5   batter_id   185245 non-null  int64 \n",
      " 6   pitcher_id  185245 non-null  int64 \n",
      " 7   stand       185245 non-null  object\n",
      " 8   p_throws    185245 non-null  object\n",
      " 9   event       185245 non-null  object\n",
      " 10  o           185245 non-null  int64 \n",
      "dtypes: int64(8), object(3)\n",
      "memory usage: 15.5+ MB\n"
     ]
    }
   ],
   "source": [
    "atbats19.info()"
   ]
  },
  {
   "cell_type": "code",
   "execution_count": 6,
   "metadata": {},
   "outputs": [
    {
     "name": "stdout",
     "output_type": "stream",
     "text": [
      "<class 'pandas.core.frame.DataFrame'>\n",
      "RangeIndex: 740389 entries, 0 to 740388\n",
      "Data columns (total 11 columns):\n",
      " #   Column      Non-Null Count   Dtype \n",
      "---  ------      --------------   ----- \n",
      " 0   inning      740389 non-null  int64 \n",
      " 1   top         740389 non-null  bool  \n",
      " 2   ab_id       740389 non-null  int64 \n",
      " 3   g_id        740389 non-null  int64 \n",
      " 4   p_score     740389 non-null  int64 \n",
      " 5   batter_id   740389 non-null  int64 \n",
      " 6   pitcher_id  740389 non-null  int64 \n",
      " 7   stand       740389 non-null  object\n",
      " 8   p_throws    740389 non-null  object\n",
      " 9   event       740389 non-null  object\n",
      " 10  o           740389 non-null  int64 \n",
      "dtypes: bool(1), int64(7), object(3)\n",
      "memory usage: 57.2+ MB\n"
     ]
    }
   ],
   "source": [
    "# rearrange columns in atbats to match column order of atbats19\n",
    "\n",
    "atbats = atbats[['inning', 'top', 'ab_id', 'g_id', 'p_score', 'batter_id', 'pitcher_id', 'stand', 'p_throws', 'event', 'o']]\n",
    "atbats.info()"
   ]
  },
  {
   "cell_type": "code",
   "execution_count": 7,
   "metadata": {},
   "outputs": [
    {
     "name": "stdout",
     "output_type": "stream",
     "text": [
      "<class 'pandas.core.frame.DataFrame'>\n",
      "RangeIndex: 925634 entries, 0 to 925633\n",
      "Data columns (total 11 columns):\n",
      " #   Column      Non-Null Count   Dtype \n",
      "---  ------      --------------   ----- \n",
      " 0   inning      925634 non-null  int64 \n",
      " 1   top         925634 non-null  int64 \n",
      " 2   ab_id       925634 non-null  int64 \n",
      " 3   g_id        925634 non-null  int64 \n",
      " 4   p_score     925634 non-null  int64 \n",
      " 5   batter_id   925634 non-null  int64 \n",
      " 6   pitcher_id  925634 non-null  int64 \n",
      " 7   stand       925634 non-null  object\n",
      " 8   p_throws    925634 non-null  object\n",
      " 9   event       925634 non-null  object\n",
      " 10  o           925634 non-null  int64 \n",
      "dtypes: int64(8), object(3)\n",
      "memory usage: 77.7+ MB\n"
     ]
    }
   ],
   "source": [
    "# concatenate the two atbats Dataframes\n",
    "\n",
    "atbats_all = pd.concat([atbats, atbats19], ignore_index=True, sort=False)\n",
    "atbats_all.info()"
   ]
  },
  {
   "cell_type": "code",
   "execution_count": 8,
   "metadata": {},
   "outputs": [],
   "source": [
    "# drop columns in atbats_all DataFrame that aren't useful\n",
    "\n",
    "atbats_all = atbats_all.drop(['top', 'p_score', 'o'], axis=1)"
   ]
  },
  {
   "cell_type": "code",
   "execution_count": 9,
   "metadata": {},
   "outputs": [],
   "source": [
    "# rename some columns in pitches to match those that I renamed in the pitches19 csz before importing\n",
    "\n",
    "pitches.rename(columns = {'px': 'horiz_loc', 'pz': 'vert_loc', 'pfx_x': 'horiz_move', 'pfx_z': 'vert_move'}, inplace=True)"
   ]
  },
  {
   "cell_type": "code",
   "execution_count": 10,
   "metadata": {},
   "outputs": [
    {
     "name": "stdout",
     "output_type": "stream",
     "text": [
      "<class 'pandas.core.frame.DataFrame'>\n",
      "RangeIndex: 3595944 entries, 0 to 3595943\n",
      "Data columns (total 40 columns):\n",
      " #   Column           Dtype  \n",
      "---  ------           -----  \n",
      " 0   horiz_loc        float64\n",
      " 1   vert_loc         float64\n",
      " 2   start_speed      float64\n",
      " 3   end_speed        float64\n",
      " 4   spin_rate        object \n",
      " 5   spin_dir         object \n",
      " 6   break_angle      float64\n",
      " 7   break_length     float64\n",
      " 8   break_y          float64\n",
      " 9   ax               float64\n",
      " 10  ay               float64\n",
      " 11  az               float64\n",
      " 12  sz_bot           float64\n",
      " 13  sz_top           float64\n",
      " 14  type_confidence  object \n",
      " 15  vx0              float64\n",
      " 16  vy0              float64\n",
      " 17  vz0              float64\n",
      " 18  x                object \n",
      " 19  x0               float64\n",
      " 20  y                object \n",
      " 21  y0               float64\n",
      " 22  z0               float64\n",
      " 23  horiz_move       float64\n",
      " 24  vert_move        float64\n",
      " 25  nasty            float64\n",
      " 26  zone             object \n",
      " 27  code             object \n",
      " 28  type             object \n",
      " 29  pitch_type       object \n",
      " 30  event_num        int64  \n",
      " 31  b_score          float64\n",
      " 32  ab_id            float64\n",
      " 33  b_count          float64\n",
      " 34  s_count          float64\n",
      " 35  outs             float64\n",
      " 36  pitch_num        float64\n",
      " 37  on_1b            float64\n",
      " 38  on_2b            float64\n",
      " 39  on_3b            float64\n",
      "dtypes: float64(30), int64(1), object(9)\n",
      "memory usage: 1.1+ GB\n"
     ]
    }
   ],
   "source": [
    "# concatenate the two pitches Dataframes\n",
    "\n",
    "pitches_all = pd.concat([pitches, pitches19], ignore_index=True, sort=False)\n",
    "pitches_all.info()"
   ]
  },
  {
   "cell_type": "code",
   "execution_count": 11,
   "metadata": {},
   "outputs": [],
   "source": [
    "# drop columns in pitches_all DataFrame that aren't useful\n",
    "\n",
    "pitches_all = pitches_all.drop(['ax', 'ay', 'az', 'sz_bot', 'sz_top', 'type_confidence', 'vx0', 'vy0', 'vz0', \n",
    "              'x', 'x0', 'y', 'y0', 'z0', 'horiz_move', 'vert_move', 'nasty', 'zone',\n",
    "              'code', 'type', 'event_num', 'b_score'], axis=1)"
   ]
  },
  {
   "cell_type": "markdown",
   "metadata": {},
   "source": [
    "The DataFrames with the data on pitches contained every pitch in every at bat, but I only need the final pitch that resulted in a play.  Therefore, I'll drop the pitches in each at bat that didn't end the at bat."
   ]
  },
  {
   "cell_type": "code",
   "execution_count": 12,
   "metadata": {},
   "outputs": [
    {
     "name": "stdout",
     "output_type": "stream",
     "text": [
      "<class 'pandas.core.frame.DataFrame'>\n",
      "RangeIndex: 925461 entries, 0 to 925460\n",
      "Data columns (total 18 columns):\n",
      " #   Column        Non-Null Count   Dtype  \n",
      "---  ------        --------------   -----  \n",
      " 0   horiz_loc     919761 non-null  float64\n",
      " 1   vert_loc      919761 non-null  float64\n",
      " 2   start_speed   919786 non-null  float64\n",
      " 3   end_speed     919786 non-null  float64\n",
      " 4   spin_rate     919761 non-null  object \n",
      " 5   spin_dir      919761 non-null  object \n",
      " 6   break_angle   919761 non-null  float64\n",
      " 7   break_length  919761 non-null  float64\n",
      " 8   break_y       919761 non-null  float64\n",
      " 9   pitch_type    919761 non-null  object \n",
      " 10  ab_id         925461 non-null  float64\n",
      " 11  b_count       925461 non-null  float64\n",
      " 12  s_count       925461 non-null  float64\n",
      " 13  outs          925461 non-null  float64\n",
      " 14  pitch_num     925461 non-null  float64\n",
      " 15  on_1b         925461 non-null  float64\n",
      " 16  on_2b         925461 non-null  float64\n",
      " 17  on_3b         925461 non-null  float64\n",
      "dtypes: float64(15), object(3)\n",
      "memory usage: 127.1+ MB\n"
     ]
    }
   ],
   "source": [
    "# drop duplicates of ab_id in pitches_all, keeping only the last entry for each\n",
    "\n",
    "pitches_all = pitches_all.drop_duplicates('ab_id', keep='last')\n",
    "pitches_all = pitches_all.reset_index(drop=True)\n",
    "pitches_all.info()"
   ]
  },
  {
   "cell_type": "markdown",
   "metadata": {},
   "source": [
    "Next, I need to merge the two DataFrames (atbats_all and pitches_all) on the ab_id column."
   ]
  },
  {
   "cell_type": "code",
   "execution_count": 13,
   "metadata": {},
   "outputs": [
    {
     "name": "stdout",
     "output_type": "stream",
     "text": [
      "<class 'pandas.core.frame.DataFrame'>\n",
      "RangeIndex: 925634 entries, 0 to 925633\n",
      "Data columns (total 8 columns):\n",
      " #   Column      Non-Null Count   Dtype \n",
      "---  ------      --------------   ----- \n",
      " 0   inning      925634 non-null  int64 \n",
      " 1   ab_id       925634 non-null  object\n",
      " 2   g_id        925634 non-null  int64 \n",
      " 3   batter_id   925634 non-null  int64 \n",
      " 4   pitcher_id  925634 non-null  int64 \n",
      " 5   stand       925634 non-null  object\n",
      " 6   p_throws    925634 non-null  object\n",
      " 7   event       925634 non-null  object\n",
      "dtypes: int64(4), object(4)\n",
      "memory usage: 56.5+ MB\n"
     ]
    }
   ],
   "source": [
    "# change ab_id in atbats_all from integers to strings\n",
    "\n",
    "atbats_all['ab_id'] = atbats_all['ab_id'].astype(str)\n",
    "atbats_all.info()"
   ]
  },
  {
   "cell_type": "code",
   "execution_count": 14,
   "metadata": {},
   "outputs": [],
   "source": [
    "# change ab_id in pitches_all from floats to strings\n",
    "\n",
    "pitches_all['ab_id'] = pitches_all['ab_id'].astype(str)"
   ]
  },
  {
   "cell_type": "code",
   "execution_count": 15,
   "metadata": {},
   "outputs": [],
   "source": [
    "# remove the decimal in ab_id of pitches_all to match the ab_id of atbats_all\n",
    "\n",
    "pitches_all['ab_id'] = pitches_all['ab_id'].str[:-2]"
   ]
  },
  {
   "cell_type": "code",
   "execution_count": 16,
   "metadata": {},
   "outputs": [
    {
     "name": "stdout",
     "output_type": "stream",
     "text": [
      "<class 'pandas.core.frame.DataFrame'>\n",
      "Int64Index: 925461 entries, 0 to 925460\n",
      "Data columns (total 25 columns):\n",
      " #   Column        Non-Null Count   Dtype  \n",
      "---  ------        --------------   -----  \n",
      " 0   inning        925461 non-null  int64  \n",
      " 1   ab_id         925461 non-null  object \n",
      " 2   g_id          925461 non-null  int64  \n",
      " 3   batter_id     925461 non-null  int64  \n",
      " 4   pitcher_id    925461 non-null  int64  \n",
      " 5   stand         925461 non-null  object \n",
      " 6   p_throws      925461 non-null  object \n",
      " 7   event         925461 non-null  object \n",
      " 8   horiz_loc     919761 non-null  float64\n",
      " 9   vert_loc      919761 non-null  float64\n",
      " 10  start_speed   919786 non-null  float64\n",
      " 11  end_speed     919786 non-null  float64\n",
      " 12  spin_rate     919761 non-null  object \n",
      " 13  spin_dir      919761 non-null  object \n",
      " 14  break_angle   919761 non-null  float64\n",
      " 15  break_length  919761 non-null  float64\n",
      " 16  break_y       919761 non-null  float64\n",
      " 17  pitch_type    919761 non-null  object \n",
      " 18  b_count       925461 non-null  float64\n",
      " 19  s_count       925461 non-null  float64\n",
      " 20  outs          925461 non-null  float64\n",
      " 21  pitch_num     925461 non-null  float64\n",
      " 22  on_1b         925461 non-null  float64\n",
      " 23  on_2b         925461 non-null  float64\n",
      " 24  on_3b         925461 non-null  float64\n",
      "dtypes: float64(14), int64(4), object(7)\n",
      "memory usage: 183.6+ MB\n"
     ]
    }
   ],
   "source": [
    "df = atbats_all.merge(pitches_all, on='ab_id')\n",
    "df.info()"
   ]
  },
  {
   "cell_type": "code",
   "execution_count": 17,
   "metadata": {},
   "outputs": [
    {
     "data": {
      "text/html": [
       "<div>\n",
       "<style scoped>\n",
       "    .dataframe tbody tr th:only-of-type {\n",
       "        vertical-align: middle;\n",
       "    }\n",
       "\n",
       "    .dataframe tbody tr th {\n",
       "        vertical-align: top;\n",
       "    }\n",
       "\n",
       "    .dataframe thead th {\n",
       "        text-align: right;\n",
       "    }\n",
       "</style>\n",
       "<table border=\"1\" class=\"dataframe\">\n",
       "  <thead>\n",
       "    <tr style=\"text-align: right;\">\n",
       "      <th></th>\n",
       "      <th>inning</th>\n",
       "      <th>ab_id</th>\n",
       "      <th>g_id</th>\n",
       "      <th>batter_id</th>\n",
       "      <th>pitcher_id</th>\n",
       "      <th>stand</th>\n",
       "      <th>p_throws</th>\n",
       "      <th>event</th>\n",
       "      <th>horiz_loc</th>\n",
       "      <th>vert_loc</th>\n",
       "      <th>...</th>\n",
       "      <th>break_length</th>\n",
       "      <th>break_y</th>\n",
       "      <th>pitch_type</th>\n",
       "      <th>b_count</th>\n",
       "      <th>s_count</th>\n",
       "      <th>outs</th>\n",
       "      <th>pitch_num</th>\n",
       "      <th>on_1b</th>\n",
       "      <th>on_2b</th>\n",
       "      <th>on_3b</th>\n",
       "    </tr>\n",
       "  </thead>\n",
       "  <tbody>\n",
       "    <tr>\n",
       "      <th>0</th>\n",
       "      <td>1</td>\n",
       "      <td>2015000001</td>\n",
       "      <td>201500001</td>\n",
       "      <td>572761</td>\n",
       "      <td>452657</td>\n",
       "      <td>L</td>\n",
       "      <td>L</td>\n",
       "      <td>Groundout</td>\n",
       "      <td>0.627</td>\n",
       "      <td>2.397</td>\n",
       "      <td>...</td>\n",
       "      <td>3.7</td>\n",
       "      <td>23.7</td>\n",
       "      <td>FF</td>\n",
       "      <td>2.0</td>\n",
       "      <td>2.0</td>\n",
       "      <td>0.0</td>\n",
       "      <td>6.0</td>\n",
       "      <td>0.0</td>\n",
       "      <td>0.0</td>\n",
       "      <td>0.0</td>\n",
       "    </tr>\n",
       "    <tr>\n",
       "      <th>1</th>\n",
       "      <td>1</td>\n",
       "      <td>2015000002</td>\n",
       "      <td>201500001</td>\n",
       "      <td>518792</td>\n",
       "      <td>452657</td>\n",
       "      <td>L</td>\n",
       "      <td>L</td>\n",
       "      <td>Double</td>\n",
       "      <td>-0.257</td>\n",
       "      <td>2.047</td>\n",
       "      <td>...</td>\n",
       "      <td>4.8</td>\n",
       "      <td>23.8</td>\n",
       "      <td>FC</td>\n",
       "      <td>1.0</td>\n",
       "      <td>0.0</td>\n",
       "      <td>1.0</td>\n",
       "      <td>2.0</td>\n",
       "      <td>0.0</td>\n",
       "      <td>0.0</td>\n",
       "      <td>0.0</td>\n",
       "    </tr>\n",
       "    <tr>\n",
       "      <th>2</th>\n",
       "      <td>1</td>\n",
       "      <td>2015000003</td>\n",
       "      <td>201500001</td>\n",
       "      <td>407812</td>\n",
       "      <td>452657</td>\n",
       "      <td>R</td>\n",
       "      <td>L</td>\n",
       "      <td>Single</td>\n",
       "      <td>-0.286</td>\n",
       "      <td>1.830</td>\n",
       "      <td>...</td>\n",
       "      <td>4.8</td>\n",
       "      <td>23.7</td>\n",
       "      <td>FF</td>\n",
       "      <td>2.0</td>\n",
       "      <td>0.0</td>\n",
       "      <td>1.0</td>\n",
       "      <td>3.0</td>\n",
       "      <td>0.0</td>\n",
       "      <td>1.0</td>\n",
       "      <td>0.0</td>\n",
       "    </tr>\n",
       "    <tr>\n",
       "      <th>3</th>\n",
       "      <td>1</td>\n",
       "      <td>2015000004</td>\n",
       "      <td>201500001</td>\n",
       "      <td>425509</td>\n",
       "      <td>452657</td>\n",
       "      <td>R</td>\n",
       "      <td>L</td>\n",
       "      <td>Strikeout</td>\n",
       "      <td>-0.711</td>\n",
       "      <td>1.971</td>\n",
       "      <td>...</td>\n",
       "      <td>11.0</td>\n",
       "      <td>23.9</td>\n",
       "      <td>CU</td>\n",
       "      <td>0.0</td>\n",
       "      <td>2.0</td>\n",
       "      <td>1.0</td>\n",
       "      <td>3.0</td>\n",
       "      <td>1.0</td>\n",
       "      <td>0.0</td>\n",
       "      <td>0.0</td>\n",
       "    </tr>\n",
       "    <tr>\n",
       "      <th>4</th>\n",
       "      <td>1</td>\n",
       "      <td>2015000005</td>\n",
       "      <td>201500001</td>\n",
       "      <td>571431</td>\n",
       "      <td>452657</td>\n",
       "      <td>L</td>\n",
       "      <td>L</td>\n",
       "      <td>Strikeout</td>\n",
       "      <td>-1.681</td>\n",
       "      <td>0.875</td>\n",
       "      <td>...</td>\n",
       "      <td>5.8</td>\n",
       "      <td>23.8</td>\n",
       "      <td>FC</td>\n",
       "      <td>1.0</td>\n",
       "      <td>2.0</td>\n",
       "      <td>2.0</td>\n",
       "      <td>5.0</td>\n",
       "      <td>1.0</td>\n",
       "      <td>0.0</td>\n",
       "      <td>0.0</td>\n",
       "    </tr>\n",
       "  </tbody>\n",
       "</table>\n",
       "<p>5 rows × 25 columns</p>\n",
       "</div>"
      ],
      "text/plain": [
       "   inning       ab_id       g_id  batter_id  pitcher_id stand p_throws  \\\n",
       "0       1  2015000001  201500001     572761      452657     L        L   \n",
       "1       1  2015000002  201500001     518792      452657     L        L   \n",
       "2       1  2015000003  201500001     407812      452657     R        L   \n",
       "3       1  2015000004  201500001     425509      452657     R        L   \n",
       "4       1  2015000005  201500001     571431      452657     L        L   \n",
       "\n",
       "       event  horiz_loc  vert_loc  ...  break_length  break_y pitch_type  \\\n",
       "0  Groundout      0.627     2.397  ...           3.7     23.7         FF   \n",
       "1     Double     -0.257     2.047  ...           4.8     23.8         FC   \n",
       "2     Single     -0.286     1.830  ...           4.8     23.7         FF   \n",
       "3  Strikeout     -0.711     1.971  ...          11.0     23.9         CU   \n",
       "4  Strikeout     -1.681     0.875  ...           5.8     23.8         FC   \n",
       "\n",
       "  b_count  s_count  outs  pitch_num on_1b  on_2b  on_3b  \n",
       "0     2.0      2.0   0.0        6.0   0.0    0.0    0.0  \n",
       "1     1.0      0.0   1.0        2.0   0.0    0.0    0.0  \n",
       "2     2.0      0.0   1.0        3.0   0.0    1.0    0.0  \n",
       "3     0.0      2.0   1.0        3.0   1.0    0.0    0.0  \n",
       "4     1.0      2.0   2.0        5.0   1.0    0.0    0.0  \n",
       "\n",
       "[5 rows x 25 columns]"
      ]
     },
     "execution_count": 17,
     "metadata": {},
     "output_type": "execute_result"
    }
   ],
   "source": [
    "# sanity check\n",
    "\n",
    "df.head()"
   ]
  },
  {
   "cell_type": "code",
   "execution_count": 18,
   "metadata": {},
   "outputs": [
    {
     "data": {
      "text/plain": [
       "5700"
      ]
     },
     "execution_count": 18,
     "metadata": {},
     "output_type": "execute_result"
    }
   ],
   "source": [
    "df['pitch_type'].isna().sum()"
   ]
  },
  {
   "cell_type": "code",
   "execution_count": 19,
   "metadata": {},
   "outputs": [],
   "source": [
    "df = df[df['pitch_type'].notna()]\n",
    "df = df.reset_index(drop=True)"
   ]
  },
  {
   "cell_type": "code",
   "execution_count": 20,
   "metadata": {},
   "outputs": [
    {
     "name": "stdout",
     "output_type": "stream",
     "text": [
      "<class 'pandas.core.frame.DataFrame'>\n",
      "RangeIndex: 919761 entries, 0 to 919760\n",
      "Data columns (total 25 columns):\n",
      " #   Column        Non-Null Count   Dtype  \n",
      "---  ------        --------------   -----  \n",
      " 0   inning        919761 non-null  int64  \n",
      " 1   ab_id         919761 non-null  object \n",
      " 2   g_id          919761 non-null  int64  \n",
      " 3   batter_id     919761 non-null  int64  \n",
      " 4   pitcher_id    919761 non-null  int64  \n",
      " 5   stand         919761 non-null  object \n",
      " 6   p_throws      919761 non-null  object \n",
      " 7   event         919761 non-null  object \n",
      " 8   horiz_loc     919761 non-null  float64\n",
      " 9   vert_loc      919761 non-null  float64\n",
      " 10  start_speed   919761 non-null  float64\n",
      " 11  end_speed     919761 non-null  float64\n",
      " 12  spin_rate     919761 non-null  object \n",
      " 13  spin_dir      919761 non-null  object \n",
      " 14  break_angle   919761 non-null  float64\n",
      " 15  break_length  919761 non-null  float64\n",
      " 16  break_y       919761 non-null  float64\n",
      " 17  pitch_type    919761 non-null  object \n",
      " 18  b_count       919761 non-null  float64\n",
      " 19  s_count       919761 non-null  float64\n",
      " 20  outs          919761 non-null  float64\n",
      " 21  pitch_num     919761 non-null  float64\n",
      " 22  on_1b         919761 non-null  float64\n",
      " 23  on_2b         919761 non-null  float64\n",
      " 24  on_3b         919761 non-null  float64\n",
      "dtypes: float64(14), int64(4), object(7)\n",
      "memory usage: 175.4+ MB\n"
     ]
    }
   ],
   "source": [
    "df.info()"
   ]
  },
  {
   "cell_type": "code",
   "execution_count": 21,
   "metadata": {},
   "outputs": [
    {
     "data": {
      "text/plain": [
       "FF    0.339439\n",
       "SL    0.165928\n",
       "FT    0.119097\n",
       "CH    0.111533\n",
       "SI    0.087041\n",
       "CU    0.076297\n",
       "FC    0.056403\n",
       "KC    0.021557\n",
       "FS    0.016869\n",
       "KN    0.003280\n",
       "IN    0.001911\n",
       "EP    0.000292\n",
       "FO    0.000273\n",
       "SC    0.000035\n",
       "PO    0.000034\n",
       "UN    0.000008\n",
       "FA    0.000002\n",
       "AB    0.000001\n",
       "Name: pitch_type, dtype: float64"
      ]
     },
     "execution_count": 21,
     "metadata": {},
     "output_type": "execute_result"
    }
   ],
   "source": [
    "df['pitch_type'].value_counts(normalize=True)"
   ]
  },
  {
   "cell_type": "code",
   "execution_count": 22,
   "metadata": {},
   "outputs": [
    {
     "data": {
      "image/png": "[encoded data removed]",
      "text/plain": [
       "<Figure size 432x288 with 1 Axes>"
      ]
     },
     "metadata": {
      "needs_background": "light"
     },
     "output_type": "display_data"
    }
   ],
   "source": [
    "df['pitch_type'].value_counts().plot(kind='bar')\n",
    "plt.show()"
   ]
  },
  {
   "cell_type": "markdown",
   "metadata": {},
   "source": [
    "I'm not interested in any pitches accounting for less than 1% of the total...except for knuckleballs because I'm curious about them.  I'll only look at the top 10 most frequent pitch types."
   ]
  },
  {
   "cell_type": "code",
   "execution_count": 23,
   "metadata": {},
   "outputs": [],
   "source": [
    "# create a list of the top 10 most used pitches\n",
    "\n",
    "pitch_type_keep = ['FF', 'SL', 'FT', 'CH', 'SI', 'CU', 'FC', 'KC', 'FS', 'KN']"
   ]
  },
  {
   "cell_type": "code",
   "execution_count": 24,
   "metadata": {},
   "outputs": [],
   "source": [
    "df = df[df['pitch_type'].isin(pitch_type_keep)]\n",
    "df = df.reset_index(drop=True)"
   ]
  },
  {
   "cell_type": "code",
   "execution_count": 25,
   "metadata": {},
   "outputs": [
    {
     "data": {
      "text/plain": [
       "FF    0.340309\n",
       "SL    0.166353\n",
       "FT    0.119402\n",
       "CH    0.111819\n",
       "SI    0.087264\n",
       "CU    0.076493\n",
       "FC    0.056547\n",
       "KC    0.021612\n",
       "FS    0.016912\n",
       "KN    0.003289\n",
       "Name: pitch_type, dtype: float64"
      ]
     },
     "execution_count": 25,
     "metadata": {},
     "output_type": "execute_result"
    }
   ],
   "source": [
    "df['pitch_type'].value_counts(normalize=True)"
   ]
  },
  {
   "cell_type": "markdown",
   "metadata": {},
   "source": [
    "The dependent variable is the outcome of the at bat, which is provided in the event column."
   ]
  },
  {
   "cell_type": "code",
   "execution_count": 26,
   "metadata": {},
   "outputs": [
    {
     "data": {
      "text/plain": [
       "Strikeout                       198566\n",
       "Groundout                       166152\n",
       "Single                          134005\n",
       "Flyout                          100115\n",
       "Walk                             71648\n",
       "Lineout                          55759\n",
       "Pop Out                          42949\n",
       "Double                           41433\n",
       "Home Run                         28817\n",
       "Forceout                         18590\n",
       "Grounded Into DP                 18076\n",
       "Hit By Pitch                      8861\n",
       "Field Error                       7705\n",
       "Sac Fly                           5880\n",
       "Sac Bunt                          4702\n",
       "Triple                            4220\n",
       "Double Play                       2201\n",
       "Runner Out                        1598\n",
       "Fielders Choice Out               1530\n",
       "Bunt Groundout                    1473\n",
       "Fielders Choice                    800\n",
       "Bunt Pop Out                       679\n",
       "Strikeout - DP                     576\n",
       "Batter Interference                209\n",
       "Catcher Interference               208\n",
       "Caught Stealing 2B                 176\n",
       "Strikeout Double Play              146\n",
       "Sac Fly DP                          76\n",
       "Bunt Lineout                        61\n",
       "Pickoff Caught Stealing 2B          36\n",
       "Fan Interference                    35\n",
       "Pickoff 1B                          32\n",
       "Triple Play                         23\n",
       "Caught Stealing Home                15\n",
       "Caught Stealing 3B                  11\n",
       "Sac Fly Double Play                 11\n",
       "Pickoff 2B                           8\n",
       "Sacrifice Bunt DP                    4\n",
       "Pickoff Caught Stealing Home         4\n",
       "Wild Pitch                           4\n",
       "Sac Bunt Double Play                 3\n",
       "Runner Double Play                   3\n",
       "Pickoff 3B                           3\n",
       "Game Advisory                        2\n",
       "Passed Ball                          1\n",
       "Intent Walk                          1\n",
       "Stolen Base 2B                       1\n",
       "Pickoff Caught Stealing 3B           1\n",
       "Pickoff Error 1B                     1\n",
       "Name: event, dtype: int64"
      ]
     },
     "execution_count": 26,
     "metadata": {},
     "output_type": "execute_result"
    }
   ],
   "source": [
    "df['event'].value_counts()"
   ]
  },
  {
   "cell_type": "markdown",
   "metadata": {},
   "source": [
    "I want to focus on outcomes that are related directly to an at bat's final pitch, but there are some events given that can be considered unrelated to the specific pitch.  Those rows, therefore, can be removed.  Looking at the list, I'm also going to remove the events that were documented fewer than 10 times.  Some of these are not very clear, and they don't add enough weight to the problem anyway."
   ]
  },
  {
   "cell_type": "code",
   "execution_count": 27,
   "metadata": {},
   "outputs": [],
   "source": [
    "# create a list of events that aren't affected by the pitch\n",
    "\n",
    "drop_events = ['Batter Interference', 'Catcher Interference', 'Caught Stealing 2B',\n",
    "               'Pickoff Caught Stealing 2B', 'Fan Interference', 'Pickoff 1B',\n",
    "               'Caught Stealing Home', 'Caught Stealing 3B', 'Pickoff 2B',\n",
    "               'Sacrifice Bunt DP', 'Wild Pitch', 'Pickoff Caught Stealing Home',\n",
    "               'Pickoff 3B', 'Runner Double Play', 'Sac Bunt Double Play',\n",
    "               'Game Advisory', 'Intent Walk', 'Pickoff Caught Stealing 3B',\n",
    "               'Passed Ball', 'Stolen Base 2B', 'Pickoff Error 1B']"
   ]
  },
  {
   "cell_type": "code",
   "execution_count": 28,
   "metadata": {},
   "outputs": [],
   "source": [
    "# drop rows with events in drop_events\n",
    "\n",
    "df = df.drop(df[df['event'].isin(drop_events)].index)\n",
    "df = df.reset_index(drop=True)"
   ]
  },
  {
   "cell_type": "code",
   "execution_count": 29,
   "metadata": {},
   "outputs": [
    {
     "data": {
      "text/plain": [
       "Strikeout                198566\n",
       "Groundout                166152\n",
       "Single                   134005\n",
       "Flyout                   100115\n",
       "Walk                      71648\n",
       "Lineout                   55759\n",
       "Pop Out                   42949\n",
       "Double                    41433\n",
       "Home Run                  28817\n",
       "Forceout                  18590\n",
       "Grounded Into DP          18076\n",
       "Hit By Pitch               8861\n",
       "Field Error                7705\n",
       "Sac Fly                    5880\n",
       "Sac Bunt                   4702\n",
       "Triple                     4220\n",
       "Double Play                2201\n",
       "Runner Out                 1598\n",
       "Fielders Choice Out        1530\n",
       "Bunt Groundout             1473\n",
       "Fielders Choice             800\n",
       "Bunt Pop Out                679\n",
       "Strikeout - DP              576\n",
       "Strikeout Double Play       146\n",
       "Sac Fly DP                   76\n",
       "Bunt Lineout                 61\n",
       "Triple Play                  23\n",
       "Sac Fly Double Play          11\n",
       "Name: event, dtype: int64"
      ]
     },
     "execution_count": 29,
     "metadata": {},
     "output_type": "execute_result"
    }
   ],
   "source": [
    "df['event'].value_counts()"
   ]
  },
  {
   "cell_type": "markdown",
   "metadata": {},
   "source": [
    "The pitcher's goal is to get outs, so I'll break down the event variable into those that result in outs and those that don't.  One exception is the 'Field Error' event, which I will identify as an out result since the only reason an out wasn't recorded (according to the official scorer) in such an event was the defense of the pitcher's team and no the pitch itself.  The result of the pitch should have been an out."
   ]
  },
  {
   "cell_type": "code",
   "execution_count": 30,
   "metadata": {},
   "outputs": [],
   "source": [
    "# create a list of events that do not result in an out\n",
    "\n",
    "no_out = ['Single', 'Walk', 'Double', 'Home Run', 'Hit By Pitch', 'Triple']"
   ]
  },
  {
   "cell_type": "code",
   "execution_count": 31,
   "metadata": {},
   "outputs": [],
   "source": [
    "# create numerical categories for out or no out\n",
    "\n",
    "def out_made(event):\n",
    "    if event in no_out:\n",
    "        return 0\n",
    "    else:\n",
    "        return 1"
   ]
  },
  {
   "cell_type": "code",
   "execution_count": 32,
   "metadata": {},
   "outputs": [
    {
     "data": {
      "text/plain": [
       "1    0.68474\n",
       "0    0.31526\n",
       "Name: out_made, dtype: float64"
      ]
     },
     "execution_count": 32,
     "metadata": {},
     "output_type": "execute_result"
    }
   ],
   "source": [
    "# add new column\n",
    "\n",
    "df['out_made'] = df['event'].apply(out_made)\n",
    "\n",
    "df['out_made'].value_counts(normalize=True)"
   ]
  },
  {
   "cell_type": "markdown",
   "metadata": {},
   "source": [
    "For the top ten most frequent pitch types, how do they rank in terms of getting outs?  If out_made = 1  is an out and out_made = 0 is an event without an out, the higher the mean of those values, the more often the pitch leads to an out."
   ]
  },
  {
   "cell_type": "code",
   "execution_count": 33,
   "metadata": {},
   "outputs": [],
   "source": [
    "pitch_success = df.groupby(\"pitch_type\")[\"out_made\"].mean().sort_values(ascending = False)"
   ]
  },
  {
   "cell_type": "code",
   "execution_count": 34,
   "metadata": {},
   "outputs": [
    {
     "data": {
      "image/png": "[encoded data removed]",
      "text/plain": [
       "<Figure size 432x288 with 1 Axes>"
      ]
     },
     "metadata": {
      "needs_background": "light"
     },
     "output_type": "display_data"
    }
   ],
   "source": [
    "# plot the pitch types in order of their ratios of events with outs vs no outs\n",
    "\n",
    "pitch_success.plot(kind = \"bar\")\n",
    "plt.xlabel(\"Pitch Type\")\n",
    "plt.ylabel(\"Outs\")\n",
    "plt.title(\"Out Ratio by Pitch Type\")\n",
    "plt.yticks(np.arange(0, 1, 0.1))\n",
    "plt.grid(axis = 'y')\n",
    "plt.show()"
   ]
  },
  {
   "cell_type": "code",
   "execution_count": 35,
   "metadata": {},
   "outputs": [
    {
     "data": {
      "text/plain": [
       "pitch_type  out_made\n",
       "CH          1           0.715979\n",
       "            0           0.284021\n",
       "CU          1           0.745539\n",
       "            0           0.254461\n",
       "FC          1           0.691983\n",
       "            0           0.308017\n",
       "FF          1           0.652794\n",
       "            0           0.347206\n",
       "FS          1           0.742518\n",
       "            0           0.257482\n",
       "FT          1           0.638863\n",
       "            0           0.361137\n",
       "KC          1           0.744310\n",
       "            0           0.255690\n",
       "KN          1           0.694067\n",
       "            0           0.305933\n",
       "SI          1           0.641827\n",
       "            0           0.358173\n",
       "SL          1           0.740322\n",
       "            0           0.259678\n",
       "Name: out_made, dtype: float64"
      ]
     },
     "execution_count": 35,
     "metadata": {},
     "output_type": "execute_result"
    }
   ],
   "source": [
    "df.groupby('pitch_type').out_made.value_counts(normalize=True)"
   ]
  },
  {
   "cell_type": "code",
   "execution_count": 36,
   "metadata": {},
   "outputs": [
    {
     "data": {
      "image/png": "[encoded data removed]",
      "text/plain": [
       "<Figure size 432x288 with 1 Axes>"
      ]
     },
     "metadata": {
      "needs_background": "light"
     },
     "output_type": "display_data"
    }
   ],
   "source": [
    "sns.histplot(x=df['pitch_type'], y=df['out_made']);"
   ]
  },
  {
   "cell_type": "code",
   "execution_count": 37,
   "metadata": {},
   "outputs": [
    {
     "data": {
      "image/png": "[encoded data removed]",
      "text/plain": [
       "<Figure size 1152x504 with 1 Axes>"
      ]
     },
     "metadata": {
      "needs_background": "light"
     },
     "output_type": "display_data"
    }
   ],
   "source": [
    "#sns.set(color_codes=True)\n",
    "fig, ax = plt.subplots(figsize=(16, 7))\n",
    "\n",
    "x = 'pitch_type'\n",
    "y = 'out_made'\n",
    "\n",
    "(df\n",
    ".groupby(x)[y]\n",
    ".value_counts(normalize=True).sort_values()\n",
    ".mul(100)\n",
    ".rename('percent')\n",
    ".reset_index()\n",
    ".pipe((sns.barplot,'data'), ax=ax,x=x,y='percent',hue=y));"
   ]
  },
  {
   "cell_type": "markdown",
   "metadata": {},
   "source": [
    "From the 10 most frequently used pitches, I want to use the 5 of them with the highest ratio of getting outs for the model."
   ]
  },
  {
   "cell_type": "code",
   "execution_count": 38,
   "metadata": {},
   "outputs": [
    {
     "name": "stdout",
     "output_type": "stream",
     "text": [
      "<class 'pandas.core.frame.DataFrame'>\n",
      "RangeIndex: 360411 entries, 0 to 360410\n",
      "Data columns (total 26 columns):\n",
      " #   Column        Non-Null Count   Dtype  \n",
      "---  ------        --------------   -----  \n",
      " 0   inning        360411 non-null  int64  \n",
      " 1   ab_id         360411 non-null  object \n",
      " 2   g_id          360411 non-null  int64  \n",
      " 3   batter_id     360411 non-null  int64  \n",
      " 4   pitcher_id    360411 non-null  int64  \n",
      " 5   stand         360411 non-null  object \n",
      " 6   p_throws      360411 non-null  object \n",
      " 7   event         360411 non-null  object \n",
      " 8   horiz_loc     360411 non-null  float64\n",
      " 9   vert_loc      360411 non-null  float64\n",
      " 10  start_speed   360411 non-null  float64\n",
      " 11  end_speed     360411 non-null  float64\n",
      " 12  spin_rate     360411 non-null  object \n",
      " 13  spin_dir      360411 non-null  object \n",
      " 14  break_angle   360411 non-null  float64\n",
      " 15  break_length  360411 non-null  float64\n",
      " 16  break_y       360411 non-null  float64\n",
      " 17  pitch_type    360411 non-null  object \n",
      " 18  b_count       360411 non-null  float64\n",
      " 19  s_count       360411 non-null  float64\n",
      " 20  outs          360411 non-null  float64\n",
      " 21  pitch_num     360411 non-null  float64\n",
      " 22  on_1b         360411 non-null  float64\n",
      " 23  on_2b         360411 non-null  float64\n",
      " 24  on_3b         360411 non-null  float64\n",
      " 25  out_made      360411 non-null  int64  \n",
      "dtypes: float64(14), int64(5), object(7)\n",
      "memory usage: 71.5+ MB\n"
     ]
    }
   ],
   "source": [
    "# keep the observations with the pitch types getting the highest percentage of outs\n",
    "\n",
    "pitch_best_5 = ['CU', 'KC', 'FS', 'SL', 'CH']\n",
    "\n",
    "df = df[df['pitch_type'].isin(pitch_best_5)]\n",
    "df = df.reset_index(drop=True)\n",
    "\n",
    "df.info()"
   ]
  },
  {
   "cell_type": "code",
   "execution_count": 39,
   "metadata": {},
   "outputs": [
    {
     "data": {
      "text/plain": [
       "1    0.734728\n",
       "0    0.265272\n",
       "Name: out_made, dtype: float64"
      ]
     },
     "execution_count": 39,
     "metadata": {},
     "output_type": "execute_result"
    }
   ],
   "source": [
    "# check new results of outs made or not with these 5 pitch types\n",
    "\n",
    "df['out_made'].value_counts(normalize=True)"
   ]
  },
  {
   "cell_type": "markdown",
   "metadata": {},
   "source": [
    "## Modeling"
   ]
  },
  {
   "cell_type": "markdown",
   "metadata": {},
   "source": [
    "### Baseline Model"
   ]
  },
  {
   "cell_type": "markdown",
   "metadata": {},
   "source": [
    "The baseline model is a dummy classifier with pitch type as the only x variable."
   ]
  },
  {
   "cell_type": "code",
   "execution_count": 40,
   "metadata": {},
   "outputs": [],
   "source": [
    "# define X and y and perform train test split with 20% in test set\n",
    "\n",
    "X = df['pitch_type']\n",
    "y = df['out_made']\n",
    "\n",
    "X_train, X_test, y_train, y_test = train_test_split(X, y, test_size=0.2, random_state=1)"
   ]
  },
  {
   "cell_type": "code",
   "execution_count": 41,
   "metadata": {},
   "outputs": [
    {
     "data": {
      "text/html": [
       "<style>#sk-container-id-1 {color: black;}#sk-container-id-1 pre{padding: 0;}#sk-container-id-1 div.sk-toggleable {background-color: white;}#sk-container-id-1 label.sk-toggleable__label {cursor: pointer;display: block;width: 100%;margin-bottom: 0;padding: 0.3em;box-sizing: border-box;text-align: center;}#sk-container-id-1 label.sk-toggleable__label-arrow:before {content: \"▸\";float: left;margin-right: 0.25em;color: #696969;}#sk-container-id-1 label.sk-toggleable__label-arrow:hover:before {color: black;}#sk-container-id-1 div.sk-estimator:hover label.sk-toggleable__label-arrow:before {color: black;}#sk-container-id-1 div.sk-toggleable__content {max-height: 0;max-width: 0;overflow: hidden;text-align: left;background-color: #f0f8ff;}#sk-container-id-1 div.sk-toggleable__content pre {margin: 0.2em;color: black;border-radius: 0.25em;background-color: #f0f8ff;}#sk-container-id-1 input.sk-toggleable__control:checked~div.sk-toggleable__content {max-height: 200px;max-width: 100%;overflow: auto;}#sk-container-id-1 input.sk-toggleable__control:checked~label.sk-toggleable__label-arrow:before {content: \"▾\";}#sk-container-id-1 div.sk-estimator input.sk-toggleable__control:checked~label.sk-toggleable__label {background-color: #d4ebff;}#sk-container-id-1 div.sk-label input.sk-toggleable__control:checked~label.sk-toggleable__label {background-color: #d4ebff;}#sk-container-id-1 input.sk-hidden--visually {border: 0;clip: rect(1px 1px 1px 1px);clip: rect(1px, 1px, 1px, 1px);height: 1px;margin: -1px;overflow: hidden;padding: 0;position: absolute;width: 1px;}#sk-container-id-1 div.sk-estimator {font-family: monospace;background-color: #f0f8ff;border: 1px dotted black;border-radius: 0.25em;box-sizing: border-box;margin-bottom: 0.5em;}#sk-container-id-1 div.sk-estimator:hover {background-color: #d4ebff;}#sk-container-id-1 div.sk-parallel-item::after {content: \"\";width: 100%;border-bottom: 1px solid gray;flex-grow: 1;}#sk-container-id-1 div.sk-label:hover label.sk-toggleable__label {background-color: #d4ebff;}#sk-container-id-1 div.sk-serial::before {content: \"\";position: absolute;border-left: 1px solid gray;box-sizing: border-box;top: 0;bottom: 0;left: 50%;z-index: 0;}#sk-container-id-1 div.sk-serial {display: flex;flex-direction: column;align-items: center;background-color: white;padding-right: 0.2em;padding-left: 0.2em;position: relative;}#sk-container-id-1 div.sk-item {position: relative;z-index: 1;}#sk-container-id-1 div.sk-parallel {display: flex;align-items: stretch;justify-content: center;background-color: white;position: relative;}#sk-container-id-1 div.sk-item::before, #sk-container-id-1 div.sk-parallel-item::before {content: \"\";position: absolute;border-left: 1px solid gray;box-sizing: border-box;top: 0;bottom: 0;left: 50%;z-index: -1;}#sk-container-id-1 div.sk-parallel-item {display: flex;flex-direction: column;z-index: 1;position: relative;background-color: white;}#sk-container-id-1 div.sk-parallel-item:first-child::after {align-self: flex-end;width: 50%;}#sk-container-id-1 div.sk-parallel-item:last-child::after {align-self: flex-start;width: 50%;}#sk-container-id-1 div.sk-parallel-item:only-child::after {width: 0;}#sk-container-id-1 div.sk-dashed-wrapped {border: 1px dashed gray;margin: 0 0.4em 0.5em 0.4em;box-sizing: border-box;padding-bottom: 0.4em;background-color: white;}#sk-container-id-1 div.sk-label label {font-family: monospace;font-weight: bold;display: inline-block;line-height: 1.2em;}#sk-container-id-1 div.sk-label-container {text-align: center;}#sk-container-id-1 div.sk-container {/* jupyter's `normalize.less` sets `[hidden] { display: none; }` but bootstrap.min.css set `[hidden] { display: none !important; }` so we also need the `!important` here to be able to override the default hidden behavior on the sphinx rendered scikit-learn.org. See: https://github.com/scikit-learn/scikit-learn/issues/21755 */display: inline-block !important;position: relative;}#sk-container-id-1 div.sk-text-repr-fallback {display: none;}</style><div id=\"sk-container-id-1\" class=\"sk-top-container\"><div class=\"sk-text-repr-fallback\"><pre>DummyClassifier(strategy=&#x27;most_frequent&#x27;)</pre><b>In a Jupyter environment, please rerun this cell to show the HTML representation or trust the notebook. <br />On GitHub, the HTML representation is unable to render, please try loading this page with nbviewer.org.</b></div><div class=\"sk-container\" hidden><div class=\"sk-item\"><div class=\"sk-estimator sk-toggleable\"><input class=\"sk-toggleable__control sk-hidden--visually\" id=\"sk-estimator-id-1\" type=\"checkbox\" checked><label for=\"sk-estimator-id-1\" class=\"sk-toggleable__label sk-toggleable__label-arrow\">DummyClassifier</label><div class=\"sk-toggleable__content\"><pre>DummyClassifier(strategy=&#x27;most_frequent&#x27;)</pre></div></div></div></div></div>"
      ],
      "text/plain": [
       "DummyClassifier(strategy='most_frequent')"
      ]
     },
     "execution_count": 41,
     "metadata": {},
     "output_type": "execute_result"
    }
   ],
   "source": [
    "# instantiate and fit the model on train set\n",
    "\n",
    "base_model = DummyClassifier(strategy='most_frequent')\n",
    "base_model.fit(X_train, y_train)"
   ]
  },
  {
   "cell_type": "code",
   "execution_count": 42,
   "metadata": {},
   "outputs": [
    {
     "data": {
      "text/plain": [
       "0.7339455904998404"
      ]
     },
     "execution_count": 42,
     "metadata": {},
     "output_type": "execute_result"
    }
   ],
   "source": [
    "y_pred = base_model.predict(X_test)\n",
    "accuracy_score(y_test, y_pred)"
   ]
  },
  {
   "cell_type": "code",
   "execution_count": 43,
   "metadata": {},
   "outputs": [
    {
     "data": {
      "image/png": "[encoded data removed]",
      "text/plain": [
       "<Figure size 432x288 with 2 Axes>"
      ]
     },
     "metadata": {
      "needs_background": "light"
     },
     "output_type": "display_data"
    }
   ],
   "source": [
    "cm = confusion_matrix(y_test, y_pred, labels=base_model.classes_)\n",
    "cm_disp = ConfusionMatrixDisplay(confusion_matrix=cm, display_labels=base_model.classes_)\n",
    "cm_disp.plot()\n",
    "plt.show()"
   ]
  },
  {
   "cell_type": "code",
   "execution_count": 44,
   "metadata": {},
   "outputs": [
    {
     "data": {
      "image/png": "[encoded data removed]",
      "text/plain": [
       "<Figure size 432x288 with 1 Axes>"
      ]
     },
     "metadata": {
      "needs_background": "light"
     },
     "output_type": "display_data"
    }
   ],
   "source": [
    "RocCurveDisplay.from_predictions(y_test, y_pred)\n",
    "plt.show()"
   ]
  },
  {
   "cell_type": "markdown",
   "metadata": {},
   "source": [
    "### Initial Decision Tree"
   ]
  },
  {
   "cell_type": "markdown",
   "metadata": {},
   "source": [
    "The first model is a decision tree to try to see which independent variables are most important in predicting outs.  In addition to the pitch type, I want to consider the following variables: horiz_loc, vert_loc, start_speed, spin_rate, and spin_dir.  \n",
    "\n",
    "The spin rate and spin direction columns contain object type values because there are almost 183,000 of them that are marked \"placeholder\" rather than a valid number.  I don't think imputing an average or anything else for these makes sense because different pitches have different ranges of values.  Instead, I'm removing those entries and converting the others to float types."
   ]
  },
  {
   "cell_type": "code",
   "execution_count": 45,
   "metadata": {},
   "outputs": [],
   "source": [
    "# remove 'placeholder' entries for spin_rate (spin_dir has 'placeholder' for the same rows)\n",
    "\n",
    "df = df[df['spin_rate'] != 'placeholder']"
   ]
  },
  {
   "cell_type": "code",
   "execution_count": 46,
   "metadata": {},
   "outputs": [],
   "source": [
    "# change spin_rate and spin_dir to floats\n",
    "\n",
    "df['spin_rate'] = df['spin_rate'].astype(float)\n",
    "df['spin_dir'] = df['spin_dir'].astype(float)"
   ]
  },
  {
   "cell_type": "code",
   "execution_count": 47,
   "metadata": {},
   "outputs": [
    {
     "name": "stdout",
     "output_type": "stream",
     "text": [
      "<class 'pandas.core.frame.DataFrame'>\n",
      "Int64Index: 283887 entries, 0 to 283886\n",
      "Data columns (total 26 columns):\n",
      " #   Column        Non-Null Count   Dtype  \n",
      "---  ------        --------------   -----  \n",
      " 0   inning        283887 non-null  int64  \n",
      " 1   ab_id         283887 non-null  object \n",
      " 2   g_id          283887 non-null  int64  \n",
      " 3   batter_id     283887 non-null  int64  \n",
      " 4   pitcher_id    283887 non-null  int64  \n",
      " 5   stand         283887 non-null  object \n",
      " 6   p_throws      283887 non-null  object \n",
      " 7   event         283887 non-null  object \n",
      " 8   horiz_loc     283887 non-null  float64\n",
      " 9   vert_loc      283887 non-null  float64\n",
      " 10  start_speed   283887 non-null  float64\n",
      " 11  end_speed     283887 non-null  float64\n",
      " 12  spin_rate     283887 non-null  float64\n",
      " 13  spin_dir      283887 non-null  float64\n",
      " 14  break_angle   283887 non-null  float64\n",
      " 15  break_length  283887 non-null  float64\n",
      " 16  break_y       283887 non-null  float64\n",
      " 17  pitch_type    283887 non-null  object \n",
      " 18  b_count       283887 non-null  float64\n",
      " 19  s_count       283887 non-null  float64\n",
      " 20  outs          283887 non-null  float64\n",
      " 21  pitch_num     283887 non-null  float64\n",
      " 22  on_1b         283887 non-null  float64\n",
      " 23  on_2b         283887 non-null  float64\n",
      " 24  on_3b         283887 non-null  float64\n",
      " 25  out_made      283887 non-null  int64  \n",
      "dtypes: float64(16), int64(5), object(5)\n",
      "memory usage: 58.5+ MB\n"
     ]
    }
   ],
   "source": [
    "df.info()"
   ]
  },
  {
   "cell_type": "code",
   "execution_count": 48,
   "metadata": {},
   "outputs": [],
   "source": [
    "# create DataFrame of only the columns to use in model\n",
    "\n",
    "df_dt = df[['pitch_type', 'horiz_loc', 'vert_loc', 'start_speed', 'spin_rate', 'spin_dir', 'out_made']]"
   ]
  },
  {
   "cell_type": "code",
   "execution_count": 49,
   "metadata": {},
   "outputs": [
    {
     "name": "stdout",
     "output_type": "stream",
     "text": [
      "<class 'pandas.core.frame.DataFrame'>\n",
      "Int64Index: 283887 entries, 0 to 283886\n",
      "Data columns (total 7 columns):\n",
      " #   Column       Non-Null Count   Dtype  \n",
      "---  ------       --------------   -----  \n",
      " 0   pitch_type   283887 non-null  object \n",
      " 1   horiz_loc    283887 non-null  float64\n",
      " 2   vert_loc     283887 non-null  float64\n",
      " 3   start_speed  283887 non-null  float64\n",
      " 4   spin_rate    283887 non-null  float64\n",
      " 5   spin_dir     283887 non-null  float64\n",
      " 6   out_made     283887 non-null  int64  \n",
      "dtypes: float64(5), int64(1), object(1)\n",
      "memory usage: 17.3+ MB\n"
     ]
    }
   ],
   "source": [
    "df_dt.info()"
   ]
  },
  {
   "cell_type": "code",
   "execution_count": 51,
   "metadata": {},
   "outputs": [
    {
     "data": {
      "text/plain": [
       "<283887x5 sparse matrix of type '<class 'numpy.float64'>'\n",
       "\twith 283887 stored elements in Compressed Sparse Row format>"
      ]
     },
     "execution_count": 51,
     "metadata": {},
     "output_type": "execute_result"
    }
   ],
   "source": [
    "# one hot encoder for the pitch_type variable\n",
    "\n",
    "#train_encoded = X_train_dt[['pitch_type']]\n",
    "#test_encoded = X_test_dt[['pitch_type']]\n",
    "ohe = OneHotEncoder(handle_unknown='ignore')\n",
    "df_dt_encoded = ohe.fit_transform(df_dt[['pitch_type']])\n",
    "#X_test_dt_encoded = ohe.transform(test_encoded)\n",
    "\n",
    "df_dt_encoded\n"
   ]
  },
  {
   "cell_type": "code",
   "execution_count": 52,
   "metadata": {},
   "outputs": [
    {
     "data": {
      "text/html": [
       "<div>\n",
       "<style scoped>\n",
       "    .dataframe tbody tr th:only-of-type {\n",
       "        vertical-align: middle;\n",
       "    }\n",
       "\n",
       "    .dataframe tbody tr th {\n",
       "        vertical-align: top;\n",
       "    }\n",
       "\n",
       "    .dataframe thead th {\n",
       "        text-align: right;\n",
       "    }\n",
       "</style>\n",
       "<table border=\"1\" class=\"dataframe\">\n",
       "  <thead>\n",
       "    <tr style=\"text-align: right;\">\n",
       "      <th></th>\n",
       "      <th>pitch_type_CH</th>\n",
       "      <th>pitch_type_CU</th>\n",
       "      <th>pitch_type_FS</th>\n",
       "      <th>pitch_type_KC</th>\n",
       "      <th>pitch_type_SL</th>\n",
       "    </tr>\n",
       "  </thead>\n",
       "  <tbody>\n",
       "    <tr>\n",
       "      <th>0</th>\n",
       "      <td>0.0</td>\n",
       "      <td>1.0</td>\n",
       "      <td>0.0</td>\n",
       "      <td>0.0</td>\n",
       "      <td>0.0</td>\n",
       "    </tr>\n",
       "    <tr>\n",
       "      <th>1</th>\n",
       "      <td>0.0</td>\n",
       "      <td>1.0</td>\n",
       "      <td>0.0</td>\n",
       "      <td>0.0</td>\n",
       "      <td>0.0</td>\n",
       "    </tr>\n",
       "    <tr>\n",
       "      <th>2</th>\n",
       "      <td>0.0</td>\n",
       "      <td>1.0</td>\n",
       "      <td>0.0</td>\n",
       "      <td>0.0</td>\n",
       "      <td>0.0</td>\n",
       "    </tr>\n",
       "    <tr>\n",
       "      <th>3</th>\n",
       "      <td>0.0</td>\n",
       "      <td>1.0</td>\n",
       "      <td>0.0</td>\n",
       "      <td>0.0</td>\n",
       "      <td>0.0</td>\n",
       "    </tr>\n",
       "    <tr>\n",
       "      <th>4</th>\n",
       "      <td>1.0</td>\n",
       "      <td>0.0</td>\n",
       "      <td>0.0</td>\n",
       "      <td>0.0</td>\n",
       "      <td>0.0</td>\n",
       "    </tr>\n",
       "    <tr>\n",
       "      <th>...</th>\n",
       "      <td>...</td>\n",
       "      <td>...</td>\n",
       "      <td>...</td>\n",
       "      <td>...</td>\n",
       "      <td>...</td>\n",
       "    </tr>\n",
       "    <tr>\n",
       "      <th>283882</th>\n",
       "      <td>0.0</td>\n",
       "      <td>0.0</td>\n",
       "      <td>0.0</td>\n",
       "      <td>0.0</td>\n",
       "      <td>1.0</td>\n",
       "    </tr>\n",
       "    <tr>\n",
       "      <th>283883</th>\n",
       "      <td>0.0</td>\n",
       "      <td>0.0</td>\n",
       "      <td>0.0</td>\n",
       "      <td>0.0</td>\n",
       "      <td>1.0</td>\n",
       "    </tr>\n",
       "    <tr>\n",
       "      <th>283884</th>\n",
       "      <td>0.0</td>\n",
       "      <td>0.0</td>\n",
       "      <td>0.0</td>\n",
       "      <td>0.0</td>\n",
       "      <td>1.0</td>\n",
       "    </tr>\n",
       "    <tr>\n",
       "      <th>283885</th>\n",
       "      <td>0.0</td>\n",
       "      <td>0.0</td>\n",
       "      <td>0.0</td>\n",
       "      <td>0.0</td>\n",
       "      <td>1.0</td>\n",
       "    </tr>\n",
       "    <tr>\n",
       "      <th>283886</th>\n",
       "      <td>0.0</td>\n",
       "      <td>0.0</td>\n",
       "      <td>0.0</td>\n",
       "      <td>0.0</td>\n",
       "      <td>1.0</td>\n",
       "    </tr>\n",
       "  </tbody>\n",
       "</table>\n",
       "<p>283887 rows × 5 columns</p>\n",
       "</div>"
      ],
      "text/plain": [
       "        pitch_type_CH  pitch_type_CU  pitch_type_FS  pitch_type_KC  \\\n",
       "0                 0.0            1.0            0.0            0.0   \n",
       "1                 0.0            1.0            0.0            0.0   \n",
       "2                 0.0            1.0            0.0            0.0   \n",
       "3                 0.0            1.0            0.0            0.0   \n",
       "4                 1.0            0.0            0.0            0.0   \n",
       "...               ...            ...            ...            ...   \n",
       "283882            0.0            0.0            0.0            0.0   \n",
       "283883            0.0            0.0            0.0            0.0   \n",
       "283884            0.0            0.0            0.0            0.0   \n",
       "283885            0.0            0.0            0.0            0.0   \n",
       "283886            0.0            0.0            0.0            0.0   \n",
       "\n",
       "        pitch_type_SL  \n",
       "0                 0.0  \n",
       "1                 0.0  \n",
       "2                 0.0  \n",
       "3                 0.0  \n",
       "4                 0.0  \n",
       "...               ...  \n",
       "283882            1.0  \n",
       "283883            1.0  \n",
       "283884            1.0  \n",
       "283885            1.0  \n",
       "283886            1.0  \n",
       "\n",
       "[283887 rows x 5 columns]"
      ]
     },
     "execution_count": 52,
     "metadata": {},
     "output_type": "execute_result"
    }
   ],
   "source": [
    "ohe_df = pd.DataFrame(df_dt_encoded.todense(), columns=ohe.get_feature_names_out(), index=df_dt.index)\n",
    "ohe_df"
   ]
  },
  {
   "cell_type": "code",
   "execution_count": 53,
   "metadata": {},
   "outputs": [
    {
     "data": {
      "text/html": [
       "<div>\n",
       "<style scoped>\n",
       "    .dataframe tbody tr th:only-of-type {\n",
       "        vertical-align: middle;\n",
       "    }\n",
       "\n",
       "    .dataframe tbody tr th {\n",
       "        vertical-align: top;\n",
       "    }\n",
       "\n",
       "    .dataframe thead th {\n",
       "        text-align: right;\n",
       "    }\n",
       "</style>\n",
       "<table border=\"1\" class=\"dataframe\">\n",
       "  <thead>\n",
       "    <tr style=\"text-align: right;\">\n",
       "      <th></th>\n",
       "      <th>horiz_loc</th>\n",
       "      <th>vert_loc</th>\n",
       "      <th>start_speed</th>\n",
       "      <th>spin_rate</th>\n",
       "      <th>spin_dir</th>\n",
       "      <th>out_made</th>\n",
       "      <th>pitch_type_CH</th>\n",
       "      <th>pitch_type_CU</th>\n",
       "      <th>pitch_type_FS</th>\n",
       "      <th>pitch_type_KC</th>\n",
       "      <th>pitch_type_SL</th>\n",
       "    </tr>\n",
       "  </thead>\n",
       "  <tbody>\n",
       "    <tr>\n",
       "      <th>0</th>\n",
       "      <td>-0.711000</td>\n",
       "      <td>1.971000</td>\n",
       "      <td>76.3</td>\n",
       "      <td>818.890</td>\n",
       "      <td>283.898</td>\n",
       "      <td>1</td>\n",
       "      <td>0.0</td>\n",
       "      <td>1.0</td>\n",
       "      <td>0.0</td>\n",
       "      <td>0.0</td>\n",
       "      <td>0.0</td>\n",
       "    </tr>\n",
       "    <tr>\n",
       "      <th>1</th>\n",
       "      <td>1.578000</td>\n",
       "      <td>0.829000</td>\n",
       "      <td>76.6</td>\n",
       "      <td>1862.386</td>\n",
       "      <td>39.747</td>\n",
       "      <td>1</td>\n",
       "      <td>0.0</td>\n",
       "      <td>1.0</td>\n",
       "      <td>0.0</td>\n",
       "      <td>0.0</td>\n",
       "      <td>0.0</td>\n",
       "    </tr>\n",
       "    <tr>\n",
       "      <th>2</th>\n",
       "      <td>0.459000</td>\n",
       "      <td>1.389000</td>\n",
       "      <td>76.3</td>\n",
       "      <td>2025.382</td>\n",
       "      <td>38.118</td>\n",
       "      <td>1</td>\n",
       "      <td>0.0</td>\n",
       "      <td>1.0</td>\n",
       "      <td>0.0</td>\n",
       "      <td>0.0</td>\n",
       "      <td>0.0</td>\n",
       "    </tr>\n",
       "    <tr>\n",
       "      <th>3</th>\n",
       "      <td>0.403000</td>\n",
       "      <td>1.709000</td>\n",
       "      <td>74.9</td>\n",
       "      <td>1965.943</td>\n",
       "      <td>34.900</td>\n",
       "      <td>1</td>\n",
       "      <td>0.0</td>\n",
       "      <td>1.0</td>\n",
       "      <td>0.0</td>\n",
       "      <td>0.0</td>\n",
       "      <td>0.0</td>\n",
       "    </tr>\n",
       "    <tr>\n",
       "      <th>4</th>\n",
       "      <td>-1.028000</td>\n",
       "      <td>1.501000</td>\n",
       "      <td>84.5</td>\n",
       "      <td>2197.067</td>\n",
       "      <td>255.832</td>\n",
       "      <td>1</td>\n",
       "      <td>1.0</td>\n",
       "      <td>0.0</td>\n",
       "      <td>0.0</td>\n",
       "      <td>0.0</td>\n",
       "      <td>0.0</td>\n",
       "    </tr>\n",
       "    <tr>\n",
       "      <th>...</th>\n",
       "      <td>...</td>\n",
       "      <td>...</td>\n",
       "      <td>...</td>\n",
       "      <td>...</td>\n",
       "      <td>...</td>\n",
       "      <td>...</td>\n",
       "      <td>...</td>\n",
       "      <td>...</td>\n",
       "      <td>...</td>\n",
       "      <td>...</td>\n",
       "      <td>...</td>\n",
       "    </tr>\n",
       "    <tr>\n",
       "      <th>283882</th>\n",
       "      <td>-0.794313</td>\n",
       "      <td>2.522407</td>\n",
       "      <td>86.4</td>\n",
       "      <td>713.726</td>\n",
       "      <td>266.936</td>\n",
       "      <td>0</td>\n",
       "      <td>0.0</td>\n",
       "      <td>0.0</td>\n",
       "      <td>0.0</td>\n",
       "      <td>0.0</td>\n",
       "      <td>1.0</td>\n",
       "    </tr>\n",
       "    <tr>\n",
       "      <th>283883</th>\n",
       "      <td>0.698725</td>\n",
       "      <td>2.229321</td>\n",
       "      <td>87.8</td>\n",
       "      <td>387.510</td>\n",
       "      <td>218.205</td>\n",
       "      <td>1</td>\n",
       "      <td>0.0</td>\n",
       "      <td>0.0</td>\n",
       "      <td>0.0</td>\n",
       "      <td>0.0</td>\n",
       "      <td>1.0</td>\n",
       "    </tr>\n",
       "    <tr>\n",
       "      <th>283884</th>\n",
       "      <td>0.485988</td>\n",
       "      <td>2.223048</td>\n",
       "      <td>83.4</td>\n",
       "      <td>622.981</td>\n",
       "      <td>272.346</td>\n",
       "      <td>1</td>\n",
       "      <td>0.0</td>\n",
       "      <td>0.0</td>\n",
       "      <td>0.0</td>\n",
       "      <td>0.0</td>\n",
       "      <td>1.0</td>\n",
       "    </tr>\n",
       "    <tr>\n",
       "      <th>283885</th>\n",
       "      <td>-0.212890</td>\n",
       "      <td>1.587859</td>\n",
       "      <td>80.0</td>\n",
       "      <td>1209.602</td>\n",
       "      <td>327.322</td>\n",
       "      <td>1</td>\n",
       "      <td>0.0</td>\n",
       "      <td>0.0</td>\n",
       "      <td>0.0</td>\n",
       "      <td>0.0</td>\n",
       "      <td>1.0</td>\n",
       "    </tr>\n",
       "    <tr>\n",
       "      <th>283886</th>\n",
       "      <td>0.230280</td>\n",
       "      <td>1.784910</td>\n",
       "      <td>83.9</td>\n",
       "      <td>608.594</td>\n",
       "      <td>275.800</td>\n",
       "      <td>0</td>\n",
       "      <td>0.0</td>\n",
       "      <td>0.0</td>\n",
       "      <td>0.0</td>\n",
       "      <td>0.0</td>\n",
       "      <td>1.0</td>\n",
       "    </tr>\n",
       "  </tbody>\n",
       "</table>\n",
       "<p>283887 rows × 11 columns</p>\n",
       "</div>"
      ],
      "text/plain": [
       "        horiz_loc  vert_loc  start_speed  spin_rate  spin_dir  out_made  \\\n",
       "0       -0.711000  1.971000         76.3    818.890   283.898         1   \n",
       "1        1.578000  0.829000         76.6   1862.386    39.747         1   \n",
       "2        0.459000  1.389000         76.3   2025.382    38.118         1   \n",
       "3        0.403000  1.709000         74.9   1965.943    34.900         1   \n",
       "4       -1.028000  1.501000         84.5   2197.067   255.832         1   \n",
       "...           ...       ...          ...        ...       ...       ...   \n",
       "283882  -0.794313  2.522407         86.4    713.726   266.936         0   \n",
       "283883   0.698725  2.229321         87.8    387.510   218.205         1   \n",
       "283884   0.485988  2.223048         83.4    622.981   272.346         1   \n",
       "283885  -0.212890  1.587859         80.0   1209.602   327.322         1   \n",
       "283886   0.230280  1.784910         83.9    608.594   275.800         0   \n",
       "\n",
       "        pitch_type_CH  pitch_type_CU  pitch_type_FS  pitch_type_KC  \\\n",
       "0                 0.0            1.0            0.0            0.0   \n",
       "1                 0.0            1.0            0.0            0.0   \n",
       "2                 0.0            1.0            0.0            0.0   \n",
       "3                 0.0            1.0            0.0            0.0   \n",
       "4                 1.0            0.0            0.0            0.0   \n",
       "...               ...            ...            ...            ...   \n",
       "283882            0.0            0.0            0.0            0.0   \n",
       "283883            0.0            0.0            0.0            0.0   \n",
       "283884            0.0            0.0            0.0            0.0   \n",
       "283885            0.0            0.0            0.0            0.0   \n",
       "283886            0.0            0.0            0.0            0.0   \n",
       "\n",
       "        pitch_type_SL  \n",
       "0                 0.0  \n",
       "1                 0.0  \n",
       "2                 0.0  \n",
       "3                 0.0  \n",
       "4                 0.0  \n",
       "...               ...  \n",
       "283882            1.0  \n",
       "283883            1.0  \n",
       "283884            1.0  \n",
       "283885            1.0  \n",
       "283886            1.0  \n",
       "\n",
       "[283887 rows x 11 columns]"
      ]
     },
     "execution_count": 53,
     "metadata": {},
     "output_type": "execute_result"
    }
   ],
   "source": [
    "df_dt_ohe = df_dt.drop('pitch_type', axis=1)\n",
    "df_dt_ohe = pd.concat([df_dt_ohe, ohe_df], axis=1)\n",
    "df_dt_ohe"
   ]
  },
  {
   "cell_type": "code",
   "execution_count": 55,
   "metadata": {},
   "outputs": [],
   "source": [
    "# define X and y and perform train test split with 20% in test set\n",
    "\n",
    "X_dt = df_dt_ohe.drop('out_made', axis=1)\n",
    "y_dt = df_dt_ohe['out_made']\n",
    "\n",
    "X_train_dt, X_test_dt, y_train_dt, y_test_dt = train_test_split(X_dt, y_dt, test_size=0.2, random_state=2)"
   ]
  },
  {
   "cell_type": "code",
   "execution_count": 56,
   "metadata": {},
   "outputs": [
    {
     "data": {
      "text/html": [
       "<style>#sk-container-id-2 {color: black;}#sk-container-id-2 pre{padding: 0;}#sk-container-id-2 div.sk-toggleable {background-color: white;}#sk-container-id-2 label.sk-toggleable__label {cursor: pointer;display: block;width: 100%;margin-bottom: 0;padding: 0.3em;box-sizing: border-box;text-align: center;}#sk-container-id-2 label.sk-toggleable__label-arrow:before {content: \"▸\";float: left;margin-right: 0.25em;color: #696969;}#sk-container-id-2 label.sk-toggleable__label-arrow:hover:before {color: black;}#sk-container-id-2 div.sk-estimator:hover label.sk-toggleable__label-arrow:before {color: black;}#sk-container-id-2 div.sk-toggleable__content {max-height: 0;max-width: 0;overflow: hidden;text-align: left;background-color: #f0f8ff;}#sk-container-id-2 div.sk-toggleable__content pre {margin: 0.2em;color: black;border-radius: 0.25em;background-color: #f0f8ff;}#sk-container-id-2 input.sk-toggleable__control:checked~div.sk-toggleable__content {max-height: 200px;max-width: 100%;overflow: auto;}#sk-container-id-2 input.sk-toggleable__control:checked~label.sk-toggleable__label-arrow:before {content: \"▾\";}#sk-container-id-2 div.sk-estimator input.sk-toggleable__control:checked~label.sk-toggleable__label {background-color: #d4ebff;}#sk-container-id-2 div.sk-label input.sk-toggleable__control:checked~label.sk-toggleable__label {background-color: #d4ebff;}#sk-container-id-2 input.sk-hidden--visually {border: 0;clip: rect(1px 1px 1px 1px);clip: rect(1px, 1px, 1px, 1px);height: 1px;margin: -1px;overflow: hidden;padding: 0;position: absolute;width: 1px;}#sk-container-id-2 div.sk-estimator {font-family: monospace;background-color: #f0f8ff;border: 1px dotted black;border-radius: 0.25em;box-sizing: border-box;margin-bottom: 0.5em;}#sk-container-id-2 div.sk-estimator:hover {background-color: #d4ebff;}#sk-container-id-2 div.sk-parallel-item::after {content: \"\";width: 100%;border-bottom: 1px solid gray;flex-grow: 1;}#sk-container-id-2 div.sk-label:hover label.sk-toggleable__label {background-color: #d4ebff;}#sk-container-id-2 div.sk-serial::before {content: \"\";position: absolute;border-left: 1px solid gray;box-sizing: border-box;top: 0;bottom: 0;left: 50%;z-index: 0;}#sk-container-id-2 div.sk-serial {display: flex;flex-direction: column;align-items: center;background-color: white;padding-right: 0.2em;padding-left: 0.2em;position: relative;}#sk-container-id-2 div.sk-item {position: relative;z-index: 1;}#sk-container-id-2 div.sk-parallel {display: flex;align-items: stretch;justify-content: center;background-color: white;position: relative;}#sk-container-id-2 div.sk-item::before, #sk-container-id-2 div.sk-parallel-item::before {content: \"\";position: absolute;border-left: 1px solid gray;box-sizing: border-box;top: 0;bottom: 0;left: 50%;z-index: -1;}#sk-container-id-2 div.sk-parallel-item {display: flex;flex-direction: column;z-index: 1;position: relative;background-color: white;}#sk-container-id-2 div.sk-parallel-item:first-child::after {align-self: flex-end;width: 50%;}#sk-container-id-2 div.sk-parallel-item:last-child::after {align-self: flex-start;width: 50%;}#sk-container-id-2 div.sk-parallel-item:only-child::after {width: 0;}#sk-container-id-2 div.sk-dashed-wrapped {border: 1px dashed gray;margin: 0 0.4em 0.5em 0.4em;box-sizing: border-box;padding-bottom: 0.4em;background-color: white;}#sk-container-id-2 div.sk-label label {font-family: monospace;font-weight: bold;display: inline-block;line-height: 1.2em;}#sk-container-id-2 div.sk-label-container {text-align: center;}#sk-container-id-2 div.sk-container {/* jupyter's `normalize.less` sets `[hidden] { display: none; }` but bootstrap.min.css set `[hidden] { display: none !important; }` so we also need the `!important` here to be able to override the default hidden behavior on the sphinx rendered scikit-learn.org. See: https://github.com/scikit-learn/scikit-learn/issues/21755 */display: inline-block !important;position: relative;}#sk-container-id-2 div.sk-text-repr-fallback {display: none;}</style><div id=\"sk-container-id-2\" class=\"sk-top-container\"><div class=\"sk-text-repr-fallback\"><pre>DecisionTreeClassifier(max_depth=2, random_state=2)</pre><b>In a Jupyter environment, please rerun this cell to show the HTML representation or trust the notebook. <br />On GitHub, the HTML representation is unable to render, please try loading this page with nbviewer.org.</b></div><div class=\"sk-container\" hidden><div class=\"sk-item\"><div class=\"sk-estimator sk-toggleable\"><input class=\"sk-toggleable__control sk-hidden--visually\" id=\"sk-estimator-id-2\" type=\"checkbox\" checked><label for=\"sk-estimator-id-2\" class=\"sk-toggleable__label sk-toggleable__label-arrow\">DecisionTreeClassifier</label><div class=\"sk-toggleable__content\"><pre>DecisionTreeClassifier(max_depth=2, random_state=2)</pre></div></div></div></div></div>"
      ],
      "text/plain": [
       "DecisionTreeClassifier(max_depth=2, random_state=2)"
      ]
     },
     "execution_count": 56,
     "metadata": {},
     "output_type": "execute_result"
    }
   ],
   "source": [
    "# instantiate and fit model on the train set\n",
    "\n",
    "dt = DecisionTreeClassifier(max_depth=2, random_state=2)\n",
    "dt.fit(X_train_dt, y_train_dt)"
   ]
  },
  {
   "cell_type": "code",
   "execution_count": 57,
   "metadata": {},
   "outputs": [
    {
     "data": {
      "text/plain": [
       "array([1, 1, 1, ..., 1, 1, 1], dtype=int64)"
      ]
     },
     "execution_count": 57,
     "metadata": {},
     "output_type": "execute_result"
    }
   ],
   "source": [
    "# predict y with X_test\n",
    "\n",
    "y_pred_dt = dt.predict(X_test_dt)\n",
    "y_pred_dt"
   ]
  },
  {
   "cell_type": "code",
   "execution_count": 58,
   "metadata": {},
   "outputs": [
    {
     "name": "stdout",
     "output_type": "stream",
     "text": [
      "Accuracy: 74.06742047976329\n"
     ]
    }
   ],
   "source": [
    "acc = accuracy_score(y_test_dt, y_pred_dt) * 100\n",
    "print(\"Accuracy: {0}\".format(acc))"
   ]
  },
  {
   "cell_type": "code",
   "execution_count": 59,
   "metadata": {},
   "outputs": [
    {
     "data": {
      "image/png": "[encoded data removed]",
      "text/plain": [
       "<Figure size 1152x1152 with 1 Axes>"
      ]
     },
     "metadata": {
      "needs_background": "light"
     },
     "output_type": "display_data"
    }
   ],
   "source": [
    "f, ax = plt.subplots(figsize=(16, 16))\n",
    "plot_tree(dt, ax=ax);"
   ]
  },
  {
   "cell_type": "code",
   "execution_count": 60,
   "metadata": {},
   "outputs": [
    {
     "data": {
      "image/png": "[encoded data removed]",
      "text/plain": [
       "<Figure size 432x288 with 1 Axes>"
      ]
     },
     "metadata": {
      "needs_background": "light"
     },
     "output_type": "display_data"
    }
   ],
   "source": [
    "RocCurveDisplay.from_predictions(y_test_dt, y_pred_dt)\n",
    "plt.show()"
   ]
  },
  {
   "cell_type": "markdown",
   "metadata": {},
   "source": [
    "I'll use GridSearch CV to adjust some hyperparameters to look for a better decision tree model."
   ]
  },
  {
   "cell_type": "code",
   "execution_count": 61,
   "metadata": {},
   "outputs": [],
   "source": [
    "# define X and y and perform train test split with 20% in test set\n",
    "\n",
    "X_dt = df_dt_ohe.drop('out_made', axis=1)\n",
    "y_dt = df_dt_ohe['out_made']\n",
    "\n",
    "X_train_dt_grid, X_test_dt_grid, y_train_dt_grid, y_test_dt_grid = train_test_split(X_dt, y_dt, test_size=0.2, random_state=3)"
   ]
  },
  {
   "cell_type": "code",
   "execution_count": 62,
   "metadata": {},
   "outputs": [],
   "source": [
    "# instantiate model\n",
    "\n",
    "dt_grid = DecisionTreeClassifier(random_state=3)"
   ]
  },
  {
   "cell_type": "code",
   "execution_count": 64,
   "metadata": {},
   "outputs": [],
   "source": [
    "# select parameters and instantiate GridSearchCV\n",
    "\n",
    "params = {'max_depth': [2, 5, 7],\n",
    "          'min_samples_split': [0.1, 0.3, 0.5],\n",
    "          'criterion': ['entropy', 'log_loss']}\n",
    "\n",
    "gs = GridSearchCV(estimator=dt_grid,\n",
    "                  param_grid = params,\n",
    "                  cv=5)"
   ]
  },
  {
   "cell_type": "code",
   "execution_count": 65,
   "metadata": {},
   "outputs": [
    {
     "data": {
      "text/plain": [
       "{'criterion': 'entropy', 'max_depth': 5, 'min_samples_split': 0.1}"
      ]
     },
     "execution_count": 65,
     "metadata": {},
     "output_type": "execute_result"
    }
   ],
   "source": [
    "# fit grid search on the train set and call the best parameters\n",
    "\n",
    "gs.fit(X_train_dt_grid, y_train_dt_grid)\n",
    "gs.best_params_"
   ]
  },
  {
   "cell_type": "code",
   "execution_count": 67,
   "metadata": {},
   "outputs": [
    {
     "data": {
      "text/plain": [
       "0.744188916911412"
      ]
     },
     "execution_count": 67,
     "metadata": {},
     "output_type": "execute_result"
    }
   ],
   "source": [
    "gs.cv_results_['mean_test_score'].max()"
   ]
  },
  {
   "cell_type": "markdown",
   "metadata": {},
   "source": [
    "It appears that a single decision tree doesn't increase the accuracy much at all."
   ]
  },
  {
   "cell_type": "code",
   "execution_count": null,
   "metadata": {},
   "outputs": [],
   "source": []
  }
 ],
 "metadata": {
  "kernelspec": {
   "display_name": "learn-env",
   "language": "python",
   "name": "python3"
  },
  "language_info": {
   "codemirror_mode": {
    "name": "ipython",
    "version": 3
   },
   "file_extension": ".py",
   "mimetype": "text/x-python",
   "name": "python",
   "nbconvert_exporter": "python",
   "pygments_lexer": "ipython3",
   "version": "3.8.5"
  }
 },
 "nbformat": 4,
 "nbformat_minor": 2
}
