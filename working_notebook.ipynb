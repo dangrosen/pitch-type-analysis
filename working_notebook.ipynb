{
 "cells": [
  {
   "cell_type": "markdown",
   "metadata": {},
   "source": [
    "# MLB Pitch Type Analysis"
   ]
  },
  {
   "cell_type": "markdown",
   "metadata": {},
   "source": []
  },
  {
   "cell_type": "markdown",
   "metadata": {},
   "source": [
    "## Overview"
   ]
  },
  {
   "cell_type": "markdown",
   "metadata": {},
   "source": []
  },
  {
   "cell_type": "markdown",
   "metadata": {},
   "source": [
    "## Business Problem"
   ]
  },
  {
   "cell_type": "markdown",
   "metadata": {},
   "source": []
  },
  {
   "cell_type": "code",
   "execution_count": 180,
   "metadata": {},
   "outputs": [],
   "source": [
    "# import packages\n",
    "\n",
    "import numpy as np\n",
    "import pandas as pd\n",
    "from collections import defaultdict\n",
    "\n",
    "from sklearn.linear_model import LogisticRegression\n",
    "from sklearn.model_selection import train_test_split, cross_validate, cross_val_score, GridSearchCV, KFold\n",
    "from sklearn.pipeline import Pipeline\n",
    "from sklearn.preprocessing import MinMaxScaler, OneHotEncoder\n",
    "from sklearn.feature_extraction.text import CountVectorizer, TfidfVectorizer\n",
    "from sklearn.dummy import DummyClassifier\n",
    "from sklearn.tree import DecisionTreeRegressor, DecisionTreeClassifier, plot_tree\n",
    "from sklearn.ensemble import RandomForestClassifier\n",
    "from sklearn.neighbors import KNeighborsClassifier\n",
    "from sklearn.naive_bayes import MultinomialNB\n",
    "from sklearn.metrics import log_loss, accuracy_score\n",
    "from sklearn.metrics import classification_report, confusion_matrix, ConfusionMatrixDisplay\n",
    "from sklearn.metrics import roc_curve, roc_auc_score, RocCurveDisplay\n",
    "\n",
    "from lightgbm import LGBMClassifier\n",
    "\n",
    "import nltk\n",
    "from nltk.probability import FreqDist\n",
    "from nltk.corpus import stopwords, wordnet\n",
    "from nltk.tokenize import regexp_tokenize, word_tokenize, RegexpTokenizer\n",
    "from nltk.stem import WordNetLemmatizer\n",
    "from nltk import pos_tag\n",
    "\n",
    "import matplotlib.pyplot as plt\n",
    "import seaborn as sns\n",
    "import string\n",
    "import re\n",
    "\n",
    "import os\n",
    "import sys\n",
    "module_path = os.path.abspath(os.path.join(os.pardir, os.pardir))\n",
    "if module_path not in sys.path:\n",
    "    sys.path.append(module_path)"
   ]
  },
  {
   "cell_type": "markdown",
   "metadata": {},
   "source": [
    "## Data Overview"
   ]
  },
  {
   "cell_type": "markdown",
   "metadata": {},
   "source": []
  },
  {
   "cell_type": "code",
   "execution_count": 3,
   "metadata": {},
   "outputs": [],
   "source": [
    "# read in datasets\n",
    "\n",
    "atbats = pd.read_csv('Data/atbats.csv')\n",
    "pitches = pd.read_csv('Data/pitches.csv')\n",
    "atbats19 = pd.read_csv('Data/2019_atbats.csv')\n",
    "pitches19 = pd.read_csv('Data/2019_pitches.csv')"
   ]
  },
  {
   "cell_type": "code",
   "execution_count": 4,
   "metadata": {},
   "outputs": [
    {
     "name": "stdout",
     "output_type": "stream",
     "text": [
      "<class 'pandas.core.frame.DataFrame'>\n",
      "RangeIndex: 740389 entries, 0 to 740388\n",
      "Data columns (total 11 columns):\n",
      " #   Column      Non-Null Count   Dtype \n",
      "---  ------      --------------   ----- \n",
      " 0   ab_id       740389 non-null  int64 \n",
      " 1   batter_id   740389 non-null  int64 \n",
      " 2   event       740389 non-null  object\n",
      " 3   g_id        740389 non-null  int64 \n",
      " 4   inning      740389 non-null  int64 \n",
      " 5   o           740389 non-null  int64 \n",
      " 6   p_score     740389 non-null  int64 \n",
      " 7   p_throws    740389 non-null  object\n",
      " 8   pitcher_id  740389 non-null  int64 \n",
      " 9   stand       740389 non-null  object\n",
      " 10  top         740389 non-null  bool  \n",
      "dtypes: bool(1), int64(7), object(3)\n",
      "memory usage: 57.2+ MB\n"
     ]
    }
   ],
   "source": [
    "atbats.info()"
   ]
  },
  {
   "cell_type": "code",
   "execution_count": 5,
   "metadata": {},
   "outputs": [
    {
     "name": "stdout",
     "output_type": "stream",
     "text": [
      "<class 'pandas.core.frame.DataFrame'>\n",
      "RangeIndex: 185245 entries, 0 to 185244\n",
      "Data columns (total 11 columns):\n",
      " #   Column      Non-Null Count   Dtype \n",
      "---  ------      --------------   ----- \n",
      " 0   inning      185245 non-null  int64 \n",
      " 1   top         185245 non-null  int64 \n",
      " 2   ab_id       185245 non-null  int64 \n",
      " 3   g_id        185245 non-null  int64 \n",
      " 4   p_score     185245 non-null  int64 \n",
      " 5   batter_id   185245 non-null  int64 \n",
      " 6   pitcher_id  185245 non-null  int64 \n",
      " 7   stand       185245 non-null  object\n",
      " 8   p_throws    185245 non-null  object\n",
      " 9   event       185245 non-null  object\n",
      " 10  o           185245 non-null  int64 \n",
      "dtypes: int64(8), object(3)\n",
      "memory usage: 15.5+ MB\n"
     ]
    }
   ],
   "source": [
    "atbats19.info()"
   ]
  },
  {
   "cell_type": "code",
   "execution_count": 6,
   "metadata": {},
   "outputs": [
    {
     "name": "stdout",
     "output_type": "stream",
     "text": [
      "<class 'pandas.core.frame.DataFrame'>\n",
      "RangeIndex: 740389 entries, 0 to 740388\n",
      "Data columns (total 11 columns):\n",
      " #   Column      Non-Null Count   Dtype \n",
      "---  ------      --------------   ----- \n",
      " 0   inning      740389 non-null  int64 \n",
      " 1   top         740389 non-null  bool  \n",
      " 2   ab_id       740389 non-null  int64 \n",
      " 3   g_id        740389 non-null  int64 \n",
      " 4   p_score     740389 non-null  int64 \n",
      " 5   batter_id   740389 non-null  int64 \n",
      " 6   pitcher_id  740389 non-null  int64 \n",
      " 7   stand       740389 non-null  object\n",
      " 8   p_throws    740389 non-null  object\n",
      " 9   event       740389 non-null  object\n",
      " 10  o           740389 non-null  int64 \n",
      "dtypes: bool(1), int64(7), object(3)\n",
      "memory usage: 57.2+ MB\n"
     ]
    }
   ],
   "source": [
    "# rearrange columns in atbats to match column order of atbats19\n",
    "\n",
    "atbats = atbats[['inning', 'top', 'ab_id', 'g_id', 'p_score', 'batter_id', 'pitcher_id', 'stand', 'p_throws', 'event', 'o']]\n",
    "atbats.info()"
   ]
  },
  {
   "cell_type": "code",
   "execution_count": 7,
   "metadata": {},
   "outputs": [
    {
     "name": "stdout",
     "output_type": "stream",
     "text": [
      "<class 'pandas.core.frame.DataFrame'>\n",
      "RangeIndex: 925634 entries, 0 to 925633\n",
      "Data columns (total 11 columns):\n",
      " #   Column      Non-Null Count   Dtype \n",
      "---  ------      --------------   ----- \n",
      " 0   inning      925634 non-null  int64 \n",
      " 1   top         925634 non-null  int64 \n",
      " 2   ab_id       925634 non-null  int64 \n",
      " 3   g_id        925634 non-null  int64 \n",
      " 4   p_score     925634 non-null  int64 \n",
      " 5   batter_id   925634 non-null  int64 \n",
      " 6   pitcher_id  925634 non-null  int64 \n",
      " 7   stand       925634 non-null  object\n",
      " 8   p_throws    925634 non-null  object\n",
      " 9   event       925634 non-null  object\n",
      " 10  o           925634 non-null  int64 \n",
      "dtypes: int64(8), object(3)\n",
      "memory usage: 77.7+ MB\n"
     ]
    }
   ],
   "source": [
    "# concatenate the two atbats Dataframes\n",
    "\n",
    "atbats_all = pd.concat([atbats, atbats19], ignore_index=True, sort=False)\n",
    "atbats_all.info()"
   ]
  },
  {
   "cell_type": "code",
   "execution_count": 8,
   "metadata": {},
   "outputs": [],
   "source": [
    "# drop columns in atbats_all DataFrame that aren't useful\n",
    "\n",
    "atbats_all = atbats_all.drop(['top', 'p_score', 'o'], axis=1)"
   ]
  },
  {
   "cell_type": "code",
   "execution_count": 9,
   "metadata": {},
   "outputs": [],
   "source": [
    "# rename some columns in pitches to match those that I renamed in the pitches19 csz before importing\n",
    "\n",
    "pitches.rename(columns = {'px': 'horiz_loc', 'pz': 'vert_loc', 'pfx_x': 'horiz_move', 'pfx_z': 'vert_move'}, inplace=True)"
   ]
  },
  {
   "cell_type": "code",
   "execution_count": 10,
   "metadata": {},
   "outputs": [
    {
     "name": "stdout",
     "output_type": "stream",
     "text": [
      "<class 'pandas.core.frame.DataFrame'>\n",
      "RangeIndex: 3595944 entries, 0 to 3595943\n",
      "Data columns (total 40 columns):\n",
      " #   Column           Dtype  \n",
      "---  ------           -----  \n",
      " 0   horiz_loc        float64\n",
      " 1   vert_loc         float64\n",
      " 2   start_speed      float64\n",
      " 3   end_speed        float64\n",
      " 4   spin_rate        object \n",
      " 5   spin_dir         object \n",
      " 6   break_angle      float64\n",
      " 7   break_length     float64\n",
      " 8   break_y          float64\n",
      " 9   ax               float64\n",
      " 10  ay               float64\n",
      " 11  az               float64\n",
      " 12  sz_bot           float64\n",
      " 13  sz_top           float64\n",
      " 14  type_confidence  object \n",
      " 15  vx0              float64\n",
      " 16  vy0              float64\n",
      " 17  vz0              float64\n",
      " 18  x                object \n",
      " 19  x0               float64\n",
      " 20  y                object \n",
      " 21  y0               float64\n",
      " 22  z0               float64\n",
      " 23  horiz_move       float64\n",
      " 24  vert_move        float64\n",
      " 25  nasty            float64\n",
      " 26  zone             object \n",
      " 27  code             object \n",
      " 28  type             object \n",
      " 29  pitch_type       object \n",
      " 30  event_num        int64  \n",
      " 31  b_score          float64\n",
      " 32  ab_id            float64\n",
      " 33  b_count          float64\n",
      " 34  s_count          float64\n",
      " 35  outs             float64\n",
      " 36  pitch_num        float64\n",
      " 37  on_1b            float64\n",
      " 38  on_2b            float64\n",
      " 39  on_3b            float64\n",
      "dtypes: float64(30), int64(1), object(9)\n",
      "memory usage: 1.1+ GB\n"
     ]
    }
   ],
   "source": [
    "# concatenate the two pitches Dataframes\n",
    "\n",
    "pitches_all = pd.concat([pitches, pitches19], ignore_index=True, sort=False)\n",
    "pitches_all.info()"
   ]
  },
  {
   "cell_type": "code",
   "execution_count": 11,
   "metadata": {},
   "outputs": [],
   "source": [
    "# drop columns in pitches_all DataFrame that aren't useful\n",
    "\n",
    "pitches_all = pitches_all.drop(['ax', 'ay', 'az', 'sz_bot', 'sz_top', 'type_confidence', 'vx0', 'vy0', 'vz0', \n",
    "              'x', 'x0', 'y', 'y0', 'z0', 'horiz_move', 'vert_move', 'nasty', 'zone',\n",
    "              'code', 'type', 'event_num', 'b_score'], axis=1)"
   ]
  },
  {
   "cell_type": "markdown",
   "metadata": {},
   "source": [
    "The DataFrames with the data on pitches contained every pitch in every at bat, but I only need the final pitch that resulted in a play.  Therefore, I'll drop the pitches in each at bat that didn't end the at bat."
   ]
  },
  {
   "cell_type": "code",
   "execution_count": 12,
   "metadata": {},
   "outputs": [
    {
     "name": "stdout",
     "output_type": "stream",
     "text": [
      "<class 'pandas.core.frame.DataFrame'>\n",
      "RangeIndex: 925461 entries, 0 to 925460\n",
      "Data columns (total 18 columns):\n",
      " #   Column        Non-Null Count   Dtype  \n",
      "---  ------        --------------   -----  \n",
      " 0   horiz_loc     919761 non-null  float64\n",
      " 1   vert_loc      919761 non-null  float64\n",
      " 2   start_speed   919786 non-null  float64\n",
      " 3   end_speed     919786 non-null  float64\n",
      " 4   spin_rate     919761 non-null  object \n",
      " 5   spin_dir      919761 non-null  object \n",
      " 6   break_angle   919761 non-null  float64\n",
      " 7   break_length  919761 non-null  float64\n",
      " 8   break_y       919761 non-null  float64\n",
      " 9   pitch_type    919761 non-null  object \n",
      " 10  ab_id         925461 non-null  float64\n",
      " 11  b_count       925461 non-null  float64\n",
      " 12  s_count       925461 non-null  float64\n",
      " 13  outs          925461 non-null  float64\n",
      " 14  pitch_num     925461 non-null  float64\n",
      " 15  on_1b         925461 non-null  float64\n",
      " 16  on_2b         925461 non-null  float64\n",
      " 17  on_3b         925461 non-null  float64\n",
      "dtypes: float64(15), object(3)\n",
      "memory usage: 127.1+ MB\n"
     ]
    }
   ],
   "source": [
    "# drop duplicates of ab_id in pitches_all, keeping only the last entry for each\n",
    "\n",
    "pitches_all = pitches_all.drop_duplicates('ab_id', keep='last')\n",
    "pitches_all = pitches_all.reset_index(drop=True)\n",
    "pitches_all.info()"
   ]
  },
  {
   "cell_type": "markdown",
   "metadata": {},
   "source": [
    "Next, I need to merge the two DataFrames (atbats_all and pitches_all) on the ab_id column."
   ]
  },
  {
   "cell_type": "code",
   "execution_count": 13,
   "metadata": {},
   "outputs": [
    {
     "name": "stdout",
     "output_type": "stream",
     "text": [
      "<class 'pandas.core.frame.DataFrame'>\n",
      "RangeIndex: 925634 entries, 0 to 925633\n",
      "Data columns (total 8 columns):\n",
      " #   Column      Non-Null Count   Dtype \n",
      "---  ------      --------------   ----- \n",
      " 0   inning      925634 non-null  int64 \n",
      " 1   ab_id       925634 non-null  object\n",
      " 2   g_id        925634 non-null  int64 \n",
      " 3   batter_id   925634 non-null  int64 \n",
      " 4   pitcher_id  925634 non-null  int64 \n",
      " 5   stand       925634 non-null  object\n",
      " 6   p_throws    925634 non-null  object\n",
      " 7   event       925634 non-null  object\n",
      "dtypes: int64(4), object(4)\n",
      "memory usage: 56.5+ MB\n"
     ]
    }
   ],
   "source": [
    "# change ab_id in atbats_all from integers to strings\n",
    "\n",
    "atbats_all['ab_id'] = atbats_all['ab_id'].astype(str)\n",
    "atbats_all.info()"
   ]
  },
  {
   "cell_type": "code",
   "execution_count": 14,
   "metadata": {},
   "outputs": [],
   "source": [
    "# change ab_id in pitches_all from floats to strings\n",
    "\n",
    "pitches_all['ab_id'] = pitches_all['ab_id'].astype(str)"
   ]
  },
  {
   "cell_type": "code",
   "execution_count": 15,
   "metadata": {},
   "outputs": [],
   "source": [
    "# remove the decimal in ab_id of pitches_all to match the ab_id of atbats_all\n",
    "\n",
    "pitches_all['ab_id'] = pitches_all['ab_id'].str[:-2]"
   ]
  },
  {
   "cell_type": "code",
   "execution_count": 16,
   "metadata": {},
   "outputs": [
    {
     "name": "stdout",
     "output_type": "stream",
     "text": [
      "<class 'pandas.core.frame.DataFrame'>\n",
      "Int64Index: 925461 entries, 0 to 925460\n",
      "Data columns (total 25 columns):\n",
      " #   Column        Non-Null Count   Dtype  \n",
      "---  ------        --------------   -----  \n",
      " 0   inning        925461 non-null  int64  \n",
      " 1   ab_id         925461 non-null  object \n",
      " 2   g_id          925461 non-null  int64  \n",
      " 3   batter_id     925461 non-null  int64  \n",
      " 4   pitcher_id    925461 non-null  int64  \n",
      " 5   stand         925461 non-null  object \n",
      " 6   p_throws      925461 non-null  object \n",
      " 7   event         925461 non-null  object \n",
      " 8   horiz_loc     919761 non-null  float64\n",
      " 9   vert_loc      919761 non-null  float64\n",
      " 10  start_speed   919786 non-null  float64\n",
      " 11  end_speed     919786 non-null  float64\n",
      " 12  spin_rate     919761 non-null  object \n",
      " 13  spin_dir      919761 non-null  object \n",
      " 14  break_angle   919761 non-null  float64\n",
      " 15  break_length  919761 non-null  float64\n",
      " 16  break_y       919761 non-null  float64\n",
      " 17  pitch_type    919761 non-null  object \n",
      " 18  b_count       925461 non-null  float64\n",
      " 19  s_count       925461 non-null  float64\n",
      " 20  outs          925461 non-null  float64\n",
      " 21  pitch_num     925461 non-null  float64\n",
      " 22  on_1b         925461 non-null  float64\n",
      " 23  on_2b         925461 non-null  float64\n",
      " 24  on_3b         925461 non-null  float64\n",
      "dtypes: float64(14), int64(4), object(7)\n",
      "memory usage: 183.6+ MB\n"
     ]
    }
   ],
   "source": [
    "df = atbats_all.merge(pitches_all, on='ab_id')\n",
    "df.info()"
   ]
  },
  {
   "cell_type": "code",
   "execution_count": 17,
   "metadata": {},
   "outputs": [
    {
     "data": {
      "text/html": [
       "<div>\n",
       "<style scoped>\n",
       "    .dataframe tbody tr th:only-of-type {\n",
       "        vertical-align: middle;\n",
       "    }\n",
       "\n",
       "    .dataframe tbody tr th {\n",
       "        vertical-align: top;\n",
       "    }\n",
       "\n",
       "    .dataframe thead th {\n",
       "        text-align: right;\n",
       "    }\n",
       "</style>\n",
       "<table border=\"1\" class=\"dataframe\">\n",
       "  <thead>\n",
       "    <tr style=\"text-align: right;\">\n",
       "      <th></th>\n",
       "      <th>inning</th>\n",
       "      <th>ab_id</th>\n",
       "      <th>g_id</th>\n",
       "      <th>batter_id</th>\n",
       "      <th>pitcher_id</th>\n",
       "      <th>stand</th>\n",
       "      <th>p_throws</th>\n",
       "      <th>event</th>\n",
       "      <th>horiz_loc</th>\n",
       "      <th>vert_loc</th>\n",
       "      <th>...</th>\n",
       "      <th>break_length</th>\n",
       "      <th>break_y</th>\n",
       "      <th>pitch_type</th>\n",
       "      <th>b_count</th>\n",
       "      <th>s_count</th>\n",
       "      <th>outs</th>\n",
       "      <th>pitch_num</th>\n",
       "      <th>on_1b</th>\n",
       "      <th>on_2b</th>\n",
       "      <th>on_3b</th>\n",
       "    </tr>\n",
       "  </thead>\n",
       "  <tbody>\n",
       "    <tr>\n",
       "      <th>0</th>\n",
       "      <td>1</td>\n",
       "      <td>2015000001</td>\n",
       "      <td>201500001</td>\n",
       "      <td>572761</td>\n",
       "      <td>452657</td>\n",
       "      <td>L</td>\n",
       "      <td>L</td>\n",
       "      <td>Groundout</td>\n",
       "      <td>0.627</td>\n",
       "      <td>2.397</td>\n",
       "      <td>...</td>\n",
       "      <td>3.7</td>\n",
       "      <td>23.7</td>\n",
       "      <td>FF</td>\n",
       "      <td>2.0</td>\n",
       "      <td>2.0</td>\n",
       "      <td>0.0</td>\n",
       "      <td>6.0</td>\n",
       "      <td>0.0</td>\n",
       "      <td>0.0</td>\n",
       "      <td>0.0</td>\n",
       "    </tr>\n",
       "    <tr>\n",
       "      <th>1</th>\n",
       "      <td>1</td>\n",
       "      <td>2015000002</td>\n",
       "      <td>201500001</td>\n",
       "      <td>518792</td>\n",
       "      <td>452657</td>\n",
       "      <td>L</td>\n",
       "      <td>L</td>\n",
       "      <td>Double</td>\n",
       "      <td>-0.257</td>\n",
       "      <td>2.047</td>\n",
       "      <td>...</td>\n",
       "      <td>4.8</td>\n",
       "      <td>23.8</td>\n",
       "      <td>FC</td>\n",
       "      <td>1.0</td>\n",
       "      <td>0.0</td>\n",
       "      <td>1.0</td>\n",
       "      <td>2.0</td>\n",
       "      <td>0.0</td>\n",
       "      <td>0.0</td>\n",
       "      <td>0.0</td>\n",
       "    </tr>\n",
       "    <tr>\n",
       "      <th>2</th>\n",
       "      <td>1</td>\n",
       "      <td>2015000003</td>\n",
       "      <td>201500001</td>\n",
       "      <td>407812</td>\n",
       "      <td>452657</td>\n",
       "      <td>R</td>\n",
       "      <td>L</td>\n",
       "      <td>Single</td>\n",
       "      <td>-0.286</td>\n",
       "      <td>1.830</td>\n",
       "      <td>...</td>\n",
       "      <td>4.8</td>\n",
       "      <td>23.7</td>\n",
       "      <td>FF</td>\n",
       "      <td>2.0</td>\n",
       "      <td>0.0</td>\n",
       "      <td>1.0</td>\n",
       "      <td>3.0</td>\n",
       "      <td>0.0</td>\n",
       "      <td>1.0</td>\n",
       "      <td>0.0</td>\n",
       "    </tr>\n",
       "    <tr>\n",
       "      <th>3</th>\n",
       "      <td>1</td>\n",
       "      <td>2015000004</td>\n",
       "      <td>201500001</td>\n",
       "      <td>425509</td>\n",
       "      <td>452657</td>\n",
       "      <td>R</td>\n",
       "      <td>L</td>\n",
       "      <td>Strikeout</td>\n",
       "      <td>-0.711</td>\n",
       "      <td>1.971</td>\n",
       "      <td>...</td>\n",
       "      <td>11.0</td>\n",
       "      <td>23.9</td>\n",
       "      <td>CU</td>\n",
       "      <td>0.0</td>\n",
       "      <td>2.0</td>\n",
       "      <td>1.0</td>\n",
       "      <td>3.0</td>\n",
       "      <td>1.0</td>\n",
       "      <td>0.0</td>\n",
       "      <td>0.0</td>\n",
       "    </tr>\n",
       "    <tr>\n",
       "      <th>4</th>\n",
       "      <td>1</td>\n",
       "      <td>2015000005</td>\n",
       "      <td>201500001</td>\n",
       "      <td>571431</td>\n",
       "      <td>452657</td>\n",
       "      <td>L</td>\n",
       "      <td>L</td>\n",
       "      <td>Strikeout</td>\n",
       "      <td>-1.681</td>\n",
       "      <td>0.875</td>\n",
       "      <td>...</td>\n",
       "      <td>5.8</td>\n",
       "      <td>23.8</td>\n",
       "      <td>FC</td>\n",
       "      <td>1.0</td>\n",
       "      <td>2.0</td>\n",
       "      <td>2.0</td>\n",
       "      <td>5.0</td>\n",
       "      <td>1.0</td>\n",
       "      <td>0.0</td>\n",
       "      <td>0.0</td>\n",
       "    </tr>\n",
       "  </tbody>\n",
       "</table>\n",
       "<p>5 rows × 25 columns</p>\n",
       "</div>"
      ],
      "text/plain": [
       "   inning       ab_id       g_id  batter_id  pitcher_id stand p_throws  \\\n",
       "0       1  2015000001  201500001     572761      452657     L        L   \n",
       "1       1  2015000002  201500001     518792      452657     L        L   \n",
       "2       1  2015000003  201500001     407812      452657     R        L   \n",
       "3       1  2015000004  201500001     425509      452657     R        L   \n",
       "4       1  2015000005  201500001     571431      452657     L        L   \n",
       "\n",
       "       event  horiz_loc  vert_loc  ...  break_length  break_y pitch_type  \\\n",
       "0  Groundout      0.627     2.397  ...           3.7     23.7         FF   \n",
       "1     Double     -0.257     2.047  ...           4.8     23.8         FC   \n",
       "2     Single     -0.286     1.830  ...           4.8     23.7         FF   \n",
       "3  Strikeout     -0.711     1.971  ...          11.0     23.9         CU   \n",
       "4  Strikeout     -1.681     0.875  ...           5.8     23.8         FC   \n",
       "\n",
       "  b_count  s_count  outs  pitch_num on_1b  on_2b  on_3b  \n",
       "0     2.0      2.0   0.0        6.0   0.0    0.0    0.0  \n",
       "1     1.0      0.0   1.0        2.0   0.0    0.0    0.0  \n",
       "2     2.0      0.0   1.0        3.0   0.0    1.0    0.0  \n",
       "3     0.0      2.0   1.0        3.0   1.0    0.0    0.0  \n",
       "4     1.0      2.0   2.0        5.0   1.0    0.0    0.0  \n",
       "\n",
       "[5 rows x 25 columns]"
      ]
     },
     "execution_count": 17,
     "metadata": {},
     "output_type": "execute_result"
    }
   ],
   "source": [
    "# sanity check\n",
    "\n",
    "df.head()"
   ]
  },
  {
   "cell_type": "code",
   "execution_count": 18,
   "metadata": {},
   "outputs": [
    {
     "data": {
      "text/plain": [
       "5700"
      ]
     },
     "execution_count": 18,
     "metadata": {},
     "output_type": "execute_result"
    }
   ],
   "source": [
    "df['pitch_type'].isna().sum()"
   ]
  },
  {
   "cell_type": "code",
   "execution_count": 19,
   "metadata": {},
   "outputs": [],
   "source": [
    "df = df[df['pitch_type'].notna()]\n",
    "df = df.reset_index(drop=True)"
   ]
  },
  {
   "cell_type": "code",
   "execution_count": 20,
   "metadata": {},
   "outputs": [
    {
     "name": "stdout",
     "output_type": "stream",
     "text": [
      "<class 'pandas.core.frame.DataFrame'>\n",
      "RangeIndex: 919761 entries, 0 to 919760\n",
      "Data columns (total 25 columns):\n",
      " #   Column        Non-Null Count   Dtype  \n",
      "---  ------        --------------   -----  \n",
      " 0   inning        919761 non-null  int64  \n",
      " 1   ab_id         919761 non-null  object \n",
      " 2   g_id          919761 non-null  int64  \n",
      " 3   batter_id     919761 non-null  int64  \n",
      " 4   pitcher_id    919761 non-null  int64  \n",
      " 5   stand         919761 non-null  object \n",
      " 6   p_throws      919761 non-null  object \n",
      " 7   event         919761 non-null  object \n",
      " 8   horiz_loc     919761 non-null  float64\n",
      " 9   vert_loc      919761 non-null  float64\n",
      " 10  start_speed   919761 non-null  float64\n",
      " 11  end_speed     919761 non-null  float64\n",
      " 12  spin_rate     919761 non-null  object \n",
      " 13  spin_dir      919761 non-null  object \n",
      " 14  break_angle   919761 non-null  float64\n",
      " 15  break_length  919761 non-null  float64\n",
      " 16  break_y       919761 non-null  float64\n",
      " 17  pitch_type    919761 non-null  object \n",
      " 18  b_count       919761 non-null  float64\n",
      " 19  s_count       919761 non-null  float64\n",
      " 20  outs          919761 non-null  float64\n",
      " 21  pitch_num     919761 non-null  float64\n",
      " 22  on_1b         919761 non-null  float64\n",
      " 23  on_2b         919761 non-null  float64\n",
      " 24  on_3b         919761 non-null  float64\n",
      "dtypes: float64(14), int64(4), object(7)\n",
      "memory usage: 175.4+ MB\n"
     ]
    }
   ],
   "source": [
    "df.info()"
   ]
  },
  {
   "cell_type": "code",
   "execution_count": 21,
   "metadata": {},
   "outputs": [
    {
     "data": {
      "text/plain": [
       "FF    0.339439\n",
       "SL    0.165928\n",
       "FT    0.119097\n",
       "CH    0.111533\n",
       "SI    0.087041\n",
       "CU    0.076297\n",
       "FC    0.056403\n",
       "KC    0.021557\n",
       "FS    0.016869\n",
       "KN    0.003280\n",
       "IN    0.001911\n",
       "EP    0.000292\n",
       "FO    0.000273\n",
       "SC    0.000035\n",
       "PO    0.000034\n",
       "UN    0.000008\n",
       "FA    0.000002\n",
       "AB    0.000001\n",
       "Name: pitch_type, dtype: float64"
      ]
     },
     "execution_count": 21,
     "metadata": {},
     "output_type": "execute_result"
    }
   ],
   "source": [
    "df['pitch_type'].value_counts(normalize=True)"
   ]
  },
  {
   "cell_type": "code",
   "execution_count": 22,
   "metadata": {},
   "outputs": [
    {
     "data": {
      "image/png": "[encoded data removed]",
      "text/plain": [
       "<Figure size 432x288 with 1 Axes>"
      ]
     },
     "metadata": {
      "needs_background": "light"
     },
     "output_type": "display_data"
    }
   ],
   "source": [
    "df['pitch_type'].value_counts().plot(kind='bar')\n",
    "plt.show()"
   ]
  },
  {
   "cell_type": "markdown",
   "metadata": {},
   "source": [
    "I'm not interested in any pitches accounting for less than 1% of the total...except for knuckleballs because I'm curious about them.  I'll only look at the top 10 most frequent pitch types."
   ]
  },
  {
   "cell_type": "code",
   "execution_count": 23,
   "metadata": {},
   "outputs": [],
   "source": [
    "# create a list of the top 10 most used pitches\n",
    "\n",
    "pitch_type_keep = ['FF', 'SL', 'FT', 'CH', 'SI', 'CU', 'FC', 'KC', 'FS', 'KN']"
   ]
  },
  {
   "cell_type": "code",
   "execution_count": 24,
   "metadata": {},
   "outputs": [],
   "source": [
    "df = df[df['pitch_type'].isin(pitch_type_keep)]\n",
    "df = df.reset_index(drop=True)"
   ]
  },
  {
   "cell_type": "code",
   "execution_count": 25,
   "metadata": {},
   "outputs": [
    {
     "data": {
      "text/plain": [
       "FF    0.340309\n",
       "SL    0.166353\n",
       "FT    0.119402\n",
       "CH    0.111819\n",
       "SI    0.087264\n",
       "CU    0.076493\n",
       "FC    0.056547\n",
       "KC    0.021612\n",
       "FS    0.016912\n",
       "KN    0.003289\n",
       "Name: pitch_type, dtype: float64"
      ]
     },
     "execution_count": 25,
     "metadata": {},
     "output_type": "execute_result"
    }
   ],
   "source": [
    "df['pitch_type'].value_counts(normalize=True)"
   ]
  },
  {
   "cell_type": "markdown",
   "metadata": {},
   "source": [
    "The dependent variable is the outcome of the at bat, which is provided in the event column."
   ]
  },
  {
   "cell_type": "code",
   "execution_count": 26,
   "metadata": {},
   "outputs": [
    {
     "data": {
      "text/plain": [
       "Strikeout                       198566\n",
       "Groundout                       166152\n",
       "Single                          134005\n",
       "Flyout                          100115\n",
       "Walk                             71648\n",
       "Lineout                          55759\n",
       "Pop Out                          42949\n",
       "Double                           41433\n",
       "Home Run                         28817\n",
       "Forceout                         18590\n",
       "Grounded Into DP                 18076\n",
       "Hit By Pitch                      8861\n",
       "Field Error                       7705\n",
       "Sac Fly                           5880\n",
       "Sac Bunt                          4702\n",
       "Triple                            4220\n",
       "Double Play                       2201\n",
       "Runner Out                        1598\n",
       "Fielders Choice Out               1530\n",
       "Bunt Groundout                    1473\n",
       "Fielders Choice                    800\n",
       "Bunt Pop Out                       679\n",
       "Strikeout - DP                     576\n",
       "Batter Interference                209\n",
       "Catcher Interference               208\n",
       "Caught Stealing 2B                 176\n",
       "Strikeout Double Play              146\n",
       "Sac Fly DP                          76\n",
       "Bunt Lineout                        61\n",
       "Pickoff Caught Stealing 2B          36\n",
       "Fan Interference                    35\n",
       "Pickoff 1B                          32\n",
       "Triple Play                         23\n",
       "Caught Stealing Home                15\n",
       "Sac Fly Double Play                 11\n",
       "Caught Stealing 3B                  11\n",
       "Pickoff 2B                           8\n",
       "Sacrifice Bunt DP                    4\n",
       "Pickoff Caught Stealing Home         4\n",
       "Wild Pitch                           4\n",
       "Runner Double Play                   3\n",
       "Pickoff 3B                           3\n",
       "Sac Bunt Double Play                 3\n",
       "Game Advisory                        2\n",
       "Stolen Base 2B                       1\n",
       "Passed Ball                          1\n",
       "Pickoff Caught Stealing 3B           1\n",
       "Pickoff Error 1B                     1\n",
       "Intent Walk                          1\n",
       "Name: event, dtype: int64"
      ]
     },
     "execution_count": 26,
     "metadata": {},
     "output_type": "execute_result"
    }
   ],
   "source": [
    "df['event'].value_counts()"
   ]
  },
  {
   "cell_type": "markdown",
   "metadata": {},
   "source": [
    "I want to focus on outcomes that are related directly to an at bat's final pitch, but there are some events given that can be considered unrelated to the specific pitch.  Those rows, therefore, can be removed.  Looking at the list, I'm also going to remove the events that were documented fewer than 10 times.  Some of these are not very clear, and they don't add enough weight to the problem anyway."
   ]
  },
  {
   "cell_type": "code",
   "execution_count": 27,
   "metadata": {},
   "outputs": [],
   "source": [
    "# create a list of events that aren't affected by the pitch\n",
    "\n",
    "drop_events = ['Batter Interference', 'Catcher Interference', 'Caught Stealing 2B',\n",
    "               'Pickoff Caught Stealing 2B', 'Fan Interference', 'Pickoff 1B',\n",
    "               'Caught Stealing Home', 'Caught Stealing 3B', 'Pickoff 2B',\n",
    "               'Sacrifice Bunt DP', 'Wild Pitch', 'Pickoff Caught Stealing Home',\n",
    "               'Pickoff 3B', 'Runner Double Play', 'Sac Bunt Double Play',\n",
    "               'Game Advisory', 'Intent Walk', 'Pickoff Caught Stealing 3B',\n",
    "               'Passed Ball', 'Stolen Base 2B', 'Pickoff Error 1B']"
   ]
  },
  {
   "cell_type": "code",
   "execution_count": 28,
   "metadata": {},
   "outputs": [],
   "source": [
    "# drop rows with events in drop_events\n",
    "\n",
    "df = df.drop(df[df['event'].isin(drop_events)].index)\n",
    "df = df.reset_index(drop=True)"
   ]
  },
  {
   "cell_type": "code",
   "execution_count": 29,
   "metadata": {},
   "outputs": [
    {
     "data": {
      "text/plain": [
       "Strikeout                198566\n",
       "Groundout                166152\n",
       "Single                   134005\n",
       "Flyout                   100115\n",
       "Walk                      71648\n",
       "Lineout                   55759\n",
       "Pop Out                   42949\n",
       "Double                    41433\n",
       "Home Run                  28817\n",
       "Forceout                  18590\n",
       "Grounded Into DP          18076\n",
       "Hit By Pitch               8861\n",
       "Field Error                7705\n",
       "Sac Fly                    5880\n",
       "Sac Bunt                   4702\n",
       "Triple                     4220\n",
       "Double Play                2201\n",
       "Runner Out                 1598\n",
       "Fielders Choice Out        1530\n",
       "Bunt Groundout             1473\n",
       "Fielders Choice             800\n",
       "Bunt Pop Out                679\n",
       "Strikeout - DP              576\n",
       "Strikeout Double Play       146\n",
       "Sac Fly DP                   76\n",
       "Bunt Lineout                 61\n",
       "Triple Play                  23\n",
       "Sac Fly Double Play          11\n",
       "Name: event, dtype: int64"
      ]
     },
     "execution_count": 29,
     "metadata": {},
     "output_type": "execute_result"
    }
   ],
   "source": [
    "df['event'].value_counts()"
   ]
  },
  {
   "cell_type": "markdown",
   "metadata": {},
   "source": [
    "The pitcher's goal is to get outs, so I'll break down the event variable into those that result in outs and those that don't.  One exception is the 'Field Error' event, which I will identify as an out result since the only reason an out wasn't recorded (according to the official scorer) in such an event was the defense of the pitcher's team and no the pitch itself.  The result of the pitch should have been an out."
   ]
  },
  {
   "cell_type": "code",
   "execution_count": 30,
   "metadata": {},
   "outputs": [],
   "source": [
    "# create a list of events that do not result in an out\n",
    "\n",
    "no_out = ['Single', 'Walk', 'Double', 'Home Run', 'Hit By Pitch', 'Triple']"
   ]
  },
  {
   "cell_type": "code",
   "execution_count": 31,
   "metadata": {},
   "outputs": [],
   "source": [
    "# create numerical categories for out or no out\n",
    "\n",
    "def out_made(event):\n",
    "    if event in no_out:\n",
    "        return 0\n",
    "    else:\n",
    "        return 1"
   ]
  },
  {
   "cell_type": "code",
   "execution_count": 32,
   "metadata": {},
   "outputs": [
    {
     "data": {
      "text/plain": [
       "1    0.68474\n",
       "0    0.31526\n",
       "Name: out_made, dtype: float64"
      ]
     },
     "execution_count": 32,
     "metadata": {},
     "output_type": "execute_result"
    }
   ],
   "source": [
    "# add new column\n",
    "\n",
    "df['out_made'] = df['event'].apply(out_made)\n",
    "\n",
    "df['out_made'].value_counts(normalize=True)"
   ]
  },
  {
   "cell_type": "markdown",
   "metadata": {},
   "source": [
    "For the top ten most frequent pitch types, how do they rank in terms of getting outs?  If out_made = 1  is an out and out_made = 0 is an event without an out, the higher the mean of those values, the more often the pitch leads to an out."
   ]
  },
  {
   "cell_type": "code",
   "execution_count": 33,
   "metadata": {},
   "outputs": [],
   "source": [
    "pitch_success = df.groupby(\"pitch_type\")[\"out_made\"].mean().sort_values(ascending = False)"
   ]
  },
  {
   "cell_type": "code",
   "execution_count": 34,
   "metadata": {},
   "outputs": [
    {
     "data": {
      "image/png": "[encoded data removed]",
      "text/plain": [
       "<Figure size 432x288 with 1 Axes>"
      ]
     },
     "metadata": {
      "needs_background": "light"
     },
     "output_type": "display_data"
    }
   ],
   "source": [
    "# plot the pitch types in order of their ratios of events with outs vs no outs\n",
    "\n",
    "pitch_success.plot(kind = \"bar\")\n",
    "plt.xlabel(\"Pitch Type\")\n",
    "plt.ylabel(\"Outs\")\n",
    "plt.title(\"Out Ratio by Pitch Type\")\n",
    "plt.yticks(np.arange(0, 1, 0.1))\n",
    "plt.grid(axis = 'y')\n",
    "plt.show()"
   ]
  },
  {
   "cell_type": "code",
   "execution_count": 35,
   "metadata": {},
   "outputs": [
    {
     "data": {
      "text/plain": [
       "pitch_type  out_made\n",
       "CH          1           0.715979\n",
       "            0           0.284021\n",
       "CU          1           0.745539\n",
       "            0           0.254461\n",
       "FC          1           0.691983\n",
       "            0           0.308017\n",
       "FF          1           0.652794\n",
       "            0           0.347206\n",
       "FS          1           0.742518\n",
       "            0           0.257482\n",
       "FT          1           0.638863\n",
       "            0           0.361137\n",
       "KC          1           0.744310\n",
       "            0           0.255690\n",
       "KN          1           0.694067\n",
       "            0           0.305933\n",
       "SI          1           0.641827\n",
       "            0           0.358173\n",
       "SL          1           0.740322\n",
       "            0           0.259678\n",
       "Name: out_made, dtype: float64"
      ]
     },
     "execution_count": 35,
     "metadata": {},
     "output_type": "execute_result"
    }
   ],
   "source": [
    "df.groupby('pitch_type').out_made.value_counts(normalize=True)"
   ]
  },
  {
   "cell_type": "code",
   "execution_count": 36,
   "metadata": {},
   "outputs": [
    {
     "data": {
      "image/png": "[encoded data removed]",
      "text/plain": [
       "<Figure size 432x288 with 1 Axes>"
      ]
     },
     "metadata": {
      "needs_background": "light"
     },
     "output_type": "display_data"
    }
   ],
   "source": [
    "sns.histplot(x=df['pitch_type'], y=df['out_made']);"
   ]
  },
  {
   "cell_type": "code",
   "execution_count": 37,
   "metadata": {},
   "outputs": [
    {
     "data": {
      "image/png": "[encoded data removed]",
      "text/plain": [
       "<Figure size 1152x504 with 1 Axes>"
      ]
     },
     "metadata": {
      "needs_background": "light"
     },
     "output_type": "display_data"
    }
   ],
   "source": [
    "#sns.set(color_codes=True)\n",
    "fig, ax = plt.subplots(figsize=(16, 7))\n",
    "\n",
    "x = 'pitch_type'\n",
    "y = 'out_made'\n",
    "\n",
    "(df\n",
    ".groupby(x)[y]\n",
    ".value_counts(normalize=True).sort_values()\n",
    ".mul(100)\n",
    ".rename('percent')\n",
    ".reset_index()\n",
    ".pipe((sns.barplot,'data'), ax=ax,x=x,y='percent',hue=y));"
   ]
  },
  {
   "cell_type": "markdown",
   "metadata": {},
   "source": [
    "From the 10 most frequently used pitches, I want to use the 5 of them with the highest ratio of getting outs for the model."
   ]
  },
  {
   "cell_type": "code",
   "execution_count": 38,
   "metadata": {},
   "outputs": [
    {
     "name": "stdout",
     "output_type": "stream",
     "text": [
      "<class 'pandas.core.frame.DataFrame'>\n",
      "RangeIndex: 360411 entries, 0 to 360410\n",
      "Data columns (total 26 columns):\n",
      " #   Column        Non-Null Count   Dtype  \n",
      "---  ------        --------------   -----  \n",
      " 0   inning        360411 non-null  int64  \n",
      " 1   ab_id         360411 non-null  object \n",
      " 2   g_id          360411 non-null  int64  \n",
      " 3   batter_id     360411 non-null  int64  \n",
      " 4   pitcher_id    360411 non-null  int64  \n",
      " 5   stand         360411 non-null  object \n",
      " 6   p_throws      360411 non-null  object \n",
      " 7   event         360411 non-null  object \n",
      " 8   horiz_loc     360411 non-null  float64\n",
      " 9   vert_loc      360411 non-null  float64\n",
      " 10  start_speed   360411 non-null  float64\n",
      " 11  end_speed     360411 non-null  float64\n",
      " 12  spin_rate     360411 non-null  object \n",
      " 13  spin_dir      360411 non-null  object \n",
      " 14  break_angle   360411 non-null  float64\n",
      " 15  break_length  360411 non-null  float64\n",
      " 16  break_y       360411 non-null  float64\n",
      " 17  pitch_type    360411 non-null  object \n",
      " 18  b_count       360411 non-null  float64\n",
      " 19  s_count       360411 non-null  float64\n",
      " 20  outs          360411 non-null  float64\n",
      " 21  pitch_num     360411 non-null  float64\n",
      " 22  on_1b         360411 non-null  float64\n",
      " 23  on_2b         360411 non-null  float64\n",
      " 24  on_3b         360411 non-null  float64\n",
      " 25  out_made      360411 non-null  int64  \n",
      "dtypes: float64(14), int64(5), object(7)\n",
      "memory usage: 71.5+ MB\n"
     ]
    }
   ],
   "source": [
    "# keep the observations with the pitch types getting the highest percentage of outs\n",
    "\n",
    "pitch_best_5 = ['CU', 'KC', 'FS', 'SL', 'CH']\n",
    "\n",
    "df = df[df['pitch_type'].isin(pitch_best_5)]\n",
    "df = df.reset_index(drop=True)\n",
    "\n",
    "df.info()"
   ]
  },
  {
   "cell_type": "code",
   "execution_count": 39,
   "metadata": {},
   "outputs": [
    {
     "data": {
      "text/plain": [
       "1    0.734728\n",
       "0    0.265272\n",
       "Name: out_made, dtype: float64"
      ]
     },
     "execution_count": 39,
     "metadata": {},
     "output_type": "execute_result"
    }
   ],
   "source": [
    "# check new results of outs made or not with these 5 pitch types\n",
    "\n",
    "df['out_made'].value_counts(normalize=True)"
   ]
  },
  {
   "cell_type": "code",
   "execution_count": 121,
   "metadata": {},
   "outputs": [
    {
     "data": {
      "image/png": "[encoded data removed]",
      "text/plain": [
       "<Figure size 432x288 with 1 Axes>"
      ]
     },
     "metadata": {
      "needs_background": "light"
     },
     "output_type": "display_data"
    }
   ],
   "source": [
    "sns.histplot(x=df['pitch_type'], y=df['out_made']);"
   ]
  },
  {
   "cell_type": "markdown",
   "metadata": {},
   "source": [
    "## Modeling"
   ]
  },
  {
   "cell_type": "markdown",
   "metadata": {},
   "source": [
    "### Baseline Model"
   ]
  },
  {
   "cell_type": "markdown",
   "metadata": {},
   "source": [
    "The baseline model is a dummy classifier with pitch type as the only x variable."
   ]
  },
  {
   "cell_type": "code",
   "execution_count": 40,
   "metadata": {},
   "outputs": [],
   "source": [
    "# define X and y and perform train test split with 20% in test set\n",
    "\n",
    "X = df['pitch_type']\n",
    "y = df['out_made']\n",
    "\n",
    "X_train, X_test, y_train, y_test = train_test_split(X, y, test_size=0.2, random_state=1)"
   ]
  },
  {
   "cell_type": "code",
   "execution_count": 41,
   "metadata": {},
   "outputs": [
    {
     "data": {
      "text/html": [
       "<style>#sk-container-id-1 {color: black;}#sk-container-id-1 pre{padding: 0;}#sk-container-id-1 div.sk-toggleable {background-color: white;}#sk-container-id-1 label.sk-toggleable__label {cursor: pointer;display: block;width: 100%;margin-bottom: 0;padding: 0.3em;box-sizing: border-box;text-align: center;}#sk-container-id-1 label.sk-toggleable__label-arrow:before {content: \"▸\";float: left;margin-right: 0.25em;color: #696969;}#sk-container-id-1 label.sk-toggleable__label-arrow:hover:before {color: black;}#sk-container-id-1 div.sk-estimator:hover label.sk-toggleable__label-arrow:before {color: black;}#sk-container-id-1 div.sk-toggleable__content {max-height: 0;max-width: 0;overflow: hidden;text-align: left;background-color: #f0f8ff;}#sk-container-id-1 div.sk-toggleable__content pre {margin: 0.2em;color: black;border-radius: 0.25em;background-color: #f0f8ff;}#sk-container-id-1 input.sk-toggleable__control:checked~div.sk-toggleable__content {max-height: 200px;max-width: 100%;overflow: auto;}#sk-container-id-1 input.sk-toggleable__control:checked~label.sk-toggleable__label-arrow:before {content: \"▾\";}#sk-container-id-1 div.sk-estimator input.sk-toggleable__control:checked~label.sk-toggleable__label {background-color: #d4ebff;}#sk-container-id-1 div.sk-label input.sk-toggleable__control:checked~label.sk-toggleable__label {background-color: #d4ebff;}#sk-container-id-1 input.sk-hidden--visually {border: 0;clip: rect(1px 1px 1px 1px);clip: rect(1px, 1px, 1px, 1px);height: 1px;margin: -1px;overflow: hidden;padding: 0;position: absolute;width: 1px;}#sk-container-id-1 div.sk-estimator {font-family: monospace;background-color: #f0f8ff;border: 1px dotted black;border-radius: 0.25em;box-sizing: border-box;margin-bottom: 0.5em;}#sk-container-id-1 div.sk-estimator:hover {background-color: #d4ebff;}#sk-container-id-1 div.sk-parallel-item::after {content: \"\";width: 100%;border-bottom: 1px solid gray;flex-grow: 1;}#sk-container-id-1 div.sk-label:hover label.sk-toggleable__label {background-color: #d4ebff;}#sk-container-id-1 div.sk-serial::before {content: \"\";position: absolute;border-left: 1px solid gray;box-sizing: border-box;top: 0;bottom: 0;left: 50%;z-index: 0;}#sk-container-id-1 div.sk-serial {display: flex;flex-direction: column;align-items: center;background-color: white;padding-right: 0.2em;padding-left: 0.2em;position: relative;}#sk-container-id-1 div.sk-item {position: relative;z-index: 1;}#sk-container-id-1 div.sk-parallel {display: flex;align-items: stretch;justify-content: center;background-color: white;position: relative;}#sk-container-id-1 div.sk-item::before, #sk-container-id-1 div.sk-parallel-item::before {content: \"\";position: absolute;border-left: 1px solid gray;box-sizing: border-box;top: 0;bottom: 0;left: 50%;z-index: -1;}#sk-container-id-1 div.sk-parallel-item {display: flex;flex-direction: column;z-index: 1;position: relative;background-color: white;}#sk-container-id-1 div.sk-parallel-item:first-child::after {align-self: flex-end;width: 50%;}#sk-container-id-1 div.sk-parallel-item:last-child::after {align-self: flex-start;width: 50%;}#sk-container-id-1 div.sk-parallel-item:only-child::after {width: 0;}#sk-container-id-1 div.sk-dashed-wrapped {border: 1px dashed gray;margin: 0 0.4em 0.5em 0.4em;box-sizing: border-box;padding-bottom: 0.4em;background-color: white;}#sk-container-id-1 div.sk-label label {font-family: monospace;font-weight: bold;display: inline-block;line-height: 1.2em;}#sk-container-id-1 div.sk-label-container {text-align: center;}#sk-container-id-1 div.sk-container {/* jupyter's `normalize.less` sets `[hidden] { display: none; }` but bootstrap.min.css set `[hidden] { display: none !important; }` so we also need the `!important` here to be able to override the default hidden behavior on the sphinx rendered scikit-learn.org. See: https://github.com/scikit-learn/scikit-learn/issues/21755 */display: inline-block !important;position: relative;}#sk-container-id-1 div.sk-text-repr-fallback {display: none;}</style><div id=\"sk-container-id-1\" class=\"sk-top-container\"><div class=\"sk-text-repr-fallback\"><pre>DummyClassifier(strategy=&#x27;most_frequent&#x27;)</pre><b>In a Jupyter environment, please rerun this cell to show the HTML representation or trust the notebook. <br />On GitHub, the HTML representation is unable to render, please try loading this page with nbviewer.org.</b></div><div class=\"sk-container\" hidden><div class=\"sk-item\"><div class=\"sk-estimator sk-toggleable\"><input class=\"sk-toggleable__control sk-hidden--visually\" id=\"sk-estimator-id-1\" type=\"checkbox\" checked><label for=\"sk-estimator-id-1\" class=\"sk-toggleable__label sk-toggleable__label-arrow\">DummyClassifier</label><div class=\"sk-toggleable__content\"><pre>DummyClassifier(strategy=&#x27;most_frequent&#x27;)</pre></div></div></div></div></div>"
      ],
      "text/plain": [
       "DummyClassifier(strategy='most_frequent')"
      ]
     },
     "execution_count": 41,
     "metadata": {},
     "output_type": "execute_result"
    }
   ],
   "source": [
    "# instantiate and fit the model on train set\n",
    "\n",
    "base_model = DummyClassifier(strategy='most_frequent')\n",
    "base_model.fit(X_train, y_train)"
   ]
  },
  {
   "cell_type": "code",
   "execution_count": 136,
   "metadata": {},
   "outputs": [
    {
     "name": "stdout",
     "output_type": "stream",
     "text": [
      "Accuracy: 73.39455904998404\n"
     ]
    }
   ],
   "source": [
    "# predict y and find accuracy on test data\n",
    "\n",
    "y_pred = base_model.predict(X_test)\n",
    "\n",
    "acc = accuracy_score(y_test, y_pred) * 100\n",
    "print(\"Accuracy: {0}\".format(acc))"
   ]
  },
  {
   "cell_type": "code",
   "execution_count": 43,
   "metadata": {},
   "outputs": [
    {
     "data": {
      "image/png": "[encoded data removed]",
      "text/plain": [
       "<Figure size 432x288 with 2 Axes>"
      ]
     },
     "metadata": {
      "needs_background": "light"
     },
     "output_type": "display_data"
    }
   ],
   "source": [
    "cm = confusion_matrix(y_test, y_pred, labels=base_model.classes_)\n",
    "cm_disp = ConfusionMatrixDisplay(confusion_matrix=cm, display_labels=base_model.classes_)\n",
    "cm_disp.plot()\n",
    "plt.show()"
   ]
  },
  {
   "cell_type": "code",
   "execution_count": 139,
   "metadata": {},
   "outputs": [
    {
     "name": "stdout",
     "output_type": "stream",
     "text": [
      "Accuracy: 50.0\n"
     ]
    }
   ],
   "source": [
    "# check ROC-AUC score\n",
    "\n",
    "roc_auc = roc_auc_score(y_test, y_pred) * 100\n",
    "print(\"Accuracy: {0}\".format(roc_auc))"
   ]
  },
  {
   "cell_type": "code",
   "execution_count": 44,
   "metadata": {},
   "outputs": [
    {
     "data": {
      "image/png": "[encoded data removed]",
      "text/plain": [
       "<Figure size 432x288 with 1 Axes>"
      ]
     },
     "metadata": {
      "needs_background": "light"
     },
     "output_type": "display_data"
    }
   ],
   "source": [
    "RocCurveDisplay.from_predictions(y_test, y_pred)\n",
    "plt.show()"
   ]
  },
  {
   "cell_type": "markdown",
   "metadata": {},
   "source": [
    "### Initial Decision Tree"
   ]
  },
  {
   "cell_type": "markdown",
   "metadata": {},
   "source": [
    "The first model is a decision tree to try to see which independent variables are most important in predicting outs.  In addition to the pitch type, I want to consider the following variables: horiz_loc, vert_loc, start_speed, spin_rate, and spin_dir.  \n",
    "\n",
    "The spin rate and spin direction columns contain object type values because there are almost 183,000 of them that are marked \"placeholder\" rather than a valid number.  I don't think imputing an average or anything else for these makes sense because different pitches have different ranges of values.  Instead, I'm removing those entries and converting the others to float types."
   ]
  },
  {
   "cell_type": "code",
   "execution_count": 45,
   "metadata": {},
   "outputs": [],
   "source": [
    "# remove 'placeholder' entries for spin_rate (spin_dir has 'placeholder' for the same rows)\n",
    "\n",
    "df = df[df['spin_rate'] != 'placeholder']"
   ]
  },
  {
   "cell_type": "code",
   "execution_count": 46,
   "metadata": {},
   "outputs": [],
   "source": [
    "# change spin_rate and spin_dir to floats\n",
    "\n",
    "df['spin_rate'] = df['spin_rate'].astype(float)\n",
    "df['spin_dir'] = df['spin_dir'].astype(float)"
   ]
  },
  {
   "cell_type": "code",
   "execution_count": 47,
   "metadata": {},
   "outputs": [
    {
     "name": "stdout",
     "output_type": "stream",
     "text": [
      "<class 'pandas.core.frame.DataFrame'>\n",
      "Int64Index: 283887 entries, 0 to 283886\n",
      "Data columns (total 26 columns):\n",
      " #   Column        Non-Null Count   Dtype  \n",
      "---  ------        --------------   -----  \n",
      " 0   inning        283887 non-null  int64  \n",
      " 1   ab_id         283887 non-null  object \n",
      " 2   g_id          283887 non-null  int64  \n",
      " 3   batter_id     283887 non-null  int64  \n",
      " 4   pitcher_id    283887 non-null  int64  \n",
      " 5   stand         283887 non-null  object \n",
      " 6   p_throws      283887 non-null  object \n",
      " 7   event         283887 non-null  object \n",
      " 8   horiz_loc     283887 non-null  float64\n",
      " 9   vert_loc      283887 non-null  float64\n",
      " 10  start_speed   283887 non-null  float64\n",
      " 11  end_speed     283887 non-null  float64\n",
      " 12  spin_rate     283887 non-null  float64\n",
      " 13  spin_dir      283887 non-null  float64\n",
      " 14  break_angle   283887 non-null  float64\n",
      " 15  break_length  283887 non-null  float64\n",
      " 16  break_y       283887 non-null  float64\n",
      " 17  pitch_type    283887 non-null  object \n",
      " 18  b_count       283887 non-null  float64\n",
      " 19  s_count       283887 non-null  float64\n",
      " 20  outs          283887 non-null  float64\n",
      " 21  pitch_num     283887 non-null  float64\n",
      " 22  on_1b         283887 non-null  float64\n",
      " 23  on_2b         283887 non-null  float64\n",
      " 24  on_3b         283887 non-null  float64\n",
      " 25  out_made      283887 non-null  int64  \n",
      "dtypes: float64(16), int64(5), object(5)\n",
      "memory usage: 58.5+ MB\n"
     ]
    }
   ],
   "source": [
    "df.info()"
   ]
  },
  {
   "cell_type": "code",
   "execution_count": 64,
   "metadata": {},
   "outputs": [],
   "source": [
    "# create DataFrame of only the columns to use in model\n",
    "\n",
    "df_model = df[['pitch_type', 'horiz_loc', 'vert_loc', 'start_speed', 'spin_rate', 'spin_dir', 'out_made']]"
   ]
  },
  {
   "cell_type": "code",
   "execution_count": 65,
   "metadata": {},
   "outputs": [
    {
     "name": "stdout",
     "output_type": "stream",
     "text": [
      "<class 'pandas.core.frame.DataFrame'>\n",
      "Int64Index: 283887 entries, 0 to 283886\n",
      "Data columns (total 7 columns):\n",
      " #   Column       Non-Null Count   Dtype  \n",
      "---  ------       --------------   -----  \n",
      " 0   pitch_type   283887 non-null  object \n",
      " 1   horiz_loc    283887 non-null  float64\n",
      " 2   vert_loc     283887 non-null  float64\n",
      " 3   start_speed  283887 non-null  float64\n",
      " 4   spin_rate    283887 non-null  float64\n",
      " 5   spin_dir     283887 non-null  float64\n",
      " 6   out_made     283887 non-null  int64  \n",
      "dtypes: float64(5), int64(1), object(1)\n",
      "memory usage: 17.3+ MB\n"
     ]
    }
   ],
   "source": [
    "df_model.info()"
   ]
  },
  {
   "cell_type": "code",
   "execution_count": 66,
   "metadata": {},
   "outputs": [
    {
     "data": {
      "text/plain": [
       "<283887x5 sparse matrix of type '<class 'numpy.float64'>'\n",
       "\twith 283887 stored elements in Compressed Sparse Row format>"
      ]
     },
     "execution_count": 66,
     "metadata": {},
     "output_type": "execute_result"
    }
   ],
   "source": [
    "# one hot encoder for the pitch_type variable\n",
    "\n",
    "#train_encoded = X_train_dt[['pitch_type']]\n",
    "#test_encoded = X_test_dt[['pitch_type']]\n",
    "ohe = OneHotEncoder(handle_unknown='ignore')\n",
    "df_encoded = ohe.fit_transform(df_model[['pitch_type']])\n",
    "#X_test_dt_encoded = ohe.transform(test_encoded)\n",
    "\n",
    "df_encoded\n"
   ]
  },
  {
   "cell_type": "code",
   "execution_count": 67,
   "metadata": {},
   "outputs": [
    {
     "data": {
      "text/html": [
       "<div>\n",
       "<style scoped>\n",
       "    .dataframe tbody tr th:only-of-type {\n",
       "        vertical-align: middle;\n",
       "    }\n",
       "\n",
       "    .dataframe tbody tr th {\n",
       "        vertical-align: top;\n",
       "    }\n",
       "\n",
       "    .dataframe thead th {\n",
       "        text-align: right;\n",
       "    }\n",
       "</style>\n",
       "<table border=\"1\" class=\"dataframe\">\n",
       "  <thead>\n",
       "    <tr style=\"text-align: right;\">\n",
       "      <th></th>\n",
       "      <th>pitch_type_CH</th>\n",
       "      <th>pitch_type_CU</th>\n",
       "      <th>pitch_type_FS</th>\n",
       "      <th>pitch_type_KC</th>\n",
       "      <th>pitch_type_SL</th>\n",
       "    </tr>\n",
       "  </thead>\n",
       "  <tbody>\n",
       "    <tr>\n",
       "      <th>0</th>\n",
       "      <td>0.0</td>\n",
       "      <td>1.0</td>\n",
       "      <td>0.0</td>\n",
       "      <td>0.0</td>\n",
       "      <td>0.0</td>\n",
       "    </tr>\n",
       "    <tr>\n",
       "      <th>1</th>\n",
       "      <td>0.0</td>\n",
       "      <td>1.0</td>\n",
       "      <td>0.0</td>\n",
       "      <td>0.0</td>\n",
       "      <td>0.0</td>\n",
       "    </tr>\n",
       "    <tr>\n",
       "      <th>2</th>\n",
       "      <td>0.0</td>\n",
       "      <td>1.0</td>\n",
       "      <td>0.0</td>\n",
       "      <td>0.0</td>\n",
       "      <td>0.0</td>\n",
       "    </tr>\n",
       "    <tr>\n",
       "      <th>3</th>\n",
       "      <td>0.0</td>\n",
       "      <td>1.0</td>\n",
       "      <td>0.0</td>\n",
       "      <td>0.0</td>\n",
       "      <td>0.0</td>\n",
       "    </tr>\n",
       "    <tr>\n",
       "      <th>4</th>\n",
       "      <td>1.0</td>\n",
       "      <td>0.0</td>\n",
       "      <td>0.0</td>\n",
       "      <td>0.0</td>\n",
       "      <td>0.0</td>\n",
       "    </tr>\n",
       "    <tr>\n",
       "      <th>...</th>\n",
       "      <td>...</td>\n",
       "      <td>...</td>\n",
       "      <td>...</td>\n",
       "      <td>...</td>\n",
       "      <td>...</td>\n",
       "    </tr>\n",
       "    <tr>\n",
       "      <th>283882</th>\n",
       "      <td>0.0</td>\n",
       "      <td>0.0</td>\n",
       "      <td>0.0</td>\n",
       "      <td>0.0</td>\n",
       "      <td>1.0</td>\n",
       "    </tr>\n",
       "    <tr>\n",
       "      <th>283883</th>\n",
       "      <td>0.0</td>\n",
       "      <td>0.0</td>\n",
       "      <td>0.0</td>\n",
       "      <td>0.0</td>\n",
       "      <td>1.0</td>\n",
       "    </tr>\n",
       "    <tr>\n",
       "      <th>283884</th>\n",
       "      <td>0.0</td>\n",
       "      <td>0.0</td>\n",
       "      <td>0.0</td>\n",
       "      <td>0.0</td>\n",
       "      <td>1.0</td>\n",
       "    </tr>\n",
       "    <tr>\n",
       "      <th>283885</th>\n",
       "      <td>0.0</td>\n",
       "      <td>0.0</td>\n",
       "      <td>0.0</td>\n",
       "      <td>0.0</td>\n",
       "      <td>1.0</td>\n",
       "    </tr>\n",
       "    <tr>\n",
       "      <th>283886</th>\n",
       "      <td>0.0</td>\n",
       "      <td>0.0</td>\n",
       "      <td>0.0</td>\n",
       "      <td>0.0</td>\n",
       "      <td>1.0</td>\n",
       "    </tr>\n",
       "  </tbody>\n",
       "</table>\n",
       "<p>283887 rows × 5 columns</p>\n",
       "</div>"
      ],
      "text/plain": [
       "        pitch_type_CH  pitch_type_CU  pitch_type_FS  pitch_type_KC  \\\n",
       "0                 0.0            1.0            0.0            0.0   \n",
       "1                 0.0            1.0            0.0            0.0   \n",
       "2                 0.0            1.0            0.0            0.0   \n",
       "3                 0.0            1.0            0.0            0.0   \n",
       "4                 1.0            0.0            0.0            0.0   \n",
       "...               ...            ...            ...            ...   \n",
       "283882            0.0            0.0            0.0            0.0   \n",
       "283883            0.0            0.0            0.0            0.0   \n",
       "283884            0.0            0.0            0.0            0.0   \n",
       "283885            0.0            0.0            0.0            0.0   \n",
       "283886            0.0            0.0            0.0            0.0   \n",
       "\n",
       "        pitch_type_SL  \n",
       "0                 0.0  \n",
       "1                 0.0  \n",
       "2                 0.0  \n",
       "3                 0.0  \n",
       "4                 0.0  \n",
       "...               ...  \n",
       "283882            1.0  \n",
       "283883            1.0  \n",
       "283884            1.0  \n",
       "283885            1.0  \n",
       "283886            1.0  \n",
       "\n",
       "[283887 rows x 5 columns]"
      ]
     },
     "execution_count": 67,
     "metadata": {},
     "output_type": "execute_result"
    }
   ],
   "source": [
    "ohe_df = pd.DataFrame(df_encoded.todense(), columns=ohe.get_feature_names_out(), index=df_model.index)\n",
    "ohe_df"
   ]
  },
  {
   "cell_type": "code",
   "execution_count": 68,
   "metadata": {},
   "outputs": [
    {
     "data": {
      "text/html": [
       "<div>\n",
       "<style scoped>\n",
       "    .dataframe tbody tr th:only-of-type {\n",
       "        vertical-align: middle;\n",
       "    }\n",
       "\n",
       "    .dataframe tbody tr th {\n",
       "        vertical-align: top;\n",
       "    }\n",
       "\n",
       "    .dataframe thead th {\n",
       "        text-align: right;\n",
       "    }\n",
       "</style>\n",
       "<table border=\"1\" class=\"dataframe\">\n",
       "  <thead>\n",
       "    <tr style=\"text-align: right;\">\n",
       "      <th></th>\n",
       "      <th>horiz_loc</th>\n",
       "      <th>vert_loc</th>\n",
       "      <th>start_speed</th>\n",
       "      <th>spin_rate</th>\n",
       "      <th>spin_dir</th>\n",
       "      <th>out_made</th>\n",
       "      <th>pitch_type_CH</th>\n",
       "      <th>pitch_type_CU</th>\n",
       "      <th>pitch_type_FS</th>\n",
       "      <th>pitch_type_KC</th>\n",
       "      <th>pitch_type_SL</th>\n",
       "    </tr>\n",
       "  </thead>\n",
       "  <tbody>\n",
       "    <tr>\n",
       "      <th>0</th>\n",
       "      <td>-0.711000</td>\n",
       "      <td>1.971000</td>\n",
       "      <td>76.3</td>\n",
       "      <td>818.890</td>\n",
       "      <td>283.898</td>\n",
       "      <td>1</td>\n",
       "      <td>0.0</td>\n",
       "      <td>1.0</td>\n",
       "      <td>0.0</td>\n",
       "      <td>0.0</td>\n",
       "      <td>0.0</td>\n",
       "    </tr>\n",
       "    <tr>\n",
       "      <th>1</th>\n",
       "      <td>1.578000</td>\n",
       "      <td>0.829000</td>\n",
       "      <td>76.6</td>\n",
       "      <td>1862.386</td>\n",
       "      <td>39.747</td>\n",
       "      <td>1</td>\n",
       "      <td>0.0</td>\n",
       "      <td>1.0</td>\n",
       "      <td>0.0</td>\n",
       "      <td>0.0</td>\n",
       "      <td>0.0</td>\n",
       "    </tr>\n",
       "    <tr>\n",
       "      <th>2</th>\n",
       "      <td>0.459000</td>\n",
       "      <td>1.389000</td>\n",
       "      <td>76.3</td>\n",
       "      <td>2025.382</td>\n",
       "      <td>38.118</td>\n",
       "      <td>1</td>\n",
       "      <td>0.0</td>\n",
       "      <td>1.0</td>\n",
       "      <td>0.0</td>\n",
       "      <td>0.0</td>\n",
       "      <td>0.0</td>\n",
       "    </tr>\n",
       "    <tr>\n",
       "      <th>3</th>\n",
       "      <td>0.403000</td>\n",
       "      <td>1.709000</td>\n",
       "      <td>74.9</td>\n",
       "      <td>1965.943</td>\n",
       "      <td>34.900</td>\n",
       "      <td>1</td>\n",
       "      <td>0.0</td>\n",
       "      <td>1.0</td>\n",
       "      <td>0.0</td>\n",
       "      <td>0.0</td>\n",
       "      <td>0.0</td>\n",
       "    </tr>\n",
       "    <tr>\n",
       "      <th>4</th>\n",
       "      <td>-1.028000</td>\n",
       "      <td>1.501000</td>\n",
       "      <td>84.5</td>\n",
       "      <td>2197.067</td>\n",
       "      <td>255.832</td>\n",
       "      <td>1</td>\n",
       "      <td>1.0</td>\n",
       "      <td>0.0</td>\n",
       "      <td>0.0</td>\n",
       "      <td>0.0</td>\n",
       "      <td>0.0</td>\n",
       "    </tr>\n",
       "    <tr>\n",
       "      <th>...</th>\n",
       "      <td>...</td>\n",
       "      <td>...</td>\n",
       "      <td>...</td>\n",
       "      <td>...</td>\n",
       "      <td>...</td>\n",
       "      <td>...</td>\n",
       "      <td>...</td>\n",
       "      <td>...</td>\n",
       "      <td>...</td>\n",
       "      <td>...</td>\n",
       "      <td>...</td>\n",
       "    </tr>\n",
       "    <tr>\n",
       "      <th>283882</th>\n",
       "      <td>-0.794313</td>\n",
       "      <td>2.522407</td>\n",
       "      <td>86.4</td>\n",
       "      <td>713.726</td>\n",
       "      <td>266.936</td>\n",
       "      <td>0</td>\n",
       "      <td>0.0</td>\n",
       "      <td>0.0</td>\n",
       "      <td>0.0</td>\n",
       "      <td>0.0</td>\n",
       "      <td>1.0</td>\n",
       "    </tr>\n",
       "    <tr>\n",
       "      <th>283883</th>\n",
       "      <td>0.698725</td>\n",
       "      <td>2.229321</td>\n",
       "      <td>87.8</td>\n",
       "      <td>387.510</td>\n",
       "      <td>218.205</td>\n",
       "      <td>1</td>\n",
       "      <td>0.0</td>\n",
       "      <td>0.0</td>\n",
       "      <td>0.0</td>\n",
       "      <td>0.0</td>\n",
       "      <td>1.0</td>\n",
       "    </tr>\n",
       "    <tr>\n",
       "      <th>283884</th>\n",
       "      <td>0.485988</td>\n",
       "      <td>2.223048</td>\n",
       "      <td>83.4</td>\n",
       "      <td>622.981</td>\n",
       "      <td>272.346</td>\n",
       "      <td>1</td>\n",
       "      <td>0.0</td>\n",
       "      <td>0.0</td>\n",
       "      <td>0.0</td>\n",
       "      <td>0.0</td>\n",
       "      <td>1.0</td>\n",
       "    </tr>\n",
       "    <tr>\n",
       "      <th>283885</th>\n",
       "      <td>-0.212890</td>\n",
       "      <td>1.587859</td>\n",
       "      <td>80.0</td>\n",
       "      <td>1209.602</td>\n",
       "      <td>327.322</td>\n",
       "      <td>1</td>\n",
       "      <td>0.0</td>\n",
       "      <td>0.0</td>\n",
       "      <td>0.0</td>\n",
       "      <td>0.0</td>\n",
       "      <td>1.0</td>\n",
       "    </tr>\n",
       "    <tr>\n",
       "      <th>283886</th>\n",
       "      <td>0.230280</td>\n",
       "      <td>1.784910</td>\n",
       "      <td>83.9</td>\n",
       "      <td>608.594</td>\n",
       "      <td>275.800</td>\n",
       "      <td>0</td>\n",
       "      <td>0.0</td>\n",
       "      <td>0.0</td>\n",
       "      <td>0.0</td>\n",
       "      <td>0.0</td>\n",
       "      <td>1.0</td>\n",
       "    </tr>\n",
       "  </tbody>\n",
       "</table>\n",
       "<p>283887 rows × 11 columns</p>\n",
       "</div>"
      ],
      "text/plain": [
       "        horiz_loc  vert_loc  start_speed  spin_rate  spin_dir  out_made  \\\n",
       "0       -0.711000  1.971000         76.3    818.890   283.898         1   \n",
       "1        1.578000  0.829000         76.6   1862.386    39.747         1   \n",
       "2        0.459000  1.389000         76.3   2025.382    38.118         1   \n",
       "3        0.403000  1.709000         74.9   1965.943    34.900         1   \n",
       "4       -1.028000  1.501000         84.5   2197.067   255.832         1   \n",
       "...           ...       ...          ...        ...       ...       ...   \n",
       "283882  -0.794313  2.522407         86.4    713.726   266.936         0   \n",
       "283883   0.698725  2.229321         87.8    387.510   218.205         1   \n",
       "283884   0.485988  2.223048         83.4    622.981   272.346         1   \n",
       "283885  -0.212890  1.587859         80.0   1209.602   327.322         1   \n",
       "283886   0.230280  1.784910         83.9    608.594   275.800         0   \n",
       "\n",
       "        pitch_type_CH  pitch_type_CU  pitch_type_FS  pitch_type_KC  \\\n",
       "0                 0.0            1.0            0.0            0.0   \n",
       "1                 0.0            1.0            0.0            0.0   \n",
       "2                 0.0            1.0            0.0            0.0   \n",
       "3                 0.0            1.0            0.0            0.0   \n",
       "4                 1.0            0.0            0.0            0.0   \n",
       "...               ...            ...            ...            ...   \n",
       "283882            0.0            0.0            0.0            0.0   \n",
       "283883            0.0            0.0            0.0            0.0   \n",
       "283884            0.0            0.0            0.0            0.0   \n",
       "283885            0.0            0.0            0.0            0.0   \n",
       "283886            0.0            0.0            0.0            0.0   \n",
       "\n",
       "        pitch_type_SL  \n",
       "0                 0.0  \n",
       "1                 0.0  \n",
       "2                 0.0  \n",
       "3                 0.0  \n",
       "4                 0.0  \n",
       "...               ...  \n",
       "283882            1.0  \n",
       "283883            1.0  \n",
       "283884            1.0  \n",
       "283885            1.0  \n",
       "283886            1.0  \n",
       "\n",
       "[283887 rows x 11 columns]"
      ]
     },
     "execution_count": 68,
     "metadata": {},
     "output_type": "execute_result"
    }
   ],
   "source": [
    "# replace the pitch type column with the encoded columns for pitch types\n",
    "\n",
    "df_model_ohe = df_model.drop('pitch_type', axis=1)\n",
    "df_model_ohe = pd.concat([df_model_ohe, ohe_df], axis=1)\n",
    "df_model_ohe"
   ]
  },
  {
   "cell_type": "code",
   "execution_count": 69,
   "metadata": {},
   "outputs": [],
   "source": [
    "# define X and y and perform train test split with 20% in test set\n",
    "\n",
    "X_dt = df_model_ohe.drop('out_made', axis=1)\n",
    "y_dt = df_model_ohe['out_made']\n",
    "\n",
    "X_train_dt, X_test_dt, y_train_dt, y_test_dt = train_test_split(X_dt, y_dt, test_size=0.2, random_state=2)"
   ]
  },
  {
   "cell_type": "code",
   "execution_count": 54,
   "metadata": {},
   "outputs": [
    {
     "data": {
      "text/html": [
       "<style>#sk-container-id-2 {color: black;}#sk-container-id-2 pre{padding: 0;}#sk-container-id-2 div.sk-toggleable {background-color: white;}#sk-container-id-2 label.sk-toggleable__label {cursor: pointer;display: block;width: 100%;margin-bottom: 0;padding: 0.3em;box-sizing: border-box;text-align: center;}#sk-container-id-2 label.sk-toggleable__label-arrow:before {content: \"▸\";float: left;margin-right: 0.25em;color: #696969;}#sk-container-id-2 label.sk-toggleable__label-arrow:hover:before {color: black;}#sk-container-id-2 div.sk-estimator:hover label.sk-toggleable__label-arrow:before {color: black;}#sk-container-id-2 div.sk-toggleable__content {max-height: 0;max-width: 0;overflow: hidden;text-align: left;background-color: #f0f8ff;}#sk-container-id-2 div.sk-toggleable__content pre {margin: 0.2em;color: black;border-radius: 0.25em;background-color: #f0f8ff;}#sk-container-id-2 input.sk-toggleable__control:checked~div.sk-toggleable__content {max-height: 200px;max-width: 100%;overflow: auto;}#sk-container-id-2 input.sk-toggleable__control:checked~label.sk-toggleable__label-arrow:before {content: \"▾\";}#sk-container-id-2 div.sk-estimator input.sk-toggleable__control:checked~label.sk-toggleable__label {background-color: #d4ebff;}#sk-container-id-2 div.sk-label input.sk-toggleable__control:checked~label.sk-toggleable__label {background-color: #d4ebff;}#sk-container-id-2 input.sk-hidden--visually {border: 0;clip: rect(1px 1px 1px 1px);clip: rect(1px, 1px, 1px, 1px);height: 1px;margin: -1px;overflow: hidden;padding: 0;position: absolute;width: 1px;}#sk-container-id-2 div.sk-estimator {font-family: monospace;background-color: #f0f8ff;border: 1px dotted black;border-radius: 0.25em;box-sizing: border-box;margin-bottom: 0.5em;}#sk-container-id-2 div.sk-estimator:hover {background-color: #d4ebff;}#sk-container-id-2 div.sk-parallel-item::after {content: \"\";width: 100%;border-bottom: 1px solid gray;flex-grow: 1;}#sk-container-id-2 div.sk-label:hover label.sk-toggleable__label {background-color: #d4ebff;}#sk-container-id-2 div.sk-serial::before {content: \"\";position: absolute;border-left: 1px solid gray;box-sizing: border-box;top: 0;bottom: 0;left: 50%;z-index: 0;}#sk-container-id-2 div.sk-serial {display: flex;flex-direction: column;align-items: center;background-color: white;padding-right: 0.2em;padding-left: 0.2em;position: relative;}#sk-container-id-2 div.sk-item {position: relative;z-index: 1;}#sk-container-id-2 div.sk-parallel {display: flex;align-items: stretch;justify-content: center;background-color: white;position: relative;}#sk-container-id-2 div.sk-item::before, #sk-container-id-2 div.sk-parallel-item::before {content: \"\";position: absolute;border-left: 1px solid gray;box-sizing: border-box;top: 0;bottom: 0;left: 50%;z-index: -1;}#sk-container-id-2 div.sk-parallel-item {display: flex;flex-direction: column;z-index: 1;position: relative;background-color: white;}#sk-container-id-2 div.sk-parallel-item:first-child::after {align-self: flex-end;width: 50%;}#sk-container-id-2 div.sk-parallel-item:last-child::after {align-self: flex-start;width: 50%;}#sk-container-id-2 div.sk-parallel-item:only-child::after {width: 0;}#sk-container-id-2 div.sk-dashed-wrapped {border: 1px dashed gray;margin: 0 0.4em 0.5em 0.4em;box-sizing: border-box;padding-bottom: 0.4em;background-color: white;}#sk-container-id-2 div.sk-label label {font-family: monospace;font-weight: bold;display: inline-block;line-height: 1.2em;}#sk-container-id-2 div.sk-label-container {text-align: center;}#sk-container-id-2 div.sk-container {/* jupyter's `normalize.less` sets `[hidden] { display: none; }` but bootstrap.min.css set `[hidden] { display: none !important; }` so we also need the `!important` here to be able to override the default hidden behavior on the sphinx rendered scikit-learn.org. See: https://github.com/scikit-learn/scikit-learn/issues/21755 */display: inline-block !important;position: relative;}#sk-container-id-2 div.sk-text-repr-fallback {display: none;}</style><div id=\"sk-container-id-2\" class=\"sk-top-container\"><div class=\"sk-text-repr-fallback\"><pre>DecisionTreeClassifier(max_depth=2, random_state=2)</pre><b>In a Jupyter environment, please rerun this cell to show the HTML representation or trust the notebook. <br />On GitHub, the HTML representation is unable to render, please try loading this page with nbviewer.org.</b></div><div class=\"sk-container\" hidden><div class=\"sk-item\"><div class=\"sk-estimator sk-toggleable\"><input class=\"sk-toggleable__control sk-hidden--visually\" id=\"sk-estimator-id-2\" type=\"checkbox\" checked><label for=\"sk-estimator-id-2\" class=\"sk-toggleable__label sk-toggleable__label-arrow\">DecisionTreeClassifier</label><div class=\"sk-toggleable__content\"><pre>DecisionTreeClassifier(max_depth=2, random_state=2)</pre></div></div></div></div></div>"
      ],
      "text/plain": [
       "DecisionTreeClassifier(max_depth=2, random_state=2)"
      ]
     },
     "execution_count": 54,
     "metadata": {},
     "output_type": "execute_result"
    }
   ],
   "source": [
    "# instantiate and fit model on the train set\n",
    "\n",
    "dt = DecisionTreeClassifier(max_depth=2, random_state=2)\n",
    "dt.fit(X_train_dt, y_train_dt)"
   ]
  },
  {
   "cell_type": "code",
   "execution_count": 122,
   "metadata": {},
   "outputs": [
    {
     "data": {
      "text/plain": [
       "0.7439071106825357"
      ]
     },
     "execution_count": 122,
     "metadata": {},
     "output_type": "execute_result"
    }
   ],
   "source": [
    "# check accuracy on the training data\n",
    "\n",
    "dt.score(X_train_dt, y_train_dt)"
   ]
  },
  {
   "cell_type": "code",
   "execution_count": 135,
   "metadata": {},
   "outputs": [
    {
     "name": "stdout",
     "output_type": "stream",
     "text": [
      "Accuracy: 74.90577336292226\n"
     ]
    }
   ],
   "source": [
    "# predict y and find accuracy on test data\n",
    "\n",
    "y_pred_dt = gs.predict(X_test_dt)\n",
    "\n",
    "acc = accuracy_score(y_test_dt, y_pred_dt) * 100\n",
    "print(\"Accuracy: {0}\".format(acc))"
   ]
  },
  {
   "cell_type": "markdown",
   "metadata": {},
   "source": [
    "The accuracy for the initial decision tree model didn't improve much over the dummy classifier."
   ]
  },
  {
   "cell_type": "code",
   "execution_count": 141,
   "metadata": {},
   "outputs": [
    {
     "name": "stdout",
     "output_type": "stream",
     "text": [
      "ROC-AUC score: 53.600196963603864\n"
     ]
    }
   ],
   "source": [
    "# check ROC-AUC score\n",
    "\n",
    "roc_auc = roc_auc_score(y_test_dt, y_pred_dt) * 100\n",
    "print(\"ROC-AUC score: {0}\".format(roc_auc))"
   ]
  },
  {
   "cell_type": "code",
   "execution_count": 81,
   "metadata": {},
   "outputs": [
    {
     "data": {
      "image/png": "[encoded data removed]",
      "text/plain": [
       "<Figure size 432x288 with 2 Axes>"
      ]
     },
     "metadata": {
      "needs_background": "light"
     },
     "output_type": "display_data"
    }
   ],
   "source": [
    "cm = confusion_matrix(y_test_dt, y_pred_dt, labels=dt.classes_)\n",
    "cm_disp = ConfusionMatrixDisplay(confusion_matrix=cm, display_labels=dt.classes_)\n",
    "cm_disp.plot()\n",
    "plt.show()"
   ]
  },
  {
   "cell_type": "markdown",
   "metadata": {},
   "source": [
    "Based on this matrix, the base decision tree model predicts almost all events to record an out, leading to a whole lot of false positives."
   ]
  },
  {
   "cell_type": "code",
   "execution_count": 57,
   "metadata": {},
   "outputs": [
    {
     "data": {
      "image/png": "[encoded data removed]",
      "text/plain": [
       "<Figure size 1152x1152 with 1 Axes>"
      ]
     },
     "metadata": {
      "needs_background": "light"
     },
     "output_type": "display_data"
    }
   ],
   "source": [
    "# look at decision tree\n",
    "\n",
    "f, ax = plt.subplots(figsize=(9, 9))\n",
    "plot_tree(dt, ax=ax);"
   ]
  },
  {
   "cell_type": "markdown",
   "metadata": {},
   "source": [
    "I'll use GridSearch CV to adjust some hyperparameters to look for a better decision tree model."
   ]
  },
  {
   "cell_type": "code",
   "execution_count": 70,
   "metadata": {},
   "outputs": [],
   "source": [
    "# define X and y and perform train test split with 20% in test set\n",
    "\n",
    "X_dt = df_model_ohe.drop('out_made', axis=1)\n",
    "y_dt = df_model_ohe['out_made']\n",
    "\n",
    "X_train_dt_grid, X_test_dt_grid, y_train_dt_grid, y_test_dt_grid = train_test_split(X_dt, y_dt, test_size=0.2, random_state=3)"
   ]
  },
  {
   "cell_type": "code",
   "execution_count": 71,
   "metadata": {},
   "outputs": [],
   "source": [
    "# instantiate model\n",
    "\n",
    "dt_grid = DecisionTreeClassifier(random_state=3)"
   ]
  },
  {
   "cell_type": "code",
   "execution_count": 61,
   "metadata": {},
   "outputs": [],
   "source": [
    "# select parameters and instantiate GridSearchCV\n",
    "\n",
    "params = {'max_depth': [2, 5, 7],\n",
    "          'min_samples_split': [0.1, 0.3, 0.5],\n",
    "          'criterion': ['entropy', 'log_loss']}\n",
    "\n",
    "gs = GridSearchCV(estimator=dt_grid,\n",
    "                  param_grid = params,\n",
    "                  cv=5)"
   ]
  },
  {
   "cell_type": "code",
   "execution_count": 62,
   "metadata": {},
   "outputs": [
    {
     "data": {
      "text/plain": [
       "{'criterion': 'entropy', 'max_depth': 5, 'min_samples_split': 0.1}"
      ]
     },
     "execution_count": 62,
     "metadata": {},
     "output_type": "execute_result"
    }
   ],
   "source": [
    "# fit grid search on the train set and call the best parameters\n",
    "\n",
    "gs.fit(X_train_dt_grid, y_train_dt_grid)\n",
    "gs.best_params_"
   ]
  },
  {
   "cell_type": "code",
   "execution_count": 63,
   "metadata": {},
   "outputs": [
    {
     "data": {
      "text/plain": [
       "0.744188916911412"
      ]
     },
     "execution_count": 63,
     "metadata": {},
     "output_type": "execute_result"
    }
   ],
   "source": [
    "gs.cv_results_['mean_test_score'].max()"
   ]
  },
  {
   "cell_type": "code",
   "execution_count": 124,
   "metadata": {},
   "outputs": [
    {
     "data": {
      "text/plain": [
       "0.7428195271873858"
      ]
     },
     "execution_count": 124,
     "metadata": {},
     "output_type": "execute_result"
    }
   ],
   "source": [
    "# check accuracy on the training data\n",
    "\n",
    "dt.score(X_train_dt_grid, y_train_dt_grid)"
   ]
  },
  {
   "cell_type": "code",
   "execution_count": 125,
   "metadata": {},
   "outputs": [
    {
     "data": {
      "text/plain": [
       "0.7450244813131847"
      ]
     },
     "execution_count": 125,
     "metadata": {},
     "output_type": "execute_result"
    }
   ],
   "source": [
    "# check accuracy on the test data\n",
    "\n",
    "dt.score(X_test_dt_grid, y_test_dt_grid)"
   ]
  },
  {
   "cell_type": "markdown",
   "metadata": {},
   "source": [
    "Tuning the hyperparameters didn't increase the accuracy in a significant way."
   ]
  },
  {
   "cell_type": "code",
   "execution_count": 143,
   "metadata": {},
   "outputs": [
    {
     "name": "stdout",
     "output_type": "stream",
     "text": [
      "ROC-AUC score: 52.48635601743341\n"
     ]
    }
   ],
   "source": [
    "# check ROC-AUC score\n",
    "\n",
    "roc_auc = roc_auc_score(y_test_dt_grid, y_pred_dt_grid) * 100\n",
    "print(\"ROC-AUC score: {0}\".format(roc_auc))"
   ]
  },
  {
   "cell_type": "code",
   "execution_count": 82,
   "metadata": {},
   "outputs": [
    {
     "data": {
      "image/png": "[encoded data removed]",
      "text/plain": [
       "<Figure size 432x288 with 2 Axes>"
      ]
     },
     "metadata": {
      "needs_background": "light"
     },
     "output_type": "display_data"
    }
   ],
   "source": [
    "cm = confusion_matrix(y_test_dt_grid, y_pred_dt_grid, labels=gs.classes_)\n",
    "cm_disp = ConfusionMatrixDisplay(confusion_matrix=cm, display_labels=gs.classes_)\n",
    "cm_disp.plot()\n",
    "plt.show()"
   ]
  },
  {
   "cell_type": "code",
   "execution_count": 77,
   "metadata": {},
   "outputs": [
    {
     "data": {
      "image/png": "[encoded data removed]",
      "text/plain": [
       "<Figure size 648x648 with 1 Axes>"
      ]
     },
     "metadata": {
      "needs_background": "light"
     },
     "output_type": "display_data"
    }
   ],
   "source": [
    "# look at the decision tree\n",
    "\n",
    "f, ax = plt.subplots(figsize=(9, 9))\n",
    "plot_tree(dt, ax=ax);"
   ]
  },
  {
   "cell_type": "markdown",
   "metadata": {},
   "source": [
    "It appears that a single decision tree doesn't increase the accuracy much at all.  Tuning the model doesn't significantly change its propensity to select a positive outcome."
   ]
  },
  {
   "cell_type": "markdown",
   "metadata": {},
   "source": [
    "### Light GBM Model"
   ]
  },
  {
   "cell_type": "code",
   "execution_count": 72,
   "metadata": {},
   "outputs": [],
   "source": [
    "# define X and y and perform train test split with 20% in test set\n",
    "\n",
    "X_lgbm = df_model_ohe.drop('out_made', axis=1)\n",
    "y_lgbm = df_model_ohe['out_made']\n",
    "\n",
    "X_train_lgbm, X_test_lgbm, y_train_lgbm, y_test_lgbm = train_test_split(X_lgbm, y_lgbm, test_size=0.2, random_state=4)"
   ]
  },
  {
   "cell_type": "code",
   "execution_count": 129,
   "metadata": {},
   "outputs": [],
   "source": [
    "# instantiate Light GBM model and set up GridSearchCV\n",
    "\n",
    "lgbm = LGBMClassifier(verbosity= -1, objective='binary')\n",
    "\n",
    "params_lgbm = [{'boosting': ['gbdt', 'goss'],\n",
    "                'learning_rate': [0.1, 0.05, 0.01],\n",
    "                'num_leaves': [31, 63, 127],\n",
    "                'min_data_in_leaf': [100, 800, 1500]}]\n",
    "\n",
    "gs = GridSearchCV(estimator=lgbm,\n",
    "                  param_grid = params_lgbm,\n",
    "                  cv=5)"
   ]
  },
  {
   "cell_type": "code",
   "execution_count": null,
   "metadata": {},
   "outputs": [],
   "source": [
    "#'metric': [\" \", 'binary_logloss']"
   ]
  },
  {
   "cell_type": "code",
   "execution_count": 130,
   "metadata": {},
   "outputs": [
    {
     "data": {
      "text/plain": [
       "{'boosting': 'gbdt',\n",
       " 'learning_rate': 0.05,\n",
       " 'min_data_in_leaf': 100,\n",
       " 'num_leaves': 63}"
      ]
     },
     "execution_count": 130,
     "metadata": {},
     "output_type": "execute_result"
    }
   ],
   "source": [
    "# fit grid search on the train set and call the best parameters\n",
    "\n",
    "gs.fit(X_train_lgbm, y_train_lgbm)\n",
    "gs.best_params_"
   ]
  },
  {
   "cell_type": "code",
   "execution_count": 131,
   "metadata": {},
   "outputs": [
    {
     "data": {
      "text/plain": [
       "0.7503137238755409"
      ]
     },
     "execution_count": 131,
     "metadata": {},
     "output_type": "execute_result"
    }
   ],
   "source": [
    "gs.cv_results_['mean_test_score'].max()"
   ]
  },
  {
   "cell_type": "code",
   "execution_count": 132,
   "metadata": {},
   "outputs": [
    {
     "data": {
      "text/plain": [
       "0.7439907709513934"
      ]
     },
     "execution_count": 132,
     "metadata": {},
     "output_type": "execute_result"
    }
   ],
   "source": [
    "# check accuracy on the training data\n",
    "\n",
    "dt.score(X_train_lgbm, y_train_lgbm)"
   ]
  },
  {
   "cell_type": "code",
   "execution_count": 133,
   "metadata": {},
   "outputs": [
    {
     "data": {
      "text/plain": [
       "0.7403395681425904"
      ]
     },
     "execution_count": 133,
     "metadata": {},
     "output_type": "execute_result"
    }
   ],
   "source": [
    "# check accuracy on the test data\n",
    "\n",
    "dt.score(X_test_lgbm, y_test_lgbm)"
   ]
  },
  {
   "cell_type": "code",
   "execution_count": 134,
   "metadata": {},
   "outputs": [
    {
     "name": "stdout",
     "output_type": "stream",
     "text": [
      "Accuracy: 74.67152770439255\n"
     ]
    }
   ],
   "source": [
    "# predict y and find accuracy on test data\n",
    "\n",
    "y_pred_lgbm = gs.predict(X_test_lgbm)\n",
    "\n",
    "acc = accuracy_score(y_test_lgbm, y_pred_lgbm) * 100\n",
    "print(\"Accuracy: {0}\".format(acc))"
   ]
  },
  {
   "cell_type": "code",
   "execution_count": 144,
   "metadata": {},
   "outputs": [
    {
     "name": "stdout",
     "output_type": "stream",
     "text": [
      "ROC-AUC score: 53.265522990599834\n"
     ]
    }
   ],
   "source": [
    "# check ROC-AUC score\n",
    "\n",
    "roc_auc = roc_auc_score(y_test_lgbm, y_pred_lgbm) * 100\n",
    "print(\"ROC-AUC score: {0}\".format(roc_auc))"
   ]
  },
  {
   "cell_type": "code",
   "execution_count": 94,
   "metadata": {},
   "outputs": [
    {
     "data": {
      "image/png": "[encoded data removed]",
      "text/plain": [
       "<Figure size 432x288 with 2 Axes>"
      ]
     },
     "metadata": {
      "needs_background": "light"
     },
     "output_type": "display_data"
    }
   ],
   "source": [
    "cm = confusion_matrix(y_test_lgbm, y_pred_lgbm, labels=gs.classes_)\n",
    "cm_disp = ConfusionMatrixDisplay(confusion_matrix=cm, display_labels=gs.classes_)\n",
    "cm_disp.plot()\n",
    "plt.show()"
   ]
  },
  {
   "cell_type": "markdown",
   "metadata": {},
   "source": [
    "Using a tree based classification model isn't moving the accuracy of the predictions much at all."
   ]
  },
  {
   "cell_type": "markdown",
   "metadata": {},
   "source": [
    "### Logistic Regression"
   ]
  },
  {
   "cell_type": "markdown",
   "metadata": {},
   "source": [
    "Next, I'll look at logistic regression to try to figure out which independent variables can best predict outs."
   ]
  },
  {
   "cell_type": "code",
   "execution_count": 99,
   "metadata": {},
   "outputs": [],
   "source": [
    "# define X and y and perform train test split with 20% in test set\n",
    "\n",
    "X_log = df_model_ohe.drop('out_made', axis=1)\n",
    "y_log = df_model_ohe['out_made']\n",
    "\n",
    "X_train_log, X_test_log, y_train_log, y_test_log = train_test_split(X_log, y_log, test_size=0.2, random_state=5)"
   ]
  },
  {
   "cell_type": "code",
   "execution_count": 102,
   "metadata": {},
   "outputs": [
    {
     "data": {
      "text/html": [
       "<div>\n",
       "<style scoped>\n",
       "    .dataframe tbody tr th:only-of-type {\n",
       "        vertical-align: middle;\n",
       "    }\n",
       "\n",
       "    .dataframe tbody tr th {\n",
       "        vertical-align: top;\n",
       "    }\n",
       "\n",
       "    .dataframe thead th {\n",
       "        text-align: right;\n",
       "    }\n",
       "</style>\n",
       "<table border=\"1\" class=\"dataframe\">\n",
       "  <thead>\n",
       "    <tr style=\"text-align: right;\">\n",
       "      <th></th>\n",
       "      <th>horiz_loc</th>\n",
       "      <th>vert_loc</th>\n",
       "      <th>start_speed</th>\n",
       "      <th>spin_rate</th>\n",
       "      <th>spin_dir</th>\n",
       "    </tr>\n",
       "  </thead>\n",
       "  <tbody>\n",
       "    <tr>\n",
       "      <th>38692</th>\n",
       "      <td>0.244000</td>\n",
       "      <td>2.343000</td>\n",
       "      <td>77.7</td>\n",
       "      <td>1709.931</td>\n",
       "      <td>49.532</td>\n",
       "    </tr>\n",
       "    <tr>\n",
       "      <th>268771</th>\n",
       "      <td>-0.578552</td>\n",
       "      <td>1.836871</td>\n",
       "      <td>88.1</td>\n",
       "      <td>1459.340</td>\n",
       "      <td>193.942</td>\n",
       "    </tr>\n",
       "    <tr>\n",
       "      <th>116798</th>\n",
       "      <td>0.180000</td>\n",
       "      <td>2.590000</td>\n",
       "      <td>85.1</td>\n",
       "      <td>2222.322</td>\n",
       "      <td>108.751</td>\n",
       "    </tr>\n",
       "    <tr>\n",
       "      <th>18061</th>\n",
       "      <td>0.074000</td>\n",
       "      <td>3.351000</td>\n",
       "      <td>85.0</td>\n",
       "      <td>1128.283</td>\n",
       "      <td>102.002</td>\n",
       "    </tr>\n",
       "    <tr>\n",
       "      <th>62180</th>\n",
       "      <td>-0.887000</td>\n",
       "      <td>2.634000</td>\n",
       "      <td>84.9</td>\n",
       "      <td>2036.990</td>\n",
       "      <td>228.753</td>\n",
       "    </tr>\n",
       "    <tr>\n",
       "      <th>...</th>\n",
       "      <td>...</td>\n",
       "      <td>...</td>\n",
       "      <td>...</td>\n",
       "      <td>...</td>\n",
       "      <td>...</td>\n",
       "    </tr>\n",
       "    <tr>\n",
       "      <th>136592</th>\n",
       "      <td>-0.133000</td>\n",
       "      <td>2.178000</td>\n",
       "      <td>79.1</td>\n",
       "      <td>1384.917</td>\n",
       "      <td>32.723</td>\n",
       "    </tr>\n",
       "    <tr>\n",
       "      <th>232422</th>\n",
       "      <td>0.010428</td>\n",
       "      <td>1.620811</td>\n",
       "      <td>85.7</td>\n",
       "      <td>1385.285</td>\n",
       "      <td>265.434</td>\n",
       "    </tr>\n",
       "    <tr>\n",
       "      <th>124605</th>\n",
       "      <td>1.574000</td>\n",
       "      <td>0.686000</td>\n",
       "      <td>77.8</td>\n",
       "      <td>654.338</td>\n",
       "      <td>318.757</td>\n",
       "    </tr>\n",
       "    <tr>\n",
       "      <th>20463</th>\n",
       "      <td>0.074000</td>\n",
       "      <td>2.231000</td>\n",
       "      <td>83.2</td>\n",
       "      <td>801.209</td>\n",
       "      <td>247.505</td>\n",
       "    </tr>\n",
       "    <tr>\n",
       "      <th>18638</th>\n",
       "      <td>0.609000</td>\n",
       "      <td>1.070000</td>\n",
       "      <td>82.5</td>\n",
       "      <td>987.557</td>\n",
       "      <td>108.605</td>\n",
       "    </tr>\n",
       "  </tbody>\n",
       "</table>\n",
       "<p>227109 rows × 5 columns</p>\n",
       "</div>"
      ],
      "text/plain": [
       "        horiz_loc  vert_loc  start_speed  spin_rate  spin_dir\n",
       "38692    0.244000  2.343000         77.7   1709.931    49.532\n",
       "268771  -0.578552  1.836871         88.1   1459.340   193.942\n",
       "116798   0.180000  2.590000         85.1   2222.322   108.751\n",
       "18061    0.074000  3.351000         85.0   1128.283   102.002\n",
       "62180   -0.887000  2.634000         84.9   2036.990   228.753\n",
       "...           ...       ...          ...        ...       ...\n",
       "136592  -0.133000  2.178000         79.1   1384.917    32.723\n",
       "232422   0.010428  1.620811         85.7   1385.285   265.434\n",
       "124605   1.574000  0.686000         77.8    654.338   318.757\n",
       "20463    0.074000  2.231000         83.2    801.209   247.505\n",
       "18638    0.609000  1.070000         82.5    987.557   108.605\n",
       "\n",
       "[227109 rows x 5 columns]"
      ]
     },
     "execution_count": 102,
     "metadata": {},
     "output_type": "execute_result"
    }
   ],
   "source": [
    "# get numeric features for scaling\n",
    "\n",
    "X_train_log_num = X_train_log[['horiz_loc', 'vert_loc', 'start_speed', 'spin_rate', 'spin_dir']].copy()\n",
    "#X_train_log_num"
   ]
  },
  {
   "cell_type": "code",
   "execution_count": 103,
   "metadata": {},
   "outputs": [
    {
     "data": {
      "text/html": [
       "<div>\n",
       "<style scoped>\n",
       "    .dataframe tbody tr th:only-of-type {\n",
       "        vertical-align: middle;\n",
       "    }\n",
       "\n",
       "    .dataframe tbody tr th {\n",
       "        vertical-align: top;\n",
       "    }\n",
       "\n",
       "    .dataframe thead th {\n",
       "        text-align: right;\n",
       "    }\n",
       "</style>\n",
       "<table border=\"1\" class=\"dataframe\">\n",
       "  <thead>\n",
       "    <tr style=\"text-align: right;\">\n",
       "      <th></th>\n",
       "      <th>horiz_loc</th>\n",
       "      <th>vert_loc</th>\n",
       "      <th>start_speed</th>\n",
       "      <th>spin_rate</th>\n",
       "      <th>spin_dir</th>\n",
       "    </tr>\n",
       "  </thead>\n",
       "  <tbody>\n",
       "    <tr>\n",
       "      <th>38692</th>\n",
       "      <td>0.552324</td>\n",
       "      <td>0.582140</td>\n",
       "      <td>0.633010</td>\n",
       "      <td>0.303615</td>\n",
       "      <td>0.137603</td>\n",
       "    </tr>\n",
       "    <tr>\n",
       "      <th>268771</th>\n",
       "      <td>0.488698</td>\n",
       "      <td>0.540949</td>\n",
       "      <td>0.834951</td>\n",
       "      <td>0.259039</td>\n",
       "      <td>0.538768</td>\n",
       "    </tr>\n",
       "    <tr>\n",
       "      <th>116798</th>\n",
       "      <td>0.547374</td>\n",
       "      <td>0.602241</td>\n",
       "      <td>0.776699</td>\n",
       "      <td>0.394761</td>\n",
       "      <td>0.302111</td>\n",
       "    </tr>\n",
       "    <tr>\n",
       "      <th>18061</th>\n",
       "      <td>0.539175</td>\n",
       "      <td>0.664175</td>\n",
       "      <td>0.774757</td>\n",
       "      <td>0.200150</td>\n",
       "      <td>0.283363</td>\n",
       "    </tr>\n",
       "    <tr>\n",
       "      <th>62180</th>\n",
       "      <td>0.464839</td>\n",
       "      <td>0.605822</td>\n",
       "      <td>0.772816</td>\n",
       "      <td>0.361793</td>\n",
       "      <td>0.635471</td>\n",
       "    </tr>\n",
       "    <tr>\n",
       "      <th>...</th>\n",
       "      <td>...</td>\n",
       "      <td>...</td>\n",
       "      <td>...</td>\n",
       "      <td>...</td>\n",
       "      <td>...</td>\n",
       "    </tr>\n",
       "    <tr>\n",
       "      <th>136592</th>\n",
       "      <td>0.523163</td>\n",
       "      <td>0.568711</td>\n",
       "      <td>0.660194</td>\n",
       "      <td>0.245801</td>\n",
       "      <td>0.090909</td>\n",
       "    </tr>\n",
       "    <tr>\n",
       "      <th>232422</th>\n",
       "      <td>0.534257</td>\n",
       "      <td>0.523365</td>\n",
       "      <td>0.788350</td>\n",
       "      <td>0.245866</td>\n",
       "      <td>0.737369</td>\n",
       "    </tr>\n",
       "    <tr>\n",
       "      <th>124605</th>\n",
       "      <td>0.655203</td>\n",
       "      <td>0.447286</td>\n",
       "      <td>0.634951</td>\n",
       "      <td>0.115843</td>\n",
       "      <td>0.885498</td>\n",
       "    </tr>\n",
       "    <tr>\n",
       "      <th>20463</th>\n",
       "      <td>0.539175</td>\n",
       "      <td>0.573025</td>\n",
       "      <td>0.739806</td>\n",
       "      <td>0.141969</td>\n",
       "      <td>0.687563</td>\n",
       "    </tr>\n",
       "    <tr>\n",
       "      <th>18638</th>\n",
       "      <td>0.580558</td>\n",
       "      <td>0.478538</td>\n",
       "      <td>0.726214</td>\n",
       "      <td>0.175117</td>\n",
       "      <td>0.301705</td>\n",
       "    </tr>\n",
       "  </tbody>\n",
       "</table>\n",
       "<p>227109 rows × 5 columns</p>\n",
       "</div>"
      ],
      "text/plain": [
       "        horiz_loc  vert_loc  start_speed  spin_rate  spin_dir\n",
       "38692    0.552324  0.582140     0.633010   0.303615  0.137603\n",
       "268771   0.488698  0.540949     0.834951   0.259039  0.538768\n",
       "116798   0.547374  0.602241     0.776699   0.394761  0.302111\n",
       "18061    0.539175  0.664175     0.774757   0.200150  0.283363\n",
       "62180    0.464839  0.605822     0.772816   0.361793  0.635471\n",
       "...           ...       ...          ...        ...       ...\n",
       "136592   0.523163  0.568711     0.660194   0.245801  0.090909\n",
       "232422   0.534257  0.523365     0.788350   0.245866  0.737369\n",
       "124605   0.655203  0.447286     0.634951   0.115843  0.885498\n",
       "20463    0.539175  0.573025     0.739806   0.141969  0.687563\n",
       "18638    0.580558  0.478538     0.726214   0.175117  0.301705\n",
       "\n",
       "[227109 rows x 5 columns]"
      ]
     },
     "execution_count": 103,
     "metadata": {},
     "output_type": "execute_result"
    }
   ],
   "source": [
    "# scale using MinMaxScaler with maximum value of 1 and minimum value of 0\n",
    "\n",
    "scaler = MinMaxScaler()\n",
    "\n",
    "scaler.fit(X_train_log_num)\n",
    "X_train_log_scaled = pd.DataFrame(\n",
    "    scaler.transform(X_train_log_num),\n",
    "    index=X_train_log_num.index,\n",
    "    columns=X_train_log_num.columns)\n",
    "\n",
    "#X_train_log_scaled"
   ]
  },
  {
   "cell_type": "code",
   "execution_count": 105,
   "metadata": {},
   "outputs": [
    {
     "data": {
      "text/html": [
       "<div>\n",
       "<style scoped>\n",
       "    .dataframe tbody tr th:only-of-type {\n",
       "        vertical-align: middle;\n",
       "    }\n",
       "\n",
       "    .dataframe tbody tr th {\n",
       "        vertical-align: top;\n",
       "    }\n",
       "\n",
       "    .dataframe thead th {\n",
       "        text-align: right;\n",
       "    }\n",
       "</style>\n",
       "<table border=\"1\" class=\"dataframe\">\n",
       "  <thead>\n",
       "    <tr style=\"text-align: right;\">\n",
       "      <th></th>\n",
       "      <th>horiz_loc</th>\n",
       "      <th>vert_loc</th>\n",
       "      <th>start_speed</th>\n",
       "      <th>spin_rate</th>\n",
       "      <th>spin_dir</th>\n",
       "      <th>pitch_type_CH</th>\n",
       "      <th>pitch_type_CU</th>\n",
       "      <th>pitch_type_FS</th>\n",
       "      <th>pitch_type_KC</th>\n",
       "      <th>pitch_type_SL</th>\n",
       "    </tr>\n",
       "  </thead>\n",
       "  <tbody>\n",
       "    <tr>\n",
       "      <th>38692</th>\n",
       "      <td>0.552324</td>\n",
       "      <td>0.582140</td>\n",
       "      <td>0.633010</td>\n",
       "      <td>0.303615</td>\n",
       "      <td>0.137603</td>\n",
       "      <td>0.0</td>\n",
       "      <td>1.0</td>\n",
       "      <td>0.0</td>\n",
       "      <td>0.0</td>\n",
       "      <td>0.0</td>\n",
       "    </tr>\n",
       "    <tr>\n",
       "      <th>268771</th>\n",
       "      <td>0.488698</td>\n",
       "      <td>0.540949</td>\n",
       "      <td>0.834951</td>\n",
       "      <td>0.259039</td>\n",
       "      <td>0.538768</td>\n",
       "      <td>0.0</td>\n",
       "      <td>0.0</td>\n",
       "      <td>0.0</td>\n",
       "      <td>0.0</td>\n",
       "      <td>1.0</td>\n",
       "    </tr>\n",
       "    <tr>\n",
       "      <th>116798</th>\n",
       "      <td>0.547374</td>\n",
       "      <td>0.602241</td>\n",
       "      <td>0.776699</td>\n",
       "      <td>0.394761</td>\n",
       "      <td>0.302111</td>\n",
       "      <td>1.0</td>\n",
       "      <td>0.0</td>\n",
       "      <td>0.0</td>\n",
       "      <td>0.0</td>\n",
       "      <td>0.0</td>\n",
       "    </tr>\n",
       "    <tr>\n",
       "      <th>18061</th>\n",
       "      <td>0.539175</td>\n",
       "      <td>0.664175</td>\n",
       "      <td>0.774757</td>\n",
       "      <td>0.200150</td>\n",
       "      <td>0.283363</td>\n",
       "      <td>0.0</td>\n",
       "      <td>1.0</td>\n",
       "      <td>0.0</td>\n",
       "      <td>0.0</td>\n",
       "      <td>0.0</td>\n",
       "    </tr>\n",
       "    <tr>\n",
       "      <th>62180</th>\n",
       "      <td>0.464839</td>\n",
       "      <td>0.605822</td>\n",
       "      <td>0.772816</td>\n",
       "      <td>0.361793</td>\n",
       "      <td>0.635471</td>\n",
       "      <td>1.0</td>\n",
       "      <td>0.0</td>\n",
       "      <td>0.0</td>\n",
       "      <td>0.0</td>\n",
       "      <td>0.0</td>\n",
       "    </tr>\n",
       "    <tr>\n",
       "      <th>...</th>\n",
       "      <td>...</td>\n",
       "      <td>...</td>\n",
       "      <td>...</td>\n",
       "      <td>...</td>\n",
       "      <td>...</td>\n",
       "      <td>...</td>\n",
       "      <td>...</td>\n",
       "      <td>...</td>\n",
       "      <td>...</td>\n",
       "      <td>...</td>\n",
       "    </tr>\n",
       "    <tr>\n",
       "      <th>136592</th>\n",
       "      <td>0.523163</td>\n",
       "      <td>0.568711</td>\n",
       "      <td>0.660194</td>\n",
       "      <td>0.245801</td>\n",
       "      <td>0.090909</td>\n",
       "      <td>0.0</td>\n",
       "      <td>0.0</td>\n",
       "      <td>0.0</td>\n",
       "      <td>1.0</td>\n",
       "      <td>0.0</td>\n",
       "    </tr>\n",
       "    <tr>\n",
       "      <th>232422</th>\n",
       "      <td>0.534257</td>\n",
       "      <td>0.523365</td>\n",
       "      <td>0.788350</td>\n",
       "      <td>0.245866</td>\n",
       "      <td>0.737369</td>\n",
       "      <td>1.0</td>\n",
       "      <td>0.0</td>\n",
       "      <td>0.0</td>\n",
       "      <td>0.0</td>\n",
       "      <td>0.0</td>\n",
       "    </tr>\n",
       "    <tr>\n",
       "      <th>124605</th>\n",
       "      <td>0.655203</td>\n",
       "      <td>0.447286</td>\n",
       "      <td>0.634951</td>\n",
       "      <td>0.115843</td>\n",
       "      <td>0.885498</td>\n",
       "      <td>0.0</td>\n",
       "      <td>1.0</td>\n",
       "      <td>0.0</td>\n",
       "      <td>0.0</td>\n",
       "      <td>0.0</td>\n",
       "    </tr>\n",
       "    <tr>\n",
       "      <th>20463</th>\n",
       "      <td>0.539175</td>\n",
       "      <td>0.573025</td>\n",
       "      <td>0.739806</td>\n",
       "      <td>0.141969</td>\n",
       "      <td>0.687563</td>\n",
       "      <td>1.0</td>\n",
       "      <td>0.0</td>\n",
       "      <td>0.0</td>\n",
       "      <td>0.0</td>\n",
       "      <td>0.0</td>\n",
       "    </tr>\n",
       "    <tr>\n",
       "      <th>18638</th>\n",
       "      <td>0.580558</td>\n",
       "      <td>0.478538</td>\n",
       "      <td>0.726214</td>\n",
       "      <td>0.175117</td>\n",
       "      <td>0.301705</td>\n",
       "      <td>0.0</td>\n",
       "      <td>0.0</td>\n",
       "      <td>0.0</td>\n",
       "      <td>0.0</td>\n",
       "      <td>1.0</td>\n",
       "    </tr>\n",
       "  </tbody>\n",
       "</table>\n",
       "<p>227109 rows × 10 columns</p>\n",
       "</div>"
      ],
      "text/plain": [
       "        horiz_loc  vert_loc  start_speed  spin_rate  spin_dir  pitch_type_CH  \\\n",
       "38692    0.552324  0.582140     0.633010   0.303615  0.137603            0.0   \n",
       "268771   0.488698  0.540949     0.834951   0.259039  0.538768            0.0   \n",
       "116798   0.547374  0.602241     0.776699   0.394761  0.302111            1.0   \n",
       "18061    0.539175  0.664175     0.774757   0.200150  0.283363            0.0   \n",
       "62180    0.464839  0.605822     0.772816   0.361793  0.635471            1.0   \n",
       "...           ...       ...          ...        ...       ...            ...   \n",
       "136592   0.523163  0.568711     0.660194   0.245801  0.090909            0.0   \n",
       "232422   0.534257  0.523365     0.788350   0.245866  0.737369            1.0   \n",
       "124605   0.655203  0.447286     0.634951   0.115843  0.885498            0.0   \n",
       "20463    0.539175  0.573025     0.739806   0.141969  0.687563            1.0   \n",
       "18638    0.580558  0.478538     0.726214   0.175117  0.301705            0.0   \n",
       "\n",
       "        pitch_type_CU  pitch_type_FS  pitch_type_KC  pitch_type_SL  \n",
       "38692             1.0            0.0            0.0            0.0  \n",
       "268771            0.0            0.0            0.0            1.0  \n",
       "116798            0.0            0.0            0.0            0.0  \n",
       "18061             1.0            0.0            0.0            0.0  \n",
       "62180             0.0            0.0            0.0            0.0  \n",
       "...               ...            ...            ...            ...  \n",
       "136592            0.0            0.0            1.0            0.0  \n",
       "232422            0.0            0.0            0.0            0.0  \n",
       "124605            1.0            0.0            0.0            0.0  \n",
       "20463             0.0            0.0            0.0            0.0  \n",
       "18638             0.0            0.0            0.0            1.0  \n",
       "\n",
       "[227109 rows x 10 columns]"
      ]
     },
     "execution_count": 105,
     "metadata": {},
     "output_type": "execute_result"
    }
   ],
   "source": [
    "# replace the pitch type column with the encoded columns for pitch types\n",
    "\n",
    "X_train_log_final = X_train_log.drop(['horiz_loc', 'vert_loc', 'start_speed', 'spin_rate', 'spin_dir'], axis=1)\n",
    "X_train_log_final = pd.concat([X_train_log_scaled, X_train_log_final], axis=1)\n",
    "X_train_log_final"
   ]
  },
  {
   "cell_type": "code",
   "execution_count": 108,
   "metadata": {},
   "outputs": [],
   "source": [
    "# instantiate and fit model on the train set\n",
    "\n",
    "logreg = LogisticRegression(penalty='l2', random_state=5)"
   ]
  },
  {
   "cell_type": "code",
   "execution_count": 117,
   "metadata": {},
   "outputs": [],
   "source": [
    "# select parameters and instantiate GridSearchCV\n",
    "\n",
    "params = {'max_iter': [500, 1000],\n",
    "          'C': [10, 1e5, 1e10],\n",
    "          'solver': ['lbfgs', 'saga']}\n",
    "\n",
    "gs = GridSearchCV(estimator=logreg,\n",
    "                  param_grid = params,\n",
    "                  cv=10)"
   ]
  },
  {
   "cell_type": "code",
   "execution_count": 118,
   "metadata": {},
   "outputs": [
    {
     "data": {
      "text/plain": [
       "{'C': 100000.0, 'max_iter': 500, 'solver': 'lbfgs'}"
      ]
     },
     "execution_count": 118,
     "metadata": {},
     "output_type": "execute_result"
    }
   ],
   "source": [
    "# fit grid search on the train set and call the best parameters\n",
    "\n",
    "gs.fit(X_train_log_final, y_train_log)\n",
    "gs.best_params_"
   ]
  },
  {
   "cell_type": "code",
   "execution_count": 146,
   "metadata": {},
   "outputs": [],
   "source": [
    "logreg_best = LogisticRegression(C=100000, max_iter=500, solver='lbfgs', penalty='l2', random_state=5)"
   ]
  },
  {
   "cell_type": "code",
   "execution_count": 147,
   "metadata": {},
   "outputs": [
    {
     "data": {
      "text/html": [
       "<style>#sk-container-id-6 {color: black;}#sk-container-id-6 pre{padding: 0;}#sk-container-id-6 div.sk-toggleable {background-color: white;}#sk-container-id-6 label.sk-toggleable__label {cursor: pointer;display: block;width: 100%;margin-bottom: 0;padding: 0.3em;box-sizing: border-box;text-align: center;}#sk-container-id-6 label.sk-toggleable__label-arrow:before {content: \"▸\";float: left;margin-right: 0.25em;color: #696969;}#sk-container-id-6 label.sk-toggleable__label-arrow:hover:before {color: black;}#sk-container-id-6 div.sk-estimator:hover label.sk-toggleable__label-arrow:before {color: black;}#sk-container-id-6 div.sk-toggleable__content {max-height: 0;max-width: 0;overflow: hidden;text-align: left;background-color: #f0f8ff;}#sk-container-id-6 div.sk-toggleable__content pre {margin: 0.2em;color: black;border-radius: 0.25em;background-color: #f0f8ff;}#sk-container-id-6 input.sk-toggleable__control:checked~div.sk-toggleable__content {max-height: 200px;max-width: 100%;overflow: auto;}#sk-container-id-6 input.sk-toggleable__control:checked~label.sk-toggleable__label-arrow:before {content: \"▾\";}#sk-container-id-6 div.sk-estimator input.sk-toggleable__control:checked~label.sk-toggleable__label {background-color: #d4ebff;}#sk-container-id-6 div.sk-label input.sk-toggleable__control:checked~label.sk-toggleable__label {background-color: #d4ebff;}#sk-container-id-6 input.sk-hidden--visually {border: 0;clip: rect(1px 1px 1px 1px);clip: rect(1px, 1px, 1px, 1px);height: 1px;margin: -1px;overflow: hidden;padding: 0;position: absolute;width: 1px;}#sk-container-id-6 div.sk-estimator {font-family: monospace;background-color: #f0f8ff;border: 1px dotted black;border-radius: 0.25em;box-sizing: border-box;margin-bottom: 0.5em;}#sk-container-id-6 div.sk-estimator:hover {background-color: #d4ebff;}#sk-container-id-6 div.sk-parallel-item::after {content: \"\";width: 100%;border-bottom: 1px solid gray;flex-grow: 1;}#sk-container-id-6 div.sk-label:hover label.sk-toggleable__label {background-color: #d4ebff;}#sk-container-id-6 div.sk-serial::before {content: \"\";position: absolute;border-left: 1px solid gray;box-sizing: border-box;top: 0;bottom: 0;left: 50%;z-index: 0;}#sk-container-id-6 div.sk-serial {display: flex;flex-direction: column;align-items: center;background-color: white;padding-right: 0.2em;padding-left: 0.2em;position: relative;}#sk-container-id-6 div.sk-item {position: relative;z-index: 1;}#sk-container-id-6 div.sk-parallel {display: flex;align-items: stretch;justify-content: center;background-color: white;position: relative;}#sk-container-id-6 div.sk-item::before, #sk-container-id-6 div.sk-parallel-item::before {content: \"\";position: absolute;border-left: 1px solid gray;box-sizing: border-box;top: 0;bottom: 0;left: 50%;z-index: -1;}#sk-container-id-6 div.sk-parallel-item {display: flex;flex-direction: column;z-index: 1;position: relative;background-color: white;}#sk-container-id-6 div.sk-parallel-item:first-child::after {align-self: flex-end;width: 50%;}#sk-container-id-6 div.sk-parallel-item:last-child::after {align-self: flex-start;width: 50%;}#sk-container-id-6 div.sk-parallel-item:only-child::after {width: 0;}#sk-container-id-6 div.sk-dashed-wrapped {border: 1px dashed gray;margin: 0 0.4em 0.5em 0.4em;box-sizing: border-box;padding-bottom: 0.4em;background-color: white;}#sk-container-id-6 div.sk-label label {font-family: monospace;font-weight: bold;display: inline-block;line-height: 1.2em;}#sk-container-id-6 div.sk-label-container {text-align: center;}#sk-container-id-6 div.sk-container {/* jupyter's `normalize.less` sets `[hidden] { display: none; }` but bootstrap.min.css set `[hidden] { display: none !important; }` so we also need the `!important` here to be able to override the default hidden behavior on the sphinx rendered scikit-learn.org. See: https://github.com/scikit-learn/scikit-learn/issues/21755 */display: inline-block !important;position: relative;}#sk-container-id-6 div.sk-text-repr-fallback {display: none;}</style><div id=\"sk-container-id-6\" class=\"sk-top-container\"><div class=\"sk-text-repr-fallback\"><pre>LogisticRegression(C=100000, max_iter=500, random_state=5)</pre><b>In a Jupyter environment, please rerun this cell to show the HTML representation or trust the notebook. <br />On GitHub, the HTML representation is unable to render, please try loading this page with nbviewer.org.</b></div><div class=\"sk-container\" hidden><div class=\"sk-item\"><div class=\"sk-estimator sk-toggleable\"><input class=\"sk-toggleable__control sk-hidden--visually\" id=\"sk-estimator-id-6\" type=\"checkbox\" checked><label for=\"sk-estimator-id-6\" class=\"sk-toggleable__label sk-toggleable__label-arrow\">LogisticRegression</label><div class=\"sk-toggleable__content\"><pre>LogisticRegression(C=100000, max_iter=500, random_state=5)</pre></div></div></div></div></div>"
      ],
      "text/plain": [
       "LogisticRegression(C=100000, max_iter=500, random_state=5)"
      ]
     },
     "execution_count": 147,
     "metadata": {},
     "output_type": "execute_result"
    }
   ],
   "source": [
    "logreg_best.fit(X_train_log_final, y_train_log)"
   ]
  },
  {
   "cell_type": "code",
   "execution_count": 148,
   "metadata": {},
   "outputs": [],
   "source": [
    "# cross validation\n",
    "\n",
    "cv_results = cross_validate(\n",
    "                    estimator=logreg_best,\n",
    "                    X=X_train_log_final,\n",
    "                    y=y_train_log,\n",
    "                    cv=5,\n",
    "                    return_train_score=True\n",
    ")"
   ]
  },
  {
   "cell_type": "code",
   "execution_count": 149,
   "metadata": {},
   "outputs": [
    {
     "data": {
      "text/plain": [
       "array([0.73647537, 0.73648637, 0.73650289, 0.73650839, 0.73646581])"
      ]
     },
     "execution_count": 149,
     "metadata": {},
     "output_type": "execute_result"
    }
   ],
   "source": [
    "cv_results['train_score']"
   ]
  },
  {
   "cell_type": "code",
   "execution_count": 150,
   "metadata": {},
   "outputs": [
    {
     "data": {
      "text/plain": [
       "array([0.73642728, 0.73633922, 0.73647131, 0.73655938, 0.73659761])"
      ]
     },
     "execution_count": 150,
     "metadata": {},
     "output_type": "execute_result"
    }
   ],
   "source": [
    "cv_results['test_score']"
   ]
  },
  {
   "cell_type": "markdown",
   "metadata": {},
   "source": [
    "Run preprocessing steps on the test data set"
   ]
  },
  {
   "cell_type": "code",
   "execution_count": 151,
   "metadata": {},
   "outputs": [
    {
     "data": {
      "text/html": [
       "<div>\n",
       "<style scoped>\n",
       "    .dataframe tbody tr th:only-of-type {\n",
       "        vertical-align: middle;\n",
       "    }\n",
       "\n",
       "    .dataframe tbody tr th {\n",
       "        vertical-align: top;\n",
       "    }\n",
       "\n",
       "    .dataframe thead th {\n",
       "        text-align: right;\n",
       "    }\n",
       "</style>\n",
       "<table border=\"1\" class=\"dataframe\">\n",
       "  <thead>\n",
       "    <tr style=\"text-align: right;\">\n",
       "      <th></th>\n",
       "      <th>horiz_loc</th>\n",
       "      <th>vert_loc</th>\n",
       "      <th>start_speed</th>\n",
       "      <th>spin_rate</th>\n",
       "      <th>spin_dir</th>\n",
       "    </tr>\n",
       "  </thead>\n",
       "  <tbody>\n",
       "    <tr>\n",
       "      <th>13130</th>\n",
       "      <td>-0.790000</td>\n",
       "      <td>3.150000</td>\n",
       "      <td>75.6</td>\n",
       "      <td>2190.642</td>\n",
       "      <td>32.109</td>\n",
       "    </tr>\n",
       "    <tr>\n",
       "      <th>268664</th>\n",
       "      <td>-0.503594</td>\n",
       "      <td>2.271831</td>\n",
       "      <td>82.3</td>\n",
       "      <td>1760.681</td>\n",
       "      <td>26.083</td>\n",
       "    </tr>\n",
       "    <tr>\n",
       "      <th>42274</th>\n",
       "      <td>-0.746000</td>\n",
       "      <td>1.788000</td>\n",
       "      <td>77.3</td>\n",
       "      <td>190.884</td>\n",
       "      <td>121.123</td>\n",
       "    </tr>\n",
       "    <tr>\n",
       "      <th>42305</th>\n",
       "      <td>-0.507000</td>\n",
       "      <td>1.712000</td>\n",
       "      <td>85.7</td>\n",
       "      <td>228.212</td>\n",
       "      <td>240.085</td>\n",
       "    </tr>\n",
       "    <tr>\n",
       "      <th>184127</th>\n",
       "      <td>1.851735</td>\n",
       "      <td>0.809680</td>\n",
       "      <td>85.6</td>\n",
       "      <td>804.556</td>\n",
       "      <td>192.281</td>\n",
       "    </tr>\n",
       "    <tr>\n",
       "      <th>...</th>\n",
       "      <td>...</td>\n",
       "      <td>...</td>\n",
       "      <td>...</td>\n",
       "      <td>...</td>\n",
       "      <td>...</td>\n",
       "    </tr>\n",
       "    <tr>\n",
       "      <th>43267</th>\n",
       "      <td>0.008000</td>\n",
       "      <td>0.073000</td>\n",
       "      <td>81.8</td>\n",
       "      <td>1170.508</td>\n",
       "      <td>54.081</td>\n",
       "    </tr>\n",
       "    <tr>\n",
       "      <th>224949</th>\n",
       "      <td>0.610543</td>\n",
       "      <td>1.670946</td>\n",
       "      <td>85.7</td>\n",
       "      <td>795.001</td>\n",
       "      <td>81.977</td>\n",
       "    </tr>\n",
       "    <tr>\n",
       "      <th>113853</th>\n",
       "      <td>0.536000</td>\n",
       "      <td>2.082000</td>\n",
       "      <td>85.7</td>\n",
       "      <td>1286.099</td>\n",
       "      <td>67.281</td>\n",
       "    </tr>\n",
       "    <tr>\n",
       "      <th>282697</th>\n",
       "      <td>0.296302</td>\n",
       "      <td>2.060742</td>\n",
       "      <td>86.8</td>\n",
       "      <td>2387.720</td>\n",
       "      <td>238.891</td>\n",
       "    </tr>\n",
       "    <tr>\n",
       "      <th>185850</th>\n",
       "      <td>-0.175462</td>\n",
       "      <td>1.123372</td>\n",
       "      <td>86.3</td>\n",
       "      <td>1737.480</td>\n",
       "      <td>232.395</td>\n",
       "    </tr>\n",
       "  </tbody>\n",
       "</table>\n",
       "<p>56778 rows × 5 columns</p>\n",
       "</div>"
      ],
      "text/plain": [
       "        horiz_loc  vert_loc  start_speed  spin_rate  spin_dir\n",
       "13130   -0.790000  3.150000         75.6   2190.642    32.109\n",
       "268664  -0.503594  2.271831         82.3   1760.681    26.083\n",
       "42274   -0.746000  1.788000         77.3    190.884   121.123\n",
       "42305   -0.507000  1.712000         85.7    228.212   240.085\n",
       "184127   1.851735  0.809680         85.6    804.556   192.281\n",
       "...           ...       ...          ...        ...       ...\n",
       "43267    0.008000  0.073000         81.8   1170.508    54.081\n",
       "224949   0.610543  1.670946         85.7    795.001    81.977\n",
       "113853   0.536000  2.082000         85.7   1286.099    67.281\n",
       "282697   0.296302  2.060742         86.8   2387.720   238.891\n",
       "185850  -0.175462  1.123372         86.3   1737.480   232.395\n",
       "\n",
       "[56778 rows x 5 columns]"
      ]
     },
     "execution_count": 151,
     "metadata": {},
     "output_type": "execute_result"
    }
   ],
   "source": [
    "# get numeric features for scaling\n",
    "\n",
    "X_test_log_num = X_test_log[['horiz_loc', 'vert_loc', 'start_speed', 'spin_rate', 'spin_dir']].copy()\n",
    "#X_test_log_num"
   ]
  },
  {
   "cell_type": "code",
   "execution_count": 152,
   "metadata": {},
   "outputs": [
    {
     "data": {
      "text/html": [
       "<div>\n",
       "<style scoped>\n",
       "    .dataframe tbody tr th:only-of-type {\n",
       "        vertical-align: middle;\n",
       "    }\n",
       "\n",
       "    .dataframe tbody tr th {\n",
       "        vertical-align: top;\n",
       "    }\n",
       "\n",
       "    .dataframe thead th {\n",
       "        text-align: right;\n",
       "    }\n",
       "</style>\n",
       "<table border=\"1\" class=\"dataframe\">\n",
       "  <thead>\n",
       "    <tr style=\"text-align: right;\">\n",
       "      <th></th>\n",
       "      <th>horiz_loc</th>\n",
       "      <th>vert_loc</th>\n",
       "      <th>start_speed</th>\n",
       "      <th>spin_rate</th>\n",
       "      <th>spin_dir</th>\n",
       "    </tr>\n",
       "  </thead>\n",
       "  <tbody>\n",
       "    <tr>\n",
       "      <th>13130</th>\n",
       "      <td>0.479121</td>\n",
       "      <td>0.721168</td>\n",
       "      <td>0.476543</td>\n",
       "      <td>0.524695</td>\n",
       "      <td>0.089198</td>\n",
       "    </tr>\n",
       "    <tr>\n",
       "      <th>268664</th>\n",
       "      <td>0.511322</td>\n",
       "      <td>0.616891</td>\n",
       "      <td>0.641975</td>\n",
       "      <td>0.421533</td>\n",
       "      <td>0.072459</td>\n",
       "    </tr>\n",
       "    <tr>\n",
       "      <th>42274</th>\n",
       "      <td>0.484068</td>\n",
       "      <td>0.559439</td>\n",
       "      <td>0.518519</td>\n",
       "      <td>0.044886</td>\n",
       "      <td>0.336463</td>\n",
       "    </tr>\n",
       "    <tr>\n",
       "      <th>42305</th>\n",
       "      <td>0.510939</td>\n",
       "      <td>0.550415</td>\n",
       "      <td>0.725926</td>\n",
       "      <td>0.053842</td>\n",
       "      <td>0.666918</td>\n",
       "    </tr>\n",
       "    <tr>\n",
       "      <th>184127</th>\n",
       "      <td>0.776139</td>\n",
       "      <td>0.443270</td>\n",
       "      <td>0.723457</td>\n",
       "      <td>0.192127</td>\n",
       "      <td>0.534127</td>\n",
       "    </tr>\n",
       "    <tr>\n",
       "      <th>...</th>\n",
       "      <td>...</td>\n",
       "      <td>...</td>\n",
       "      <td>...</td>\n",
       "      <td>...</td>\n",
       "      <td>...</td>\n",
       "    </tr>\n",
       "    <tr>\n",
       "      <th>43267</th>\n",
       "      <td>0.568842</td>\n",
       "      <td>0.355794</td>\n",
       "      <td>0.629630</td>\n",
       "      <td>0.279931</td>\n",
       "      <td>0.150233</td>\n",
       "    </tr>\n",
       "    <tr>\n",
       "      <th>224949</th>\n",
       "      <td>0.636588</td>\n",
       "      <td>0.545540</td>\n",
       "      <td>0.725926</td>\n",
       "      <td>0.189834</td>\n",
       "      <td>0.227723</td>\n",
       "    </tr>\n",
       "    <tr>\n",
       "      <th>113853</th>\n",
       "      <td>0.628207</td>\n",
       "      <td>0.594350</td>\n",
       "      <td>0.725926</td>\n",
       "      <td>0.307665</td>\n",
       "      <td>0.186900</td>\n",
       "    </tr>\n",
       "    <tr>\n",
       "      <th>282697</th>\n",
       "      <td>0.601257</td>\n",
       "      <td>0.591825</td>\n",
       "      <td>0.753086</td>\n",
       "      <td>0.571980</td>\n",
       "      <td>0.663601</td>\n",
       "    </tr>\n",
       "    <tr>\n",
       "      <th>185850</th>\n",
       "      <td>0.548215</td>\n",
       "      <td>0.480519</td>\n",
       "      <td>0.740741</td>\n",
       "      <td>0.415966</td>\n",
       "      <td>0.645556</td>\n",
       "    </tr>\n",
       "  </tbody>\n",
       "</table>\n",
       "<p>56778 rows × 5 columns</p>\n",
       "</div>"
      ],
      "text/plain": [
       "        horiz_loc  vert_loc  start_speed  spin_rate  spin_dir\n",
       "13130    0.479121  0.721168     0.476543   0.524695  0.089198\n",
       "268664   0.511322  0.616891     0.641975   0.421533  0.072459\n",
       "42274    0.484068  0.559439     0.518519   0.044886  0.336463\n",
       "42305    0.510939  0.550415     0.725926   0.053842  0.666918\n",
       "184127   0.776139  0.443270     0.723457   0.192127  0.534127\n",
       "...           ...       ...          ...        ...       ...\n",
       "43267    0.568842  0.355794     0.629630   0.279931  0.150233\n",
       "224949   0.636588  0.545540     0.725926   0.189834  0.227723\n",
       "113853   0.628207  0.594350     0.725926   0.307665  0.186900\n",
       "282697   0.601257  0.591825     0.753086   0.571980  0.663601\n",
       "185850   0.548215  0.480519     0.740741   0.415966  0.645556\n",
       "\n",
       "[56778 rows x 5 columns]"
      ]
     },
     "execution_count": 152,
     "metadata": {},
     "output_type": "execute_result"
    }
   ],
   "source": [
    "# scale using MinMaxScaler with maximum value of 1 and minimum value of 0\n",
    "\n",
    "scaler = MinMaxScaler()\n",
    "\n",
    "scaler.fit(X_test_log_num)\n",
    "X_test_log_scaled = pd.DataFrame(\n",
    "    scaler.transform(X_test_log_num),\n",
    "    index=X_test_log_num.index,\n",
    "    columns=X_test_log_num.columns)\n",
    "\n",
    "#X_test_log_scaled"
   ]
  },
  {
   "cell_type": "code",
   "execution_count": 153,
   "metadata": {},
   "outputs": [
    {
     "data": {
      "text/html": [
       "<div>\n",
       "<style scoped>\n",
       "    .dataframe tbody tr th:only-of-type {\n",
       "        vertical-align: middle;\n",
       "    }\n",
       "\n",
       "    .dataframe tbody tr th {\n",
       "        vertical-align: top;\n",
       "    }\n",
       "\n",
       "    .dataframe thead th {\n",
       "        text-align: right;\n",
       "    }\n",
       "</style>\n",
       "<table border=\"1\" class=\"dataframe\">\n",
       "  <thead>\n",
       "    <tr style=\"text-align: right;\">\n",
       "      <th></th>\n",
       "      <th>horiz_loc</th>\n",
       "      <th>vert_loc</th>\n",
       "      <th>start_speed</th>\n",
       "      <th>spin_rate</th>\n",
       "      <th>spin_dir</th>\n",
       "      <th>pitch_type_CH</th>\n",
       "      <th>pitch_type_CU</th>\n",
       "      <th>pitch_type_FS</th>\n",
       "      <th>pitch_type_KC</th>\n",
       "      <th>pitch_type_SL</th>\n",
       "    </tr>\n",
       "  </thead>\n",
       "  <tbody>\n",
       "    <tr>\n",
       "      <th>13130</th>\n",
       "      <td>0.479121</td>\n",
       "      <td>0.721168</td>\n",
       "      <td>0.476543</td>\n",
       "      <td>0.524695</td>\n",
       "      <td>0.089198</td>\n",
       "      <td>0.0</td>\n",
       "      <td>0.0</td>\n",
       "      <td>0.0</td>\n",
       "      <td>1.0</td>\n",
       "      <td>0.0</td>\n",
       "    </tr>\n",
       "    <tr>\n",
       "      <th>268664</th>\n",
       "      <td>0.511322</td>\n",
       "      <td>0.616891</td>\n",
       "      <td>0.641975</td>\n",
       "      <td>0.421533</td>\n",
       "      <td>0.072459</td>\n",
       "      <td>0.0</td>\n",
       "      <td>1.0</td>\n",
       "      <td>0.0</td>\n",
       "      <td>0.0</td>\n",
       "      <td>0.0</td>\n",
       "    </tr>\n",
       "    <tr>\n",
       "      <th>42274</th>\n",
       "      <td>0.484068</td>\n",
       "      <td>0.559439</td>\n",
       "      <td>0.518519</td>\n",
       "      <td>0.044886</td>\n",
       "      <td>0.336463</td>\n",
       "      <td>0.0</td>\n",
       "      <td>1.0</td>\n",
       "      <td>0.0</td>\n",
       "      <td>0.0</td>\n",
       "      <td>0.0</td>\n",
       "    </tr>\n",
       "    <tr>\n",
       "      <th>42305</th>\n",
       "      <td>0.510939</td>\n",
       "      <td>0.550415</td>\n",
       "      <td>0.725926</td>\n",
       "      <td>0.053842</td>\n",
       "      <td>0.666918</td>\n",
       "      <td>0.0</td>\n",
       "      <td>0.0</td>\n",
       "      <td>0.0</td>\n",
       "      <td>0.0</td>\n",
       "      <td>1.0</td>\n",
       "    </tr>\n",
       "    <tr>\n",
       "      <th>184127</th>\n",
       "      <td>0.776139</td>\n",
       "      <td>0.443270</td>\n",
       "      <td>0.723457</td>\n",
       "      <td>0.192127</td>\n",
       "      <td>0.534127</td>\n",
       "      <td>0.0</td>\n",
       "      <td>0.0</td>\n",
       "      <td>0.0</td>\n",
       "      <td>0.0</td>\n",
       "      <td>1.0</td>\n",
       "    </tr>\n",
       "    <tr>\n",
       "      <th>...</th>\n",
       "      <td>...</td>\n",
       "      <td>...</td>\n",
       "      <td>...</td>\n",
       "      <td>...</td>\n",
       "      <td>...</td>\n",
       "      <td>...</td>\n",
       "      <td>...</td>\n",
       "      <td>...</td>\n",
       "      <td>...</td>\n",
       "      <td>...</td>\n",
       "    </tr>\n",
       "    <tr>\n",
       "      <th>43267</th>\n",
       "      <td>0.568842</td>\n",
       "      <td>0.355794</td>\n",
       "      <td>0.629630</td>\n",
       "      <td>0.279931</td>\n",
       "      <td>0.150233</td>\n",
       "      <td>0.0</td>\n",
       "      <td>1.0</td>\n",
       "      <td>0.0</td>\n",
       "      <td>0.0</td>\n",
       "      <td>0.0</td>\n",
       "    </tr>\n",
       "    <tr>\n",
       "      <th>224949</th>\n",
       "      <td>0.636588</td>\n",
       "      <td>0.545540</td>\n",
       "      <td>0.725926</td>\n",
       "      <td>0.189834</td>\n",
       "      <td>0.227723</td>\n",
       "      <td>0.0</td>\n",
       "      <td>0.0</td>\n",
       "      <td>0.0</td>\n",
       "      <td>0.0</td>\n",
       "      <td>1.0</td>\n",
       "    </tr>\n",
       "    <tr>\n",
       "      <th>113853</th>\n",
       "      <td>0.628207</td>\n",
       "      <td>0.594350</td>\n",
       "      <td>0.725926</td>\n",
       "      <td>0.307665</td>\n",
       "      <td>0.186900</td>\n",
       "      <td>0.0</td>\n",
       "      <td>0.0</td>\n",
       "      <td>0.0</td>\n",
       "      <td>0.0</td>\n",
       "      <td>1.0</td>\n",
       "    </tr>\n",
       "    <tr>\n",
       "      <th>282697</th>\n",
       "      <td>0.601257</td>\n",
       "      <td>0.591825</td>\n",
       "      <td>0.753086</td>\n",
       "      <td>0.571980</td>\n",
       "      <td>0.663601</td>\n",
       "      <td>0.0</td>\n",
       "      <td>0.0</td>\n",
       "      <td>1.0</td>\n",
       "      <td>0.0</td>\n",
       "      <td>0.0</td>\n",
       "    </tr>\n",
       "    <tr>\n",
       "      <th>185850</th>\n",
       "      <td>0.548215</td>\n",
       "      <td>0.480519</td>\n",
       "      <td>0.740741</td>\n",
       "      <td>0.415966</td>\n",
       "      <td>0.645556</td>\n",
       "      <td>1.0</td>\n",
       "      <td>0.0</td>\n",
       "      <td>0.0</td>\n",
       "      <td>0.0</td>\n",
       "      <td>0.0</td>\n",
       "    </tr>\n",
       "  </tbody>\n",
       "</table>\n",
       "<p>56778 rows × 10 columns</p>\n",
       "</div>"
      ],
      "text/plain": [
       "        horiz_loc  vert_loc  start_speed  spin_rate  spin_dir  pitch_type_CH  \\\n",
       "13130    0.479121  0.721168     0.476543   0.524695  0.089198            0.0   \n",
       "268664   0.511322  0.616891     0.641975   0.421533  0.072459            0.0   \n",
       "42274    0.484068  0.559439     0.518519   0.044886  0.336463            0.0   \n",
       "42305    0.510939  0.550415     0.725926   0.053842  0.666918            0.0   \n",
       "184127   0.776139  0.443270     0.723457   0.192127  0.534127            0.0   \n",
       "...           ...       ...          ...        ...       ...            ...   \n",
       "43267    0.568842  0.355794     0.629630   0.279931  0.150233            0.0   \n",
       "224949   0.636588  0.545540     0.725926   0.189834  0.227723            0.0   \n",
       "113853   0.628207  0.594350     0.725926   0.307665  0.186900            0.0   \n",
       "282697   0.601257  0.591825     0.753086   0.571980  0.663601            0.0   \n",
       "185850   0.548215  0.480519     0.740741   0.415966  0.645556            1.0   \n",
       "\n",
       "        pitch_type_CU  pitch_type_FS  pitch_type_KC  pitch_type_SL  \n",
       "13130             0.0            0.0            1.0            0.0  \n",
       "268664            1.0            0.0            0.0            0.0  \n",
       "42274             1.0            0.0            0.0            0.0  \n",
       "42305             0.0            0.0            0.0            1.0  \n",
       "184127            0.0            0.0            0.0            1.0  \n",
       "...               ...            ...            ...            ...  \n",
       "43267             1.0            0.0            0.0            0.0  \n",
       "224949            0.0            0.0            0.0            1.0  \n",
       "113853            0.0            0.0            0.0            1.0  \n",
       "282697            0.0            1.0            0.0            0.0  \n",
       "185850            0.0            0.0            0.0            0.0  \n",
       "\n",
       "[56778 rows x 10 columns]"
      ]
     },
     "execution_count": 153,
     "metadata": {},
     "output_type": "execute_result"
    }
   ],
   "source": [
    "# replace the pitch type column with the encoded columns for pitch types\n",
    "\n",
    "X_test_log_final = X_test_log.drop(['horiz_loc', 'vert_loc', 'start_speed', 'spin_rate', 'spin_dir'], axis=1)\n",
    "X_test_log_final = pd.concat([X_test_log_scaled, X_test_log_final], axis=1)\n",
    "X_test_log_final"
   ]
  },
  {
   "cell_type": "code",
   "execution_count": null,
   "metadata": {},
   "outputs": [],
   "source": []
  },
  {
   "cell_type": "code",
   "execution_count": 156,
   "metadata": {},
   "outputs": [
    {
     "name": "stdout",
     "output_type": "stream",
     "text": [
      "Accuracy: 73.97935820212054\n"
     ]
    }
   ],
   "source": [
    "# predict y and find accuracy\n",
    "\n",
    "y_pred_log = logreg_best.predict(X_test_log_final)\n",
    "\n",
    "acc = accuracy_score(y_test_log, y_pred_log) * 100\n",
    "print(\"Accuracy: {0}\".format(acc))"
   ]
  },
  {
   "cell_type": "code",
   "execution_count": 165,
   "metadata": {},
   "outputs": [
    {
     "name": "stdout",
     "output_type": "stream",
     "text": [
      "ROC-AUC score: 50.776252013971\n"
     ]
    }
   ],
   "source": [
    "# check ROC-AUC score\n",
    "\n",
    "roc_auc = roc_auc_score(y_test_log, y_pred_log) * 100\n",
    "print(\"ROC-AUC score: {0}\".format(roc_auc))"
   ]
  },
  {
   "cell_type": "code",
   "execution_count": 166,
   "metadata": {},
   "outputs": [
    {
     "data": {
      "image/png": "[encoded data removed]",
      "text/plain": [
       "<Figure size 432x288 with 2 Axes>"
      ]
     },
     "metadata": {
      "needs_background": "light"
     },
     "output_type": "display_data"
    }
   ],
   "source": [
    "cm = confusion_matrix(y_test_log, y_pred_log, labels=logreg_best.classes_)\n",
    "cm_disp = ConfusionMatrixDisplay(confusion_matrix=cm, display_labels=logreg_best.classes_)\n",
    "cm_disp.plot()\n",
    "plt.show()"
   ]
  },
  {
   "cell_type": "markdown",
   "metadata": {},
   "source": [
    "The logistic regression model doesn't improve the accuracy in making predictions either, so I'll try another type of model, Multinomial Naive Bayes."
   ]
  },
  {
   "cell_type": "markdown",
   "metadata": {},
   "source": []
  },
  {
   "cell_type": "code",
   "execution_count": 167,
   "metadata": {},
   "outputs": [],
   "source": [
    "# define X and y and perform train test split with 20% in test set\n",
    "\n",
    "X_knn = df_model_ohe.drop('out_made', axis=1)\n",
    "y_knn = df_model_ohe['out_made']\n",
    "\n",
    "X_train_knn, X_test_knn, y_train_knn, y_test_knn = train_test_split(X_knn, y_knn, test_size=0.2, random_state=6)"
   ]
  },
  {
   "cell_type": "code",
   "execution_count": 168,
   "metadata": {},
   "outputs": [],
   "source": [
    "# split training data into train and validation sets\n",
    "\n",
    "X_t_knn, X_val_knn, y_t_knn, y_val_knn = train_test_split(X_train_knn, y_train_knn,\n",
    "                                          random_state=6,\n",
    "                                          test_size=0.2)"
   ]
  },
  {
   "cell_type": "code",
   "execution_count": 191,
   "metadata": {},
   "outputs": [],
   "source": [
    "# instantiate the K Nearest Neighbors model\n",
    "\n",
    "knn = KNeighborsClassifier(n_neighbors=15)"
   ]
  },
  {
   "cell_type": "code",
   "execution_count": 192,
   "metadata": {},
   "outputs": [
    {
     "name": "stdout",
     "output_type": "stream",
     "text": [
      "training accuracy: 0.7544293207549246\n",
      "Val accuracy: 0.737814275020915\n"
     ]
    }
   ],
   "source": [
    "# use standard scaler to scale X variables\n",
    "\n",
    "ss = StandardScaler()\n",
    "X_ind = X_t_knn.index\n",
    "X_col = X_t_knn.columns\n",
    "\n",
    "X_t_knn_s = pd.DataFrame(ss.fit_transform(X_t_knn))\n",
    "X_t_knn_s.index = X_ind\n",
    "X_t_knn_s.columns = X_col\n",
    "\n",
    "X_v_ind = X_val_knn.index\n",
    "X_val_knn_s = pd.DataFrame(ss.transform(X_val_knn))\n",
    "X_val_knn_s.index = X_v_ind\n",
    "X_val_knn_s.columns = X_col\n",
    "\n",
    "knn.fit(X_t_knn_s, y_t_knn)\n",
    "print(f\"training accuracy: {knn.score(X_t_knn_s, y_t_knn)}\")\n",
    "print(f\"Val accuracy: {knn.score(X_val_knn_s, y_val_knn)}\")\n"
   ]
  },
  {
   "cell_type": "code",
   "execution_count": 183,
   "metadata": {},
   "outputs": [],
   "source": [
    "# try different k values to see what happens to the accuracy scores\n",
    "\n",
    "#k_scores_train = {}\n",
    "#k_scores_val = {}\n",
    "\n",
    "#for k in range(1, 16):\n",
    "#    knn = KNeighborsClassifier(n_neighbors=k)\n",
    "#    accuracy_score_t = []\n",
    "#    accuracy_score_v = []\n",
    "        \n",
    "#    knn.fit(X_t_knn_s, y_t_knn)\n",
    "        \n",
    "#    y_pred_t_knn = knn.predict(X_t_knn_s)\n",
    "#    y_pred_val_knn = knn.predict(X_val_knn_s)\n",
    "        \n",
    "#    accuracy_score_t.append(accuracy_score(y_t_knn, y_pred_t_knn))\n",
    "#    accuracy_score_v.append(accuracy_score(y_val_knn, y_pred_val_knn))\n",
    "               \n",
    "#    k_scores_train[k] = np.mean(accuracy_score_t)\n",
    "#    k_scores_val[k] = np.mean(accuracy_score_v)"
   ]
  },
  {
   "cell_type": "code",
   "execution_count": 184,
   "metadata": {},
   "outputs": [
    {
     "data": {
      "text/plain": [
       "{1: 1.0,\n",
       " 2: 0.8201192160143543,\n",
       " 3: 0.8186826795532977,\n",
       " 4: 0.7846296102638053,\n",
       " 5: 0.7850038802996362,\n",
       " 6: 0.7719704766989383,\n",
       " 7: 0.7699835431263656,\n",
       " 8: 0.7640337503508782,\n",
       " 9: 0.7634998651527076,\n",
       " 10: 0.7605057048660608,\n",
       " 11: 0.7588159857337069,\n",
       " 12: 0.7580234138931239,\n",
       " 13: 0.7564823019808792,\n",
       " 14: 0.7554640673245747,\n",
       " 15: 0.7544293207549246}"
      ]
     },
     "execution_count": 184,
     "metadata": {},
     "output_type": "execute_result"
    }
   ],
   "source": [
    "k_scores_train"
   ]
  },
  {
   "cell_type": "code",
   "execution_count": 185,
   "metadata": {},
   "outputs": [
    {
     "data": {
      "text/plain": [
       "{1: 0.6354629915019153,\n",
       " 2: 0.5540486988683898,\n",
       " 3: 0.6786579190700541,\n",
       " 4: 0.6352868653956233,\n",
       " 5: 0.7006516665932808,\n",
       " 6: 0.6729338206155607,\n",
       " 7: 0.7143454713574919,\n",
       " 8: 0.6977676016027475,\n",
       " 9: 0.7241424860199903,\n",
       " 10: 0.7108229492316499,\n",
       " 11: 0.7295143322618995,\n",
       " 12: 0.7198053806525472,\n",
       " 13: 0.733609264233191,\n",
       " 14: 0.726233983532209,\n",
       " 15: 0.737814275020915}"
      ]
     },
     "execution_count": 185,
     "metadata": {},
     "output_type": "execute_result"
    }
   ],
   "source": [
    "k_scores_val"
   ]
  },
  {
   "cell_type": "code",
   "execution_count": 188,
   "metadata": {},
   "outputs": [
    {
     "data": {
      "image/png": "[encoded data removed]",
      "text/plain": [
       "<Figure size 720x720 with 1 Axes>"
      ]
     },
     "metadata": {
      "needs_background": "light"
     },
     "output_type": "display_data"
    }
   ],
   "source": [
    "fig, ax = plt.subplots(figsize=(10, 10))\n",
    "\n",
    "ax.plot(list(k_scores_train.keys()), list(k_scores_train.values()),\n",
    "        color='red', linestyle='dashed', marker='o',  \n",
    "         markerfacecolor='blue', markersize=10, label='Train')\n",
    "ax.plot(list(k_scores_val.keys()), list(k_scores_val.values()),\n",
    "        color='black', linestyle='dashed', marker='o',  \n",
    "         markerfacecolor='blue', markersize=10, label='Val')\n",
    "ax.set_xlabel('k')\n",
    "ax.set_ylabel('Accuracy')\n",
    "plt.legend();"
   ]
  },
  {
   "cell_type": "code",
   "execution_count": 194,
   "metadata": {},
   "outputs": [],
   "source": [
    "# use standard scaler to scale X_test variables\n",
    "\n",
    "X_ind = X_test_knn.index\n",
    "X_col = X_test_knn.columns\n",
    "\n",
    "X_test_knn_s = pd.DataFrame(ss.transform(X_test_knn))\n",
    "X_test_knn_s.index = X_ind\n",
    "X_test_knn_s.columns = X_col\n"
   ]
  },
  {
   "cell_type": "code",
   "execution_count": 195,
   "metadata": {},
   "outputs": [
    {
     "name": "stdout",
     "output_type": "stream",
     "text": [
      "Accuracy: 73.63591531931381\n"
     ]
    }
   ],
   "source": [
    "# predict y and find accuracy\n",
    "\n",
    "y_pred_knn = knn.predict(X_test_knn_s)\n",
    "\n",
    "acc = accuracy_score(y_test_knn, y_pred_knn) * 100\n",
    "print(\"Accuracy: {0}\".format(acc))"
   ]
  },
  {
   "cell_type": "code",
   "execution_count": null,
   "metadata": {},
   "outputs": [],
   "source": []
  },
  {
   "cell_type": "markdown",
   "metadata": {},
   "source": [
    "### Multinomial Naive Bayes"
   ]
  }
 ],
 "metadata": {
  "kernelspec": {
   "display_name": "learn-env",
   "language": "python",
   "name": "python3"
  },
  "language_info": {
   "codemirror_mode": {
    "name": "ipython",
    "version": 3
   },
   "file_extension": ".py",
   "mimetype": "text/x-python",
   "name": "python",
   "nbconvert_exporter": "python",
   "pygments_lexer": "ipython3",
   "version": "3.8.5"
  }
 },
 "nbformat": 4,
 "nbformat_minor": 2
}
